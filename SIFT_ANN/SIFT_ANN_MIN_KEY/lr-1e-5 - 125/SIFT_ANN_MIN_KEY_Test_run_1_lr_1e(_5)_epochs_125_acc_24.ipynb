{
  "cells": [
    {
      "cell_type": "markdown",
      "metadata": {
        "id": "xkfpI5lL8ofl"
      },
      "source": [
        "## **SIFT + ANN (Min_Keypoints approach)**\n",
        "#### **lr=1*10^(-5), epochs=125, Accuracy = 24% (approx) at (120, 125) epochs range**\n",
        "#### **Test run - 1**"
      ]
    },
    {
      "cell_type": "markdown",
      "metadata": {
        "id": "5AVHk6bP8110"
      },
      "source": [
        "#### **Aim: To find suitable learning rate and epoch value.**"
      ]
    },
    {
      "cell_type": "markdown",
      "metadata": {
        "id": "xaufx6N9PNMd"
      },
      "source": [
        "#### **For mounting drive**"
      ]
    },
    {
      "cell_type": "code",
      "execution_count": 49,
      "metadata": {
        "colab": {
          "base_uri": "https://localhost:8080/"
        },
        "id": "LoT75uFsDMt3",
        "outputId": "29c57691-2e13-4c30-96fa-34e1cc392cfd"
      },
      "outputs": [
        {
          "name": "stdout",
          "output_type": "stream",
          "text": [
            "Drive already mounted at /content/drive; to attempt to forcibly remount, call drive.mount(\"/content/drive\", force_remount=True).\n"
          ]
        }
      ],
      "source": [
        "#For mounting GDrive\n",
        "from google.colab import drive\n",
        "drive.mount('/content/drive')"
      ]
    },
    {
      "cell_type": "markdown",
      "metadata": {
        "id": "hsXW3CzQ9KWG"
      },
      "source": [
        "#### **Required modules**"
      ]
    },
    {
      "cell_type": "code",
      "execution_count": 50,
      "metadata": {
        "colab": {
          "base_uri": "https://localhost:8080/",
          "height": 970
        },
        "id": "K08YLlNJhfSU",
        "outputId": "c84be21d-c38e-4004-d0ea-f78b2f176174"
      },
      "outputs": [
        {
          "name": "stdout",
          "output_type": "stream",
          "text": [
            "Found existing installation: opencv-python 4.5.4.60\n",
            "Uninstalling opencv-python-4.5.4.60:\n",
            "  Would remove:\n",
            "    /usr/local/lib/python3.7/dist-packages/cv2/*\n",
            "    /usr/local/lib/python3.7/dist-packages/opencv_python-4.5.4.60.dist-info/*\n",
            "    /usr/local/lib/python3.7/dist-packages/opencv_python.libs/libQt5Core-39545cc7.so.5.15.0\n",
            "    /usr/local/lib/python3.7/dist-packages/opencv_python.libs/libQt5Gui-ba0a2070.so.5.15.0\n",
            "    /usr/local/lib/python3.7/dist-packages/opencv_python.libs/libQt5Test-c38a5234.so.5.15.0\n",
            "    /usr/local/lib/python3.7/dist-packages/opencv_python.libs/libQt5Widgets-e69d94fb.so.5.15.0\n",
            "    /usr/local/lib/python3.7/dist-packages/opencv_python.libs/libQt5XcbQpa-ca221f44.so.5.15.0\n",
            "    /usr/local/lib/python3.7/dist-packages/opencv_python.libs/libX11-xcb-69166bdf.so.1.0.0\n",
            "    /usr/local/lib/python3.7/dist-packages/opencv_python.libs/libXau-00ec42fe.so.6.0.0\n",
            "    /usr/local/lib/python3.7/dist-packages/opencv_python.libs/libavcodec-64ac49e1.so.58.91.100\n",
            "    /usr/local/lib/python3.7/dist-packages/opencv_python.libs/libavformat-4b79e479.so.58.45.100\n",
            "    /usr/local/lib/python3.7/dist-packages/opencv_python.libs/libavutil-805734e8.so.56.51.100\n",
            "    /usr/local/lib/python3.7/dist-packages/opencv_python.libs/libbz2-a273e504.so.1.0.6\n",
            "    /usr/local/lib/python3.7/dist-packages/opencv_python.libs/libcrypto-018b8c17.so.1.1\n",
            "    /usr/local/lib/python3.7/dist-packages/opencv_python.libs/libfreetype-c0e61f0c.so.6.14.0\n",
            "    /usr/local/lib/python3.7/dist-packages/opencv_python.libs/libgfortran-91cc3cb1.so.3.0.0\n",
            "    /usr/local/lib/python3.7/dist-packages/opencv_python.libs/libopenblas-r0-f650aae0.3.3.so\n",
            "    /usr/local/lib/python3.7/dist-packages/opencv_python.libs/libpng15-ce838cd1.so.15.13.0\n",
            "    /usr/local/lib/python3.7/dist-packages/opencv_python.libs/libquadmath-96973f99.so.0.0.0\n",
            "    /usr/local/lib/python3.7/dist-packages/opencv_python.libs/libssl-6082116c.so.1.1\n",
            "    /usr/local/lib/python3.7/dist-packages/opencv_python.libs/libswresample-83ce3247.so.3.7.100\n",
            "    /usr/local/lib/python3.7/dist-packages/opencv_python.libs/libswscale-7e960168.so.5.7.100\n",
            "    /usr/local/lib/python3.7/dist-packages/opencv_python.libs/libvpx-392cd848.so.6.4.0\n",
            "    /usr/local/lib/python3.7/dist-packages/opencv_python.libs/libxcb-icccm-413c9f41.so.4.0.0\n",
            "    /usr/local/lib/python3.7/dist-packages/opencv_python.libs/libxcb-image-e82a276d.so.0.0.0\n",
            "    /usr/local/lib/python3.7/dist-packages/opencv_python.libs/libxcb-keysyms-21015570.so.1.0.0\n",
            "    /usr/local/lib/python3.7/dist-packages/opencv_python.libs/libxcb-randr-a96a5a87.so.0.1.0\n",
            "    /usr/local/lib/python3.7/dist-packages/opencv_python.libs/libxcb-render-637b984a.so.0.0.0\n",
            "    /usr/local/lib/python3.7/dist-packages/opencv_python.libs/libxcb-render-util-43ce00f5.so.0.0.0\n",
            "    /usr/local/lib/python3.7/dist-packages/opencv_python.libs/libxcb-shape-25c2b258.so.0.0.0\n",
            "    /usr/local/lib/python3.7/dist-packages/opencv_python.libs/libxcb-shm-7a199f70.so.0.0.0\n",
            "    /usr/local/lib/python3.7/dist-packages/opencv_python.libs/libxcb-sync-89374f40.so.1.0.0\n",
            "    /usr/local/lib/python3.7/dist-packages/opencv_python.libs/libxcb-util-4d666913.so.1.0.0\n",
            "    /usr/local/lib/python3.7/dist-packages/opencv_python.libs/libxcb-xfixes-9be3ba6f.so.0.0.0\n",
            "    /usr/local/lib/python3.7/dist-packages/opencv_python.libs/libxcb-xinerama-ae147f87.so.0.0.0\n",
            "    /usr/local/lib/python3.7/dist-packages/opencv_python.libs/libxcb-xkb-9ba31ab3.so.1.0.0\n",
            "    /usr/local/lib/python3.7/dist-packages/opencv_python.libs/libxkbcommon-71ae2972.so.0.0.0\n",
            "    /usr/local/lib/python3.7/dist-packages/opencv_python.libs/libxkbcommon-x11-c65ed502.so.0.0.0\n",
            "Proceed (y/n)? y\n",
            "  Successfully uninstalled opencv-python-4.5.4.60\n",
            "Collecting opencv-python\n",
            "  Using cached opencv_python-4.5.4.60-cp37-cp37m-manylinux_2_17_x86_64.manylinux2014_x86_64.whl (60.3 MB)\n",
            "Requirement already satisfied: numpy>=1.14.5 in /usr/local/lib/python3.7/dist-packages (from opencv-python) (1.19.5)\n",
            "Installing collected packages: opencv-python\n",
            "\u001b[31mERROR: pip's dependency resolver does not currently take into account all the packages that are installed. This behaviour is the source of the following dependency conflicts.\n",
            "albumentations 0.1.12 requires imgaug<0.2.7,>=0.2.5, but you have imgaug 0.2.9 which is incompatible.\u001b[0m\n",
            "Successfully installed opencv-python-4.5.4.60\n"
          ]
        },
        {
          "data": {
            "application/vnd.colab-display-data+json": {
              "pip_warning": {
                "packages": [
                  "cv2"
                ]
              }
            }
          },
          "metadata": {},
          "output_type": "display_data"
        }
      ],
      "source": [
        "#Req. opencv 4.5+\n",
        "!pip uninstall opencv-python\n",
        "!pip install opencv-python"
      ]
    },
    {
      "cell_type": "code",
      "execution_count": 51,
      "metadata": {
        "id": "__cYeeQF8IEn"
      },
      "outputs": [],
      "source": [
        "#Importing necessary libraries\n",
        "from zipfile import ZipFile\n",
        "from tensorflow.python.client import device_lib\n",
        "import platform\n",
        "import matplotlib.pyplot as plt\n",
        "import seaborn as sns\n",
        "from tensorflow.keras.models import Sequential\n",
        "from tensorflow.keras.layers import Dense, Flatten, Dropout\n",
        "from tensorflow.keras.optimizers import Adam\n",
        "from sklearn.metrics import classification_report, accuracy_score\n",
        "import tensorflow as tf\n",
        "import cv2\n",
        "import os\n",
        "import sys\n",
        "import numpy as np\n",
        "import random"
      ]
    },
    {
      "cell_type": "markdown",
      "metadata": {
        "id": "lAtfR4ri9T-G"
      },
      "source": [
        "#### **Functions definition**"
      ]
    },
    {
      "cell_type": "code",
      "execution_count": 52,
      "metadata": {
        "id": "4TAGvB5o8ns-"
      },
      "outputs": [],
      "source": [
        "def extract_zip(file_name = \"drive/MyDrive/Dataset_test_1.zip\"):\n",
        "    with ZipFile(file_name, \"r\") as zip:\n",
        "        zip.extractall()\n",
        "        print(\"Dataset Extracted\")"
      ]
    },
    {
      "cell_type": "code",
      "execution_count": 53,
      "metadata": {
        "id": "JwTPw__89fBU"
      },
      "outputs": [],
      "source": [
        "def python_ver():\n",
        "    print(\"\\nPython version:\\n\")\n",
        "    print(sys.version)\n",
        "\n",
        "def device_info():\n",
        "    print(\"\\nDevice Info:\\n\")\n",
        "    print(device_lib.list_local_devices())\n",
        "\n",
        "def platform_info():\n",
        "    print(\"\\nPlatform Info:\\n\")\n",
        "    print(platform.platform())\n",
        "    print(platform.processor())"
      ]
    },
    {
      "cell_type": "code",
      "execution_count": 54,
      "metadata": {
        "id": "QtlFrxEVYIno"
      },
      "outputs": [],
      "source": [
        "def SIFT_test(dirs, labels, img_size):\n",
        "    \"\"\"Scale Invariant Feature Transform Test run for finding the minimum keypoints detected among all the images in the dataset\"\"\"\n",
        "    \n",
        "    min_key = np.inf\n",
        "    \n",
        "    for data_dir in dirs:\n",
        "        for label in labels:\n",
        "            path = os.path.join(data_dir, label)\n",
        "            for img in os.listdir(path):\n",
        "                #Reading the image in grayscale mode\n",
        "                img_arr = cv2.imread(os.path.join(path, img), cv2.IMREAD_GRAYSCALE)\n",
        "                   \n",
        "                #Reshaping images to preferred size\n",
        "                resized_arr = cv2.resize(img_arr, (img_size, img_size)) \n",
        "\n",
        "                #detecting keypoints\n",
        "                sift = cv2.SIFT_create()\n",
        "                keypoints = sift.detect(resized_arr, None)\n",
        "\n",
        "                if (len(keypoints) < min_key):\n",
        "                    min_key = len(keypoints)\n",
        "                \n",
        "    return min_key"
      ]
    },
    {
      "cell_type": "code",
      "execution_count": 55,
      "metadata": {
        "id": "j9IR6y7nYJ5a"
      },
      "outputs": [],
      "source": [
        "def SIFT(image, min_key):\n",
        "    \"\"\"Scale Invariant Feature Transform for finding keypoints and computing descriptors\"\"\"\n",
        "    \n",
        "    sift = cv2.SIFT_create(min_key)\n",
        "    keypoints, descriptors = sift.detectAndCompute(image, None)\n",
        "\n",
        "    return np.array(descriptors, dtype=\"i\")[:min_key]"
      ]
    },
    {
      "cell_type": "code",
      "execution_count": 56,
      "metadata": {
        "id": "GSQlfqEA9jN7"
      },
      "outputs": [],
      "source": [
        "def dataset_creation(data_dir, labels, img_size, min_key):\n",
        "    \"\"\"Loading data and shuffling\"\"\"\n",
        "    data = [] \n",
        "\n",
        "    for class_num, label in enumerate(labels): \n",
        "        path = os.path.join(data_dir, label)\n",
        "        for img in os.listdir(path):\n",
        "            try:\n",
        "                #Reading the image in grayscale mode\n",
        "                img_arr = cv2.imread(os.path.join(path, img), cv2.IMREAD_GRAYSCALE)\n",
        "                \n",
        "                #Reshaping images to preferred size\n",
        "                resized_arr = cv2.resize(img_arr, (img_size, img_size)) \n",
        "\n",
        "                #SIFT function call\n",
        "                SIFT_img_desc = SIFT(resized_arr, min_key)\n",
        "                \n",
        "                data.append([SIFT_img_desc, class_num])\n",
        "            except Exception as err:\n",
        "                print(\"Error:\\n\",err)\n",
        "    \n",
        "    random.shuffle(data)\n",
        "    return np.array(data)"
      ]
    },
    {
      "cell_type": "code",
      "execution_count": 57,
      "metadata": {
        "id": "gr4RAyHY9oed"
      },
      "outputs": [],
      "source": [
        "def dataset_creation_train_stat(labels, train):\n",
        "    \"\"\"Plot initial data graph\"\"\"\n",
        "    list_graph = []\n",
        "    for i in train:\n",
        "        list_graph.append(labels[i[1]])\n",
        "    \n",
        "    sns.set_style('darkgrid')\n",
        "    plt.figure(figsize=(25, 25))    \n",
        "    sns.countplot(list_graph)\n",
        "    plt.title(\"Train set\")\n",
        "    plt.show()\n",
        "\n",
        "\n",
        "def dataset_creation_test_stat(labels, test):\n",
        "    \"\"\"Plot initial data graph\"\"\"\n",
        "    list_graph = []\n",
        "    for i in test:\n",
        "        list_graph.append(labels[i[1]])\n",
        "    \n",
        "    sns.set_style('darkgrid')\n",
        "    plt.figure(figsize=(25, 25))\n",
        "    sns.countplot(list_graph)\n",
        "    plt.title(\"Test set\")\n",
        "    plt.show()"
      ]
    },
    {
      "cell_type": "code",
      "execution_count": 58,
      "metadata": {
        "id": "mCiE7s_E9072"
      },
      "outputs": [],
      "source": [
        "def train_test_data_split(train, test):\n",
        "    \"\"\"train and test\"\"\"\n",
        "    x_train = []\n",
        "    y_train = []\n",
        "    x_test = []\n",
        "    y_test = []\n",
        "\n",
        "    for feature, label in train:\n",
        "        x_train.append(feature)\n",
        "        y_train.append(label)\n",
        "\n",
        "    for feature, label in test:\n",
        "        x_test.append(feature)\n",
        "        y_test.append(label)\n",
        "\n",
        "    return (np.array(x_train), np.array(y_train), np.array(x_test), np.array(y_test))"
      ]
    },
    {
      "cell_type": "code",
      "execution_count": 59,
      "metadata": {
        "id": "SizxlEkV94hy"
      },
      "outputs": [],
      "source": [
        "def normalize_array_conv_data(x_train, y_train, x_test, y_test):\n",
        "    \"\"\"Normalize and array conversion\"\"\"\n",
        "    x_train = np.array(x_train) / 255\n",
        "    x_test = np.array(x_test) / 255\n",
        "\n",
        "    y_train = np.array(y_train)\n",
        "    y_test = np.array(y_test)\n",
        "\n",
        "    return (x_train, y_train, x_test, y_test)"
      ]
    },
    {
      "cell_type": "code",
      "execution_count": 60,
      "metadata": {
        "id": "RgLvHqvB98Dd"
      },
      "outputs": [],
      "source": [
        "def build_model_ann(tot_classes, x_train):\n",
        "    \"\"\"Builds ANN model and prints model summary\"\"\"\n",
        "    model = Sequential()\n",
        "    \n",
        "    model.add(Flatten(input_shape=x_train.shape[1:]))\n",
        "    model.add(Dense(3000,activation=\"relu\"))\n",
        "    model.add(Dropout(0.5))\n",
        "    model.add(Dense(1000,activation=\"relu\"))\n",
        "    model.add(Dropout(0.5))\n",
        "    model.add(Dense(tot_classes, activation=\"softmax\"))\n",
        "\n",
        "    model.summary()\n",
        "    return model"
      ]
    },
    {
      "cell_type": "code",
      "execution_count": 61,
      "metadata": {
        "id": "9nEf4toB-BzT"
      },
      "outputs": [],
      "source": [
        "def compile_and_fit(model, x_train, y_train, x_test, y_test, iterations, l_rate):\n",
        "    \"\"\"Compiles and fits the model\"\"\"\n",
        "    opt = Adam(learning_rate=l_rate)\n",
        "    model.compile(optimizer = opt, loss = \"sparse_categorical_crossentropy\", metrics = ['accuracy'])\n",
        "    history = model.fit(x_train, y_train, epochs = iterations, validation_data = (x_test, y_test))\n",
        "\n",
        "    return (history, model)"
      ]
    },
    {
      "cell_type": "code",
      "execution_count": 62,
      "metadata": {
        "id": "BpybfYak-FKt"
      },
      "outputs": [],
      "source": [
        "def acc_plots(history, iterations):\n",
        "    \"\"\"Requires history and number of iterations\"\"\"\n",
        "    acc = history.history['accuracy']\n",
        "    val_acc = history.history['val_accuracy']\n",
        "    loss = history.history['loss']\n",
        "    val_loss = history.history['val_loss']\n",
        "\n",
        "    epochs_range = range(iterations)\n",
        "\n",
        "    plt.figure(figsize=(15, 15))\n",
        "    plt.subplot(2, 2, 1)\n",
        "    plt.plot(epochs_range, acc, label='Training Accuracy')\n",
        "    plt.plot(epochs_range, val_acc, label='Validation Accuracy')\n",
        "    plt.legend(loc='lower right')\n",
        "    plt.title('Training and Validation Accuracy')\n",
        "\n",
        "    plt.subplot(2, 2, 2)\n",
        "    plt.plot(epochs_range, loss, label='Training Loss')\n",
        "    plt.plot(epochs_range, val_loss, label='Validation Loss')\n",
        "    plt.legend(loc='upper right')\n",
        "    plt.title('Training and Validation Loss')\n",
        "    plt.show()"
      ]
    },
    {
      "cell_type": "code",
      "execution_count": 63,
      "metadata": {
        "id": "lTTbnTYd-Ipb"
      },
      "outputs": [],
      "source": [
        "def acc_results(model, labels, x_test, y_test):\n",
        "    \"\"\"Prediction and test accuracy\"\"\"\n",
        "    predictions = np.argmax(model.predict(x_test), axis=-1)\n",
        "    print(classification_report(y_test, predictions, target_names = labels))\n",
        "    print(\"\\nAccuracy = \"+str(accuracy_score(y_test, predictions)*100)+\"%\")"
      ]
    },
    {
      "cell_type": "markdown",
      "metadata": {
        "id": "M1PFZZFw-S_P"
      },
      "source": [
        "#### **Making Function calls and defining variables**"
      ]
    },
    {
      "cell_type": "code",
      "execution_count": 64,
      "metadata": {
        "colab": {
          "base_uri": "https://localhost:8080/"
        },
        "id": "OgZinHaw-Mq7",
        "outputId": "eca66c9a-ec89-498c-d3e3-e634d3ae6dc2"
      },
      "outputs": [
        {
          "name": "stdout",
          "output_type": "stream",
          "text": [
            "Dataset Extracted\n",
            "\n",
            "Python version:\n",
            "\n",
            "3.7.12 (default, Sep 10 2021, 00:21:48) \n",
            "[GCC 7.5.0]\n",
            "\n",
            "Device Info:\n",
            "\n",
            "[name: \"/device:CPU:0\"\n",
            "device_type: \"CPU\"\n",
            "memory_limit: 268435456\n",
            "locality {\n",
            "}\n",
            "incarnation: 70934959785030426\n",
            "xla_global_id: -1\n",
            ", name: \"/device:GPU:0\"\n",
            "device_type: \"GPU\"\n",
            "memory_limit: 11320098816\n",
            "locality {\n",
            "  bus_id: 1\n",
            "  links {\n",
            "  }\n",
            "}\n",
            "incarnation: 12300281491463825484\n",
            "physical_device_desc: \"device: 0, name: Tesla K80, pci bus id: 0000:00:04.0, compute capability: 3.7\"\n",
            "xla_global_id: 416903419\n",
            "]\n",
            "\n",
            "Platform Info:\n",
            "\n",
            "Linux-5.4.104+-x86_64-with-Ubuntu-18.04-bionic\n",
            "x86_64\n"
          ]
        }
      ],
      "source": [
        "#Extracting Dataset\n",
        "extract_zip(\"drive/MyDrive/Dataset_test_1.zip\")\n",
        "\n",
        "#Device and environment Info\n",
        "python_ver()\n",
        "device_info()\n",
        "platform_info()"
      ]
    },
    {
      "cell_type": "code",
      "execution_count": 65,
      "metadata": {
        "id": "Bl01clC0-XOZ"
      },
      "outputs": [],
      "source": [
        "#Variables\n",
        "dirs = [\"Dataset_test_1/Train\", \"Dataset_test_1/Test\"]\n",
        "labels = ['Buddha', 'Garuda', 'Goddess_Durga', 'Goddess_Lakshmi', 'Goddess_Saraswathi', 'Lord_Ganesh', \n",
        "        'Lord_Hanuman', 'Lord_Hayagriva', 'Lord_Indra', 'Lord_Krishna', 'Lord_Muruga', 'Nandi', 'Nataraj', \n",
        "        'Shirdi_Sai_Baba', 'Shivling']\n",
        "img_size = 224\n",
        "tot_classes = len(labels)\n",
        "num_sample_img = 3\n",
        "iterations = 125\n",
        "l_rate = 0.00001"
      ]
    },
    {
      "cell_type": "code",
      "execution_count": 66,
      "metadata": {
        "colab": {
          "base_uri": "https://localhost:8080/"
        },
        "id": "ngdQO8_D-kzS",
        "outputId": "7ea95fc6-d6c3-4546-b1f2-beaa7f3da1d9"
      },
      "outputs": [
        {
          "name": "stderr",
          "output_type": "stream",
          "text": [
            "/usr/local/lib/python3.7/dist-packages/ipykernel_launcher.py:23: VisibleDeprecationWarning: Creating an ndarray from ragged nested sequences (which is a list-or-tuple of lists-or-tuples-or ndarrays with different lengths or shapes) is deprecated. If you meant to do this, you must specify 'dtype=object' when creating the ndarray\n"
          ]
        }
      ],
      "source": [
        "#Min keypoints detection\n",
        "min_key = SIFT_test(dirs, labels, img_size)\n",
        "\n",
        "#Train and Test data loading\n",
        "train = dataset_creation(\"Dataset_test_1/Train\", labels, img_size, min_key)\n",
        "test = dataset_creation(\"Dataset_test_1/Test\", labels, img_size, min_key)"
      ]
    },
    {
      "cell_type": "code",
      "execution_count": 67,
      "metadata": {
        "colab": {
          "base_uri": "https://localhost:8080/",
          "height": 1000
        },
        "id": "ci_GDz0G-ngO",
        "outputId": "93f7fb0d-67e1-4834-a11f-6deb0e62bba0"
      },
      "outputs": [
        {
          "name": "stderr",
          "output_type": "stream",
          "text": [
            "/usr/local/lib/python3.7/dist-packages/seaborn/_decorators.py:43: FutureWarning: Pass the following variable as a keyword arg: x. From version 0.12, the only valid positional argument will be `data`, and passing other arguments without an explicit keyword will result in an error or misinterpretation.\n",
            "  FutureWarning\n"
          ]
        },
        {
          "data": {
            "image/png": "[encoded data removed]",
            "text/plain": [
              "<Figure size 1800x1800 with 1 Axes>"
            ]
          },
          "metadata": {},
          "output_type": "display_data"
        },
        {
          "name": "stderr",
          "output_type": "stream",
          "text": [
            "/usr/local/lib/python3.7/dist-packages/seaborn/_decorators.py:43: FutureWarning: Pass the following variable as a keyword arg: x. From version 0.12, the only valid positional argument will be `data`, and passing other arguments without an explicit keyword will result in an error or misinterpretation.\n",
            "  FutureWarning\n"
          ]
        },
        {
          "data": {
            "image/png": "[encoded data removed]",
            "text/plain": [
              "<Figure size 1800x1800 with 1 Axes>"
            ]
          },
          "metadata": {},
          "output_type": "display_data"
        }
      ],
      "source": [
        "#Stats\n",
        "dataset_creation_train_stat(labels, train)\n",
        "dataset_creation_test_stat(labels, test)"
      ]
    },
    {
      "cell_type": "code",
      "execution_count": 68,
      "metadata": {
        "id": "4JOI1Up6-tGQ"
      },
      "outputs": [],
      "source": [
        "#Training and testing data\n",
        "x_train, y_train, x_test, y_test = train_test_data_split(train, test)"
      ]
    },
    {
      "cell_type": "code",
      "execution_count": 69,
      "metadata": {
        "colab": {
          "base_uri": "https://localhost:8080/"
        },
        "id": "08fhlmqh-z4O",
        "outputId": "b57905a4-8f67-4cda-e5af-b60c59cc0047"
      },
      "outputs": [
        {
          "name": "stdout",
          "output_type": "stream",
          "text": [
            "Model: \"sequential_2\"\n",
            "_________________________________________________________________\n",
            " Layer (type)                Output Shape              Param #   \n",
            "=================================================================\n",
            " flatten_2 (Flatten)         (None, 4608)              0         \n",
            "                                                                 \n",
            " dense_6 (Dense)             (None, 3000)              13827000  \n",
            "                                                                 \n",
            " dropout_4 (Dropout)         (None, 3000)              0         \n",
            "                                                                 \n",
            " dense_7 (Dense)             (None, 1000)              3001000   \n",
            "                                                                 \n",
            " dropout_5 (Dropout)         (None, 1000)              0         \n",
            "                                                                 \n",
            " dense_8 (Dense)             (None, 15)                15015     \n",
            "                                                                 \n",
            "=================================================================\n",
            "Total params: 16,843,015\n",
            "Trainable params: 16,843,015\n",
            "Non-trainable params: 0\n",
            "_________________________________________________________________\n"
          ]
        }
      ],
      "source": [
        "#Building ANN Model\n",
        "model = build_model_ann(tot_classes, x_train)\n"
      ]
    },
    {
      "cell_type": "code",
      "execution_count": 70,
      "metadata": {
        "colab": {
          "base_uri": "https://localhost:8080/"
        },
        "id": "j5NP-yio-5Bl",
        "outputId": "a0e690c3-aaa3-41d5-d019-10caef339396"
      },
      "outputs": [
        {
          "name": "stdout",
          "output_type": "stream",
          "text": [
            "Epoch 1/125\n",
            "71/71 [==============================] - 1s 14ms/step - loss: 116.8105 - accuracy: 0.0671 - val_loss: 38.5892 - val_accuracy: 0.0867\n",
            "Epoch 2/125\n",
            "71/71 [==============================] - 1s 11ms/step - loss: 93.4739 - accuracy: 0.0822 - val_loss: 31.6114 - val_accuracy: 0.0900\n",
            "Epoch 3/125\n",
            "71/71 [==============================] - 1s 11ms/step - loss: 74.9667 - accuracy: 0.0902 - val_loss: 27.0060 - val_accuracy: 0.1100\n",
            "Epoch 4/125\n",
            "71/71 [==============================] - 1s 11ms/step - loss: 66.4387 - accuracy: 0.0916 - val_loss: 22.9686 - val_accuracy: 0.1067\n",
            "Epoch 5/125\n",
            "71/71 [==============================] - 1s 11ms/step - loss: 57.7458 - accuracy: 0.1036 - val_loss: 19.4034 - val_accuracy: 0.1300\n",
            "Epoch 6/125\n",
            "71/71 [==============================] - 1s 11ms/step - loss: 50.5808 - accuracy: 0.1124 - val_loss: 17.5328 - val_accuracy: 0.1367\n",
            "Epoch 7/125\n",
            "71/71 [==============================] - 1s 11ms/step - loss: 45.5869 - accuracy: 0.1058 - val_loss: 15.7656 - val_accuracy: 0.1467\n",
            "Epoch 8/125\n",
            "71/71 [==============================] - 1s 11ms/step - loss: 40.4859 - accuracy: 0.1307 - val_loss: 14.1876 - val_accuracy: 0.1500\n",
            "Epoch 9/125\n",
            "71/71 [==============================] - 1s 11ms/step - loss: 38.2592 - accuracy: 0.1267 - val_loss: 12.9125 - val_accuracy: 0.1333\n",
            "Epoch 10/125\n",
            "71/71 [==============================] - 1s 11ms/step - loss: 35.5025 - accuracy: 0.1396 - val_loss: 11.9848 - val_accuracy: 0.1433\n",
            "Epoch 11/125\n",
            "71/71 [==============================] - 1s 11ms/step - loss: 32.2910 - accuracy: 0.1471 - val_loss: 11.3194 - val_accuracy: 0.1600\n",
            "Epoch 12/125\n",
            "71/71 [==============================] - 1s 11ms/step - loss: 30.6183 - accuracy: 0.1396 - val_loss: 10.7268 - val_accuracy: 0.1667\n",
            "Epoch 13/125\n",
            "71/71 [==============================] - 1s 11ms/step - loss: 28.4501 - accuracy: 0.1462 - val_loss: 10.1183 - val_accuracy: 0.1733\n",
            "Epoch 14/125\n",
            "71/71 [==============================] - 1s 10ms/step - loss: 27.1043 - accuracy: 0.1480 - val_loss: 9.7005 - val_accuracy: 0.1767\n",
            "Epoch 15/125\n",
            "71/71 [==============================] - 1s 11ms/step - loss: 25.2734 - accuracy: 0.1649 - val_loss: 9.2144 - val_accuracy: 0.1567\n",
            "Epoch 16/125\n",
            "71/71 [==============================] - 1s 11ms/step - loss: 23.2288 - accuracy: 0.1689 - val_loss: 9.1269 - val_accuracy: 0.1567\n",
            "Epoch 17/125\n",
            "71/71 [==============================] - 1s 11ms/step - loss: 22.6562 - accuracy: 0.1716 - val_loss: 8.7698 - val_accuracy: 0.1700\n",
            "Epoch 18/125\n",
            "71/71 [==============================] - 1s 11ms/step - loss: 21.1969 - accuracy: 0.1769 - val_loss: 8.3969 - val_accuracy: 0.1767\n",
            "Epoch 19/125\n",
            "71/71 [==============================] - 1s 11ms/step - loss: 20.7548 - accuracy: 0.1702 - val_loss: 8.1516 - val_accuracy: 0.1733\n",
            "Epoch 20/125\n",
            "71/71 [==============================] - 1s 11ms/step - loss: 19.4472 - accuracy: 0.1876 - val_loss: 7.7690 - val_accuracy: 0.1867\n",
            "Epoch 21/125\n",
            "71/71 [==============================] - 1s 10ms/step - loss: 18.5024 - accuracy: 0.1951 - val_loss: 7.6374 - val_accuracy: 0.1800\n",
            "Epoch 22/125\n",
            "71/71 [==============================] - 1s 11ms/step - loss: 17.6206 - accuracy: 0.2004 - val_loss: 7.8264 - val_accuracy: 0.1933\n",
            "Epoch 23/125\n",
            "71/71 [==============================] - 1s 10ms/step - loss: 16.6129 - accuracy: 0.2058 - val_loss: 7.7596 - val_accuracy: 0.1833\n",
            "Epoch 24/125\n",
            "71/71 [==============================] - 1s 10ms/step - loss: 15.7312 - accuracy: 0.2236 - val_loss: 7.5050 - val_accuracy: 0.1767\n",
            "Epoch 25/125\n",
            "71/71 [==============================] - 1s 11ms/step - loss: 15.0944 - accuracy: 0.2311 - val_loss: 7.3247 - val_accuracy: 0.1967\n",
            "Epoch 26/125\n",
            "71/71 [==============================] - 1s 11ms/step - loss: 14.6614 - accuracy: 0.2280 - val_loss: 7.3145 - val_accuracy: 0.2033\n",
            "Epoch 27/125\n",
            "71/71 [==============================] - 1s 11ms/step - loss: 13.9563 - accuracy: 0.2480 - val_loss: 7.2029 - val_accuracy: 0.2100\n",
            "Epoch 28/125\n",
            "71/71 [==============================] - 1s 11ms/step - loss: 13.2270 - accuracy: 0.2680 - val_loss: 7.0815 - val_accuracy: 0.2000\n",
            "Epoch 29/125\n",
            "71/71 [==============================] - 1s 10ms/step - loss: 12.4826 - accuracy: 0.2702 - val_loss: 7.0376 - val_accuracy: 0.2100\n",
            "Epoch 30/125\n",
            "71/71 [==============================] - 1s 11ms/step - loss: 12.5208 - accuracy: 0.2676 - val_loss: 6.8572 - val_accuracy: 0.2267\n",
            "Epoch 31/125\n",
            "71/71 [==============================] - 1s 11ms/step - loss: 11.8016 - accuracy: 0.2818 - val_loss: 6.8281 - val_accuracy: 0.2100\n",
            "Epoch 32/125\n",
            "71/71 [==============================] - 1s 11ms/step - loss: 11.0367 - accuracy: 0.2951 - val_loss: 6.7655 - val_accuracy: 0.2233\n",
            "Epoch 33/125\n",
            "71/71 [==============================] - 1s 11ms/step - loss: 10.6676 - accuracy: 0.2991 - val_loss: 6.7168 - val_accuracy: 0.2133\n",
            "Epoch 34/125\n",
            "71/71 [==============================] - 1s 11ms/step - loss: 10.7397 - accuracy: 0.2858 - val_loss: 6.7796 - val_accuracy: 0.2167\n",
            "Epoch 35/125\n",
            "71/71 [==============================] - 1s 11ms/step - loss: 10.0540 - accuracy: 0.3138 - val_loss: 6.6800 - val_accuracy: 0.2233\n",
            "Epoch 36/125\n",
            "71/71 [==============================] - 1s 10ms/step - loss: 9.6481 - accuracy: 0.3200 - val_loss: 6.5896 - val_accuracy: 0.2167\n",
            "Epoch 37/125\n",
            "71/71 [==============================] - 1s 11ms/step - loss: 8.8860 - accuracy: 0.3440 - val_loss: 6.6580 - val_accuracy: 0.2200\n",
            "Epoch 38/125\n",
            "71/71 [==============================] - 1s 11ms/step - loss: 8.6865 - accuracy: 0.3569 - val_loss: 6.5945 - val_accuracy: 0.2333\n",
            "Epoch 39/125\n",
            "71/71 [==============================] - 1s 11ms/step - loss: 8.9562 - accuracy: 0.3276 - val_loss: 6.5130 - val_accuracy: 0.2367\n",
            "Epoch 40/125\n",
            "71/71 [==============================] - 1s 11ms/step - loss: 7.9043 - accuracy: 0.3720 - val_loss: 6.5877 - val_accuracy: 0.2233\n",
            "Epoch 41/125\n",
            "71/71 [==============================] - 1s 11ms/step - loss: 7.5305 - accuracy: 0.3782 - val_loss: 6.4735 - val_accuracy: 0.2333\n",
            "Epoch 42/125\n",
            "71/71 [==============================] - 1s 11ms/step - loss: 7.3764 - accuracy: 0.3938 - val_loss: 6.5046 - val_accuracy: 0.2200\n",
            "Epoch 43/125\n",
            "71/71 [==============================] - 1s 11ms/step - loss: 7.0991 - accuracy: 0.4129 - val_loss: 6.4855 - val_accuracy: 0.2267\n",
            "Epoch 44/125\n",
            "71/71 [==============================] - 1s 10ms/step - loss: 7.1115 - accuracy: 0.3929 - val_loss: 6.4481 - val_accuracy: 0.2300\n",
            "Epoch 45/125\n",
            "71/71 [==============================] - 1s 11ms/step - loss: 6.7586 - accuracy: 0.4231 - val_loss: 6.4967 - val_accuracy: 0.2267\n",
            "Epoch 46/125\n",
            "71/71 [==============================] - 1s 11ms/step - loss: 6.5054 - accuracy: 0.4289 - val_loss: 6.4016 - val_accuracy: 0.2233\n",
            "Epoch 47/125\n",
            "71/71 [==============================] - 1s 10ms/step - loss: 6.1296 - accuracy: 0.4400 - val_loss: 6.4361 - val_accuracy: 0.2367\n",
            "Epoch 48/125\n",
            "71/71 [==============================] - 1s 11ms/step - loss: 5.7067 - accuracy: 0.4676 - val_loss: 6.4317 - val_accuracy: 0.2367\n",
            "Epoch 49/125\n",
            "71/71 [==============================] - 1s 11ms/step - loss: 5.6008 - accuracy: 0.4716 - val_loss: 6.3990 - val_accuracy: 0.2333\n",
            "Epoch 50/125\n",
            "71/71 [==============================] - 1s 11ms/step - loss: 5.1622 - accuracy: 0.4978 - val_loss: 6.4775 - val_accuracy: 0.2267\n",
            "Epoch 51/125\n",
            "71/71 [==============================] - 1s 11ms/step - loss: 5.2065 - accuracy: 0.4907 - val_loss: 6.3437 - val_accuracy: 0.2300\n",
            "Epoch 52/125\n",
            "71/71 [==============================] - 1s 11ms/step - loss: 5.0604 - accuracy: 0.4920 - val_loss: 6.2626 - val_accuracy: 0.2267\n",
            "Epoch 53/125\n",
            "71/71 [==============================] - 1s 11ms/step - loss: 4.7587 - accuracy: 0.5191 - val_loss: 6.2759 - val_accuracy: 0.2200\n",
            "Epoch 54/125\n",
            "71/71 [==============================] - 1s 11ms/step - loss: 4.5630 - accuracy: 0.5231 - val_loss: 6.2163 - val_accuracy: 0.2233\n",
            "Epoch 55/125\n",
            "71/71 [==============================] - 1s 11ms/step - loss: 4.3886 - accuracy: 0.5280 - val_loss: 6.3337 - val_accuracy: 0.2267\n",
            "Epoch 56/125\n",
            "71/71 [==============================] - 1s 11ms/step - loss: 4.1808 - accuracy: 0.5293 - val_loss: 6.2948 - val_accuracy: 0.2200\n",
            "Epoch 57/125\n",
            "71/71 [==============================] - 1s 11ms/step - loss: 3.8903 - accuracy: 0.5711 - val_loss: 6.3140 - val_accuracy: 0.2067\n",
            "Epoch 58/125\n",
            "71/71 [==============================] - 1s 11ms/step - loss: 4.0427 - accuracy: 0.5636 - val_loss: 6.1974 - val_accuracy: 0.2200\n",
            "Epoch 59/125\n",
            "71/71 [==============================] - 1s 11ms/step - loss: 4.0107 - accuracy: 0.5676 - val_loss: 6.1893 - val_accuracy: 0.2067\n",
            "Epoch 60/125\n",
            "71/71 [==============================] - 1s 10ms/step - loss: 3.8456 - accuracy: 0.5609 - val_loss: 6.3377 - val_accuracy: 0.2100\n",
            "Epoch 61/125\n",
            "71/71 [==============================] - 1s 11ms/step - loss: 3.5458 - accuracy: 0.5858 - val_loss: 6.4816 - val_accuracy: 0.2167\n",
            "Epoch 62/125\n",
            "71/71 [==============================] - 1s 11ms/step - loss: 3.4676 - accuracy: 0.6027 - val_loss: 6.3735 - val_accuracy: 0.2133\n",
            "Epoch 63/125\n",
            "71/71 [==============================] - 1s 11ms/step - loss: 3.3859 - accuracy: 0.6053 - val_loss: 6.2792 - val_accuracy: 0.2067\n",
            "Epoch 64/125\n",
            "71/71 [==============================] - 1s 10ms/step - loss: 3.3420 - accuracy: 0.6049 - val_loss: 6.3048 - val_accuracy: 0.2167\n",
            "Epoch 65/125\n",
            "71/71 [==============================] - 1s 11ms/step - loss: 3.0142 - accuracy: 0.6080 - val_loss: 6.1120 - val_accuracy: 0.2200\n",
            "Epoch 66/125\n",
            "71/71 [==============================] - 1s 11ms/step - loss: 2.9233 - accuracy: 0.6227 - val_loss: 6.1355 - val_accuracy: 0.2067\n",
            "Epoch 67/125\n",
            "71/71 [==============================] - 1s 11ms/step - loss: 2.6708 - accuracy: 0.6373 - val_loss: 6.1207 - val_accuracy: 0.2233\n",
            "Epoch 68/125\n",
            "71/71 [==============================] - 1s 11ms/step - loss: 2.6209 - accuracy: 0.6604 - val_loss: 6.0237 - val_accuracy: 0.2367\n",
            "Epoch 69/125\n",
            "71/71 [==============================] - 1s 11ms/step - loss: 2.5923 - accuracy: 0.6444 - val_loss: 6.1684 - val_accuracy: 0.2200\n",
            "Epoch 70/125\n",
            "71/71 [==============================] - 1s 11ms/step - loss: 2.5753 - accuracy: 0.6636 - val_loss: 6.2638 - val_accuracy: 0.2167\n",
            "Epoch 71/125\n",
            "71/71 [==============================] - 1s 11ms/step - loss: 2.5749 - accuracy: 0.6791 - val_loss: 6.0872 - val_accuracy: 0.2167\n",
            "Epoch 72/125\n",
            "71/71 [==============================] - 1s 11ms/step - loss: 2.2712 - accuracy: 0.6853 - val_loss: 6.1094 - val_accuracy: 0.2167\n",
            "Epoch 73/125\n",
            "71/71 [==============================] - 1s 11ms/step - loss: 2.3048 - accuracy: 0.6960 - val_loss: 6.0807 - val_accuracy: 0.2167\n",
            "Epoch 74/125\n",
            "71/71 [==============================] - 1s 11ms/step - loss: 2.2890 - accuracy: 0.6853 - val_loss: 6.0858 - val_accuracy: 0.2267\n",
            "Epoch 75/125\n",
            "71/71 [==============================] - 1s 11ms/step - loss: 2.0808 - accuracy: 0.7013 - val_loss: 6.1053 - val_accuracy: 0.2167\n",
            "Epoch 76/125\n",
            "71/71 [==============================] - 1s 11ms/step - loss: 2.0091 - accuracy: 0.7111 - val_loss: 6.0493 - val_accuracy: 0.2067\n",
            "Epoch 77/125\n",
            "71/71 [==============================] - 1s 11ms/step - loss: 1.9731 - accuracy: 0.7204 - val_loss: 6.0586 - val_accuracy: 0.2133\n",
            "Epoch 78/125\n",
            "71/71 [==============================] - 1s 11ms/step - loss: 1.9624 - accuracy: 0.7164 - val_loss: 6.1078 - val_accuracy: 0.2167\n",
            "Epoch 79/125\n",
            "71/71 [==============================] - 1s 11ms/step - loss: 1.8565 - accuracy: 0.7240 - val_loss: 5.9967 - val_accuracy: 0.2033\n",
            "Epoch 80/125\n",
            "71/71 [==============================] - 1s 11ms/step - loss: 1.7392 - accuracy: 0.7471 - val_loss: 6.1382 - val_accuracy: 0.2100\n",
            "Epoch 81/125\n",
            "71/71 [==============================] - 1s 11ms/step - loss: 1.6188 - accuracy: 0.7596 - val_loss: 6.1038 - val_accuracy: 0.2067\n",
            "Epoch 82/125\n",
            "71/71 [==============================] - 1s 11ms/step - loss: 1.5345 - accuracy: 0.7649 - val_loss: 6.1170 - val_accuracy: 0.2233\n",
            "Epoch 83/125\n",
            "71/71 [==============================] - 1s 11ms/step - loss: 1.6065 - accuracy: 0.7378 - val_loss: 6.1182 - val_accuracy: 0.2167\n",
            "Epoch 84/125\n",
            "71/71 [==============================] - 1s 11ms/step - loss: 1.6800 - accuracy: 0.7458 - val_loss: 6.2691 - val_accuracy: 0.2233\n",
            "Epoch 85/125\n",
            "71/71 [==============================] - 1s 11ms/step - loss: 1.3868 - accuracy: 0.7813 - val_loss: 6.2695 - val_accuracy: 0.2200\n",
            "Epoch 86/125\n",
            "71/71 [==============================] - 1s 11ms/step - loss: 1.4969 - accuracy: 0.7680 - val_loss: 6.3028 - val_accuracy: 0.2167\n",
            "Epoch 87/125\n",
            "71/71 [==============================] - 1s 11ms/step - loss: 1.4461 - accuracy: 0.7698 - val_loss: 6.3229 - val_accuracy: 0.2133\n",
            "Epoch 88/125\n",
            "71/71 [==============================] - 1s 11ms/step - loss: 1.4071 - accuracy: 0.7840 - val_loss: 6.2697 - val_accuracy: 0.2133\n",
            "Epoch 89/125\n",
            "71/71 [==============================] - 1s 11ms/step - loss: 1.2927 - accuracy: 0.7973 - val_loss: 6.2956 - val_accuracy: 0.2333\n",
            "Epoch 90/125\n",
            "71/71 [==============================] - 1s 10ms/step - loss: 1.3199 - accuracy: 0.7809 - val_loss: 6.2605 - val_accuracy: 0.2267\n",
            "Epoch 91/125\n",
            "71/71 [==============================] - 1s 10ms/step - loss: 1.2807 - accuracy: 0.7916 - val_loss: 6.0959 - val_accuracy: 0.2167\n",
            "Epoch 92/125\n",
            "71/71 [==============================] - 1s 11ms/step - loss: 1.2586 - accuracy: 0.8044 - val_loss: 6.0744 - val_accuracy: 0.2267\n",
            "Epoch 93/125\n",
            "71/71 [==============================] - 1s 11ms/step - loss: 1.0753 - accuracy: 0.8142 - val_loss: 6.1577 - val_accuracy: 0.2267\n",
            "Epoch 94/125\n",
            "71/71 [==============================] - 1s 11ms/step - loss: 1.1178 - accuracy: 0.8267 - val_loss: 6.1909 - val_accuracy: 0.2200\n",
            "Epoch 95/125\n",
            "71/71 [==============================] - 1s 11ms/step - loss: 1.1190 - accuracy: 0.8164 - val_loss: 6.1356 - val_accuracy: 0.2267\n",
            "Epoch 96/125\n",
            "71/71 [==============================] - 1s 11ms/step - loss: 0.9820 - accuracy: 0.8231 - val_loss: 6.0740 - val_accuracy: 0.2333\n",
            "Epoch 97/125\n",
            "71/71 [==============================] - 1s 11ms/step - loss: 1.0071 - accuracy: 0.8333 - val_loss: 6.1432 - val_accuracy: 0.2267\n",
            "Epoch 98/125\n",
            "71/71 [==============================] - 1s 11ms/step - loss: 0.9806 - accuracy: 0.8342 - val_loss: 6.1551 - val_accuracy: 0.2267\n",
            "Epoch 99/125\n",
            "71/71 [==============================] - 1s 11ms/step - loss: 0.9765 - accuracy: 0.8302 - val_loss: 6.2248 - val_accuracy: 0.2233\n",
            "Epoch 100/125\n",
            "71/71 [==============================] - 1s 11ms/step - loss: 1.0554 - accuracy: 0.8236 - val_loss: 6.2755 - val_accuracy: 0.2200\n",
            "Epoch 101/125\n",
            "71/71 [==============================] - 1s 11ms/step - loss: 0.9619 - accuracy: 0.8413 - val_loss: 6.2237 - val_accuracy: 0.2133\n",
            "Epoch 102/125\n",
            "71/71 [==============================] - 1s 11ms/step - loss: 0.7967 - accuracy: 0.8484 - val_loss: 6.1926 - val_accuracy: 0.2167\n",
            "Epoch 103/125\n",
            "71/71 [==============================] - 1s 11ms/step - loss: 0.8777 - accuracy: 0.8462 - val_loss: 6.2086 - val_accuracy: 0.2033\n",
            "Epoch 104/125\n",
            "71/71 [==============================] - 1s 11ms/step - loss: 0.8685 - accuracy: 0.8409 - val_loss: 6.0823 - val_accuracy: 0.2067\n",
            "Epoch 105/125\n",
            "71/71 [==============================] - 1s 11ms/step - loss: 0.8565 - accuracy: 0.8449 - val_loss: 6.2248 - val_accuracy: 0.2033\n",
            "Epoch 106/125\n",
            "71/71 [==============================] - 1s 11ms/step - loss: 0.8019 - accuracy: 0.8511 - val_loss: 6.3638 - val_accuracy: 0.2067\n",
            "Epoch 107/125\n",
            "71/71 [==============================] - 1s 11ms/step - loss: 0.8126 - accuracy: 0.8631 - val_loss: 6.3694 - val_accuracy: 0.2067\n",
            "Epoch 108/125\n",
            "71/71 [==============================] - 1s 11ms/step - loss: 0.8377 - accuracy: 0.8631 - val_loss: 6.2202 - val_accuracy: 0.2200\n",
            "Epoch 109/125\n",
            "71/71 [==============================] - 1s 11ms/step - loss: 0.7668 - accuracy: 0.8582 - val_loss: 6.1497 - val_accuracy: 0.2133\n",
            "Epoch 110/125\n",
            "71/71 [==============================] - 1s 11ms/step - loss: 0.6839 - accuracy: 0.8796 - val_loss: 6.3122 - val_accuracy: 0.2167\n",
            "Epoch 111/125\n",
            "71/71 [==============================] - 1s 11ms/step - loss: 0.6442 - accuracy: 0.8800 - val_loss: 6.1246 - val_accuracy: 0.2067\n",
            "Epoch 112/125\n",
            "71/71 [==============================] - 1s 11ms/step - loss: 0.6965 - accuracy: 0.8782 - val_loss: 6.2029 - val_accuracy: 0.2333\n",
            "Epoch 113/125\n",
            "71/71 [==============================] - 1s 11ms/step - loss: 0.6871 - accuracy: 0.8756 - val_loss: 6.1592 - val_accuracy: 0.2333\n",
            "Epoch 114/125\n",
            "71/71 [==============================] - 1s 11ms/step - loss: 0.6131 - accuracy: 0.8880 - val_loss: 6.2631 - val_accuracy: 0.2367\n",
            "Epoch 115/125\n",
            "71/71 [==============================] - 1s 11ms/step - loss: 0.6760 - accuracy: 0.8738 - val_loss: 6.1884 - val_accuracy: 0.2367\n",
            "Epoch 116/125\n",
            "71/71 [==============================] - 1s 11ms/step - loss: 0.6761 - accuracy: 0.8716 - val_loss: 6.0667 - val_accuracy: 0.2300\n",
            "Epoch 117/125\n",
            "71/71 [==============================] - 1s 11ms/step - loss: 0.6361 - accuracy: 0.8836 - val_loss: 6.0434 - val_accuracy: 0.2333\n",
            "Epoch 118/125\n",
            "71/71 [==============================] - 1s 11ms/step - loss: 0.6712 - accuracy: 0.8764 - val_loss: 6.0504 - val_accuracy: 0.2267\n",
            "Epoch 119/125\n",
            "71/71 [==============================] - 1s 11ms/step - loss: 0.6916 - accuracy: 0.8853 - val_loss: 6.2107 - val_accuracy: 0.2233\n",
            "Epoch 120/125\n",
            "71/71 [==============================] - 1s 11ms/step - loss: 0.5487 - accuracy: 0.8933 - val_loss: 6.1236 - val_accuracy: 0.2167\n",
            "Epoch 121/125\n",
            "71/71 [==============================] - 1s 11ms/step - loss: 0.6059 - accuracy: 0.8889 - val_loss: 6.1724 - val_accuracy: 0.2167\n",
            "Epoch 122/125\n",
            "71/71 [==============================] - 1s 11ms/step - loss: 0.5980 - accuracy: 0.8987 - val_loss: 6.3357 - val_accuracy: 0.2233\n",
            "Epoch 123/125\n",
            "71/71 [==============================] - 1s 11ms/step - loss: 0.5732 - accuracy: 0.8902 - val_loss: 6.2661 - val_accuracy: 0.2200\n",
            "Epoch 124/125\n",
            "71/71 [==============================] - 1s 11ms/step - loss: 0.5763 - accuracy: 0.8938 - val_loss: 6.3326 - val_accuracy: 0.2300\n",
            "Epoch 125/125\n",
            "71/71 [==============================] - 1s 11ms/step - loss: 0.5002 - accuracy: 0.9080 - val_loss: 6.3707 - val_accuracy: 0.2400\n"
          ]
        }
      ],
      "source": [
        "#Compile and fit the model\n",
        "history, model = compile_and_fit(model, x_train, y_train, x_test, y_test, iterations, l_rate)"
      ]
    },
    {
      "cell_type": "code",
      "execution_count": 71,
      "metadata": {
        "colab": {
          "base_uri": "https://localhost:8080/",
          "height": 435
        },
        "id": "pMBMXPgy--9S",
        "outputId": "bfb1b278-1218-4f8a-fab0-f0d203a0c566"
      },
      "outputs": [
        {
          "data": {
            "image/png": "[encoded data removed]",
            "text/plain": [
              "<Figure size 1080x1080 with 2 Axes>"
            ]
          },
          "metadata": {},
          "output_type": "display_data"
        }
      ],
      "source": [
        "#Plots\n",
        "acc_plots(history, iterations)"
      ]
    },
    {
      "cell_type": "code",
      "execution_count": 72,
      "metadata": {
        "colab": {
          "base_uri": "https://localhost:8080/"
        },
        "id": "A7sVGFjb_DdS",
        "outputId": "44daa0ff-fd88-4ec1-8979-bb91e725e78a"
      },
      "outputs": [
        {
          "name": "stdout",
          "output_type": "stream",
          "text": [
            "                    precision    recall  f1-score   support\n",
            "\n",
            "            Buddha       0.00      0.00      0.00        20\n",
            "            Garuda       0.34      0.50      0.41        20\n",
            "     Goddess_Durga       0.29      0.10      0.15        20\n",
            "   Goddess_Lakshmi       0.09      0.10      0.10        20\n",
            "Goddess_Saraswathi       0.12      0.10      0.11        20\n",
            "       Lord_Ganesh       0.21      0.15      0.18        20\n",
            "      Lord_Hanuman       0.09      0.05      0.06        20\n",
            "    Lord_Hayagriva       0.00      0.00      0.00        20\n",
            "        Lord_Indra       0.51      1.00      0.68        20\n",
            "      Lord_Krishna       0.09      0.15      0.12        20\n",
            "       Lord_Muruga       0.22      0.10      0.14        20\n",
            "             Nandi       0.11      0.10      0.10        20\n",
            "           Nataraj       0.48      0.60      0.53        20\n",
            "   Shirdi_Sai_Baba       0.24      0.45      0.31        20\n",
            "          Shivling       0.22      0.20      0.21        20\n",
            "\n",
            "          accuracy                           0.24       300\n",
            "         macro avg       0.20      0.24      0.21       300\n",
            "      weighted avg       0.20      0.24      0.21       300\n",
            "\n",
            "\n",
            "Accuracy = 24.0%\n"
          ]
        }
      ],
      "source": [
        "#Results\n",
        "acc_results(model, labels, x_test, y_test)"
      ]
    },
    {
      "cell_type": "markdown",
      "metadata": {
        "id": "lYyGyFyM_FAo"
      },
      "source": [
        "#### **Result: For learning rate = 1*10^(-5) and 125 iterations, the highest accuracy obtained is 24%(approx) at (120, 125).**"
      ]
    }
  ],
  "metadata": {
    "accelerator": "GPU",
    "colab": {
      "collapsed_sections": [],
      "name": "SIFT_ANN_MIN_KEY_Test_run_1_lr_1e(_5)_epochs_125_acc_24.ipynb",
      "provenance": []
    },
    "kernelspec": {
      "display_name": "Python 3",
      "name": "python3"
    },
    "language_info": {
      "name": "python"
    }
  },
  "nbformat": 4,
  "nbformat_minor": 0
}
