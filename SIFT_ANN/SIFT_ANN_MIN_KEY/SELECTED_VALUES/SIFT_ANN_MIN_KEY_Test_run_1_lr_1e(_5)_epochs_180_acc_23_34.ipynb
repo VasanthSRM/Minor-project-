{
  "nbformat": 4,
  "nbformat_minor": 0,
  "metadata": {
    "accelerator": "GPU",
    "colab": {
      "name": "SIFT_ANN_MIN_KEY_Test_run_1_lr_1e(_5)_epochs_180_acc_23_34.ipynb",
      "provenance": [],
      "collapsed_sections": []
    },
    "kernelspec": {
      "display_name": "Python 3",
      "name": "python3"
    },
    "language_info": {
      "name": "python"
    }
  },
  "cells": [
    {
      "cell_type": "markdown",
      "metadata": {
        "id": "xkfpI5lL8ofl"
      },
      "source": [
        "## **SIFT + ANN (Min_Keypoints approach)**\n",
        "#### **lr=1*10^(-5), epochs=180, Accuracy = 23.34% (approx)**\n",
        "#### **Test run - 1**"
      ]
    },
    {
      "cell_type": "markdown",
      "metadata": {
        "id": "5AVHk6bP8110"
      },
      "source": [
        "#### **Aim: To find the accuracy of the model for the given learning rate and epoch value.**"
      ]
    },
    {
      "cell_type": "markdown",
      "metadata": {
        "id": "xaufx6N9PNMd"
      },
      "source": [
        "#### **For mounting drive**"
      ]
    },
    {
      "cell_type": "code",
      "metadata": {
        "colab": {
          "base_uri": "https://localhost:8080/"
        },
        "id": "LoT75uFsDMt3",
        "outputId": "26403019-3439-4bce-997b-4a25b595ac8d"
      },
      "source": [
        "#For mounting GDrive\n",
        "from google.colab import drive\n",
        "drive.mount('/content/drive')"
      ],
      "execution_count": 1,
      "outputs": [
        {
          "output_type": "stream",
          "name": "stdout",
          "text": [
            "Drive already mounted at /content/drive; to attempt to forcibly remount, call drive.mount(\"/content/drive\", force_remount=True).\n"
          ]
        }
      ]
    },
    {
      "cell_type": "markdown",
      "metadata": {
        "id": "hsXW3CzQ9KWG"
      },
      "source": [
        "#### **Required modules**"
      ]
    },
    {
      "cell_type": "code",
      "metadata": {
        "colab": {
          "base_uri": "https://localhost:8080/"
        },
        "id": "K08YLlNJhfSU",
        "outputId": "f68a45ba-e6a6-4ed6-bbcc-b63c5fc0add8"
      },
      "source": [
        "#Req. opencv 4.5+\n",
        "!pip uninstall opencv-python\n",
        "!pip install opencv-python"
      ],
      "execution_count": 2,
      "outputs": [
        {
          "output_type": "stream",
          "name": "stdout",
          "text": [
            "Found existing installation: opencv-python 4.5.4.60\n",
            "Uninstalling opencv-python-4.5.4.60:\n",
            "  Would remove:\n",
            "    /usr/local/lib/python3.7/dist-packages/cv2/*\n",
            "    /usr/local/lib/python3.7/dist-packages/opencv_python-4.5.4.60.dist-info/*\n",
            "    /usr/local/lib/python3.7/dist-packages/opencv_python.libs/libQt5Core-39545cc7.so.5.15.0\n",
            "    /usr/local/lib/python3.7/dist-packages/opencv_python.libs/libQt5Gui-ba0a2070.so.5.15.0\n",
            "    /usr/local/lib/python3.7/dist-packages/opencv_python.libs/libQt5Test-c38a5234.so.5.15.0\n",
            "    /usr/local/lib/python3.7/dist-packages/opencv_python.libs/libQt5Widgets-e69d94fb.so.5.15.0\n",
            "    /usr/local/lib/python3.7/dist-packages/opencv_python.libs/libQt5XcbQpa-ca221f44.so.5.15.0\n",
            "    /usr/local/lib/python3.7/dist-packages/opencv_python.libs/libX11-xcb-69166bdf.so.1.0.0\n",
            "    /usr/local/lib/python3.7/dist-packages/opencv_python.libs/libXau-00ec42fe.so.6.0.0\n",
            "    /usr/local/lib/python3.7/dist-packages/opencv_python.libs/libavcodec-64ac49e1.so.58.91.100\n",
            "    /usr/local/lib/python3.7/dist-packages/opencv_python.libs/libavformat-4b79e479.so.58.45.100\n",
            "    /usr/local/lib/python3.7/dist-packages/opencv_python.libs/libavutil-805734e8.so.56.51.100\n",
            "    /usr/local/lib/python3.7/dist-packages/opencv_python.libs/libbz2-a273e504.so.1.0.6\n",
            "    /usr/local/lib/python3.7/dist-packages/opencv_python.libs/libcrypto-018b8c17.so.1.1\n",
            "    /usr/local/lib/python3.7/dist-packages/opencv_python.libs/libfreetype-c0e61f0c.so.6.14.0\n",
            "    /usr/local/lib/python3.7/dist-packages/opencv_python.libs/libgfortran-91cc3cb1.so.3.0.0\n",
            "    /usr/local/lib/python3.7/dist-packages/opencv_python.libs/libopenblas-r0-f650aae0.3.3.so\n",
            "    /usr/local/lib/python3.7/dist-packages/opencv_python.libs/libpng15-ce838cd1.so.15.13.0\n",
            "    /usr/local/lib/python3.7/dist-packages/opencv_python.libs/libquadmath-96973f99.so.0.0.0\n",
            "    /usr/local/lib/python3.7/dist-packages/opencv_python.libs/libssl-6082116c.so.1.1\n",
            "    /usr/local/lib/python3.7/dist-packages/opencv_python.libs/libswresample-83ce3247.so.3.7.100\n",
            "    /usr/local/lib/python3.7/dist-packages/opencv_python.libs/libswscale-7e960168.so.5.7.100\n",
            "    /usr/local/lib/python3.7/dist-packages/opencv_python.libs/libvpx-392cd848.so.6.4.0\n",
            "    /usr/local/lib/python3.7/dist-packages/opencv_python.libs/libxcb-icccm-413c9f41.so.4.0.0\n",
            "    /usr/local/lib/python3.7/dist-packages/opencv_python.libs/libxcb-image-e82a276d.so.0.0.0\n",
            "    /usr/local/lib/python3.7/dist-packages/opencv_python.libs/libxcb-keysyms-21015570.so.1.0.0\n",
            "    /usr/local/lib/python3.7/dist-packages/opencv_python.libs/libxcb-randr-a96a5a87.so.0.1.0\n",
            "    /usr/local/lib/python3.7/dist-packages/opencv_python.libs/libxcb-render-637b984a.so.0.0.0\n",
            "    /usr/local/lib/python3.7/dist-packages/opencv_python.libs/libxcb-render-util-43ce00f5.so.0.0.0\n",
            "    /usr/local/lib/python3.7/dist-packages/opencv_python.libs/libxcb-shape-25c2b258.so.0.0.0\n",
            "    /usr/local/lib/python3.7/dist-packages/opencv_python.libs/libxcb-shm-7a199f70.so.0.0.0\n",
            "    /usr/local/lib/python3.7/dist-packages/opencv_python.libs/libxcb-sync-89374f40.so.1.0.0\n",
            "    /usr/local/lib/python3.7/dist-packages/opencv_python.libs/libxcb-util-4d666913.so.1.0.0\n",
            "    /usr/local/lib/python3.7/dist-packages/opencv_python.libs/libxcb-xfixes-9be3ba6f.so.0.0.0\n",
            "    /usr/local/lib/python3.7/dist-packages/opencv_python.libs/libxcb-xinerama-ae147f87.so.0.0.0\n",
            "    /usr/local/lib/python3.7/dist-packages/opencv_python.libs/libxcb-xkb-9ba31ab3.so.1.0.0\n",
            "    /usr/local/lib/python3.7/dist-packages/opencv_python.libs/libxkbcommon-71ae2972.so.0.0.0\n",
            "    /usr/local/lib/python3.7/dist-packages/opencv_python.libs/libxkbcommon-x11-c65ed502.so.0.0.0\n",
            "Proceed (y/n)? y\n",
            "  Successfully uninstalled opencv-python-4.5.4.60\n",
            "Collecting opencv-python\n",
            "  Using cached opencv_python-4.5.4.60-cp37-cp37m-manylinux_2_17_x86_64.manylinux2014_x86_64.whl (60.3 MB)\n",
            "Requirement already satisfied: numpy>=1.14.5 in /usr/local/lib/python3.7/dist-packages (from opencv-python) (1.19.5)\n",
            "Installing collected packages: opencv-python\n",
            "\u001b[31mERROR: pip's dependency resolver does not currently take into account all the packages that are installed. This behaviour is the source of the following dependency conflicts.\n",
            "albumentations 0.1.12 requires imgaug<0.2.7,>=0.2.5, but you have imgaug 0.2.9 which is incompatible.\u001b[0m\n",
            "Successfully installed opencv-python-4.5.4.60\n"
          ]
        }
      ]
    },
    {
      "cell_type": "code",
      "metadata": {
        "id": "__cYeeQF8IEn"
      },
      "source": [
        "#Importing necessary libraries\n",
        "from zipfile import ZipFile\n",
        "from tensorflow.python.client import device_lib\n",
        "import platform\n",
        "import matplotlib.pyplot as plt\n",
        "import seaborn as sns\n",
        "from tensorflow.keras.models import Sequential\n",
        "from tensorflow.keras.layers import Dense, Flatten, Dropout\n",
        "from tensorflow.keras.optimizers import Adam\n",
        "from sklearn.metrics import classification_report, accuracy_score\n",
        "import tensorflow as tf\n",
        "import cv2\n",
        "import os\n",
        "import sys\n",
        "import numpy as np\n",
        "import random"
      ],
      "execution_count": 3,
      "outputs": []
    },
    {
      "cell_type": "markdown",
      "metadata": {
        "id": "lAtfR4ri9T-G"
      },
      "source": [
        "#### **Functions definition**"
      ]
    },
    {
      "cell_type": "code",
      "metadata": {
        "id": "4TAGvB5o8ns-"
      },
      "source": [
        "def extract_zip(file_name = \"drive/MyDrive/Dataset_test_1.zip\"):\n",
        "    with ZipFile(file_name, \"r\") as zip:\n",
        "        zip.extractall()\n",
        "        print(\"Dataset Extracted\")"
      ],
      "execution_count": 4,
      "outputs": []
    },
    {
      "cell_type": "code",
      "metadata": {
        "id": "JwTPw__89fBU"
      },
      "source": [
        "def python_ver():\n",
        "    print(\"\\nPython version:\\n\")\n",
        "    print(sys.version)\n",
        "\n",
        "def device_info():\n",
        "    print(\"\\nDevice Info:\\n\")\n",
        "    print(device_lib.list_local_devices())\n",
        "\n",
        "def platform_info():\n",
        "    print(\"\\nPlatform Info:\\n\")\n",
        "    print(platform.platform())\n",
        "    print(platform.processor())"
      ],
      "execution_count": 5,
      "outputs": []
    },
    {
      "cell_type": "code",
      "metadata": {
        "id": "QtlFrxEVYIno"
      },
      "source": [
        "def SIFT_test(dirs, labels, img_size):\n",
        "    \"\"\"Scale Invariant Feature Transform Test run for finding the minimum keypoints detected among all the images in the dataset\"\"\"\n",
        "    \n",
        "    min_key = np.inf\n",
        "    \n",
        "    for data_dir in dirs:\n",
        "        for label in labels:\n",
        "            path = os.path.join(data_dir, label)\n",
        "            for img in os.listdir(path):\n",
        "                #Reading the image in grayscale mode\n",
        "                img_arr = cv2.imread(os.path.join(path, img), cv2.IMREAD_GRAYSCALE)\n",
        "                   \n",
        "                #Reshaping images to preferred size\n",
        "                resized_arr = cv2.resize(img_arr, (img_size, img_size)) \n",
        "\n",
        "                #detecting keypoints\n",
        "                sift = cv2.SIFT_create()\n",
        "                keypoints = sift.detect(resized_arr, None)\n",
        "\n",
        "                if (len(keypoints) < min_key):\n",
        "                    min_key = len(keypoints)\n",
        "                \n",
        "    return min_key"
      ],
      "execution_count": 6,
      "outputs": []
    },
    {
      "cell_type": "code",
      "metadata": {
        "id": "j9IR6y7nYJ5a"
      },
      "source": [
        "def SIFT(image, min_key):\n",
        "    \"\"\"Scale Invariant Feature Transform for finding keypoints and computing descriptors\"\"\"\n",
        "    \n",
        "    sift = cv2.SIFT_create(min_key)\n",
        "    keypoints, descriptors = sift.detectAndCompute(image, None)\n",
        "\n",
        "    return np.array(descriptors, dtype=\"i\")[:min_key]"
      ],
      "execution_count": 7,
      "outputs": []
    },
    {
      "cell_type": "code",
      "metadata": {
        "id": "GSQlfqEA9jN7"
      },
      "source": [
        "def dataset_creation(data_dir, labels, img_size, min_key):\n",
        "    \"\"\"Loading data and shuffling\"\"\"\n",
        "    data = [] \n",
        "\n",
        "    for class_num, label in enumerate(labels): \n",
        "        path = os.path.join(data_dir, label)\n",
        "        for img in os.listdir(path):\n",
        "            try:\n",
        "                #Reading the image in grayscale mode\n",
        "                img_arr = cv2.imread(os.path.join(path, img), cv2.IMREAD_GRAYSCALE)\n",
        "                \n",
        "                #Reshaping images to preferred size\n",
        "                resized_arr = cv2.resize(img_arr, (img_size, img_size)) \n",
        "\n",
        "                #SIFT function call\n",
        "                SIFT_img_desc = SIFT(resized_arr, min_key)\n",
        "                \n",
        "                data.append([SIFT_img_desc, class_num])\n",
        "            except Exception as err:\n",
        "                print(\"Error:\\n\",err)\n",
        "    \n",
        "    random.shuffle(data)\n",
        "    return np.array(data)"
      ],
      "execution_count": 8,
      "outputs": []
    },
    {
      "cell_type": "code",
      "metadata": {
        "id": "gr4RAyHY9oed"
      },
      "source": [
        "def dataset_creation_train_stat(labels, train):\n",
        "    \"\"\"Plot initial data graph\"\"\"\n",
        "    list_graph = []\n",
        "    for i in train:\n",
        "        list_graph.append(labels[i[1]])\n",
        "    \n",
        "    sns.set_style('darkgrid')\n",
        "    plt.figure(figsize=(25, 25))    \n",
        "    sns.countplot(list_graph)\n",
        "    plt.title(\"Train set\")\n",
        "    plt.show()\n",
        "\n",
        "\n",
        "def dataset_creation_test_stat(labels, test):\n",
        "    \"\"\"Plot initial data graph\"\"\"\n",
        "    list_graph = []\n",
        "    for i in test:\n",
        "        list_graph.append(labels[i[1]])\n",
        "    \n",
        "    sns.set_style('darkgrid')\n",
        "    plt.figure(figsize=(25, 25))\n",
        "    sns.countplot(list_graph)\n",
        "    plt.title(\"Test set\")\n",
        "    plt.show()"
      ],
      "execution_count": 9,
      "outputs": []
    },
    {
      "cell_type": "code",
      "metadata": {
        "id": "mCiE7s_E9072"
      },
      "source": [
        "def train_test_data_split(train, test):\n",
        "    \"\"\"train and test\"\"\"\n",
        "    x_train = []\n",
        "    y_train = []\n",
        "    x_test = []\n",
        "    y_test = []\n",
        "\n",
        "    for feature, label in train:\n",
        "        x_train.append(feature)\n",
        "        y_train.append(label)\n",
        "\n",
        "    for feature, label in test:\n",
        "        x_test.append(feature)\n",
        "        y_test.append(label)\n",
        "\n",
        "    return (np.array(x_train), np.array(y_train), np.array(x_test), np.array(y_test))"
      ],
      "execution_count": 10,
      "outputs": []
    },
    {
      "cell_type": "code",
      "metadata": {
        "id": "SizxlEkV94hy"
      },
      "source": [
        "def normalize_array_conv_data(x_train, y_train, x_test, y_test):\n",
        "    \"\"\"Normalize and array conversion\"\"\"\n",
        "    x_train = np.array(x_train) / 255\n",
        "    x_test = np.array(x_test) / 255\n",
        "\n",
        "    y_train = np.array(y_train)\n",
        "    y_test = np.array(y_test)\n",
        "\n",
        "    return (x_train, y_train, x_test, y_test)"
      ],
      "execution_count": 11,
      "outputs": []
    },
    {
      "cell_type": "code",
      "metadata": {
        "id": "RgLvHqvB98Dd"
      },
      "source": [
        "def build_model_ann(tot_classes, x_train):\n",
        "    \"\"\"Builds ANN model and prints model summary\"\"\"\n",
        "    model = Sequential()\n",
        "    \n",
        "    model.add(Flatten(input_shape=x_train.shape[1:]))\n",
        "    model.add(Dense(3000,activation=\"relu\"))\n",
        "    model.add(Dropout(0.5))\n",
        "    model.add(Dense(1000,activation=\"relu\"))\n",
        "    model.add(Dropout(0.5))\n",
        "    model.add(Dense(tot_classes, activation=\"softmax\"))\n",
        "\n",
        "    model.summary()\n",
        "    return model"
      ],
      "execution_count": 12,
      "outputs": []
    },
    {
      "cell_type": "code",
      "metadata": {
        "id": "9nEf4toB-BzT"
      },
      "source": [
        "def compile_and_fit(model, x_train, y_train, x_test, y_test, iterations, l_rate):\n",
        "    \"\"\"Compiles and fits the model\"\"\"\n",
        "    opt = Adam(learning_rate=l_rate)\n",
        "    model.compile(optimizer = opt, loss = \"sparse_categorical_crossentropy\", metrics = ['accuracy'])\n",
        "    history = model.fit(x_train, y_train, epochs = iterations, validation_data = (x_test, y_test))\n",
        "\n",
        "    return (history, model)"
      ],
      "execution_count": 13,
      "outputs": []
    },
    {
      "cell_type": "code",
      "metadata": {
        "id": "BpybfYak-FKt"
      },
      "source": [
        "def acc_plots(history, iterations):\n",
        "    \"\"\"Requires history and number of iterations\"\"\"\n",
        "    acc = history.history['accuracy']\n",
        "    val_acc = history.history['val_accuracy']\n",
        "    loss = history.history['loss']\n",
        "    val_loss = history.history['val_loss']\n",
        "\n",
        "    epochs_range = range(iterations)\n",
        "\n",
        "    plt.figure(figsize=(15, 15))\n",
        "    plt.subplot(2, 2, 1)\n",
        "    plt.plot(epochs_range, acc, label='Training Accuracy')\n",
        "    plt.plot(epochs_range, val_acc, label='Validation Accuracy')\n",
        "    plt.legend(loc='lower right')\n",
        "    plt.title('Training and Validation Accuracy')\n",
        "\n",
        "    plt.subplot(2, 2, 2)\n",
        "    plt.plot(epochs_range, loss, label='Training Loss')\n",
        "    plt.plot(epochs_range, val_loss, label='Validation Loss')\n",
        "    plt.legend(loc='upper right')\n",
        "    plt.title('Training and Validation Loss')\n",
        "    plt.show()"
      ],
      "execution_count": 14,
      "outputs": []
    },
    {
      "cell_type": "code",
      "metadata": {
        "id": "lTTbnTYd-Ipb"
      },
      "source": [
        "def acc_results(model, labels, x_test, y_test):\n",
        "    \"\"\"Prediction and test accuracy\"\"\"\n",
        "    predictions = np.argmax(model.predict(x_test), axis=-1)\n",
        "    print(classification_report(y_test, predictions, target_names = labels))\n",
        "    print(\"\\nAccuracy = \"+str(accuracy_score(y_test, predictions)*100)+\"%\")"
      ],
      "execution_count": 15,
      "outputs": []
    },
    {
      "cell_type": "markdown",
      "metadata": {
        "id": "M1PFZZFw-S_P"
      },
      "source": [
        "#### **Making Function calls and defining variables**"
      ]
    },
    {
      "cell_type": "code",
      "metadata": {
        "colab": {
          "base_uri": "https://localhost:8080/"
        },
        "id": "OgZinHaw-Mq7",
        "outputId": "e4550954-0b8b-4b44-fc11-d475baa8bb01"
      },
      "source": [
        "#Extracting Dataset\n",
        "extract_zip(\"drive/MyDrive/Dataset_test_1.zip\")\n",
        "\n",
        "#Device and environment Info\n",
        "python_ver()\n",
        "device_info()\n",
        "platform_info()"
      ],
      "execution_count": 16,
      "outputs": [
        {
          "output_type": "stream",
          "name": "stdout",
          "text": [
            "Dataset Extracted\n",
            "\n",
            "Python version:\n",
            "\n",
            "3.7.12 (default, Sep 10 2021, 00:21:48) \n",
            "[GCC 7.5.0]\n",
            "\n",
            "Device Info:\n",
            "\n",
            "[name: \"/device:CPU:0\"\n",
            "device_type: \"CPU\"\n",
            "memory_limit: 268435456\n",
            "locality {\n",
            "}\n",
            "incarnation: 6827723132782817618\n",
            "xla_global_id: -1\n",
            ", name: \"/device:GPU:0\"\n",
            "device_type: \"GPU\"\n",
            "memory_limit: 11321147392\n",
            "locality {\n",
            "  bus_id: 1\n",
            "  links {\n",
            "  }\n",
            "}\n",
            "incarnation: 1990124153880340505\n",
            "physical_device_desc: \"device: 0, name: Tesla K80, pci bus id: 0000:00:04.0, compute capability: 3.7\"\n",
            "xla_global_id: 416903419\n",
            "]\n",
            "\n",
            "Platform Info:\n",
            "\n",
            "Linux-5.4.104+-x86_64-with-Ubuntu-18.04-bionic\n",
            "x86_64\n"
          ]
        }
      ]
    },
    {
      "cell_type": "code",
      "metadata": {
        "id": "Bl01clC0-XOZ"
      },
      "source": [
        "#Variables\n",
        "dirs = [\"Dataset_test_1/Train\", \"Dataset_test_1/Test\"]\n",
        "labels = ['Buddha', 'Garuda', 'Goddess_Durga', 'Goddess_Lakshmi', 'Goddess_Saraswathi', 'Lord_Ganesh', \n",
        "        'Lord_Hanuman', 'Lord_Hayagriva', 'Lord_Indra', 'Lord_Krishna', 'Lord_Muruga', 'Nandi', 'Nataraj', \n",
        "        'Shirdi_Sai_Baba', 'Shivling']\n",
        "img_size = 224\n",
        "tot_classes = len(labels)\n",
        "num_sample_img = 3\n",
        "iterations = 180\n",
        "l_rate = 0.00001"
      ],
      "execution_count": 17,
      "outputs": []
    },
    {
      "cell_type": "code",
      "metadata": {
        "colab": {
          "base_uri": "https://localhost:8080/"
        },
        "id": "ngdQO8_D-kzS",
        "outputId": "01b28e65-1676-41f0-f48d-4ecefc0f3c74"
      },
      "source": [
        "#Min keypoints detection\n",
        "min_key = SIFT_test(dirs, labels, img_size)\n",
        "\n",
        "#Train and Test data loading\n",
        "train = dataset_creation(\"Dataset_test_1/Train\", labels, img_size, min_key)\n",
        "test = dataset_creation(\"Dataset_test_1/Test\", labels, img_size, min_key)"
      ],
      "execution_count": 18,
      "outputs": [
        {
          "output_type": "stream",
          "name": "stderr",
          "text": [
            "/usr/local/lib/python3.7/dist-packages/ipykernel_launcher.py:23: VisibleDeprecationWarning: Creating an ndarray from ragged nested sequences (which is a list-or-tuple of lists-or-tuples-or ndarrays with different lengths or shapes) is deprecated. If you meant to do this, you must specify 'dtype=object' when creating the ndarray\n"
          ]
        }
      ]
    },
    {
      "cell_type": "code",
      "metadata": {
        "colab": {
          "base_uri": "https://localhost:8080/",
          "height": 1000
        },
        "id": "ci_GDz0G-ngO",
        "outputId": "4e7a4304-77ea-4cc4-f9b9-f6b2dddd3876"
      },
      "source": [
        "#Stats\n",
        "dataset_creation_train_stat(labels, train)\n",
        "dataset_creation_test_stat(labels, test)"
      ],
      "execution_count": 19,
      "outputs": [
        {
          "output_type": "stream",
          "name": "stderr",
          "text": [
            "/usr/local/lib/python3.7/dist-packages/seaborn/_decorators.py:43: FutureWarning: Pass the following variable as a keyword arg: x. From version 0.12, the only valid positional argument will be `data`, and passing other arguments without an explicit keyword will result in an error or misinterpretation.\n",
            "  FutureWarning\n"
          ]
        },
        {
          "output_type": "display_data",
          "data": {
            "image/png": "[encoded data removed]",
            "text/plain": [
              "<Figure size 1800x1800 with 1 Axes>"
            ]
          },
          "metadata": {}
        },
        {
          "output_type": "stream",
          "name": "stderr",
          "text": [
            "/usr/local/lib/python3.7/dist-packages/seaborn/_decorators.py:43: FutureWarning: Pass the following variable as a keyword arg: x. From version 0.12, the only valid positional argument will be `data`, and passing other arguments without an explicit keyword will result in an error or misinterpretation.\n",
            "  FutureWarning\n"
          ]
        },
        {
          "output_type": "display_data",
          "data": {
            "image/png": "[encoded data removed]",
            "text/plain": [
              "<Figure size 1800x1800 with 1 Axes>"
            ]
          },
          "metadata": {}
        }
      ]
    },
    {
      "cell_type": "code",
      "metadata": {
        "id": "4JOI1Up6-tGQ"
      },
      "source": [
        "#Training and testing data\n",
        "x_train, y_train, x_test, y_test = train_test_data_split(train, test)"
      ],
      "execution_count": 20,
      "outputs": []
    },
    {
      "cell_type": "code",
      "metadata": {
        "colab": {
          "base_uri": "https://localhost:8080/"
        },
        "id": "08fhlmqh-z4O",
        "outputId": "164e7afe-e607-4513-8171-494e436af746"
      },
      "source": [
        "#Building ANN Model\n",
        "model = build_model_ann(tot_classes, x_train)\n"
      ],
      "execution_count": 21,
      "outputs": [
        {
          "output_type": "stream",
          "name": "stdout",
          "text": [
            "Model: \"sequential\"\n",
            "_________________________________________________________________\n",
            " Layer (type)                Output Shape              Param #   \n",
            "=================================================================\n",
            " flatten (Flatten)           (None, 4608)              0         \n",
            "                                                                 \n",
            " dense (Dense)               (None, 3000)              13827000  \n",
            "                                                                 \n",
            " dropout (Dropout)           (None, 3000)              0         \n",
            "                                                                 \n",
            " dense_1 (Dense)             (None, 1000)              3001000   \n",
            "                                                                 \n",
            " dropout_1 (Dropout)         (None, 1000)              0         \n",
            "                                                                 \n",
            " dense_2 (Dense)             (None, 15)                15015     \n",
            "                                                                 \n",
            "=================================================================\n",
            "Total params: 16,843,015\n",
            "Trainable params: 16,843,015\n",
            "Non-trainable params: 0\n",
            "_________________________________________________________________\n"
          ]
        }
      ]
    },
    {
      "cell_type": "code",
      "metadata": {
        "colab": {
          "base_uri": "https://localhost:8080/"
        },
        "id": "j5NP-yio-5Bl",
        "outputId": "043e5c6e-f820-414b-a8c1-c362fe22c3a0"
      },
      "source": [
        "#Compile and fit the model\n",
        "history, model = compile_and_fit(model, x_train, y_train, x_test, y_test, iterations, l_rate)"
      ],
      "execution_count": 22,
      "outputs": [
        {
          "output_type": "stream",
          "name": "stdout",
          "text": [
            "Epoch 1/180\n",
            "71/71 [==============================] - 2s 15ms/step - loss: 119.4711 - accuracy: 0.0671 - val_loss: 40.1034 - val_accuracy: 0.0967\n",
            "Epoch 2/180\n",
            "71/71 [==============================] - 1s 11ms/step - loss: 93.7919 - accuracy: 0.0818 - val_loss: 33.7192 - val_accuracy: 0.0900\n",
            "Epoch 3/180\n",
            "71/71 [==============================] - 1s 11ms/step - loss: 77.6706 - accuracy: 0.0773 - val_loss: 25.7147 - val_accuracy: 0.1233\n",
            "Epoch 4/180\n",
            "71/71 [==============================] - 1s 11ms/step - loss: 67.7739 - accuracy: 0.0849 - val_loss: 22.6995 - val_accuracy: 0.1300\n",
            "Epoch 5/180\n",
            "71/71 [==============================] - 1s 11ms/step - loss: 56.7527 - accuracy: 0.0956 - val_loss: 19.0846 - val_accuracy: 0.1367\n",
            "Epoch 6/180\n",
            "71/71 [==============================] - 1s 11ms/step - loss: 52.0518 - accuracy: 0.0933 - val_loss: 16.6884 - val_accuracy: 0.1667\n",
            "Epoch 7/180\n",
            "71/71 [==============================] - 1s 11ms/step - loss: 45.8449 - accuracy: 0.1036 - val_loss: 15.2687 - val_accuracy: 0.1567\n",
            "Epoch 8/180\n",
            "71/71 [==============================] - 1s 11ms/step - loss: 41.0847 - accuracy: 0.1209 - val_loss: 13.6563 - val_accuracy: 0.1600\n",
            "Epoch 9/180\n",
            "71/71 [==============================] - 1s 12ms/step - loss: 37.9534 - accuracy: 0.1236 - val_loss: 12.4081 - val_accuracy: 0.1600\n",
            "Epoch 10/180\n",
            "71/71 [==============================] - 1s 11ms/step - loss: 34.4409 - accuracy: 0.1240 - val_loss: 11.8796 - val_accuracy: 0.1533\n",
            "Epoch 11/180\n",
            "71/71 [==============================] - 1s 11ms/step - loss: 32.4100 - accuracy: 0.1191 - val_loss: 11.1413 - val_accuracy: 0.1567\n",
            "Epoch 12/180\n",
            "71/71 [==============================] - 1s 11ms/step - loss: 30.3138 - accuracy: 0.1267 - val_loss: 10.4505 - val_accuracy: 0.1733\n",
            "Epoch 13/180\n",
            "71/71 [==============================] - 1s 12ms/step - loss: 28.8080 - accuracy: 0.1373 - val_loss: 10.0025 - val_accuracy: 0.1567\n",
            "Epoch 14/180\n",
            "71/71 [==============================] - 1s 11ms/step - loss: 26.4936 - accuracy: 0.1436 - val_loss: 9.4942 - val_accuracy: 0.1733\n",
            "Epoch 15/180\n",
            "71/71 [==============================] - 1s 11ms/step - loss: 24.9020 - accuracy: 0.1493 - val_loss: 9.0842 - val_accuracy: 0.1633\n",
            "Epoch 16/180\n",
            "71/71 [==============================] - 1s 11ms/step - loss: 23.1832 - accuracy: 0.1658 - val_loss: 8.5951 - val_accuracy: 0.1667\n",
            "Epoch 17/180\n",
            "71/71 [==============================] - 1s 11ms/step - loss: 22.2618 - accuracy: 0.1738 - val_loss: 8.2193 - val_accuracy: 0.1833\n",
            "Epoch 18/180\n",
            "71/71 [==============================] - 1s 11ms/step - loss: 21.3762 - accuracy: 0.1747 - val_loss: 7.9746 - val_accuracy: 0.1867\n",
            "Epoch 19/180\n",
            "71/71 [==============================] - 1s 11ms/step - loss: 20.5180 - accuracy: 0.1836 - val_loss: 7.7272 - val_accuracy: 0.1900\n",
            "Epoch 20/180\n",
            "71/71 [==============================] - 1s 11ms/step - loss: 19.7574 - accuracy: 0.1782 - val_loss: 7.6408 - val_accuracy: 0.1767\n",
            "Epoch 21/180\n",
            "71/71 [==============================] - 1s 11ms/step - loss: 18.3966 - accuracy: 0.1898 - val_loss: 7.4699 - val_accuracy: 0.1667\n",
            "Epoch 22/180\n",
            "71/71 [==============================] - 1s 11ms/step - loss: 17.0109 - accuracy: 0.2138 - val_loss: 7.3582 - val_accuracy: 0.1700\n",
            "Epoch 23/180\n",
            "71/71 [==============================] - 1s 11ms/step - loss: 16.7940 - accuracy: 0.1956 - val_loss: 7.0662 - val_accuracy: 0.1867\n",
            "Epoch 24/180\n",
            "71/71 [==============================] - 1s 11ms/step - loss: 16.0108 - accuracy: 0.2169 - val_loss: 6.9335 - val_accuracy: 0.1867\n",
            "Epoch 25/180\n",
            "71/71 [==============================] - 1s 11ms/step - loss: 15.8934 - accuracy: 0.2116 - val_loss: 6.8866 - val_accuracy: 0.2000\n",
            "Epoch 26/180\n",
            "71/71 [==============================] - 1s 11ms/step - loss: 14.9553 - accuracy: 0.2227 - val_loss: 6.7562 - val_accuracy: 0.2133\n",
            "Epoch 27/180\n",
            "71/71 [==============================] - 1s 11ms/step - loss: 14.4200 - accuracy: 0.2244 - val_loss: 6.7230 - val_accuracy: 0.2167\n",
            "Epoch 28/180\n",
            "71/71 [==============================] - 1s 11ms/step - loss: 13.9212 - accuracy: 0.2276 - val_loss: 6.4534 - val_accuracy: 0.2100\n",
            "Epoch 29/180\n",
            "71/71 [==============================] - 1s 11ms/step - loss: 13.1683 - accuracy: 0.2480 - val_loss: 6.4287 - val_accuracy: 0.2167\n",
            "Epoch 30/180\n",
            "71/71 [==============================] - 1s 11ms/step - loss: 12.8859 - accuracy: 0.2511 - val_loss: 6.5328 - val_accuracy: 0.1933\n",
            "Epoch 31/180\n",
            "71/71 [==============================] - 1s 11ms/step - loss: 12.0843 - accuracy: 0.2516 - val_loss: 6.3960 - val_accuracy: 0.1967\n",
            "Epoch 32/180\n",
            "71/71 [==============================] - 1s 11ms/step - loss: 12.0293 - accuracy: 0.2636 - val_loss: 6.2980 - val_accuracy: 0.2133\n",
            "Epoch 33/180\n",
            "71/71 [==============================] - 1s 11ms/step - loss: 11.0592 - accuracy: 0.2764 - val_loss: 6.2227 - val_accuracy: 0.2133\n",
            "Epoch 34/180\n",
            "71/71 [==============================] - 1s 11ms/step - loss: 11.1561 - accuracy: 0.2733 - val_loss: 6.1930 - val_accuracy: 0.2067\n",
            "Epoch 35/180\n",
            "71/71 [==============================] - 1s 11ms/step - loss: 10.2638 - accuracy: 0.2956 - val_loss: 6.2143 - val_accuracy: 0.2033\n",
            "Epoch 36/180\n",
            "71/71 [==============================] - 1s 11ms/step - loss: 9.9722 - accuracy: 0.3129 - val_loss: 6.1482 - val_accuracy: 0.2033\n",
            "Epoch 37/180\n",
            "71/71 [==============================] - 1s 11ms/step - loss: 9.7588 - accuracy: 0.2947 - val_loss: 5.9625 - val_accuracy: 0.2300\n",
            "Epoch 38/180\n",
            "71/71 [==============================] - 1s 11ms/step - loss: 9.2381 - accuracy: 0.3280 - val_loss: 6.0410 - val_accuracy: 0.2133\n",
            "Epoch 39/180\n",
            "71/71 [==============================] - 1s 11ms/step - loss: 8.6865 - accuracy: 0.3258 - val_loss: 6.2404 - val_accuracy: 0.2033\n",
            "Epoch 40/180\n",
            "71/71 [==============================] - 1s 11ms/step - loss: 8.4391 - accuracy: 0.3382 - val_loss: 6.1905 - val_accuracy: 0.2133\n",
            "Epoch 41/180\n",
            "71/71 [==============================] - 1s 11ms/step - loss: 8.4885 - accuracy: 0.3436 - val_loss: 6.2276 - val_accuracy: 0.2133\n",
            "Epoch 42/180\n",
            "71/71 [==============================] - 1s 11ms/step - loss: 8.0260 - accuracy: 0.3649 - val_loss: 6.1334 - val_accuracy: 0.2100\n",
            "Epoch 43/180\n",
            "71/71 [==============================] - 1s 11ms/step - loss: 7.4321 - accuracy: 0.3822 - val_loss: 6.0868 - val_accuracy: 0.2100\n",
            "Epoch 44/180\n",
            "71/71 [==============================] - 1s 11ms/step - loss: 7.3429 - accuracy: 0.3902 - val_loss: 6.2074 - val_accuracy: 0.2133\n",
            "Epoch 45/180\n",
            "71/71 [==============================] - 1s 11ms/step - loss: 6.9413 - accuracy: 0.4000 - val_loss: 6.1796 - val_accuracy: 0.2133\n",
            "Epoch 46/180\n",
            "71/71 [==============================] - 1s 11ms/step - loss: 6.4396 - accuracy: 0.4164 - val_loss: 6.2239 - val_accuracy: 0.2233\n",
            "Epoch 47/180\n",
            "71/71 [==============================] - 1s 11ms/step - loss: 6.5427 - accuracy: 0.4044 - val_loss: 6.2111 - val_accuracy: 0.2200\n",
            "Epoch 48/180\n",
            "71/71 [==============================] - 1s 11ms/step - loss: 6.0756 - accuracy: 0.4360 - val_loss: 6.2017 - val_accuracy: 0.2133\n",
            "Epoch 49/180\n",
            "71/71 [==============================] - 1s 11ms/step - loss: 6.0407 - accuracy: 0.4422 - val_loss: 6.1725 - val_accuracy: 0.2033\n",
            "Epoch 50/180\n",
            "71/71 [==============================] - 1s 11ms/step - loss: 5.7685 - accuracy: 0.4547 - val_loss: 6.0786 - val_accuracy: 0.2067\n",
            "Epoch 51/180\n",
            "71/71 [==============================] - 1s 11ms/step - loss: 5.6692 - accuracy: 0.4489 - val_loss: 5.9855 - val_accuracy: 0.2033\n",
            "Epoch 52/180\n",
            "71/71 [==============================] - 1s 11ms/step - loss: 5.2572 - accuracy: 0.4720 - val_loss: 5.9019 - val_accuracy: 0.2133\n",
            "Epoch 53/180\n",
            "71/71 [==============================] - 1s 11ms/step - loss: 5.0084 - accuracy: 0.4853 - val_loss: 5.9776 - val_accuracy: 0.2133\n",
            "Epoch 54/180\n",
            "71/71 [==============================] - 1s 11ms/step - loss: 4.6699 - accuracy: 0.4947 - val_loss: 5.9684 - val_accuracy: 0.2267\n",
            "Epoch 55/180\n",
            "71/71 [==============================] - 1s 11ms/step - loss: 4.9235 - accuracy: 0.4942 - val_loss: 6.0071 - val_accuracy: 0.2133\n",
            "Epoch 56/180\n",
            "71/71 [==============================] - 1s 11ms/step - loss: 4.5856 - accuracy: 0.5062 - val_loss: 5.9618 - val_accuracy: 0.2100\n",
            "Epoch 57/180\n",
            "71/71 [==============================] - 1s 11ms/step - loss: 4.3903 - accuracy: 0.5218 - val_loss: 5.9671 - val_accuracy: 0.2267\n",
            "Epoch 58/180\n",
            "71/71 [==============================] - 1s 11ms/step - loss: 4.2314 - accuracy: 0.5387 - val_loss: 6.1605 - val_accuracy: 0.2167\n",
            "Epoch 59/180\n",
            "71/71 [==============================] - 1s 11ms/step - loss: 4.1328 - accuracy: 0.5413 - val_loss: 6.0900 - val_accuracy: 0.2133\n",
            "Epoch 60/180\n",
            "71/71 [==============================] - 1s 11ms/step - loss: 3.9536 - accuracy: 0.5724 - val_loss: 6.0970 - val_accuracy: 0.2067\n",
            "Epoch 61/180\n",
            "71/71 [==============================] - 1s 11ms/step - loss: 3.8257 - accuracy: 0.5564 - val_loss: 6.0967 - val_accuracy: 0.2200\n",
            "Epoch 62/180\n",
            "71/71 [==============================] - 1s 11ms/step - loss: 3.3775 - accuracy: 0.5907 - val_loss: 6.0657 - val_accuracy: 0.2100\n",
            "Epoch 63/180\n",
            "71/71 [==============================] - 1s 11ms/step - loss: 3.4559 - accuracy: 0.5907 - val_loss: 5.9927 - val_accuracy: 0.2133\n",
            "Epoch 64/180\n",
            "71/71 [==============================] - 1s 11ms/step - loss: 3.3490 - accuracy: 0.6040 - val_loss: 5.8060 - val_accuracy: 0.2200\n",
            "Epoch 65/180\n",
            "71/71 [==============================] - 1s 12ms/step - loss: 3.2541 - accuracy: 0.5907 - val_loss: 5.8845 - val_accuracy: 0.2100\n",
            "Epoch 66/180\n",
            "71/71 [==============================] - 1s 11ms/step - loss: 3.0706 - accuracy: 0.6289 - val_loss: 5.9244 - val_accuracy: 0.2100\n",
            "Epoch 67/180\n",
            "71/71 [==============================] - 1s 11ms/step - loss: 2.9473 - accuracy: 0.6204 - val_loss: 5.8905 - val_accuracy: 0.2067\n",
            "Epoch 68/180\n",
            "71/71 [==============================] - 1s 11ms/step - loss: 2.8347 - accuracy: 0.6547 - val_loss: 5.8478 - val_accuracy: 0.2133\n",
            "Epoch 69/180\n",
            "71/71 [==============================] - 1s 11ms/step - loss: 2.8361 - accuracy: 0.6360 - val_loss: 5.9996 - val_accuracy: 0.2300\n",
            "Epoch 70/180\n",
            "71/71 [==============================] - 1s 11ms/step - loss: 2.6212 - accuracy: 0.6502 - val_loss: 5.9801 - val_accuracy: 0.2367\n",
            "Epoch 71/180\n",
            "71/71 [==============================] - 1s 11ms/step - loss: 2.4630 - accuracy: 0.6658 - val_loss: 5.8343 - val_accuracy: 0.2300\n",
            "Epoch 72/180\n",
            "71/71 [==============================] - 1s 12ms/step - loss: 2.4458 - accuracy: 0.6804 - val_loss: 5.9020 - val_accuracy: 0.2200\n",
            "Epoch 73/180\n",
            "71/71 [==============================] - 1s 11ms/step - loss: 2.3417 - accuracy: 0.6893 - val_loss: 5.8370 - val_accuracy: 0.2300\n",
            "Epoch 74/180\n",
            "71/71 [==============================] - 1s 11ms/step - loss: 2.2392 - accuracy: 0.6907 - val_loss: 5.9477 - val_accuracy: 0.2267\n",
            "Epoch 75/180\n",
            "71/71 [==============================] - 1s 11ms/step - loss: 2.2204 - accuracy: 0.6791 - val_loss: 5.9189 - val_accuracy: 0.2300\n",
            "Epoch 76/180\n",
            "71/71 [==============================] - 1s 11ms/step - loss: 2.1294 - accuracy: 0.6929 - val_loss: 5.8056 - val_accuracy: 0.2400\n",
            "Epoch 77/180\n",
            "71/71 [==============================] - 1s 11ms/step - loss: 2.0588 - accuracy: 0.7067 - val_loss: 5.9281 - val_accuracy: 0.2267\n",
            "Epoch 78/180\n",
            "71/71 [==============================] - 1s 11ms/step - loss: 1.9352 - accuracy: 0.7124 - val_loss: 5.9144 - val_accuracy: 0.2133\n",
            "Epoch 79/180\n",
            "71/71 [==============================] - 1s 12ms/step - loss: 1.8663 - accuracy: 0.7289 - val_loss: 5.8638 - val_accuracy: 0.2100\n",
            "Epoch 80/180\n",
            "71/71 [==============================] - 1s 11ms/step - loss: 1.8331 - accuracy: 0.7324 - val_loss: 5.8644 - val_accuracy: 0.2233\n",
            "Epoch 81/180\n",
            "71/71 [==============================] - 1s 11ms/step - loss: 1.7927 - accuracy: 0.7391 - val_loss: 5.9787 - val_accuracy: 0.2333\n",
            "Epoch 82/180\n",
            "71/71 [==============================] - 1s 11ms/step - loss: 1.7450 - accuracy: 0.7382 - val_loss: 5.9231 - val_accuracy: 0.2333\n",
            "Epoch 83/180\n",
            "71/71 [==============================] - 1s 11ms/step - loss: 1.7120 - accuracy: 0.7502 - val_loss: 5.9214 - val_accuracy: 0.2367\n",
            "Epoch 84/180\n",
            "71/71 [==============================] - 1s 11ms/step - loss: 1.8089 - accuracy: 0.7293 - val_loss: 5.9130 - val_accuracy: 0.2333\n",
            "Epoch 85/180\n",
            "71/71 [==============================] - 1s 11ms/step - loss: 1.6545 - accuracy: 0.7489 - val_loss: 5.8542 - val_accuracy: 0.2200\n",
            "Epoch 86/180\n",
            "71/71 [==============================] - 1s 12ms/step - loss: 1.4464 - accuracy: 0.7720 - val_loss: 5.7992 - val_accuracy: 0.2400\n",
            "Epoch 87/180\n",
            "71/71 [==============================] - 1s 11ms/step - loss: 1.6000 - accuracy: 0.7578 - val_loss: 5.7090 - val_accuracy: 0.2267\n",
            "Epoch 88/180\n",
            "71/71 [==============================] - 1s 11ms/step - loss: 1.4992 - accuracy: 0.7738 - val_loss: 5.7194 - val_accuracy: 0.2333\n",
            "Epoch 89/180\n",
            "71/71 [==============================] - 1s 11ms/step - loss: 1.3346 - accuracy: 0.7836 - val_loss: 5.7662 - val_accuracy: 0.2333\n",
            "Epoch 90/180\n",
            "71/71 [==============================] - 1s 11ms/step - loss: 1.4419 - accuracy: 0.7813 - val_loss: 5.7636 - val_accuracy: 0.2300\n",
            "Epoch 91/180\n",
            "71/71 [==============================] - 1s 11ms/step - loss: 1.3655 - accuracy: 0.7822 - val_loss: 5.8306 - val_accuracy: 0.2400\n",
            "Epoch 92/180\n",
            "71/71 [==============================] - 1s 12ms/step - loss: 1.2570 - accuracy: 0.8009 - val_loss: 5.9365 - val_accuracy: 0.2400\n",
            "Epoch 93/180\n",
            "71/71 [==============================] - 1s 11ms/step - loss: 1.2225 - accuracy: 0.8027 - val_loss: 5.9238 - val_accuracy: 0.2367\n",
            "Epoch 94/180\n",
            "71/71 [==============================] - 1s 11ms/step - loss: 1.2491 - accuracy: 0.7964 - val_loss: 5.8900 - val_accuracy: 0.2300\n",
            "Epoch 95/180\n",
            "71/71 [==============================] - 1s 11ms/step - loss: 1.1102 - accuracy: 0.8156 - val_loss: 5.9243 - val_accuracy: 0.2267\n",
            "Epoch 96/180\n",
            "71/71 [==============================] - 1s 11ms/step - loss: 1.1580 - accuracy: 0.8200 - val_loss: 5.7514 - val_accuracy: 0.2400\n",
            "Epoch 97/180\n",
            "71/71 [==============================] - 1s 11ms/step - loss: 1.0530 - accuracy: 0.8178 - val_loss: 5.7751 - val_accuracy: 0.2167\n",
            "Epoch 98/180\n",
            "71/71 [==============================] - 1s 11ms/step - loss: 1.0233 - accuracy: 0.8307 - val_loss: 5.8033 - val_accuracy: 0.2300\n",
            "Epoch 99/180\n",
            "71/71 [==============================] - 1s 11ms/step - loss: 1.0923 - accuracy: 0.8089 - val_loss: 5.7761 - val_accuracy: 0.2033\n",
            "Epoch 100/180\n",
            "71/71 [==============================] - 1s 11ms/step - loss: 1.1137 - accuracy: 0.8182 - val_loss: 5.8080 - val_accuracy: 0.2200\n",
            "Epoch 101/180\n",
            "71/71 [==============================] - 1s 11ms/step - loss: 1.1060 - accuracy: 0.8191 - val_loss: 5.7911 - val_accuracy: 0.2100\n",
            "Epoch 102/180\n",
            "71/71 [==============================] - 1s 11ms/step - loss: 0.8504 - accuracy: 0.8444 - val_loss: 5.7197 - val_accuracy: 0.2200\n",
            "Epoch 103/180\n",
            "71/71 [==============================] - 1s 11ms/step - loss: 0.9220 - accuracy: 0.8400 - val_loss: 5.8093 - val_accuracy: 0.2167\n",
            "Epoch 104/180\n",
            "71/71 [==============================] - 1s 11ms/step - loss: 0.9734 - accuracy: 0.8369 - val_loss: 5.9147 - val_accuracy: 0.2133\n",
            "Epoch 105/180\n",
            "71/71 [==============================] - 1s 12ms/step - loss: 0.8982 - accuracy: 0.8418 - val_loss: 6.0709 - val_accuracy: 0.2233\n",
            "Epoch 106/180\n",
            "71/71 [==============================] - 1s 11ms/step - loss: 0.9296 - accuracy: 0.8400 - val_loss: 6.0356 - val_accuracy: 0.2167\n",
            "Epoch 107/180\n",
            "71/71 [==============================] - 1s 11ms/step - loss: 0.7723 - accuracy: 0.8587 - val_loss: 6.0901 - val_accuracy: 0.2300\n",
            "Epoch 108/180\n",
            "71/71 [==============================] - 1s 11ms/step - loss: 0.7899 - accuracy: 0.8427 - val_loss: 5.9704 - val_accuracy: 0.2067\n",
            "Epoch 109/180\n",
            "71/71 [==============================] - 1s 11ms/step - loss: 0.7103 - accuracy: 0.8658 - val_loss: 5.9111 - val_accuracy: 0.2167\n",
            "Epoch 110/180\n",
            "71/71 [==============================] - 1s 11ms/step - loss: 0.7001 - accuracy: 0.8636 - val_loss: 5.8243 - val_accuracy: 0.2100\n",
            "Epoch 111/180\n",
            "71/71 [==============================] - 1s 12ms/step - loss: 0.7345 - accuracy: 0.8733 - val_loss: 5.9482 - val_accuracy: 0.2233\n",
            "Epoch 112/180\n",
            "71/71 [==============================] - 1s 12ms/step - loss: 0.6645 - accuracy: 0.8796 - val_loss: 6.0355 - val_accuracy: 0.2000\n",
            "Epoch 113/180\n",
            "71/71 [==============================] - 1s 11ms/step - loss: 0.7063 - accuracy: 0.8716 - val_loss: 5.9725 - val_accuracy: 0.2067\n",
            "Epoch 114/180\n",
            "71/71 [==============================] - 1s 12ms/step - loss: 0.7664 - accuracy: 0.8578 - val_loss: 5.8354 - val_accuracy: 0.2200\n",
            "Epoch 115/180\n",
            "71/71 [==============================] - 1s 11ms/step - loss: 0.7365 - accuracy: 0.8751 - val_loss: 5.8376 - val_accuracy: 0.2167\n",
            "Epoch 116/180\n",
            "71/71 [==============================] - 1s 11ms/step - loss: 0.6971 - accuracy: 0.8724 - val_loss: 5.8160 - val_accuracy: 0.2200\n",
            "Epoch 117/180\n",
            "71/71 [==============================] - 1s 12ms/step - loss: 0.6742 - accuracy: 0.8702 - val_loss: 5.9770 - val_accuracy: 0.2033\n",
            "Epoch 118/180\n",
            "71/71 [==============================] - 1s 11ms/step - loss: 0.7189 - accuracy: 0.8844 - val_loss: 6.1639 - val_accuracy: 0.2233\n",
            "Epoch 119/180\n",
            "71/71 [==============================] - 1s 12ms/step - loss: 0.6446 - accuracy: 0.8862 - val_loss: 6.0229 - val_accuracy: 0.2333\n",
            "Epoch 120/180\n",
            "71/71 [==============================] - 1s 11ms/step - loss: 0.5913 - accuracy: 0.8876 - val_loss: 6.0287 - val_accuracy: 0.2267\n",
            "Epoch 121/180\n",
            "71/71 [==============================] - 1s 11ms/step - loss: 0.6621 - accuracy: 0.8871 - val_loss: 6.0496 - val_accuracy: 0.2467\n",
            "Epoch 122/180\n",
            "71/71 [==============================] - 1s 11ms/step - loss: 0.6396 - accuracy: 0.8884 - val_loss: 5.9033 - val_accuracy: 0.2167\n",
            "Epoch 123/180\n",
            "71/71 [==============================] - 1s 11ms/step - loss: 0.6033 - accuracy: 0.8867 - val_loss: 5.9946 - val_accuracy: 0.2400\n",
            "Epoch 124/180\n",
            "71/71 [==============================] - 1s 11ms/step - loss: 0.5556 - accuracy: 0.8933 - val_loss: 6.0141 - val_accuracy: 0.2167\n",
            "Epoch 125/180\n",
            "71/71 [==============================] - 1s 11ms/step - loss: 0.5162 - accuracy: 0.9000 - val_loss: 5.9905 - val_accuracy: 0.2300\n",
            "Epoch 126/180\n",
            "71/71 [==============================] - 1s 11ms/step - loss: 0.5981 - accuracy: 0.8893 - val_loss: 5.8769 - val_accuracy: 0.2267\n",
            "Epoch 127/180\n",
            "71/71 [==============================] - 1s 11ms/step - loss: 0.5103 - accuracy: 0.9067 - val_loss: 5.9855 - val_accuracy: 0.2033\n",
            "Epoch 128/180\n",
            "71/71 [==============================] - 1s 12ms/step - loss: 0.4726 - accuracy: 0.9009 - val_loss: 5.9705 - val_accuracy: 0.2200\n",
            "Epoch 129/180\n",
            "71/71 [==============================] - 1s 12ms/step - loss: 0.5796 - accuracy: 0.8916 - val_loss: 6.0178 - val_accuracy: 0.2200\n",
            "Epoch 130/180\n",
            "71/71 [==============================] - 1s 12ms/step - loss: 0.5079 - accuracy: 0.9009 - val_loss: 5.9729 - val_accuracy: 0.2200\n",
            "Epoch 131/180\n",
            "71/71 [==============================] - 1s 11ms/step - loss: 0.4804 - accuracy: 0.9058 - val_loss: 5.8979 - val_accuracy: 0.2200\n",
            "Epoch 132/180\n",
            "71/71 [==============================] - 1s 11ms/step - loss: 0.5309 - accuracy: 0.9040 - val_loss: 5.9917 - val_accuracy: 0.2133\n",
            "Epoch 133/180\n",
            "71/71 [==============================] - 1s 11ms/step - loss: 0.4919 - accuracy: 0.9107 - val_loss: 6.0188 - val_accuracy: 0.2167\n",
            "Epoch 134/180\n",
            "71/71 [==============================] - 1s 11ms/step - loss: 0.4710 - accuracy: 0.9067 - val_loss: 6.1009 - val_accuracy: 0.2233\n",
            "Epoch 135/180\n",
            "71/71 [==============================] - 1s 11ms/step - loss: 0.5268 - accuracy: 0.8987 - val_loss: 5.9665 - val_accuracy: 0.2300\n",
            "Epoch 136/180\n",
            "71/71 [==============================] - 1s 11ms/step - loss: 0.4627 - accuracy: 0.9076 - val_loss: 6.0486 - val_accuracy: 0.2067\n",
            "Epoch 137/180\n",
            "71/71 [==============================] - 1s 12ms/step - loss: 0.5145 - accuracy: 0.9116 - val_loss: 6.0412 - val_accuracy: 0.2267\n",
            "Epoch 138/180\n",
            "71/71 [==============================] - 1s 12ms/step - loss: 0.4176 - accuracy: 0.9102 - val_loss: 6.0655 - val_accuracy: 0.2200\n",
            "Epoch 139/180\n",
            "71/71 [==============================] - 1s 11ms/step - loss: 0.3783 - accuracy: 0.9240 - val_loss: 6.1226 - val_accuracy: 0.2200\n",
            "Epoch 140/180\n",
            "71/71 [==============================] - 1s 11ms/step - loss: 0.4918 - accuracy: 0.9098 - val_loss: 6.1164 - val_accuracy: 0.2233\n",
            "Epoch 141/180\n",
            "71/71 [==============================] - 1s 11ms/step - loss: 0.3830 - accuracy: 0.9284 - val_loss: 6.0381 - val_accuracy: 0.2200\n",
            "Epoch 142/180\n",
            "71/71 [==============================] - 1s 11ms/step - loss: 0.4554 - accuracy: 0.9098 - val_loss: 6.0853 - val_accuracy: 0.2200\n",
            "Epoch 143/180\n",
            "71/71 [==============================] - 1s 12ms/step - loss: 0.4457 - accuracy: 0.9156 - val_loss: 6.0541 - val_accuracy: 0.2233\n",
            "Epoch 144/180\n",
            "71/71 [==============================] - 1s 12ms/step - loss: 0.4207 - accuracy: 0.9200 - val_loss: 6.0396 - val_accuracy: 0.2367\n",
            "Epoch 145/180\n",
            "71/71 [==============================] - 1s 11ms/step - loss: 0.4217 - accuracy: 0.9253 - val_loss: 5.9232 - val_accuracy: 0.2367\n",
            "Epoch 146/180\n",
            "71/71 [==============================] - 1s 11ms/step - loss: 0.3889 - accuracy: 0.9253 - val_loss: 5.9650 - val_accuracy: 0.2467\n",
            "Epoch 147/180\n",
            "71/71 [==============================] - 1s 12ms/step - loss: 0.3782 - accuracy: 0.9213 - val_loss: 5.8747 - val_accuracy: 0.2500\n",
            "Epoch 148/180\n",
            "71/71 [==============================] - 1s 12ms/step - loss: 0.3841 - accuracy: 0.9329 - val_loss: 5.8350 - val_accuracy: 0.2400\n",
            "Epoch 149/180\n",
            "71/71 [==============================] - 1s 11ms/step - loss: 0.3764 - accuracy: 0.9293 - val_loss: 5.8807 - val_accuracy: 0.2200\n",
            "Epoch 150/180\n",
            "71/71 [==============================] - 1s 12ms/step - loss: 0.3954 - accuracy: 0.9227 - val_loss: 5.9658 - val_accuracy: 0.2500\n",
            "Epoch 151/180\n",
            "71/71 [==============================] - 1s 11ms/step - loss: 0.4133 - accuracy: 0.9262 - val_loss: 6.0088 - val_accuracy: 0.2433\n",
            "Epoch 152/180\n",
            "71/71 [==============================] - 1s 11ms/step - loss: 0.3442 - accuracy: 0.9320 - val_loss: 5.9599 - val_accuracy: 0.2433\n",
            "Epoch 153/180\n",
            "71/71 [==============================] - 1s 11ms/step - loss: 0.3833 - accuracy: 0.9231 - val_loss: 6.0236 - val_accuracy: 0.2400\n",
            "Epoch 154/180\n",
            "71/71 [==============================] - 1s 11ms/step - loss: 0.4071 - accuracy: 0.9236 - val_loss: 6.0707 - val_accuracy: 0.2367\n",
            "Epoch 155/180\n",
            "71/71 [==============================] - 1s 11ms/step - loss: 0.3056 - accuracy: 0.9373 - val_loss: 6.1734 - val_accuracy: 0.2233\n",
            "Epoch 156/180\n",
            "71/71 [==============================] - 1s 11ms/step - loss: 0.2567 - accuracy: 0.9462 - val_loss: 6.1270 - val_accuracy: 0.2300\n",
            "Epoch 157/180\n",
            "71/71 [==============================] - 1s 11ms/step - loss: 0.3306 - accuracy: 0.9373 - val_loss: 6.0526 - val_accuracy: 0.2300\n",
            "Epoch 158/180\n",
            "71/71 [==============================] - 1s 12ms/step - loss: 0.3196 - accuracy: 0.9356 - val_loss: 6.0660 - val_accuracy: 0.2300\n",
            "Epoch 159/180\n",
            "71/71 [==============================] - 1s 11ms/step - loss: 0.3414 - accuracy: 0.9356 - val_loss: 6.1261 - val_accuracy: 0.2433\n",
            "Epoch 160/180\n",
            "71/71 [==============================] - 1s 12ms/step - loss: 0.3323 - accuracy: 0.9364 - val_loss: 6.1889 - val_accuracy: 0.2333\n",
            "Epoch 161/180\n",
            "71/71 [==============================] - 1s 11ms/step - loss: 0.3042 - accuracy: 0.9404 - val_loss: 6.0987 - val_accuracy: 0.2400\n",
            "Epoch 162/180\n",
            "71/71 [==============================] - 1s 11ms/step - loss: 0.3050 - accuracy: 0.9373 - val_loss: 6.1434 - val_accuracy: 0.2433\n",
            "Epoch 163/180\n",
            "71/71 [==============================] - 1s 12ms/step - loss: 0.3300 - accuracy: 0.9320 - val_loss: 6.2789 - val_accuracy: 0.2300\n",
            "Epoch 164/180\n",
            "71/71 [==============================] - 1s 11ms/step - loss: 0.2936 - accuracy: 0.9378 - val_loss: 6.2584 - val_accuracy: 0.2367\n",
            "Epoch 165/180\n",
            "71/71 [==============================] - 1s 12ms/step - loss: 0.2737 - accuracy: 0.9453 - val_loss: 6.2135 - val_accuracy: 0.2300\n",
            "Epoch 166/180\n",
            "71/71 [==============================] - 1s 11ms/step - loss: 0.2398 - accuracy: 0.9480 - val_loss: 6.2143 - val_accuracy: 0.2367\n",
            "Epoch 167/180\n",
            "71/71 [==============================] - 1s 11ms/step - loss: 0.2827 - accuracy: 0.9476 - val_loss: 6.2651 - val_accuracy: 0.2333\n",
            "Epoch 168/180\n",
            "71/71 [==============================] - 1s 12ms/step - loss: 0.3095 - accuracy: 0.9418 - val_loss: 6.1517 - val_accuracy: 0.2167\n",
            "Epoch 169/180\n",
            "71/71 [==============================] - 1s 12ms/step - loss: 0.2616 - accuracy: 0.9440 - val_loss: 6.1332 - val_accuracy: 0.2500\n",
            "Epoch 170/180\n",
            "71/71 [==============================] - 1s 11ms/step - loss: 0.2788 - accuracy: 0.9413 - val_loss: 6.2061 - val_accuracy: 0.2433\n",
            "Epoch 171/180\n",
            "71/71 [==============================] - 1s 12ms/step - loss: 0.2622 - accuracy: 0.9440 - val_loss: 6.2562 - val_accuracy: 0.2267\n",
            "Epoch 172/180\n",
            "71/71 [==============================] - 1s 11ms/step - loss: 0.2875 - accuracy: 0.9444 - val_loss: 6.1968 - val_accuracy: 0.2367\n",
            "Epoch 173/180\n",
            "71/71 [==============================] - 1s 12ms/step - loss: 0.2708 - accuracy: 0.9444 - val_loss: 6.2838 - val_accuracy: 0.2133\n",
            "Epoch 174/180\n",
            "71/71 [==============================] - 1s 11ms/step - loss: 0.2400 - accuracy: 0.9556 - val_loss: 6.2930 - val_accuracy: 0.2467\n",
            "Epoch 175/180\n",
            "71/71 [==============================] - 1s 12ms/step - loss: 0.2932 - accuracy: 0.9422 - val_loss: 6.1402 - val_accuracy: 0.2433\n",
            "Epoch 176/180\n",
            "71/71 [==============================] - 1s 11ms/step - loss: 0.2481 - accuracy: 0.9489 - val_loss: 6.2261 - val_accuracy: 0.2300\n",
            "Epoch 177/180\n",
            "71/71 [==============================] - 1s 12ms/step - loss: 0.2276 - accuracy: 0.9507 - val_loss: 6.2534 - val_accuracy: 0.2233\n",
            "Epoch 178/180\n",
            "71/71 [==============================] - 1s 12ms/step - loss: 0.2434 - accuracy: 0.9560 - val_loss: 6.4027 - val_accuracy: 0.2333\n",
            "Epoch 179/180\n",
            "71/71 [==============================] - 1s 11ms/step - loss: 0.2251 - accuracy: 0.9547 - val_loss: 6.2522 - val_accuracy: 0.2300\n",
            "Epoch 180/180\n",
            "71/71 [==============================] - 1s 11ms/step - loss: 0.2422 - accuracy: 0.9436 - val_loss: 6.3848 - val_accuracy: 0.2333\n"
          ]
        }
      ]
    },
    {
      "cell_type": "code",
      "metadata": {
        "colab": {
          "base_uri": "https://localhost:8080/",
          "height": 435
        },
        "id": "pMBMXPgy--9S",
        "outputId": "93431dc0-da18-45bf-8a53-4c88fc7a07c6"
      },
      "source": [
        "#Plots\n",
        "acc_plots(history, iterations)"
      ],
      "execution_count": 23,
      "outputs": [
        {
          "output_type": "display_data",
          "data": {
            "image/png": "[encoded data removed]",
            "text/plain": [
              "<Figure size 1080x1080 with 2 Axes>"
            ]
          },
          "metadata": {}
        }
      ]
    },
    {
      "cell_type": "code",
      "metadata": {
        "colab": {
          "base_uri": "https://localhost:8080/"
        },
        "id": "A7sVGFjb_DdS",
        "outputId": "474d715f-aaa6-457d-8d0d-1ccda28a0226"
      },
      "source": [
        "#Results\n",
        "acc_results(model, labels, x_test, y_test)"
      ],
      "execution_count": 24,
      "outputs": [
        {
          "output_type": "stream",
          "name": "stdout",
          "text": [
            "                    precision    recall  f1-score   support\n",
            "\n",
            "            Buddha       0.29      0.10      0.15        20\n",
            "            Garuda       0.44      0.60      0.51        20\n",
            "     Goddess_Durga       0.00      0.00      0.00        20\n",
            "   Goddess_Lakshmi       0.38      0.15      0.21        20\n",
            "Goddess_Saraswathi       0.00      0.00      0.00        20\n",
            "       Lord_Ganesh       0.05      0.05      0.05        20\n",
            "      Lord_Hanuman       0.10      0.10      0.10        20\n",
            "    Lord_Hayagriva       0.16      0.15      0.15        20\n",
            "        Lord_Indra       0.44      1.00      0.62        20\n",
            "      Lord_Krishna       0.05      0.05      0.05        20\n",
            "       Lord_Muruga       0.08      0.05      0.06        20\n",
            "             Nandi       0.17      0.25      0.20        20\n",
            "           Nataraj       0.37      0.50      0.43        20\n",
            "   Shirdi_Sai_Baba       0.17      0.20      0.19        20\n",
            "          Shivling       0.43      0.30      0.35        20\n",
            "\n",
            "          accuracy                           0.23       300\n",
            "         macro avg       0.21      0.23      0.20       300\n",
            "      weighted avg       0.21      0.23      0.20       300\n",
            "\n",
            "\n",
            "Accuracy = 23.333333333333332%\n"
          ]
        }
      ]
    },
    {
      "cell_type": "markdown",
      "metadata": {
        "id": "lYyGyFyM_FAo"
      },
      "source": [
        "#### **Result: For learning rate = 1*10^(-5) and 180 iterations, the accuracy obtained was 23.34%(approx).**"
      ]
    }
  ]
}