{
  "nbformat": 4,
  "nbformat_minor": 0,
  "metadata": {
    "accelerator": "GPU",
    "colab": {
      "name": "SIFT_ANN_MIN_KEY_Test_run_1_lr_1e(_5)_epochs_180_acc_26_34.ipynb",
      "provenance": [],
      "collapsed_sections": []
    },
    "kernelspec": {
      "display_name": "Python 3",
      "name": "python3"
    },
    "language_info": {
      "name": "python"
    }
  },
  "cells": [
    {
      "cell_type": "markdown",
      "metadata": {
        "id": "xkfpI5lL8ofl"
      },
      "source": [
        "## **SIFT + ANN (Min_Keypoints approach)**\n",
        "#### **lr=1*10^(-5), epochs=180, Accuracy = 26.34% (approx)**\n",
        "#### **Test run - 1**"
      ]
    },
    {
      "cell_type": "markdown",
      "metadata": {
        "id": "5AVHk6bP8110"
      },
      "source": [
        "#### **Aim: To find the accuracy of the model for the given learning rate and epoch value.**"
      ]
    },
    {
      "cell_type": "markdown",
      "metadata": {
        "id": "xaufx6N9PNMd"
      },
      "source": [
        "#### **For mounting drive**"
      ]
    },
    {
      "cell_type": "code",
      "metadata": {
        "colab": {
          "base_uri": "https://localhost:8080/"
        },
        "id": "LoT75uFsDMt3",
        "outputId": "488267d1-2067-4575-bd8e-1f168deb9af6"
      },
      "source": [
        "#For mounting GDrive\n",
        "from google.colab import drive\n",
        "drive.mount('/content/drive')"
      ],
      "execution_count": 1,
      "outputs": [
        {
          "output_type": "stream",
          "name": "stdout",
          "text": [
            "Drive already mounted at /content/drive; to attempt to forcibly remount, call drive.mount(\"/content/drive\", force_remount=True).\n"
          ]
        }
      ]
    },
    {
      "cell_type": "markdown",
      "metadata": {
        "id": "hsXW3CzQ9KWG"
      },
      "source": [
        "#### **Required modules**"
      ]
    },
    {
      "cell_type": "code",
      "metadata": {
        "colab": {
          "base_uri": "https://localhost:8080/"
        },
        "id": "K08YLlNJhfSU",
        "outputId": "6b79383e-de3a-403f-8250-408eb79c089c"
      },
      "source": [
        "#Req. opencv 4.5+\n",
        "!pip uninstall opencv-python\n",
        "!pip install opencv-python"
      ],
      "execution_count": 2,
      "outputs": [
        {
          "output_type": "stream",
          "name": "stdout",
          "text": [
            "Found existing installation: opencv-python 4.5.4.60\n",
            "Uninstalling opencv-python-4.5.4.60:\n",
            "  Would remove:\n",
            "    /usr/local/lib/python3.7/dist-packages/cv2/*\n",
            "    /usr/local/lib/python3.7/dist-packages/opencv_python-4.5.4.60.dist-info/*\n",
            "    /usr/local/lib/python3.7/dist-packages/opencv_python.libs/libQt5Core-39545cc7.so.5.15.0\n",
            "    /usr/local/lib/python3.7/dist-packages/opencv_python.libs/libQt5Gui-ba0a2070.so.5.15.0\n",
            "    /usr/local/lib/python3.7/dist-packages/opencv_python.libs/libQt5Test-c38a5234.so.5.15.0\n",
            "    /usr/local/lib/python3.7/dist-packages/opencv_python.libs/libQt5Widgets-e69d94fb.so.5.15.0\n",
            "    /usr/local/lib/python3.7/dist-packages/opencv_python.libs/libQt5XcbQpa-ca221f44.so.5.15.0\n",
            "    /usr/local/lib/python3.7/dist-packages/opencv_python.libs/libX11-xcb-69166bdf.so.1.0.0\n",
            "    /usr/local/lib/python3.7/dist-packages/opencv_python.libs/libXau-00ec42fe.so.6.0.0\n",
            "    /usr/local/lib/python3.7/dist-packages/opencv_python.libs/libavcodec-64ac49e1.so.58.91.100\n",
            "    /usr/local/lib/python3.7/dist-packages/opencv_python.libs/libavformat-4b79e479.so.58.45.100\n",
            "    /usr/local/lib/python3.7/dist-packages/opencv_python.libs/libavutil-805734e8.so.56.51.100\n",
            "    /usr/local/lib/python3.7/dist-packages/opencv_python.libs/libbz2-a273e504.so.1.0.6\n",
            "    /usr/local/lib/python3.7/dist-packages/opencv_python.libs/libcrypto-018b8c17.so.1.1\n",
            "    /usr/local/lib/python3.7/dist-packages/opencv_python.libs/libfreetype-c0e61f0c.so.6.14.0\n",
            "    /usr/local/lib/python3.7/dist-packages/opencv_python.libs/libgfortran-91cc3cb1.so.3.0.0\n",
            "    /usr/local/lib/python3.7/dist-packages/opencv_python.libs/libopenblas-r0-f650aae0.3.3.so\n",
            "    /usr/local/lib/python3.7/dist-packages/opencv_python.libs/libpng15-ce838cd1.so.15.13.0\n",
            "    /usr/local/lib/python3.7/dist-packages/opencv_python.libs/libquadmath-96973f99.so.0.0.0\n",
            "    /usr/local/lib/python3.7/dist-packages/opencv_python.libs/libssl-6082116c.so.1.1\n",
            "    /usr/local/lib/python3.7/dist-packages/opencv_python.libs/libswresample-83ce3247.so.3.7.100\n",
            "    /usr/local/lib/python3.7/dist-packages/opencv_python.libs/libswscale-7e960168.so.5.7.100\n",
            "    /usr/local/lib/python3.7/dist-packages/opencv_python.libs/libvpx-392cd848.so.6.4.0\n",
            "    /usr/local/lib/python3.7/dist-packages/opencv_python.libs/libxcb-icccm-413c9f41.so.4.0.0\n",
            "    /usr/local/lib/python3.7/dist-packages/opencv_python.libs/libxcb-image-e82a276d.so.0.0.0\n",
            "    /usr/local/lib/python3.7/dist-packages/opencv_python.libs/libxcb-keysyms-21015570.so.1.0.0\n",
            "    /usr/local/lib/python3.7/dist-packages/opencv_python.libs/libxcb-randr-a96a5a87.so.0.1.0\n",
            "    /usr/local/lib/python3.7/dist-packages/opencv_python.libs/libxcb-render-637b984a.so.0.0.0\n",
            "    /usr/local/lib/python3.7/dist-packages/opencv_python.libs/libxcb-render-util-43ce00f5.so.0.0.0\n",
            "    /usr/local/lib/python3.7/dist-packages/opencv_python.libs/libxcb-shape-25c2b258.so.0.0.0\n",
            "    /usr/local/lib/python3.7/dist-packages/opencv_python.libs/libxcb-shm-7a199f70.so.0.0.0\n",
            "    /usr/local/lib/python3.7/dist-packages/opencv_python.libs/libxcb-sync-89374f40.so.1.0.0\n",
            "    /usr/local/lib/python3.7/dist-packages/opencv_python.libs/libxcb-util-4d666913.so.1.0.0\n",
            "    /usr/local/lib/python3.7/dist-packages/opencv_python.libs/libxcb-xfixes-9be3ba6f.so.0.0.0\n",
            "    /usr/local/lib/python3.7/dist-packages/opencv_python.libs/libxcb-xinerama-ae147f87.so.0.0.0\n",
            "    /usr/local/lib/python3.7/dist-packages/opencv_python.libs/libxcb-xkb-9ba31ab3.so.1.0.0\n",
            "    /usr/local/lib/python3.7/dist-packages/opencv_python.libs/libxkbcommon-71ae2972.so.0.0.0\n",
            "    /usr/local/lib/python3.7/dist-packages/opencv_python.libs/libxkbcommon-x11-c65ed502.so.0.0.0\n",
            "Proceed (y/n)? y\n",
            "  Successfully uninstalled opencv-python-4.5.4.60\n",
            "Collecting opencv-python\n",
            "  Using cached opencv_python-4.5.4.60-cp37-cp37m-manylinux_2_17_x86_64.manylinux2014_x86_64.whl (60.3 MB)\n",
            "Requirement already satisfied: numpy>=1.14.5 in /usr/local/lib/python3.7/dist-packages (from opencv-python) (1.19.5)\n",
            "Installing collected packages: opencv-python\n",
            "\u001b[31mERROR: pip's dependency resolver does not currently take into account all the packages that are installed. This behaviour is the source of the following dependency conflicts.\n",
            "albumentations 0.1.12 requires imgaug<0.2.7,>=0.2.5, but you have imgaug 0.2.9 which is incompatible.\u001b[0m\n",
            "Successfully installed opencv-python-4.5.4.60\n"
          ]
        }
      ]
    },
    {
      "cell_type": "code",
      "metadata": {
        "id": "__cYeeQF8IEn"
      },
      "source": [
        "#Importing necessary libraries\n",
        "from zipfile import ZipFile\n",
        "from tensorflow.python.client import device_lib\n",
        "import platform\n",
        "import matplotlib.pyplot as plt\n",
        "import seaborn as sns\n",
        "from tensorflow.keras.models import Sequential\n",
        "from tensorflow.keras.layers import Dense, Flatten, Dropout\n",
        "from tensorflow.keras.optimizers import Adam\n",
        "from sklearn.metrics import classification_report, accuracy_score\n",
        "import tensorflow as tf\n",
        "import cv2\n",
        "import os\n",
        "import sys\n",
        "import numpy as np\n",
        "import random"
      ],
      "execution_count": 3,
      "outputs": []
    },
    {
      "cell_type": "markdown",
      "metadata": {
        "id": "lAtfR4ri9T-G"
      },
      "source": [
        "#### **Functions definition**"
      ]
    },
    {
      "cell_type": "code",
      "metadata": {
        "id": "4TAGvB5o8ns-"
      },
      "source": [
        "def extract_zip(file_name = \"drive/MyDrive/Dataset_test_1.zip\"):\n",
        "    with ZipFile(file_name, \"r\") as zip:\n",
        "        zip.extractall()\n",
        "        print(\"Dataset Extracted\")"
      ],
      "execution_count": 4,
      "outputs": []
    },
    {
      "cell_type": "code",
      "metadata": {
        "id": "JwTPw__89fBU"
      },
      "source": [
        "def python_ver():\n",
        "    print(\"\\nPython version:\\n\")\n",
        "    print(sys.version)\n",
        "\n",
        "def device_info():\n",
        "    print(\"\\nDevice Info:\\n\")\n",
        "    print(device_lib.list_local_devices())\n",
        "\n",
        "def platform_info():\n",
        "    print(\"\\nPlatform Info:\\n\")\n",
        "    print(platform.platform())\n",
        "    print(platform.processor())"
      ],
      "execution_count": 5,
      "outputs": []
    },
    {
      "cell_type": "code",
      "metadata": {
        "id": "QtlFrxEVYIno"
      },
      "source": [
        "def SIFT_test(dirs, labels, img_size):\n",
        "    \"\"\"Scale Invariant Feature Transform Test run for finding the minimum keypoints detected among all the images in the dataset\"\"\"\n",
        "    \n",
        "    min_key = np.inf\n",
        "    \n",
        "    for data_dir in dirs:\n",
        "        for label in labels:\n",
        "            path = os.path.join(data_dir, label)\n",
        "            for img in os.listdir(path):\n",
        "                #Reading the image in grayscale mode\n",
        "                img_arr = cv2.imread(os.path.join(path, img), cv2.IMREAD_GRAYSCALE)\n",
        "                   \n",
        "                #Reshaping images to preferred size\n",
        "                resized_arr = cv2.resize(img_arr, (img_size, img_size)) \n",
        "\n",
        "                #detecting keypoints\n",
        "                sift = cv2.SIFT_create()\n",
        "                keypoints = sift.detect(resized_arr, None)\n",
        "\n",
        "                if (len(keypoints) < min_key):\n",
        "                    min_key = len(keypoints)\n",
        "                \n",
        "    return min_key"
      ],
      "execution_count": 6,
      "outputs": []
    },
    {
      "cell_type": "code",
      "metadata": {
        "id": "j9IR6y7nYJ5a"
      },
      "source": [
        "def SIFT(image, min_key):\n",
        "    \"\"\"Scale Invariant Feature Transform for finding keypoints and computing descriptors\"\"\"\n",
        "    \n",
        "    sift = cv2.SIFT_create(min_key)\n",
        "    keypoints, descriptors = sift.detectAndCompute(image, None)\n",
        "\n",
        "    return np.array(descriptors, dtype=\"i\")[:min_key]"
      ],
      "execution_count": 7,
      "outputs": []
    },
    {
      "cell_type": "code",
      "metadata": {
        "id": "GSQlfqEA9jN7"
      },
      "source": [
        "def dataset_creation(data_dir, labels, img_size, min_key):\n",
        "    \"\"\"Loading data and shuffling\"\"\"\n",
        "    data = [] \n",
        "\n",
        "    for class_num, label in enumerate(labels): \n",
        "        path = os.path.join(data_dir, label)\n",
        "        for img in os.listdir(path):\n",
        "            try:\n",
        "                #Reading the image in grayscale mode\n",
        "                img_arr = cv2.imread(os.path.join(path, img), cv2.IMREAD_GRAYSCALE)\n",
        "                \n",
        "                #Reshaping images to preferred size\n",
        "                resized_arr = cv2.resize(img_arr, (img_size, img_size)) \n",
        "\n",
        "                #SIFT function call\n",
        "                SIFT_img_desc = SIFT(resized_arr, min_key)\n",
        "                \n",
        "                data.append([SIFT_img_desc, class_num])\n",
        "            except Exception as err:\n",
        "                print(\"Error:\\n\",err)\n",
        "    \n",
        "    random.shuffle(data)\n",
        "    return np.array(data)"
      ],
      "execution_count": 8,
      "outputs": []
    },
    {
      "cell_type": "code",
      "metadata": {
        "id": "gr4RAyHY9oed"
      },
      "source": [
        "def dataset_creation_train_stat(labels, train):\n",
        "    \"\"\"Plot initial data graph\"\"\"\n",
        "    list_graph = []\n",
        "    for i in train:\n",
        "        list_graph.append(labels[i[1]])\n",
        "    \n",
        "    sns.set_style('darkgrid')\n",
        "    plt.figure(figsize=(25, 25))    \n",
        "    sns.countplot(list_graph)\n",
        "    plt.title(\"Train set\")\n",
        "    plt.show()\n",
        "\n",
        "\n",
        "def dataset_creation_test_stat(labels, test):\n",
        "    \"\"\"Plot initial data graph\"\"\"\n",
        "    list_graph = []\n",
        "    for i in test:\n",
        "        list_graph.append(labels[i[1]])\n",
        "    \n",
        "    sns.set_style('darkgrid')\n",
        "    plt.figure(figsize=(25, 25))\n",
        "    sns.countplot(list_graph)\n",
        "    plt.title(\"Test set\")\n",
        "    plt.show()"
      ],
      "execution_count": 9,
      "outputs": []
    },
    {
      "cell_type": "code",
      "metadata": {
        "id": "mCiE7s_E9072"
      },
      "source": [
        "def train_test_data_split(train, test):\n",
        "    \"\"\"train and test\"\"\"\n",
        "    x_train = []\n",
        "    y_train = []\n",
        "    x_test = []\n",
        "    y_test = []\n",
        "\n",
        "    for feature, label in train:\n",
        "        x_train.append(feature)\n",
        "        y_train.append(label)\n",
        "\n",
        "    for feature, label in test:\n",
        "        x_test.append(feature)\n",
        "        y_test.append(label)\n",
        "\n",
        "    return (np.array(x_train), np.array(y_train), np.array(x_test), np.array(y_test))"
      ],
      "execution_count": 10,
      "outputs": []
    },
    {
      "cell_type": "code",
      "metadata": {
        "id": "SizxlEkV94hy"
      },
      "source": [
        "def normalize_array_conv_data(x_train, y_train, x_test, y_test):\n",
        "    \"\"\"Normalize and array conversion\"\"\"\n",
        "    x_train = np.array(x_train) / 255\n",
        "    x_test = np.array(x_test) / 255\n",
        "\n",
        "    y_train = np.array(y_train)\n",
        "    y_test = np.array(y_test)\n",
        "\n",
        "    return (x_train, y_train, x_test, y_test)"
      ],
      "execution_count": 11,
      "outputs": []
    },
    {
      "cell_type": "code",
      "metadata": {
        "id": "RgLvHqvB98Dd"
      },
      "source": [
        "def build_model_ann(tot_classes, x_train):\n",
        "    \"\"\"Builds ANN model and prints model summary\"\"\"\n",
        "    model = Sequential()\n",
        "    \n",
        "    model.add(Flatten(input_shape=x_train.shape[1:]))\n",
        "    model.add(Dense(3000,activation=\"relu\"))\n",
        "    model.add(Dropout(0.5))\n",
        "    model.add(Dense(1000,activation=\"relu\"))\n",
        "    model.add(Dropout(0.5))\n",
        "    model.add(Dense(tot_classes, activation=\"softmax\"))\n",
        "\n",
        "    model.summary()\n",
        "    return model"
      ],
      "execution_count": 12,
      "outputs": []
    },
    {
      "cell_type": "code",
      "metadata": {
        "id": "9nEf4toB-BzT"
      },
      "source": [
        "def compile_and_fit(model, x_train, y_train, x_test, y_test, iterations, l_rate):\n",
        "    \"\"\"Compiles and fits the model\"\"\"\n",
        "    opt = Adam(learning_rate=l_rate)\n",
        "    model.compile(optimizer = opt, loss = \"sparse_categorical_crossentropy\", metrics = ['accuracy'])\n",
        "    history = model.fit(x_train, y_train, epochs = iterations, validation_data = (x_test, y_test))\n",
        "\n",
        "    return (history, model)"
      ],
      "execution_count": 13,
      "outputs": []
    },
    {
      "cell_type": "code",
      "metadata": {
        "id": "BpybfYak-FKt"
      },
      "source": [
        "def acc_plots(history, iterations):\n",
        "    \"\"\"Requires history and number of iterations\"\"\"\n",
        "    acc = history.history['accuracy']\n",
        "    val_acc = history.history['val_accuracy']\n",
        "    loss = history.history['loss']\n",
        "    val_loss = history.history['val_loss']\n",
        "\n",
        "    epochs_range = range(iterations)\n",
        "\n",
        "    plt.figure(figsize=(15, 15))\n",
        "    plt.subplot(2, 2, 1)\n",
        "    plt.plot(epochs_range, acc, label='Training Accuracy')\n",
        "    plt.plot(epochs_range, val_acc, label='Validation Accuracy')\n",
        "    plt.legend(loc='lower right')\n",
        "    plt.title('Training and Validation Accuracy')\n",
        "\n",
        "    plt.subplot(2, 2, 2)\n",
        "    plt.plot(epochs_range, loss, label='Training Loss')\n",
        "    plt.plot(epochs_range, val_loss, label='Validation Loss')\n",
        "    plt.legend(loc='upper right')\n",
        "    plt.title('Training and Validation Loss')\n",
        "    plt.show()"
      ],
      "execution_count": 14,
      "outputs": []
    },
    {
      "cell_type": "code",
      "metadata": {
        "id": "lTTbnTYd-Ipb"
      },
      "source": [
        "def acc_results(model, labels, x_test, y_test):\n",
        "    \"\"\"Prediction and test accuracy\"\"\"\n",
        "    predictions = np.argmax(model.predict(x_test), axis=-1)\n",
        "    print(classification_report(y_test, predictions, target_names = labels))\n",
        "    print(\"\\nAccuracy = \"+str(accuracy_score(y_test, predictions)*100)+\"%\")"
      ],
      "execution_count": 15,
      "outputs": []
    },
    {
      "cell_type": "markdown",
      "metadata": {
        "id": "M1PFZZFw-S_P"
      },
      "source": [
        "#### **Making Function calls and defining variables**"
      ]
    },
    {
      "cell_type": "code",
      "metadata": {
        "colab": {
          "base_uri": "https://localhost:8080/"
        },
        "id": "OgZinHaw-Mq7",
        "outputId": "8a28b01d-984e-4127-a232-208917463ab2"
      },
      "source": [
        "#Extracting Dataset\n",
        "extract_zip(\"drive/MyDrive/Dataset_test_1.zip\")\n",
        "\n",
        "#Device and environment Info\n",
        "python_ver()\n",
        "device_info()\n",
        "platform_info()"
      ],
      "execution_count": 16,
      "outputs": [
        {
          "output_type": "stream",
          "name": "stdout",
          "text": [
            "Dataset Extracted\n",
            "\n",
            "Python version:\n",
            "\n",
            "3.7.12 (default, Sep 10 2021, 00:21:48) \n",
            "[GCC 7.5.0]\n",
            "\n",
            "Device Info:\n",
            "\n",
            "[name: \"/device:CPU:0\"\n",
            "device_type: \"CPU\"\n",
            "memory_limit: 268435456\n",
            "locality {\n",
            "}\n",
            "incarnation: 8700220420534801253\n",
            "xla_global_id: -1\n",
            ", name: \"/device:GPU:0\"\n",
            "device_type: \"GPU\"\n",
            "memory_limit: 11321147392\n",
            "locality {\n",
            "  bus_id: 1\n",
            "  links {\n",
            "  }\n",
            "}\n",
            "incarnation: 5540887979361300387\n",
            "physical_device_desc: \"device: 0, name: Tesla K80, pci bus id: 0000:00:04.0, compute capability: 3.7\"\n",
            "xla_global_id: 416903419\n",
            "]\n",
            "\n",
            "Platform Info:\n",
            "\n",
            "Linux-5.4.104+-x86_64-with-Ubuntu-18.04-bionic\n",
            "x86_64\n"
          ]
        }
      ]
    },
    {
      "cell_type": "code",
      "metadata": {
        "id": "Bl01clC0-XOZ"
      },
      "source": [
        "#Variables\n",
        "dirs = [\"Dataset_test_1/Train\", \"Dataset_test_1/Test\"]\n",
        "labels = ['Buddha', 'Garuda', 'Goddess_Durga', 'Goddess_Lakshmi', 'Goddess_Saraswathi', 'Lord_Ganesh', \n",
        "        'Lord_Hanuman', 'Lord_Hayagriva', 'Lord_Indra', 'Lord_Krishna', 'Lord_Muruga', 'Nandi', 'Nataraj', \n",
        "        'Shirdi_Sai_Baba', 'Shivling']\n",
        "img_size = 224\n",
        "tot_classes = len(labels)\n",
        "num_sample_img = 3\n",
        "iterations = 180\n",
        "l_rate = 0.00001"
      ],
      "execution_count": 17,
      "outputs": []
    },
    {
      "cell_type": "code",
      "metadata": {
        "colab": {
          "base_uri": "https://localhost:8080/"
        },
        "id": "ngdQO8_D-kzS",
        "outputId": "c48d2bf3-1a17-4f12-f731-8ec216386f42"
      },
      "source": [
        "#Min keypoints detection\n",
        "min_key = SIFT_test(dirs, labels, img_size)\n",
        "\n",
        "#Train and Test data loading\n",
        "train = dataset_creation(\"Dataset_test_1/Train\", labels, img_size, min_key)\n",
        "test = dataset_creation(\"Dataset_test_1/Test\", labels, img_size, min_key)"
      ],
      "execution_count": 18,
      "outputs": [
        {
          "output_type": "stream",
          "name": "stderr",
          "text": [
            "/usr/local/lib/python3.7/dist-packages/ipykernel_launcher.py:23: VisibleDeprecationWarning: Creating an ndarray from ragged nested sequences (which is a list-or-tuple of lists-or-tuples-or ndarrays with different lengths or shapes) is deprecated. If you meant to do this, you must specify 'dtype=object' when creating the ndarray\n"
          ]
        }
      ]
    },
    {
      "cell_type": "code",
      "metadata": {
        "colab": {
          "base_uri": "https://localhost:8080/",
          "height": 1000
        },
        "id": "ci_GDz0G-ngO",
        "outputId": "c85b3704-b823-44a3-cff0-28801728a7ad"
      },
      "source": [
        "#Stats\n",
        "dataset_creation_train_stat(labels, train)\n",
        "dataset_creation_test_stat(labels, test)"
      ],
      "execution_count": 19,
      "outputs": [
        {
          "output_type": "stream",
          "name": "stderr",
          "text": [
            "/usr/local/lib/python3.7/dist-packages/seaborn/_decorators.py:43: FutureWarning: Pass the following variable as a keyword arg: x. From version 0.12, the only valid positional argument will be `data`, and passing other arguments without an explicit keyword will result in an error or misinterpretation.\n",
            "  FutureWarning\n"
          ]
        },
        {
          "output_type": "display_data",
          "data": {
            "image/png": "[encoded data removed]",
            "text/plain": [
              "<Figure size 1800x1800 with 1 Axes>"
            ]
          },
          "metadata": {}
        },
        {
          "output_type": "stream",
          "name": "stderr",
          "text": [
            "/usr/local/lib/python3.7/dist-packages/seaborn/_decorators.py:43: FutureWarning: Pass the following variable as a keyword arg: x. From version 0.12, the only valid positional argument will be `data`, and passing other arguments without an explicit keyword will result in an error or misinterpretation.\n",
            "  FutureWarning\n"
          ]
        },
        {
          "output_type": "display_data",
          "data": {
            "image/png": "[encoded data removed]",
            "text/plain": [
              "<Figure size 1800x1800 with 1 Axes>"
            ]
          },
          "metadata": {}
        }
      ]
    },
    {
      "cell_type": "code",
      "metadata": {
        "id": "4JOI1Up6-tGQ"
      },
      "source": [
        "#Training and testing data\n",
        "x_train, y_train, x_test, y_test = train_test_data_split(train, test)"
      ],
      "execution_count": 20,
      "outputs": []
    },
    {
      "cell_type": "code",
      "metadata": {
        "colab": {
          "base_uri": "https://localhost:8080/"
        },
        "id": "08fhlmqh-z4O",
        "outputId": "b33e2188-7650-4d36-b5ea-d00448ad2757"
      },
      "source": [
        "#Building ANN Model\n",
        "model = build_model_ann(tot_classes, x_train)\n"
      ],
      "execution_count": 21,
      "outputs": [
        {
          "output_type": "stream",
          "name": "stdout",
          "text": [
            "Model: \"sequential\"\n",
            "_________________________________________________________________\n",
            " Layer (type)                Output Shape              Param #   \n",
            "=================================================================\n",
            " flatten (Flatten)           (None, 4608)              0         \n",
            "                                                                 \n",
            " dense (Dense)               (None, 3000)              13827000  \n",
            "                                                                 \n",
            " dropout (Dropout)           (None, 3000)              0         \n",
            "                                                                 \n",
            " dense_1 (Dense)             (None, 1000)              3001000   \n",
            "                                                                 \n",
            " dropout_1 (Dropout)         (None, 1000)              0         \n",
            "                                                                 \n",
            " dense_2 (Dense)             (None, 15)                15015     \n",
            "                                                                 \n",
            "=================================================================\n",
            "Total params: 16,843,015\n",
            "Trainable params: 16,843,015\n",
            "Non-trainable params: 0\n",
            "_________________________________________________________________\n"
          ]
        }
      ]
    },
    {
      "cell_type": "code",
      "metadata": {
        "colab": {
          "base_uri": "https://localhost:8080/"
        },
        "id": "j5NP-yio-5Bl",
        "outputId": "39670611-10f8-427d-ce07-38c47a8eb7b7"
      },
      "source": [
        "#Compile and fit the model\n",
        "history, model = compile_and_fit(model, x_train, y_train, x_test, y_test, iterations, l_rate)"
      ],
      "execution_count": 22,
      "outputs": [
        {
          "output_type": "stream",
          "name": "stdout",
          "text": [
            "Epoch 1/180\n",
            "71/71 [==============================] - 2s 15ms/step - loss: 119.8800 - accuracy: 0.0733 - val_loss: 39.8155 - val_accuracy: 0.0933\n",
            "Epoch 2/180\n",
            "71/71 [==============================] - 1s 11ms/step - loss: 93.0784 - accuracy: 0.0702 - val_loss: 32.7896 - val_accuracy: 0.0767\n",
            "Epoch 3/180\n",
            "71/71 [==============================] - 1s 11ms/step - loss: 75.4387 - accuracy: 0.0813 - val_loss: 27.9832 - val_accuracy: 0.0933\n",
            "Epoch 4/180\n",
            "71/71 [==============================] - 1s 11ms/step - loss: 66.8771 - accuracy: 0.0911 - val_loss: 24.0257 - val_accuracy: 0.0967\n",
            "Epoch 5/180\n",
            "71/71 [==============================] - 1s 11ms/step - loss: 56.2919 - accuracy: 0.0907 - val_loss: 20.6382 - val_accuracy: 0.1167\n",
            "Epoch 6/180\n",
            "71/71 [==============================] - 1s 11ms/step - loss: 50.6333 - accuracy: 0.0973 - val_loss: 17.6995 - val_accuracy: 0.1333\n",
            "Epoch 7/180\n",
            "71/71 [==============================] - 1s 11ms/step - loss: 44.4950 - accuracy: 0.1111 - val_loss: 15.9727 - val_accuracy: 0.1200\n",
            "Epoch 8/180\n",
            "71/71 [==============================] - 1s 11ms/step - loss: 40.4173 - accuracy: 0.1280 - val_loss: 14.5411 - val_accuracy: 0.1333\n",
            "Epoch 9/180\n",
            "71/71 [==============================] - 1s 11ms/step - loss: 38.2104 - accuracy: 0.1080 - val_loss: 13.4980 - val_accuracy: 0.1167\n",
            "Epoch 10/180\n",
            "71/71 [==============================] - 1s 11ms/step - loss: 33.9889 - accuracy: 0.1244 - val_loss: 12.0997 - val_accuracy: 0.1333\n",
            "Epoch 11/180\n",
            "71/71 [==============================] - 1s 11ms/step - loss: 31.2959 - accuracy: 0.1436 - val_loss: 11.1200 - val_accuracy: 0.1500\n",
            "Epoch 12/180\n",
            "71/71 [==============================] - 1s 11ms/step - loss: 29.6724 - accuracy: 0.1516 - val_loss: 10.3912 - val_accuracy: 0.1233\n",
            "Epoch 13/180\n",
            "71/71 [==============================] - 1s 11ms/step - loss: 27.4368 - accuracy: 0.1471 - val_loss: 9.8922 - val_accuracy: 0.1400\n",
            "Epoch 14/180\n",
            "71/71 [==============================] - 1s 11ms/step - loss: 26.7722 - accuracy: 0.1467 - val_loss: 9.5377 - val_accuracy: 0.1400\n",
            "Epoch 15/180\n",
            "71/71 [==============================] - 1s 11ms/step - loss: 25.1892 - accuracy: 0.1427 - val_loss: 8.8701 - val_accuracy: 0.1467\n",
            "Epoch 16/180\n",
            "71/71 [==============================] - 1s 11ms/step - loss: 23.3314 - accuracy: 0.1533 - val_loss: 8.5513 - val_accuracy: 0.1433\n",
            "Epoch 17/180\n",
            "71/71 [==============================] - 1s 11ms/step - loss: 22.1637 - accuracy: 0.1653 - val_loss: 8.2493 - val_accuracy: 0.1533\n",
            "Epoch 18/180\n",
            "71/71 [==============================] - 1s 11ms/step - loss: 21.1883 - accuracy: 0.1778 - val_loss: 8.0014 - val_accuracy: 0.1533\n",
            "Epoch 19/180\n",
            "71/71 [==============================] - 1s 11ms/step - loss: 19.5296 - accuracy: 0.1876 - val_loss: 7.8862 - val_accuracy: 0.1500\n",
            "Epoch 20/180\n",
            "71/71 [==============================] - 1s 11ms/step - loss: 18.8251 - accuracy: 0.1849 - val_loss: 7.6391 - val_accuracy: 0.1200\n",
            "Epoch 21/180\n",
            "71/71 [==============================] - 1s 11ms/step - loss: 18.6825 - accuracy: 0.1938 - val_loss: 7.3486 - val_accuracy: 0.1500\n",
            "Epoch 22/180\n",
            "71/71 [==============================] - 1s 11ms/step - loss: 17.3871 - accuracy: 0.2009 - val_loss: 7.2197 - val_accuracy: 0.1500\n",
            "Epoch 23/180\n",
            "71/71 [==============================] - 1s 11ms/step - loss: 16.8518 - accuracy: 0.1969 - val_loss: 6.9571 - val_accuracy: 0.1567\n",
            "Epoch 24/180\n",
            "71/71 [==============================] - 1s 11ms/step - loss: 16.2948 - accuracy: 0.1942 - val_loss: 6.9600 - val_accuracy: 0.1633\n",
            "Epoch 25/180\n",
            "71/71 [==============================] - 1s 11ms/step - loss: 15.1242 - accuracy: 0.2204 - val_loss: 6.8851 - val_accuracy: 0.1700\n",
            "Epoch 26/180\n",
            "71/71 [==============================] - 1s 11ms/step - loss: 14.6488 - accuracy: 0.2356 - val_loss: 6.8357 - val_accuracy: 0.1633\n",
            "Epoch 27/180\n",
            "71/71 [==============================] - 1s 11ms/step - loss: 13.7457 - accuracy: 0.2311 - val_loss: 6.7776 - val_accuracy: 0.1767\n",
            "Epoch 28/180\n",
            "71/71 [==============================] - 1s 11ms/step - loss: 13.6733 - accuracy: 0.2338 - val_loss: 6.5720 - val_accuracy: 0.1867\n",
            "Epoch 29/180\n",
            "71/71 [==============================] - 1s 11ms/step - loss: 12.8703 - accuracy: 0.2560 - val_loss: 6.5092 - val_accuracy: 0.1900\n",
            "Epoch 30/180\n",
            "71/71 [==============================] - 1s 11ms/step - loss: 12.3445 - accuracy: 0.2613 - val_loss: 6.4582 - val_accuracy: 0.1800\n",
            "Epoch 31/180\n",
            "71/71 [==============================] - 1s 11ms/step - loss: 11.8756 - accuracy: 0.2742 - val_loss: 6.4540 - val_accuracy: 0.1733\n",
            "Epoch 32/180\n",
            "71/71 [==============================] - 1s 11ms/step - loss: 11.5052 - accuracy: 0.2729 - val_loss: 6.3875 - val_accuracy: 0.1833\n",
            "Epoch 33/180\n",
            "71/71 [==============================] - 1s 11ms/step - loss: 10.8614 - accuracy: 0.2867 - val_loss: 6.2030 - val_accuracy: 0.1867\n",
            "Epoch 34/180\n",
            "71/71 [==============================] - 1s 11ms/step - loss: 10.2329 - accuracy: 0.2964 - val_loss: 6.2120 - val_accuracy: 0.1767\n",
            "Epoch 35/180\n",
            "71/71 [==============================] - 1s 11ms/step - loss: 10.1653 - accuracy: 0.2991 - val_loss: 6.2134 - val_accuracy: 0.1833\n",
            "Epoch 36/180\n",
            "71/71 [==============================] - 1s 11ms/step - loss: 9.5666 - accuracy: 0.3227 - val_loss: 6.2516 - val_accuracy: 0.1900\n",
            "Epoch 37/180\n",
            "71/71 [==============================] - 1s 11ms/step - loss: 9.2657 - accuracy: 0.3244 - val_loss: 6.2704 - val_accuracy: 0.1800\n",
            "Epoch 38/180\n",
            "71/71 [==============================] - 1s 11ms/step - loss: 8.8231 - accuracy: 0.3324 - val_loss: 6.2658 - val_accuracy: 0.1733\n",
            "Epoch 39/180\n",
            "71/71 [==============================] - 1s 11ms/step - loss: 8.6775 - accuracy: 0.3400 - val_loss: 6.2169 - val_accuracy: 0.1900\n",
            "Epoch 40/180\n",
            "71/71 [==============================] - 1s 11ms/step - loss: 8.2240 - accuracy: 0.3524 - val_loss: 6.1028 - val_accuracy: 0.1900\n",
            "Epoch 41/180\n",
            "71/71 [==============================] - 1s 11ms/step - loss: 7.9198 - accuracy: 0.3560 - val_loss: 6.0914 - val_accuracy: 0.2000\n",
            "Epoch 42/180\n",
            "71/71 [==============================] - 1s 11ms/step - loss: 7.6528 - accuracy: 0.3653 - val_loss: 5.9942 - val_accuracy: 0.2000\n",
            "Epoch 43/180\n",
            "71/71 [==============================] - 1s 11ms/step - loss: 7.3056 - accuracy: 0.3902 - val_loss: 5.9413 - val_accuracy: 0.2000\n",
            "Epoch 44/180\n",
            "71/71 [==============================] - 1s 11ms/step - loss: 6.9452 - accuracy: 0.3920 - val_loss: 5.9725 - val_accuracy: 0.2033\n",
            "Epoch 45/180\n",
            "71/71 [==============================] - 1s 11ms/step - loss: 6.5764 - accuracy: 0.4249 - val_loss: 5.9329 - val_accuracy: 0.2167\n",
            "Epoch 46/180\n",
            "71/71 [==============================] - 1s 11ms/step - loss: 6.6672 - accuracy: 0.3938 - val_loss: 6.0132 - val_accuracy: 0.2133\n",
            "Epoch 47/180\n",
            "71/71 [==============================] - 1s 11ms/step - loss: 6.2135 - accuracy: 0.4142 - val_loss: 6.0983 - val_accuracy: 0.2033\n",
            "Epoch 48/180\n",
            "71/71 [==============================] - 1s 11ms/step - loss: 5.8519 - accuracy: 0.4427 - val_loss: 6.0415 - val_accuracy: 0.2100\n",
            "Epoch 49/180\n",
            "71/71 [==============================] - 1s 11ms/step - loss: 5.8266 - accuracy: 0.4476 - val_loss: 6.0089 - val_accuracy: 0.2233\n",
            "Epoch 50/180\n",
            "71/71 [==============================] - 1s 11ms/step - loss: 5.6946 - accuracy: 0.4538 - val_loss: 6.0228 - val_accuracy: 0.2033\n",
            "Epoch 51/180\n",
            "71/71 [==============================] - 1s 11ms/step - loss: 5.4789 - accuracy: 0.4733 - val_loss: 5.9976 - val_accuracy: 0.2167\n",
            "Epoch 52/180\n",
            "71/71 [==============================] - 1s 11ms/step - loss: 5.1451 - accuracy: 0.4671 - val_loss: 5.9323 - val_accuracy: 0.2233\n",
            "Epoch 53/180\n",
            "71/71 [==============================] - 1s 11ms/step - loss: 4.8207 - accuracy: 0.4951 - val_loss: 5.9829 - val_accuracy: 0.2200\n",
            "Epoch 54/180\n",
            "71/71 [==============================] - 1s 11ms/step - loss: 4.6492 - accuracy: 0.4964 - val_loss: 6.0102 - val_accuracy: 0.2233\n",
            "Epoch 55/180\n",
            "71/71 [==============================] - 1s 11ms/step - loss: 4.6250 - accuracy: 0.5178 - val_loss: 5.9537 - val_accuracy: 0.2200\n",
            "Epoch 56/180\n",
            "71/71 [==============================] - 1s 11ms/step - loss: 4.5469 - accuracy: 0.5004 - val_loss: 5.9242 - val_accuracy: 0.2100\n",
            "Epoch 57/180\n",
            "71/71 [==============================] - 1s 11ms/step - loss: 4.1563 - accuracy: 0.5360 - val_loss: 5.8047 - val_accuracy: 0.2233\n",
            "Epoch 58/180\n",
            "71/71 [==============================] - 1s 11ms/step - loss: 4.1364 - accuracy: 0.5444 - val_loss: 5.7862 - val_accuracy: 0.2200\n",
            "Epoch 59/180\n",
            "71/71 [==============================] - 1s 11ms/step - loss: 3.7649 - accuracy: 0.5667 - val_loss: 5.8505 - val_accuracy: 0.2167\n",
            "Epoch 60/180\n",
            "71/71 [==============================] - 1s 11ms/step - loss: 3.6546 - accuracy: 0.5662 - val_loss: 5.8525 - val_accuracy: 0.2233\n",
            "Epoch 61/180\n",
            "71/71 [==============================] - 1s 11ms/step - loss: 3.5383 - accuracy: 0.5902 - val_loss: 5.9453 - val_accuracy: 0.2267\n",
            "Epoch 62/180\n",
            "71/71 [==============================] - 1s 11ms/step - loss: 3.4515 - accuracy: 0.5911 - val_loss: 5.9766 - val_accuracy: 0.2267\n",
            "Epoch 63/180\n",
            "71/71 [==============================] - 1s 11ms/step - loss: 3.1636 - accuracy: 0.6084 - val_loss: 5.9389 - val_accuracy: 0.2200\n",
            "Epoch 64/180\n",
            "71/71 [==============================] - 1s 11ms/step - loss: 3.2882 - accuracy: 0.5938 - val_loss: 5.9155 - val_accuracy: 0.2300\n",
            "Epoch 65/180\n",
            "71/71 [==============================] - 1s 11ms/step - loss: 2.9976 - accuracy: 0.6151 - val_loss: 5.9368 - val_accuracy: 0.2167\n",
            "Epoch 66/180\n",
            "71/71 [==============================] - 1s 11ms/step - loss: 3.0449 - accuracy: 0.6227 - val_loss: 5.9276 - val_accuracy: 0.2200\n",
            "Epoch 67/180\n",
            "71/71 [==============================] - 1s 11ms/step - loss: 2.9306 - accuracy: 0.6280 - val_loss: 6.0023 - val_accuracy: 0.2233\n",
            "Epoch 68/180\n",
            "71/71 [==============================] - 1s 11ms/step - loss: 2.9126 - accuracy: 0.6382 - val_loss: 5.9538 - val_accuracy: 0.2333\n",
            "Epoch 69/180\n",
            "71/71 [==============================] - 1s 11ms/step - loss: 2.7141 - accuracy: 0.6542 - val_loss: 5.9210 - val_accuracy: 0.2333\n",
            "Epoch 70/180\n",
            "71/71 [==============================] - 1s 11ms/step - loss: 2.5866 - accuracy: 0.6591 - val_loss: 5.8032 - val_accuracy: 0.2267\n",
            "Epoch 71/180\n",
            "71/71 [==============================] - 1s 11ms/step - loss: 2.4914 - accuracy: 0.6600 - val_loss: 5.7937 - val_accuracy: 0.2200\n",
            "Epoch 72/180\n",
            "71/71 [==============================] - 1s 11ms/step - loss: 2.4670 - accuracy: 0.6742 - val_loss: 5.8901 - val_accuracy: 0.2200\n",
            "Epoch 73/180\n",
            "71/71 [==============================] - 1s 11ms/step - loss: 2.3102 - accuracy: 0.6884 - val_loss: 5.9137 - val_accuracy: 0.2133\n",
            "Epoch 74/180\n",
            "71/71 [==============================] - 1s 11ms/step - loss: 2.3783 - accuracy: 0.6822 - val_loss: 5.8886 - val_accuracy: 0.2000\n",
            "Epoch 75/180\n",
            "71/71 [==============================] - 1s 11ms/step - loss: 2.2542 - accuracy: 0.6916 - val_loss: 5.8278 - val_accuracy: 0.2100\n",
            "Epoch 76/180\n",
            "71/71 [==============================] - 1s 11ms/step - loss: 2.1653 - accuracy: 0.6938 - val_loss: 5.8533 - val_accuracy: 0.2200\n",
            "Epoch 77/180\n",
            "71/71 [==============================] - 1s 11ms/step - loss: 1.9737 - accuracy: 0.7018 - val_loss: 5.8316 - val_accuracy: 0.2300\n",
            "Epoch 78/180\n",
            "71/71 [==============================] - 1s 11ms/step - loss: 2.1192 - accuracy: 0.7031 - val_loss: 5.9725 - val_accuracy: 0.2233\n",
            "Epoch 79/180\n",
            "71/71 [==============================] - 1s 11ms/step - loss: 1.9795 - accuracy: 0.7253 - val_loss: 5.9825 - val_accuracy: 0.2200\n",
            "Epoch 80/180\n",
            "71/71 [==============================] - 1s 11ms/step - loss: 1.7923 - accuracy: 0.7231 - val_loss: 5.9760 - val_accuracy: 0.2200\n",
            "Epoch 81/180\n",
            "71/71 [==============================] - 1s 11ms/step - loss: 1.8556 - accuracy: 0.7422 - val_loss: 5.9557 - val_accuracy: 0.2267\n",
            "Epoch 82/180\n",
            "71/71 [==============================] - 1s 11ms/step - loss: 1.7893 - accuracy: 0.7307 - val_loss: 5.9539 - val_accuracy: 0.2267\n",
            "Epoch 83/180\n",
            "71/71 [==============================] - 1s 11ms/step - loss: 1.7007 - accuracy: 0.7400 - val_loss: 6.0459 - val_accuracy: 0.2367\n",
            "Epoch 84/180\n",
            "71/71 [==============================] - 1s 11ms/step - loss: 1.6997 - accuracy: 0.7369 - val_loss: 5.9755 - val_accuracy: 0.2400\n",
            "Epoch 85/180\n",
            "71/71 [==============================] - 1s 11ms/step - loss: 1.6260 - accuracy: 0.7591 - val_loss: 5.9695 - val_accuracy: 0.2233\n",
            "Epoch 86/180\n",
            "71/71 [==============================] - 1s 11ms/step - loss: 1.5363 - accuracy: 0.7569 - val_loss: 5.9502 - val_accuracy: 0.2400\n",
            "Epoch 87/180\n",
            "71/71 [==============================] - 1s 11ms/step - loss: 1.4467 - accuracy: 0.7773 - val_loss: 5.8896 - val_accuracy: 0.2400\n",
            "Epoch 88/180\n",
            "71/71 [==============================] - 1s 11ms/step - loss: 1.4735 - accuracy: 0.7649 - val_loss: 5.8545 - val_accuracy: 0.2467\n",
            "Epoch 89/180\n",
            "71/71 [==============================] - 1s 11ms/step - loss: 1.2876 - accuracy: 0.7889 - val_loss: 5.8487 - val_accuracy: 0.2433\n",
            "Epoch 90/180\n",
            "71/71 [==============================] - 1s 11ms/step - loss: 1.4552 - accuracy: 0.7702 - val_loss: 5.9436 - val_accuracy: 0.2500\n",
            "Epoch 91/180\n",
            "71/71 [==============================] - 1s 11ms/step - loss: 1.2881 - accuracy: 0.8013 - val_loss: 5.9378 - val_accuracy: 0.2367\n",
            "Epoch 92/180\n",
            "71/71 [==============================] - 1s 11ms/step - loss: 1.1076 - accuracy: 0.8027 - val_loss: 5.8555 - val_accuracy: 0.2467\n",
            "Epoch 93/180\n",
            "71/71 [==============================] - 1s 11ms/step - loss: 1.1642 - accuracy: 0.7991 - val_loss: 5.8153 - val_accuracy: 0.2433\n",
            "Epoch 94/180\n",
            "71/71 [==============================] - 1s 11ms/step - loss: 1.2506 - accuracy: 0.8089 - val_loss: 5.8694 - val_accuracy: 0.2267\n",
            "Epoch 95/180\n",
            "71/71 [==============================] - 1s 11ms/step - loss: 1.1281 - accuracy: 0.8093 - val_loss: 5.8175 - val_accuracy: 0.2333\n",
            "Epoch 96/180\n",
            "71/71 [==============================] - 1s 11ms/step - loss: 1.2216 - accuracy: 0.7942 - val_loss: 5.9102 - val_accuracy: 0.2433\n",
            "Epoch 97/180\n",
            "71/71 [==============================] - 1s 11ms/step - loss: 1.1200 - accuracy: 0.8142 - val_loss: 5.8932 - val_accuracy: 0.2267\n",
            "Epoch 98/180\n",
            "71/71 [==============================] - 1s 11ms/step - loss: 0.9858 - accuracy: 0.8316 - val_loss: 5.8277 - val_accuracy: 0.2367\n",
            "Epoch 99/180\n",
            "71/71 [==============================] - 1s 11ms/step - loss: 1.0753 - accuracy: 0.8267 - val_loss: 5.8943 - val_accuracy: 0.2200\n",
            "Epoch 100/180\n",
            "71/71 [==============================] - 1s 11ms/step - loss: 1.1318 - accuracy: 0.8316 - val_loss: 5.9863 - val_accuracy: 0.2333\n",
            "Epoch 101/180\n",
            "71/71 [==============================] - 1s 11ms/step - loss: 0.9672 - accuracy: 0.8320 - val_loss: 5.9889 - val_accuracy: 0.2400\n",
            "Epoch 102/180\n",
            "71/71 [==============================] - 1s 11ms/step - loss: 1.0513 - accuracy: 0.8169 - val_loss: 5.8384 - val_accuracy: 0.2433\n",
            "Epoch 103/180\n",
            "71/71 [==============================] - 1s 11ms/step - loss: 0.8646 - accuracy: 0.8480 - val_loss: 5.9404 - val_accuracy: 0.2433\n",
            "Epoch 104/180\n",
            "71/71 [==============================] - 1s 12ms/step - loss: 0.8737 - accuracy: 0.8493 - val_loss: 5.9209 - val_accuracy: 0.2233\n",
            "Epoch 105/180\n",
            "71/71 [==============================] - 1s 11ms/step - loss: 0.8680 - accuracy: 0.8520 - val_loss: 5.9073 - val_accuracy: 0.2233\n",
            "Epoch 106/180\n",
            "71/71 [==============================] - 1s 12ms/step - loss: 0.9303 - accuracy: 0.8507 - val_loss: 5.8099 - val_accuracy: 0.2200\n",
            "Epoch 107/180\n",
            "71/71 [==============================] - 1s 11ms/step - loss: 0.7971 - accuracy: 0.8600 - val_loss: 5.9549 - val_accuracy: 0.2267\n",
            "Epoch 108/180\n",
            "71/71 [==============================] - 1s 12ms/step - loss: 0.7119 - accuracy: 0.8698 - val_loss: 5.8673 - val_accuracy: 0.2100\n",
            "Epoch 109/180\n",
            "71/71 [==============================] - 1s 11ms/step - loss: 0.7892 - accuracy: 0.8587 - val_loss: 5.9107 - val_accuracy: 0.2233\n",
            "Epoch 110/180\n",
            "71/71 [==============================] - 1s 11ms/step - loss: 0.8443 - accuracy: 0.8524 - val_loss: 5.8810 - val_accuracy: 0.2333\n",
            "Epoch 111/180\n",
            "71/71 [==============================] - 1s 11ms/step - loss: 0.7959 - accuracy: 0.8613 - val_loss: 5.9492 - val_accuracy: 0.2433\n",
            "Epoch 112/180\n",
            "71/71 [==============================] - 1s 11ms/step - loss: 0.8655 - accuracy: 0.8587 - val_loss: 5.7512 - val_accuracy: 0.2500\n",
            "Epoch 113/180\n",
            "71/71 [==============================] - 1s 11ms/step - loss: 0.7563 - accuracy: 0.8702 - val_loss: 5.8288 - val_accuracy: 0.2400\n",
            "Epoch 114/180\n",
            "71/71 [==============================] - 1s 12ms/step - loss: 0.7166 - accuracy: 0.8729 - val_loss: 5.8753 - val_accuracy: 0.2300\n",
            "Epoch 115/180\n",
            "71/71 [==============================] - 1s 11ms/step - loss: 0.7338 - accuracy: 0.8729 - val_loss: 5.9260 - val_accuracy: 0.2367\n",
            "Epoch 116/180\n",
            "71/71 [==============================] - 1s 11ms/step - loss: 0.6811 - accuracy: 0.8742 - val_loss: 5.9328 - val_accuracy: 0.2433\n",
            "Epoch 117/180\n",
            "71/71 [==============================] - 1s 11ms/step - loss: 0.7320 - accuracy: 0.8764 - val_loss: 5.9575 - val_accuracy: 0.2367\n",
            "Epoch 118/180\n",
            "71/71 [==============================] - 1s 11ms/step - loss: 0.6475 - accuracy: 0.8804 - val_loss: 5.9542 - val_accuracy: 0.2300\n",
            "Epoch 119/180\n",
            "71/71 [==============================] - 1s 11ms/step - loss: 0.6431 - accuracy: 0.8876 - val_loss: 5.8544 - val_accuracy: 0.2333\n",
            "Epoch 120/180\n",
            "71/71 [==============================] - 1s 11ms/step - loss: 0.7071 - accuracy: 0.8769 - val_loss: 5.7829 - val_accuracy: 0.2367\n",
            "Epoch 121/180\n",
            "71/71 [==============================] - 1s 11ms/step - loss: 0.7324 - accuracy: 0.8707 - val_loss: 5.8881 - val_accuracy: 0.2100\n",
            "Epoch 122/180\n",
            "71/71 [==============================] - 1s 11ms/step - loss: 0.6235 - accuracy: 0.8822 - val_loss: 5.9618 - val_accuracy: 0.2400\n",
            "Epoch 123/180\n",
            "71/71 [==============================] - 1s 11ms/step - loss: 0.6074 - accuracy: 0.8893 - val_loss: 5.8536 - val_accuracy: 0.2267\n",
            "Epoch 124/180\n",
            "71/71 [==============================] - 1s 11ms/step - loss: 0.5630 - accuracy: 0.8978 - val_loss: 5.7919 - val_accuracy: 0.2300\n",
            "Epoch 125/180\n",
            "71/71 [==============================] - 1s 11ms/step - loss: 0.5321 - accuracy: 0.8982 - val_loss: 5.8699 - val_accuracy: 0.2267\n",
            "Epoch 126/180\n",
            "71/71 [==============================] - 1s 11ms/step - loss: 0.5446 - accuracy: 0.9027 - val_loss: 5.8875 - val_accuracy: 0.2167\n",
            "Epoch 127/180\n",
            "71/71 [==============================] - 1s 11ms/step - loss: 0.5607 - accuracy: 0.8973 - val_loss: 5.9132 - val_accuracy: 0.2167\n",
            "Epoch 128/180\n",
            "71/71 [==============================] - 1s 11ms/step - loss: 0.5211 - accuracy: 0.8929 - val_loss: 5.8527 - val_accuracy: 0.2233\n",
            "Epoch 129/180\n",
            "71/71 [==============================] - 1s 12ms/step - loss: 0.5123 - accuracy: 0.9058 - val_loss: 5.8769 - val_accuracy: 0.2333\n",
            "Epoch 130/180\n",
            "71/71 [==============================] - 1s 11ms/step - loss: 0.4494 - accuracy: 0.9133 - val_loss: 5.9013 - val_accuracy: 0.2300\n",
            "Epoch 131/180\n",
            "71/71 [==============================] - 1s 11ms/step - loss: 0.5035 - accuracy: 0.9084 - val_loss: 5.9399 - val_accuracy: 0.2467\n",
            "Epoch 132/180\n",
            "71/71 [==============================] - 1s 11ms/step - loss: 0.4760 - accuracy: 0.9098 - val_loss: 5.9436 - val_accuracy: 0.2233\n",
            "Epoch 133/180\n",
            "71/71 [==============================] - 1s 12ms/step - loss: 0.4618 - accuracy: 0.9049 - val_loss: 5.9673 - val_accuracy: 0.2433\n",
            "Epoch 134/180\n",
            "71/71 [==============================] - 1s 11ms/step - loss: 0.4906 - accuracy: 0.9044 - val_loss: 5.8538 - val_accuracy: 0.2400\n",
            "Epoch 135/180\n",
            "71/71 [==============================] - 1s 12ms/step - loss: 0.5292 - accuracy: 0.9018 - val_loss: 5.9481 - val_accuracy: 0.2300\n",
            "Epoch 136/180\n",
            "71/71 [==============================] - 1s 12ms/step - loss: 0.4275 - accuracy: 0.9187 - val_loss: 5.9338 - val_accuracy: 0.2433\n",
            "Epoch 137/180\n",
            "71/71 [==============================] - 1s 11ms/step - loss: 0.4133 - accuracy: 0.9160 - val_loss: 5.9428 - val_accuracy: 0.2400\n",
            "Epoch 138/180\n",
            "71/71 [==============================] - 1s 12ms/step - loss: 0.4104 - accuracy: 0.9236 - val_loss: 5.8433 - val_accuracy: 0.2367\n",
            "Epoch 139/180\n",
            "71/71 [==============================] - 1s 11ms/step - loss: 0.4579 - accuracy: 0.9107 - val_loss: 5.7639 - val_accuracy: 0.2433\n",
            "Epoch 140/180\n",
            "71/71 [==============================] - 1s 11ms/step - loss: 0.4016 - accuracy: 0.9178 - val_loss: 5.7181 - val_accuracy: 0.2400\n",
            "Epoch 141/180\n",
            "71/71 [==============================] - 1s 12ms/step - loss: 0.4147 - accuracy: 0.9222 - val_loss: 5.8060 - val_accuracy: 0.2467\n",
            "Epoch 142/180\n",
            "71/71 [==============================] - 1s 11ms/step - loss: 0.4046 - accuracy: 0.9222 - val_loss: 5.8544 - val_accuracy: 0.2533\n",
            "Epoch 143/180\n",
            "71/71 [==============================] - 1s 11ms/step - loss: 0.3912 - accuracy: 0.9209 - val_loss: 5.7182 - val_accuracy: 0.2500\n",
            "Epoch 144/180\n",
            "71/71 [==============================] - 1s 12ms/step - loss: 0.3611 - accuracy: 0.9284 - val_loss: 5.7749 - val_accuracy: 0.2533\n",
            "Epoch 145/180\n",
            "71/71 [==============================] - 1s 11ms/step - loss: 0.3195 - accuracy: 0.9316 - val_loss: 5.8307 - val_accuracy: 0.2433\n",
            "Epoch 146/180\n",
            "71/71 [==============================] - 1s 12ms/step - loss: 0.3666 - accuracy: 0.9271 - val_loss: 5.8811 - val_accuracy: 0.2267\n",
            "Epoch 147/180\n",
            "71/71 [==============================] - 1s 11ms/step - loss: 0.3544 - accuracy: 0.9342 - val_loss: 5.8440 - val_accuracy: 0.2400\n",
            "Epoch 148/180\n",
            "71/71 [==============================] - 1s 12ms/step - loss: 0.3724 - accuracy: 0.9302 - val_loss: 5.8817 - val_accuracy: 0.2367\n",
            "Epoch 149/180\n",
            "71/71 [==============================] - 1s 11ms/step - loss: 0.3965 - accuracy: 0.9236 - val_loss: 6.0147 - val_accuracy: 0.2400\n",
            "Epoch 150/180\n",
            "71/71 [==============================] - 1s 11ms/step - loss: 0.3684 - accuracy: 0.9258 - val_loss: 5.8755 - val_accuracy: 0.2367\n",
            "Epoch 151/180\n",
            "71/71 [==============================] - 1s 11ms/step - loss: 0.3663 - accuracy: 0.9333 - val_loss: 5.8393 - val_accuracy: 0.2333\n",
            "Epoch 152/180\n",
            "71/71 [==============================] - 1s 12ms/step - loss: 0.3372 - accuracy: 0.9293 - val_loss: 5.8378 - val_accuracy: 0.2467\n",
            "Epoch 153/180\n",
            "71/71 [==============================] - 1s 11ms/step - loss: 0.3438 - accuracy: 0.9316 - val_loss: 5.9168 - val_accuracy: 0.2533\n",
            "Epoch 154/180\n",
            "71/71 [==============================] - 1s 11ms/step - loss: 0.3675 - accuracy: 0.9289 - val_loss: 5.9605 - val_accuracy: 0.2367\n",
            "Epoch 155/180\n",
            "71/71 [==============================] - 1s 11ms/step - loss: 0.3437 - accuracy: 0.9253 - val_loss: 6.0522 - val_accuracy: 0.2367\n",
            "Epoch 156/180\n",
            "71/71 [==============================] - 1s 11ms/step - loss: 0.4215 - accuracy: 0.9253 - val_loss: 6.0229 - val_accuracy: 0.2533\n",
            "Epoch 157/180\n",
            "71/71 [==============================] - 1s 12ms/step - loss: 0.3649 - accuracy: 0.9356 - val_loss: 6.0042 - val_accuracy: 0.2500\n",
            "Epoch 158/180\n",
            "71/71 [==============================] - 1s 11ms/step - loss: 0.3594 - accuracy: 0.9284 - val_loss: 5.8599 - val_accuracy: 0.2467\n",
            "Epoch 159/180\n",
            "71/71 [==============================] - 1s 12ms/step - loss: 0.2669 - accuracy: 0.9444 - val_loss: 5.7498 - val_accuracy: 0.2500\n",
            "Epoch 160/180\n",
            "71/71 [==============================] - 1s 11ms/step - loss: 0.3391 - accuracy: 0.9333 - val_loss: 5.7456 - val_accuracy: 0.2367\n",
            "Epoch 161/180\n",
            "71/71 [==============================] - 1s 12ms/step - loss: 0.2665 - accuracy: 0.9400 - val_loss: 5.7464 - val_accuracy: 0.2367\n",
            "Epoch 162/180\n",
            "71/71 [==============================] - 1s 11ms/step - loss: 0.2656 - accuracy: 0.9498 - val_loss: 5.6672 - val_accuracy: 0.2467\n",
            "Epoch 163/180\n",
            "71/71 [==============================] - 1s 11ms/step - loss: 0.2840 - accuracy: 0.9409 - val_loss: 5.7446 - val_accuracy: 0.2300\n",
            "Epoch 164/180\n",
            "71/71 [==============================] - 1s 12ms/step - loss: 0.3509 - accuracy: 0.9333 - val_loss: 5.8431 - val_accuracy: 0.2333\n",
            "Epoch 165/180\n",
            "71/71 [==============================] - 1s 12ms/step - loss: 0.3028 - accuracy: 0.9427 - val_loss: 5.9086 - val_accuracy: 0.2367\n",
            "Epoch 166/180\n",
            "71/71 [==============================] - 1s 12ms/step - loss: 0.3018 - accuracy: 0.9391 - val_loss: 6.0805 - val_accuracy: 0.2167\n",
            "Epoch 167/180\n",
            "71/71 [==============================] - 1s 12ms/step - loss: 0.2992 - accuracy: 0.9404 - val_loss: 5.9051 - val_accuracy: 0.2400\n",
            "Epoch 168/180\n",
            "71/71 [==============================] - 1s 11ms/step - loss: 0.3036 - accuracy: 0.9409 - val_loss: 5.9493 - val_accuracy: 0.2567\n",
            "Epoch 169/180\n",
            "71/71 [==============================] - 1s 11ms/step - loss: 0.2645 - accuracy: 0.9444 - val_loss: 5.9368 - val_accuracy: 0.2467\n",
            "Epoch 170/180\n",
            "71/71 [==============================] - 1s 12ms/step - loss: 0.2133 - accuracy: 0.9578 - val_loss: 5.9694 - val_accuracy: 0.2467\n",
            "Epoch 171/180\n",
            "71/71 [==============================] - 1s 12ms/step - loss: 0.3176 - accuracy: 0.9409 - val_loss: 5.9799 - val_accuracy: 0.2533\n",
            "Epoch 172/180\n",
            "71/71 [==============================] - 1s 12ms/step - loss: 0.2525 - accuracy: 0.9489 - val_loss: 5.9540 - val_accuracy: 0.2600\n",
            "Epoch 173/180\n",
            "71/71 [==============================] - 1s 12ms/step - loss: 0.2657 - accuracy: 0.9449 - val_loss: 6.1054 - val_accuracy: 0.2567\n",
            "Epoch 174/180\n",
            "71/71 [==============================] - 1s 11ms/step - loss: 0.3352 - accuracy: 0.9400 - val_loss: 6.1830 - val_accuracy: 0.2467\n",
            "Epoch 175/180\n",
            "71/71 [==============================] - 1s 12ms/step - loss: 0.2453 - accuracy: 0.9507 - val_loss: 6.1616 - val_accuracy: 0.2467\n",
            "Epoch 176/180\n",
            "71/71 [==============================] - 1s 12ms/step - loss: 0.3268 - accuracy: 0.9387 - val_loss: 6.1081 - val_accuracy: 0.2500\n",
            "Epoch 177/180\n",
            "71/71 [==============================] - 1s 12ms/step - loss: 0.1914 - accuracy: 0.9560 - val_loss: 6.1858 - val_accuracy: 0.2500\n",
            "Epoch 178/180\n",
            "71/71 [==============================] - 1s 11ms/step - loss: 0.2167 - accuracy: 0.9493 - val_loss: 6.2252 - val_accuracy: 0.2633\n",
            "Epoch 179/180\n",
            "71/71 [==============================] - 1s 11ms/step - loss: 0.3047 - accuracy: 0.9471 - val_loss: 6.3594 - val_accuracy: 0.2500\n",
            "Epoch 180/180\n",
            "71/71 [==============================] - 1s 12ms/step - loss: 0.2442 - accuracy: 0.9551 - val_loss: 6.2680 - val_accuracy: 0.2633\n"
          ]
        }
      ]
    },
    {
      "cell_type": "code",
      "metadata": {
        "colab": {
          "base_uri": "https://localhost:8080/",
          "height": 435
        },
        "id": "pMBMXPgy--9S",
        "outputId": "18c6a0df-ff1c-4026-d8ec-f32bf5fbde31"
      },
      "source": [
        "#Plots\n",
        "acc_plots(history, iterations)"
      ],
      "execution_count": 23,
      "outputs": [
        {
          "output_type": "display_data",
          "data": {
            "image/png": "[encoded data removed]",
            "text/plain": [
              "<Figure size 1080x1080 with 2 Axes>"
            ]
          },
          "metadata": {}
        }
      ]
    },
    {
      "cell_type": "code",
      "metadata": {
        "colab": {
          "base_uri": "https://localhost:8080/"
        },
        "id": "A7sVGFjb_DdS",
        "outputId": "7264dc4c-1db3-4cf3-9b46-8a3e29dac8be"
      },
      "source": [
        "#Results\n",
        "acc_results(model, labels, x_test, y_test)"
      ],
      "execution_count": 24,
      "outputs": [
        {
          "output_type": "stream",
          "name": "stdout",
          "text": [
            "                    precision    recall  f1-score   support\n",
            "\n",
            "            Buddha       0.27      0.35      0.30        20\n",
            "            Garuda       0.62      0.50      0.56        20\n",
            "     Goddess_Durga       0.00      0.00      0.00        20\n",
            "   Goddess_Lakshmi       0.09      0.05      0.06        20\n",
            "Goddess_Saraswathi       0.05      0.05      0.05        20\n",
            "       Lord_Ganesh       0.28      0.40      0.33        20\n",
            "      Lord_Hanuman       0.07      0.05      0.06        20\n",
            "    Lord_Hayagriva       0.00      0.00      0.00        20\n",
            "        Lord_Indra       0.67      1.00      0.80        20\n",
            "      Lord_Krishna       0.23      0.15      0.18        20\n",
            "       Lord_Muruga       0.00      0.00      0.00        20\n",
            "             Nandi       0.14      0.15      0.14        20\n",
            "           Nataraj       0.33      0.60      0.43        20\n",
            "   Shirdi_Sai_Baba       0.26      0.50      0.34        20\n",
            "          Shivling       0.43      0.15      0.22        20\n",
            "\n",
            "          accuracy                           0.26       300\n",
            "         macro avg       0.23      0.26      0.23       300\n",
            "      weighted avg       0.23      0.26      0.23       300\n",
            "\n",
            "\n",
            "Accuracy = 26.333333333333332%\n"
          ]
        }
      ]
    },
    {
      "cell_type": "markdown",
      "metadata": {
        "id": "lYyGyFyM_FAo"
      },
      "source": [
        "#### **Result: For learning rate = 1*10^(-5) and 180 iterations, the accuracy obtained was 26.34%(approx).**"
      ]
    }
  ]
}