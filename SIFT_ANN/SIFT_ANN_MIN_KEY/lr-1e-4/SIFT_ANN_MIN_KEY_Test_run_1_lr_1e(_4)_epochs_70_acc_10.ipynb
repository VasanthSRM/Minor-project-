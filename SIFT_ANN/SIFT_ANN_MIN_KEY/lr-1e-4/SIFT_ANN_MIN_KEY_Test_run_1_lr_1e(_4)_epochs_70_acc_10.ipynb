{
  "nbformat": 4,
  "nbformat_minor": 0,
  "metadata": {
    "accelerator": "GPU",
    "colab": {
      "name": "SIFT_ANN_MIN_KEY_Test_run_1_lr_1e(-4)_epochs_70_acc_6.67.ipynb",
      "provenance": [],
      "collapsed_sections": []
    },
    "kernelspec": {
      "display_name": "Python 3",
      "name": "python3"
    },
    "language_info": {
      "name": "python"
    }
  },
  "cells": [
    {
      "cell_type": "markdown",
      "metadata": {
        "id": "xkfpI5lL8ofl"
      },
      "source": [
        "## **SIFT + ANN (Min_Keypoints approach)**\n",
        "#### **lr=1*10^(-4), epochs=70, Accuracy = 10% (approx) at (1, 10) epochs range**\n",
        "#### **Test run - 1**"
      ]
    },
    {
      "cell_type": "markdown",
      "metadata": {
        "id": "5AVHk6bP8110"
      },
      "source": [
        "#### **Aim: To find suitable learning rate and epoch value.**"
      ]
    },
    {
      "cell_type": "markdown",
      "metadata": {
        "id": "xaufx6N9PNMd"
      },
      "source": [
        "#### **For mounting drive**"
      ]
    },
    {
      "cell_type": "code",
      "metadata": {
        "colab": {
          "base_uri": "https://localhost:8080/"
        },
        "id": "LoT75uFsDMt3",
        "outputId": "e8fcfa1a-34a9-417c-938c-e7b2cd30085d"
      },
      "source": [
        "#For mounting GDrive\n",
        "from google.colab import drive\n",
        "drive.mount('/content/drive')"
      ],
      "execution_count": 1,
      "outputs": [
        {
          "output_type": "stream",
          "name": "stdout",
          "text": [
            "Drive already mounted at /content/drive; to attempt to forcibly remount, call drive.mount(\"/content/drive\", force_remount=True).\n"
          ]
        }
      ]
    },
    {
      "cell_type": "markdown",
      "metadata": {
        "id": "hsXW3CzQ9KWG"
      },
      "source": [
        "#### **Required modules**"
      ]
    },
    {
      "cell_type": "code",
      "metadata": {
        "colab": {
          "base_uri": "https://localhost:8080/"
        },
        "id": "K08YLlNJhfSU",
        "outputId": "f8a6c437-a916-4536-fa6b-9227e835d052"
      },
      "source": [
        "#Req. opencv 4.5+\n",
        "!pip uninstall opencv-python\n",
        "!pip install opencv-python"
      ],
      "execution_count": 2,
      "outputs": [
        {
          "output_type": "stream",
          "name": "stdout",
          "text": [
            "Found existing installation: opencv-python 4.5.4.60\n",
            "Uninstalling opencv-python-4.5.4.60:\n",
            "  Would remove:\n",
            "    /usr/local/lib/python3.7/dist-packages/cv2/*\n",
            "    /usr/local/lib/python3.7/dist-packages/opencv_python-4.5.4.60.dist-info/*\n",
            "    /usr/local/lib/python3.7/dist-packages/opencv_python.libs/libQt5Core-39545cc7.so.5.15.0\n",
            "    /usr/local/lib/python3.7/dist-packages/opencv_python.libs/libQt5Gui-ba0a2070.so.5.15.0\n",
            "    /usr/local/lib/python3.7/dist-packages/opencv_python.libs/libQt5Test-c38a5234.so.5.15.0\n",
            "    /usr/local/lib/python3.7/dist-packages/opencv_python.libs/libQt5Widgets-e69d94fb.so.5.15.0\n",
            "    /usr/local/lib/python3.7/dist-packages/opencv_python.libs/libQt5XcbQpa-ca221f44.so.5.15.0\n",
            "    /usr/local/lib/python3.7/dist-packages/opencv_python.libs/libX11-xcb-69166bdf.so.1.0.0\n",
            "    /usr/local/lib/python3.7/dist-packages/opencv_python.libs/libXau-00ec42fe.so.6.0.0\n",
            "    /usr/local/lib/python3.7/dist-packages/opencv_python.libs/libavcodec-64ac49e1.so.58.91.100\n",
            "    /usr/local/lib/python3.7/dist-packages/opencv_python.libs/libavformat-4b79e479.so.58.45.100\n",
            "    /usr/local/lib/python3.7/dist-packages/opencv_python.libs/libavutil-805734e8.so.56.51.100\n",
            "    /usr/local/lib/python3.7/dist-packages/opencv_python.libs/libbz2-a273e504.so.1.0.6\n",
            "    /usr/local/lib/python3.7/dist-packages/opencv_python.libs/libcrypto-018b8c17.so.1.1\n",
            "    /usr/local/lib/python3.7/dist-packages/opencv_python.libs/libfreetype-c0e61f0c.so.6.14.0\n",
            "    /usr/local/lib/python3.7/dist-packages/opencv_python.libs/libgfortran-91cc3cb1.so.3.0.0\n",
            "    /usr/local/lib/python3.7/dist-packages/opencv_python.libs/libopenblas-r0-f650aae0.3.3.so\n",
            "    /usr/local/lib/python3.7/dist-packages/opencv_python.libs/libpng15-ce838cd1.so.15.13.0\n",
            "    /usr/local/lib/python3.7/dist-packages/opencv_python.libs/libquadmath-96973f99.so.0.0.0\n",
            "    /usr/local/lib/python3.7/dist-packages/opencv_python.libs/libssl-6082116c.so.1.1\n",
            "    /usr/local/lib/python3.7/dist-packages/opencv_python.libs/libswresample-83ce3247.so.3.7.100\n",
            "    /usr/local/lib/python3.7/dist-packages/opencv_python.libs/libswscale-7e960168.so.5.7.100\n",
            "    /usr/local/lib/python3.7/dist-packages/opencv_python.libs/libvpx-392cd848.so.6.4.0\n",
            "    /usr/local/lib/python3.7/dist-packages/opencv_python.libs/libxcb-icccm-413c9f41.so.4.0.0\n",
            "    /usr/local/lib/python3.7/dist-packages/opencv_python.libs/libxcb-image-e82a276d.so.0.0.0\n",
            "    /usr/local/lib/python3.7/dist-packages/opencv_python.libs/libxcb-keysyms-21015570.so.1.0.0\n",
            "    /usr/local/lib/python3.7/dist-packages/opencv_python.libs/libxcb-randr-a96a5a87.so.0.1.0\n",
            "    /usr/local/lib/python3.7/dist-packages/opencv_python.libs/libxcb-render-637b984a.so.0.0.0\n",
            "    /usr/local/lib/python3.7/dist-packages/opencv_python.libs/libxcb-render-util-43ce00f5.so.0.0.0\n",
            "    /usr/local/lib/python3.7/dist-packages/opencv_python.libs/libxcb-shape-25c2b258.so.0.0.0\n",
            "    /usr/local/lib/python3.7/dist-packages/opencv_python.libs/libxcb-shm-7a199f70.so.0.0.0\n",
            "    /usr/local/lib/python3.7/dist-packages/opencv_python.libs/libxcb-sync-89374f40.so.1.0.0\n",
            "    /usr/local/lib/python3.7/dist-packages/opencv_python.libs/libxcb-util-4d666913.so.1.0.0\n",
            "    /usr/local/lib/python3.7/dist-packages/opencv_python.libs/libxcb-xfixes-9be3ba6f.so.0.0.0\n",
            "    /usr/local/lib/python3.7/dist-packages/opencv_python.libs/libxcb-xinerama-ae147f87.so.0.0.0\n",
            "    /usr/local/lib/python3.7/dist-packages/opencv_python.libs/libxcb-xkb-9ba31ab3.so.1.0.0\n",
            "    /usr/local/lib/python3.7/dist-packages/opencv_python.libs/libxkbcommon-71ae2972.so.0.0.0\n",
            "    /usr/local/lib/python3.7/dist-packages/opencv_python.libs/libxkbcommon-x11-c65ed502.so.0.0.0\n",
            "Proceed (y/n)? y\n",
            "  Successfully uninstalled opencv-python-4.5.4.60\n",
            "Collecting opencv-python\n",
            "  Using cached opencv_python-4.5.4.60-cp37-cp37m-manylinux_2_17_x86_64.manylinux2014_x86_64.whl (60.3 MB)\n",
            "Requirement already satisfied: numpy>=1.14.5 in /usr/local/lib/python3.7/dist-packages (from opencv-python) (1.19.5)\n",
            "Installing collected packages: opencv-python\n",
            "\u001b[31mERROR: pip's dependency resolver does not currently take into account all the packages that are installed. This behaviour is the source of the following dependency conflicts.\n",
            "albumentations 0.1.12 requires imgaug<0.2.7,>=0.2.5, but you have imgaug 0.2.9 which is incompatible.\u001b[0m\n",
            "Successfully installed opencv-python-4.5.4.60\n"
          ]
        }
      ]
    },
    {
      "cell_type": "code",
      "metadata": {
        "id": "__cYeeQF8IEn"
      },
      "source": [
        "#Importing necessary libraries\n",
        "from zipfile import ZipFile\n",
        "from tensorflow.python.client import device_lib\n",
        "import platform\n",
        "import matplotlib.pyplot as plt\n",
        "import seaborn as sns\n",
        "from tensorflow.keras.models import Sequential\n",
        "from tensorflow.keras.layers import Dense, Flatten, Dropout\n",
        "from tensorflow.keras.optimizers import Adam\n",
        "from sklearn.metrics import classification_report, accuracy_score\n",
        "import tensorflow as tf\n",
        "import cv2\n",
        "import os\n",
        "import sys\n",
        "import numpy as np\n",
        "import random"
      ],
      "execution_count": 3,
      "outputs": []
    },
    {
      "cell_type": "markdown",
      "metadata": {
        "id": "lAtfR4ri9T-G"
      },
      "source": [
        "#### **Functions definition**"
      ]
    },
    {
      "cell_type": "code",
      "metadata": {
        "id": "4TAGvB5o8ns-"
      },
      "source": [
        "def extract_zip(file_name = \"drive/MyDrive/Dataset_test_1.zip\"):\n",
        "    with ZipFile(file_name, \"r\") as zip:\n",
        "        zip.extractall()\n",
        "        print(\"Dataset Extracted\")"
      ],
      "execution_count": 4,
      "outputs": []
    },
    {
      "cell_type": "code",
      "metadata": {
        "id": "JwTPw__89fBU"
      },
      "source": [
        "def python_ver():\n",
        "    print(\"\\nPython version:\\n\")\n",
        "    print(sys.version)\n",
        "\n",
        "def device_info():\n",
        "    print(\"\\nDevice Info:\\n\")\n",
        "    print(device_lib.list_local_devices())\n",
        "\n",
        "def platform_info():\n",
        "    print(\"\\nPlatform Info:\\n\")\n",
        "    print(platform.platform())\n",
        "    print(platform.processor())"
      ],
      "execution_count": 5,
      "outputs": []
    },
    {
      "cell_type": "code",
      "metadata": {
        "id": "QtlFrxEVYIno"
      },
      "source": [
        "def SIFT_test(dirs, labels, img_size):\n",
        "    \"\"\"Scale Invariant Feature Transform Test run for finding the minimum keypoints detected among all the images in the dataset\"\"\"\n",
        "    \n",
        "    min_key = np.inf\n",
        "    \n",
        "    for data_dir in dirs:\n",
        "        for label in labels:\n",
        "            path = os.path.join(data_dir, label)\n",
        "            for img in os.listdir(path):\n",
        "                #Reading the image in grayscale mode\n",
        "                img_arr = cv2.imread(os.path.join(path, img), cv2.IMREAD_GRAYSCALE)\n",
        "                   \n",
        "                #Reshaping images to preferred size\n",
        "                resized_arr = cv2.resize(img_arr, (img_size, img_size)) \n",
        "\n",
        "                #detecting keypoints\n",
        "                sift = cv2.SIFT_create()\n",
        "                keypoints = sift.detect(resized_arr, None)\n",
        "\n",
        "                if (len(keypoints) < min_key):\n",
        "                    min_key = len(keypoints)\n",
        "                \n",
        "    return min_key"
      ],
      "execution_count": 6,
      "outputs": []
    },
    {
      "cell_type": "code",
      "metadata": {
        "id": "j9IR6y7nYJ5a"
      },
      "source": [
        "def SIFT(image, min_key):\n",
        "    \"\"\"Scale Invariant Feature Transform for finding keypoints and computing descriptors\"\"\"\n",
        "    \n",
        "    sift = cv2.SIFT_create(min_key)\n",
        "    keypoints, descriptors = sift.detectAndCompute(image, None)\n",
        "\n",
        "    return np.array(descriptors, dtype=\"i\")[:min_key]"
      ],
      "execution_count": 7,
      "outputs": []
    },
    {
      "cell_type": "code",
      "metadata": {
        "id": "GSQlfqEA9jN7"
      },
      "source": [
        "def dataset_creation(data_dir, labels, img_size, min_key):\n",
        "    \"\"\"Loading data and shuffling\"\"\"\n",
        "    data = [] \n",
        "\n",
        "    for class_num, label in enumerate(labels): \n",
        "        path = os.path.join(data_dir, label)\n",
        "        for img in os.listdir(path):\n",
        "            try:\n",
        "                #Reading the image in grayscale mode\n",
        "                img_arr = cv2.imread(os.path.join(path, img), cv2.IMREAD_GRAYSCALE)\n",
        "                \n",
        "                #Reshaping images to preferred size\n",
        "                resized_arr = cv2.resize(img_arr, (img_size, img_size)) \n",
        "\n",
        "                #SIFT function call\n",
        "                SIFT_img_desc = SIFT(resized_arr, min_key)\n",
        "                \n",
        "                data.append([SIFT_img_desc, class_num])\n",
        "            except Exception as err:\n",
        "                print(\"Error:\\n\",err)\n",
        "    \n",
        "    random.shuffle(data)\n",
        "    return np.array(data)"
      ],
      "execution_count": 8,
      "outputs": []
    },
    {
      "cell_type": "code",
      "metadata": {
        "id": "gr4RAyHY9oed"
      },
      "source": [
        "def dataset_creation_train_stat(labels, train):\n",
        "    \"\"\"Plot initial data graph\"\"\"\n",
        "    list_graph = []\n",
        "    for i in train:\n",
        "        list_graph.append(labels[i[1]])\n",
        "    \n",
        "    sns.set_style('darkgrid')\n",
        "    plt.figure(figsize=(25, 25))    \n",
        "    sns.countplot(list_graph)\n",
        "    plt.title(\"Train set\")\n",
        "    plt.show()\n",
        "\n",
        "\n",
        "def dataset_creation_test_stat(labels, test):\n",
        "    \"\"\"Plot initial data graph\"\"\"\n",
        "    list_graph = []\n",
        "    for i in test:\n",
        "        list_graph.append(labels[i[1]])\n",
        "    \n",
        "    sns.set_style('darkgrid')\n",
        "    plt.figure(figsize=(25, 25))\n",
        "    sns.countplot(list_graph)\n",
        "    plt.title(\"Test set\")\n",
        "    plt.show()"
      ],
      "execution_count": 9,
      "outputs": []
    },
    {
      "cell_type": "code",
      "metadata": {
        "id": "mCiE7s_E9072"
      },
      "source": [
        "def train_test_data_split(train, test):\n",
        "    \"\"\"train and test\"\"\"\n",
        "    x_train = []\n",
        "    y_train = []\n",
        "    x_test = []\n",
        "    y_test = []\n",
        "\n",
        "    for feature, label in train:\n",
        "        x_train.append(feature)\n",
        "        y_train.append(label)\n",
        "\n",
        "    for feature, label in test:\n",
        "        x_test.append(feature)\n",
        "        y_test.append(label)\n",
        "\n",
        "    return (np.array(x_train), np.array(y_train), np.array(x_test), np.array(y_test))"
      ],
      "execution_count": 10,
      "outputs": []
    },
    {
      "cell_type": "code",
      "metadata": {
        "id": "SizxlEkV94hy"
      },
      "source": [
        "def normalize_array_conv_data(x_train, y_train, x_test, y_test):\n",
        "    \"\"\"Normalize and array conversion\"\"\"\n",
        "    x_train = np.array(x_train) / 255\n",
        "    x_test = np.array(x_test) / 255\n",
        "\n",
        "    y_train = np.array(y_train)\n",
        "    y_test = np.array(y_test)\n",
        "\n",
        "    return (x_train, y_train, x_test, y_test)"
      ],
      "execution_count": 11,
      "outputs": []
    },
    {
      "cell_type": "code",
      "metadata": {
        "id": "RgLvHqvB98Dd"
      },
      "source": [
        "def build_model_ann(tot_classes, x_train):\n",
        "    \"\"\"Builds ANN model and prints model summary\"\"\"\n",
        "    model = Sequential()\n",
        "    \n",
        "    model.add(Flatten(input_shape=x_train.shape[1:]))\n",
        "    model.add(Dense(3000,activation=\"relu\"))\n",
        "    model.add(Dropout(0.5))\n",
        "    model.add(Dense(1000,activation=\"relu\"))\n",
        "    model.add(Dropout(0.5))\n",
        "    model.add(Dense(tot_classes, activation=\"softmax\"))\n",
        "\n",
        "    model.summary()\n",
        "    return model"
      ],
      "execution_count": 12,
      "outputs": []
    },
    {
      "cell_type": "code",
      "metadata": {
        "id": "9nEf4toB-BzT"
      },
      "source": [
        "def compile_and_fit(model, x_train, y_train, x_test, y_test, iterations, l_rate):\n",
        "    \"\"\"Compiles and fits the model\"\"\"\n",
        "    opt = Adam(learning_rate=l_rate)\n",
        "    model.compile(optimizer = opt, loss = \"sparse_categorical_crossentropy\", metrics = ['accuracy'])\n",
        "    history = model.fit(x_train, y_train, epochs = iterations, validation_data = (x_test, y_test))\n",
        "\n",
        "    return (history, model)"
      ],
      "execution_count": 13,
      "outputs": []
    },
    {
      "cell_type": "code",
      "metadata": {
        "id": "BpybfYak-FKt"
      },
      "source": [
        "def acc_plots(history, iterations):\n",
        "    \"\"\"Requires history and number of iterations\"\"\"\n",
        "    acc = history.history['accuracy']\n",
        "    val_acc = history.history['val_accuracy']\n",
        "    loss = history.history['loss']\n",
        "    val_loss = history.history['val_loss']\n",
        "\n",
        "    epochs_range = range(iterations)\n",
        "\n",
        "    plt.figure(figsize=(15, 15))\n",
        "    plt.subplot(2, 2, 1)\n",
        "    plt.plot(epochs_range, acc, label='Training Accuracy')\n",
        "    plt.plot(epochs_range, val_acc, label='Validation Accuracy')\n",
        "    plt.legend(loc='lower right')\n",
        "    plt.title('Training and Validation Accuracy')\n",
        "\n",
        "    plt.subplot(2, 2, 2)\n",
        "    plt.plot(epochs_range, loss, label='Training Loss')\n",
        "    plt.plot(epochs_range, val_loss, label='Validation Loss')\n",
        "    plt.legend(loc='upper right')\n",
        "    plt.title('Training and Validation Loss')\n",
        "    plt.show()"
      ],
      "execution_count": 14,
      "outputs": []
    },
    {
      "cell_type": "code",
      "metadata": {
        "id": "lTTbnTYd-Ipb"
      },
      "source": [
        "def acc_results(model, labels, x_test, y_test):\n",
        "    \"\"\"Prediction and test accuracy\"\"\"\n",
        "    predictions = np.argmax(model.predict(x_test), axis=-1)\n",
        "    print(classification_report(y_test, predictions, target_names = labels))\n",
        "    print(\"\\nAccuracy = \"+str(accuracy_score(y_test, predictions)*100)+\"%\")"
      ],
      "execution_count": 15,
      "outputs": []
    },
    {
      "cell_type": "markdown",
      "metadata": {
        "id": "M1PFZZFw-S_P"
      },
      "source": [
        "#### **Making Function calls and defining variables**"
      ]
    },
    {
      "cell_type": "code",
      "metadata": {
        "colab": {
          "base_uri": "https://localhost:8080/"
        },
        "id": "OgZinHaw-Mq7",
        "outputId": "ea369b92-1746-4576-da61-fa20e23e1755"
      },
      "source": [
        "#Extracting Dataset\n",
        "extract_zip(\"drive/MyDrive/Dataset_test_1.zip\")\n",
        "\n",
        "#Device and environment Info\n",
        "python_ver()\n",
        "device_info()\n",
        "platform_info()"
      ],
      "execution_count": 16,
      "outputs": [
        {
          "output_type": "stream",
          "name": "stdout",
          "text": [
            "Dataset Extracted\n",
            "\n",
            "Python version:\n",
            "\n",
            "3.7.12 (default, Sep 10 2021, 00:21:48) \n",
            "[GCC 7.5.0]\n",
            "\n",
            "Device Info:\n",
            "\n",
            "[name: \"/device:CPU:0\"\n",
            "device_type: \"CPU\"\n",
            "memory_limit: 268435456\n",
            "locality {\n",
            "}\n",
            "incarnation: 8326411934347365251\n",
            "xla_global_id: -1\n",
            ", name: \"/device:GPU:0\"\n",
            "device_type: \"GPU\"\n",
            "memory_limit: 11321147392\n",
            "locality {\n",
            "  bus_id: 1\n",
            "  links {\n",
            "  }\n",
            "}\n",
            "incarnation: 10613970462799954281\n",
            "physical_device_desc: \"device: 0, name: Tesla K80, pci bus id: 0000:00:04.0, compute capability: 3.7\"\n",
            "xla_global_id: 416903419\n",
            "]\n",
            "\n",
            "Platform Info:\n",
            "\n",
            "Linux-5.4.104+-x86_64-with-Ubuntu-18.04-bionic\n",
            "x86_64\n"
          ]
        }
      ]
    },
    {
      "cell_type": "code",
      "metadata": {
        "id": "Bl01clC0-XOZ"
      },
      "source": [
        "#Variables\n",
        "dirs = [\"Dataset_test_1/Train\", \"Dataset_test_1/Test\"]\n",
        "labels = ['Buddha', 'Garuda', 'Goddess_Durga', 'Goddess_Lakshmi', 'Goddess_Saraswathi', 'Lord_Ganesh', \n",
        "        'Lord_Hanuman', 'Lord_Hayagriva', 'Lord_Indra', 'Lord_Krishna', 'Lord_Muruga', 'Nandi', 'Nataraj', \n",
        "        'Shirdi_Sai_Baba', 'Shivling']\n",
        "img_size = 224\n",
        "tot_classes = len(labels)\n",
        "num_sample_img = 3\n",
        "iterations = 70\n",
        "l_rate = 0.0001"
      ],
      "execution_count": 17,
      "outputs": []
    },
    {
      "cell_type": "code",
      "metadata": {
        "colab": {
          "base_uri": "https://localhost:8080/"
        },
        "id": "ngdQO8_D-kzS",
        "outputId": "6e833db6-05a3-46b7-9238-a0d0c3a3cac4"
      },
      "source": [
        "#Min keypoints detection\n",
        "min_key = SIFT_test(dirs, labels, img_size)\n",
        "\n",
        "#Train and Test data loading\n",
        "train = dataset_creation(\"Dataset_test_1/Train\", labels, img_size, min_key)\n",
        "test = dataset_creation(\"Dataset_test_1/Test\", labels, img_size, min_key)"
      ],
      "execution_count": 18,
      "outputs": [
        {
          "output_type": "stream",
          "name": "stderr",
          "text": [
            "/usr/local/lib/python3.7/dist-packages/ipykernel_launcher.py:23: VisibleDeprecationWarning: Creating an ndarray from ragged nested sequences (which is a list-or-tuple of lists-or-tuples-or ndarrays with different lengths or shapes) is deprecated. If you meant to do this, you must specify 'dtype=object' when creating the ndarray\n"
          ]
        }
      ]
    },
    {
      "cell_type": "code",
      "metadata": {
        "colab": {
          "base_uri": "https://localhost:8080/",
          "height": 1000
        },
        "id": "ci_GDz0G-ngO",
        "outputId": "2cad0622-a508-47d7-cf23-e109578c6ba1"
      },
      "source": [
        "#Stats\n",
        "dataset_creation_train_stat(labels, train)\n",
        "dataset_creation_test_stat(labels, test)"
      ],
      "execution_count": 19,
      "outputs": [
        {
          "output_type": "stream",
          "name": "stderr",
          "text": [
            "/usr/local/lib/python3.7/dist-packages/seaborn/_decorators.py:43: FutureWarning: Pass the following variable as a keyword arg: x. From version 0.12, the only valid positional argument will be `data`, and passing other arguments without an explicit keyword will result in an error or misinterpretation.\n",
            "  FutureWarning\n"
          ]
        },
        {
          "output_type": "display_data",
          "data": {
            "image/png": "[encoded data removed]",
            "text/plain": [
              "<Figure size 1800x1800 with 1 Axes>"
            ]
          },
          "metadata": {}
        },
        {
          "output_type": "stream",
          "name": "stderr",
          "text": [
            "/usr/local/lib/python3.7/dist-packages/seaborn/_decorators.py:43: FutureWarning: Pass the following variable as a keyword arg: x. From version 0.12, the only valid positional argument will be `data`, and passing other arguments without an explicit keyword will result in an error or misinterpretation.\n",
            "  FutureWarning\n"
          ]
        },
        {
          "output_type": "display_data",
          "data": {
            "image/png": "[encoded data removed]",
            "text/plain": [
              "<Figure size 1800x1800 with 1 Axes>"
            ]
          },
          "metadata": {}
        }
      ]
    },
    {
      "cell_type": "code",
      "metadata": {
        "id": "4JOI1Up6-tGQ"
      },
      "source": [
        "#Training and testing data\n",
        "x_train, y_train, x_test, y_test = train_test_data_split(train, test)"
      ],
      "execution_count": 20,
      "outputs": []
    },
    {
      "cell_type": "code",
      "metadata": {
        "colab": {
          "base_uri": "https://localhost:8080/"
        },
        "id": "08fhlmqh-z4O",
        "outputId": "e9e1285e-3e2e-4ef4-b15b-3fb16aab5d96"
      },
      "source": [
        "#Building ANN Model\n",
        "model = build_model_ann(tot_classes, x_train)\n"
      ],
      "execution_count": 21,
      "outputs": [
        {
          "output_type": "stream",
          "name": "stdout",
          "text": [
            "Model: \"sequential\"\n",
            "_________________________________________________________________\n",
            " Layer (type)                Output Shape              Param #   \n",
            "=================================================================\n",
            " flatten (Flatten)           (None, 4608)              0         \n",
            "                                                                 \n",
            " dense (Dense)               (None, 3000)              13827000  \n",
            "                                                                 \n",
            " dropout (Dropout)           (None, 3000)              0         \n",
            "                                                                 \n",
            " dense_1 (Dense)             (None, 1000)              3001000   \n",
            "                                                                 \n",
            " dropout_1 (Dropout)         (None, 1000)              0         \n",
            "                                                                 \n",
            " dense_2 (Dense)             (None, 15)                15015     \n",
            "                                                                 \n",
            "=================================================================\n",
            "Total params: 16,843,015\n",
            "Trainable params: 16,843,015\n",
            "Non-trainable params: 0\n",
            "_________________________________________________________________\n"
          ]
        }
      ]
    },
    {
      "cell_type": "code",
      "metadata": {
        "colab": {
          "base_uri": "https://localhost:8080/"
        },
        "id": "j5NP-yio-5Bl",
        "outputId": "d05c1b4a-09f0-4cac-e8bc-512633d59bfe"
      },
      "source": [
        "#Compile and fit the model\n",
        "history, model = compile_and_fit(model, x_train, y_train, x_test, y_test, iterations, l_rate)"
      ],
      "execution_count": 22,
      "outputs": [
        {
          "output_type": "stream",
          "name": "stdout",
          "text": [
            "Epoch 1/70\n",
            "71/71 [==============================] - 2s 15ms/step - loss: 85.5930 - accuracy: 0.0796 - val_loss: 15.3355 - val_accuracy: 0.0833\n",
            "Epoch 2/70\n",
            "71/71 [==============================] - 1s 11ms/step - loss: 36.0468 - accuracy: 0.1098 - val_loss: 6.6856 - val_accuracy: 0.0833\n",
            "Epoch 3/70\n",
            "71/71 [==============================] - 1s 11ms/step - loss: 23.1565 - accuracy: 0.1009 - val_loss: 3.9051 - val_accuracy: 0.0967\n",
            "Epoch 4/70\n",
            "71/71 [==============================] - 1s 11ms/step - loss: 15.9666 - accuracy: 0.1093 - val_loss: 2.9351 - val_accuracy: 0.1000\n",
            "Epoch 5/70\n",
            "71/71 [==============================] - 1s 11ms/step - loss: 11.3296 - accuracy: 0.1098 - val_loss: 2.7082 - val_accuracy: 0.0767\n",
            "Epoch 6/70\n",
            "71/71 [==============================] - 1s 11ms/step - loss: 7.8287 - accuracy: 0.1022 - val_loss: 2.7085 - val_accuracy: 0.0600\n",
            "Epoch 7/70\n",
            "71/71 [==============================] - 1s 11ms/step - loss: 5.6131 - accuracy: 0.0840 - val_loss: 2.7081 - val_accuracy: 0.0667\n",
            "Epoch 8/70\n",
            "71/71 [==============================] - 1s 12ms/step - loss: 4.1787 - accuracy: 0.0889 - val_loss: 2.7081 - val_accuracy: 0.0667\n",
            "Epoch 9/70\n",
            "71/71 [==============================] - 1s 11ms/step - loss: 3.6473 - accuracy: 0.0769 - val_loss: 2.7081 - val_accuracy: 0.0667\n",
            "Epoch 10/70\n",
            "71/71 [==============================] - 1s 11ms/step - loss: 3.3695 - accuracy: 0.0667 - val_loss: 2.7081 - val_accuracy: 0.0667\n",
            "Epoch 11/70\n",
            "71/71 [==============================] - 1s 11ms/step - loss: 3.1422 - accuracy: 0.0742 - val_loss: 2.7081 - val_accuracy: 0.0667\n",
            "Epoch 12/70\n",
            "71/71 [==============================] - 1s 11ms/step - loss: 3.0302 - accuracy: 0.0729 - val_loss: 2.7081 - val_accuracy: 0.0667\n",
            "Epoch 13/70\n",
            "71/71 [==============================] - 1s 11ms/step - loss: 3.0172 - accuracy: 0.0751 - val_loss: 2.7081 - val_accuracy: 0.0667\n",
            "Epoch 14/70\n",
            "71/71 [==============================] - 1s 11ms/step - loss: 2.9241 - accuracy: 0.0782 - val_loss: 2.7081 - val_accuracy: 0.0667\n",
            "Epoch 15/70\n",
            "71/71 [==============================] - 1s 12ms/step - loss: 2.8888 - accuracy: 0.0707 - val_loss: 2.7081 - val_accuracy: 0.0667\n",
            "Epoch 16/70\n",
            "71/71 [==============================] - 1s 11ms/step - loss: 2.8912 - accuracy: 0.0622 - val_loss: 2.7081 - val_accuracy: 0.0667\n",
            "Epoch 17/70\n",
            "71/71 [==============================] - 1s 11ms/step - loss: 2.8139 - accuracy: 0.0778 - val_loss: 2.7081 - val_accuracy: 0.0667\n",
            "Epoch 18/70\n",
            "71/71 [==============================] - 1s 11ms/step - loss: 2.8430 - accuracy: 0.0693 - val_loss: 2.7081 - val_accuracy: 0.0667\n",
            "Epoch 19/70\n",
            "71/71 [==============================] - 1s 11ms/step - loss: 2.8190 - accuracy: 0.0680 - val_loss: 2.7081 - val_accuracy: 0.0667\n",
            "Epoch 20/70\n",
            "71/71 [==============================] - 1s 12ms/step - loss: 2.8215 - accuracy: 0.0689 - val_loss: 2.7081 - val_accuracy: 0.0667\n",
            "Epoch 21/70\n",
            "71/71 [==============================] - 1s 12ms/step - loss: 2.8032 - accuracy: 0.0738 - val_loss: 2.7081 - val_accuracy: 0.0667\n",
            "Epoch 22/70\n",
            "71/71 [==============================] - 1s 11ms/step - loss: 2.7845 - accuracy: 0.0653 - val_loss: 2.7081 - val_accuracy: 0.0667\n",
            "Epoch 23/70\n",
            "71/71 [==============================] - 1s 11ms/step - loss: 2.7718 - accuracy: 0.0676 - val_loss: 2.7081 - val_accuracy: 0.0667\n",
            "Epoch 24/70\n",
            "71/71 [==============================] - 1s 11ms/step - loss: 2.8152 - accuracy: 0.0658 - val_loss: 2.7081 - val_accuracy: 0.0667\n",
            "Epoch 25/70\n",
            "71/71 [==============================] - 1s 11ms/step - loss: 2.7654 - accuracy: 0.0644 - val_loss: 2.7081 - val_accuracy: 0.0667\n",
            "Epoch 26/70\n",
            "71/71 [==============================] - 1s 11ms/step - loss: 2.7721 - accuracy: 0.0684 - val_loss: 2.7081 - val_accuracy: 0.0667\n",
            "Epoch 27/70\n",
            "71/71 [==============================] - 1s 11ms/step - loss: 2.7842 - accuracy: 0.0676 - val_loss: 2.7081 - val_accuracy: 0.0667\n",
            "Epoch 28/70\n",
            "71/71 [==============================] - 1s 11ms/step - loss: 2.7757 - accuracy: 0.0671 - val_loss: 2.7081 - val_accuracy: 0.0667\n",
            "Epoch 29/70\n",
            "71/71 [==============================] - 1s 11ms/step - loss: 2.7412 - accuracy: 0.0671 - val_loss: 2.7081 - val_accuracy: 0.0667\n",
            "Epoch 30/70\n",
            "71/71 [==============================] - 1s 12ms/step - loss: 2.7510 - accuracy: 0.0689 - val_loss: 2.7081 - val_accuracy: 0.0667\n",
            "Epoch 31/70\n",
            "71/71 [==============================] - 1s 11ms/step - loss: 2.7543 - accuracy: 0.0578 - val_loss: 2.7081 - val_accuracy: 0.0667\n",
            "Epoch 32/70\n",
            "71/71 [==============================] - 1s 11ms/step - loss: 2.7621 - accuracy: 0.0609 - val_loss: 2.7081 - val_accuracy: 0.0667\n",
            "Epoch 33/70\n",
            "71/71 [==============================] - 1s 11ms/step - loss: 2.7447 - accuracy: 0.0622 - val_loss: 2.7081 - val_accuracy: 0.0667\n",
            "Epoch 34/70\n",
            "71/71 [==============================] - 1s 11ms/step - loss: 2.7392 - accuracy: 0.0693 - val_loss: 2.7081 - val_accuracy: 0.0667\n",
            "Epoch 35/70\n",
            "71/71 [==============================] - 1s 12ms/step - loss: 2.7379 - accuracy: 0.0609 - val_loss: 2.7081 - val_accuracy: 0.0667\n",
            "Epoch 36/70\n",
            "71/71 [==============================] - 1s 11ms/step - loss: 2.7469 - accuracy: 0.0662 - val_loss: 2.7081 - val_accuracy: 0.0667\n",
            "Epoch 37/70\n",
            "71/71 [==============================] - 1s 12ms/step - loss: 2.7277 - accuracy: 0.0680 - val_loss: 2.7081 - val_accuracy: 0.0667\n",
            "Epoch 38/70\n",
            "71/71 [==============================] - 1s 12ms/step - loss: 2.7366 - accuracy: 0.0662 - val_loss: 2.7081 - val_accuracy: 0.0667\n",
            "Epoch 39/70\n",
            "71/71 [==============================] - 1s 11ms/step - loss: 2.7561 - accuracy: 0.0640 - val_loss: 2.7081 - val_accuracy: 0.0667\n",
            "Epoch 40/70\n",
            "71/71 [==============================] - 1s 11ms/step - loss: 2.7383 - accuracy: 0.0671 - val_loss: 2.7081 - val_accuracy: 0.0667\n",
            "Epoch 41/70\n",
            "71/71 [==============================] - 1s 12ms/step - loss: 2.7355 - accuracy: 0.0596 - val_loss: 2.7081 - val_accuracy: 0.0667\n",
            "Epoch 42/70\n",
            "71/71 [==============================] - 1s 11ms/step - loss: 2.7190 - accuracy: 0.0662 - val_loss: 2.7081 - val_accuracy: 0.0667\n",
            "Epoch 43/70\n",
            "71/71 [==============================] - 1s 11ms/step - loss: 2.7342 - accuracy: 0.0662 - val_loss: 2.7081 - val_accuracy: 0.0667\n",
            "Epoch 44/70\n",
            "71/71 [==============================] - 1s 11ms/step - loss: 2.7438 - accuracy: 0.0578 - val_loss: 2.7081 - val_accuracy: 0.0667\n",
            "Epoch 45/70\n",
            "71/71 [==============================] - 1s 11ms/step - loss: 2.7314 - accuracy: 0.0667 - val_loss: 2.7081 - val_accuracy: 0.0667\n",
            "Epoch 46/70\n",
            "71/71 [==============================] - 1s 11ms/step - loss: 2.7343 - accuracy: 0.0680 - val_loss: 2.7081 - val_accuracy: 0.0667\n",
            "Epoch 47/70\n",
            "71/71 [==============================] - 1s 11ms/step - loss: 2.7149 - accuracy: 0.0676 - val_loss: 2.7081 - val_accuracy: 0.0667\n",
            "Epoch 48/70\n",
            "71/71 [==============================] - 1s 12ms/step - loss: 2.7325 - accuracy: 0.0667 - val_loss: 2.7081 - val_accuracy: 0.0667\n",
            "Epoch 49/70\n",
            "71/71 [==============================] - 1s 11ms/step - loss: 2.7172 - accuracy: 0.0680 - val_loss: 2.7081 - val_accuracy: 0.0667\n",
            "Epoch 50/70\n",
            "71/71 [==============================] - 1s 12ms/step - loss: 2.7217 - accuracy: 0.0658 - val_loss: 2.7081 - val_accuracy: 0.0667\n",
            "Epoch 51/70\n",
            "71/71 [==============================] - 1s 11ms/step - loss: 2.7165 - accuracy: 0.0658 - val_loss: 2.7081 - val_accuracy: 0.0667\n",
            "Epoch 52/70\n",
            "71/71 [==============================] - 1s 11ms/step - loss: 2.7211 - accuracy: 0.0693 - val_loss: 2.7081 - val_accuracy: 0.0667\n",
            "Epoch 53/70\n",
            "71/71 [==============================] - 1s 12ms/step - loss: 2.7331 - accuracy: 0.0653 - val_loss: 2.7081 - val_accuracy: 0.0667\n",
            "Epoch 54/70\n",
            "71/71 [==============================] - 1s 11ms/step - loss: 2.7314 - accuracy: 0.0658 - val_loss: 2.7081 - val_accuracy: 0.0667\n",
            "Epoch 55/70\n",
            "71/71 [==============================] - 1s 11ms/step - loss: 2.7285 - accuracy: 0.0636 - val_loss: 2.7081 - val_accuracy: 0.0667\n",
            "Epoch 56/70\n",
            "71/71 [==============================] - 1s 12ms/step - loss: 2.7177 - accuracy: 0.0662 - val_loss: 2.7081 - val_accuracy: 0.0667\n",
            "Epoch 57/70\n",
            "71/71 [==============================] - 1s 12ms/step - loss: 2.7173 - accuracy: 0.0649 - val_loss: 2.7081 - val_accuracy: 0.0667\n",
            "Epoch 58/70\n",
            "71/71 [==============================] - 1s 11ms/step - loss: 2.7150 - accuracy: 0.0658 - val_loss: 2.7081 - val_accuracy: 0.0667\n",
            "Epoch 59/70\n",
            "71/71 [==============================] - 1s 12ms/step - loss: 2.7193 - accuracy: 0.0640 - val_loss: 2.7081 - val_accuracy: 0.0667\n",
            "Epoch 60/70\n",
            "71/71 [==============================] - 1s 11ms/step - loss: 2.7155 - accuracy: 0.0622 - val_loss: 2.7081 - val_accuracy: 0.0667\n",
            "Epoch 61/70\n",
            "71/71 [==============================] - 1s 11ms/step - loss: 2.7230 - accuracy: 0.0653 - val_loss: 2.7081 - val_accuracy: 0.0667\n",
            "Epoch 62/70\n",
            "71/71 [==============================] - 1s 11ms/step - loss: 2.7348 - accuracy: 0.0613 - val_loss: 2.7081 - val_accuracy: 0.0667\n",
            "Epoch 63/70\n",
            "71/71 [==============================] - 1s 12ms/step - loss: 2.7403 - accuracy: 0.0631 - val_loss: 2.7081 - val_accuracy: 0.0667\n",
            "Epoch 64/70\n",
            "71/71 [==============================] - 1s 12ms/step - loss: 2.7249 - accuracy: 0.0587 - val_loss: 2.7081 - val_accuracy: 0.0667\n",
            "Epoch 65/70\n",
            "71/71 [==============================] - 1s 12ms/step - loss: 2.7176 - accuracy: 0.0604 - val_loss: 2.7081 - val_accuracy: 0.0667\n",
            "Epoch 66/70\n",
            "71/71 [==============================] - 1s 12ms/step - loss: 2.7218 - accuracy: 0.0627 - val_loss: 2.7081 - val_accuracy: 0.0667\n",
            "Epoch 67/70\n",
            "71/71 [==============================] - 1s 11ms/step - loss: 2.7238 - accuracy: 0.0587 - val_loss: 2.7081 - val_accuracy: 0.0667\n",
            "Epoch 68/70\n",
            "71/71 [==============================] - 1s 12ms/step - loss: 2.7261 - accuracy: 0.0631 - val_loss: 2.7081 - val_accuracy: 0.0667\n",
            "Epoch 69/70\n",
            "71/71 [==============================] - 1s 12ms/step - loss: 2.7272 - accuracy: 0.0649 - val_loss: 2.7081 - val_accuracy: 0.0667\n",
            "Epoch 70/70\n",
            "71/71 [==============================] - 1s 12ms/step - loss: 2.7135 - accuracy: 0.0658 - val_loss: 2.7081 - val_accuracy: 0.0667\n"
          ]
        }
      ]
    },
    {
      "cell_type": "code",
      "metadata": {
        "colab": {
          "base_uri": "https://localhost:8080/",
          "height": 435
        },
        "id": "pMBMXPgy--9S",
        "outputId": "ebc3f799-5a38-4455-e597-11244bf792d5"
      },
      "source": [
        "#Plots\n",
        "acc_plots(history, iterations)"
      ],
      "execution_count": 23,
      "outputs": [
        {
          "output_type": "display_data",
          "data": {
            "image/png": "[encoded data removed]",
            "text/plain": [
              "<Figure size 1080x1080 with 2 Axes>"
            ]
          },
          "metadata": {}
        }
      ]
    },
    {
      "cell_type": "code",
      "metadata": {
        "colab": {
          "base_uri": "https://localhost:8080/"
        },
        "id": "A7sVGFjb_DdS",
        "outputId": "7f387f26-147a-47cb-9cef-03b5ff6399d1"
      },
      "source": [
        "#Results\n",
        "acc_results(model, labels, x_test, y_test)"
      ],
      "execution_count": 24,
      "outputs": [
        {
          "output_type": "stream",
          "name": "stdout",
          "text": [
            "                    precision    recall  f1-score   support\n",
            "\n",
            "            Buddha       0.00      0.00      0.00        20\n",
            "            Garuda       0.00      0.00      0.00        20\n",
            "     Goddess_Durga       0.00      0.00      0.00        20\n",
            "   Goddess_Lakshmi       0.00      0.00      0.00        20\n",
            "Goddess_Saraswathi       0.00      0.00      0.00        20\n",
            "       Lord_Ganesh       0.00      0.00      0.00        20\n",
            "      Lord_Hanuman       0.00      0.00      0.00        20\n",
            "    Lord_Hayagriva       0.00      0.00      0.00        20\n",
            "        Lord_Indra       0.07      1.00      0.12        20\n",
            "      Lord_Krishna       0.00      0.00      0.00        20\n",
            "       Lord_Muruga       0.00      0.00      0.00        20\n",
            "             Nandi       0.00      0.00      0.00        20\n",
            "           Nataraj       0.00      0.00      0.00        20\n",
            "   Shirdi_Sai_Baba       0.00      0.00      0.00        20\n",
            "          Shivling       0.00      0.00      0.00        20\n",
            "\n",
            "          accuracy                           0.07       300\n",
            "         macro avg       0.00      0.07      0.01       300\n",
            "      weighted avg       0.00      0.07      0.01       300\n",
            "\n",
            "\n",
            "Accuracy = 6.666666666666667%\n"
          ]
        },
        {
          "output_type": "stream",
          "name": "stderr",
          "text": [
            "/usr/local/lib/python3.7/dist-packages/sklearn/metrics/_classification.py:1308: UndefinedMetricWarning: Precision and F-score are ill-defined and being set to 0.0 in labels with no predicted samples. Use `zero_division` parameter to control this behavior.\n",
            "  _warn_prf(average, modifier, msg_start, len(result))\n",
            "/usr/local/lib/python3.7/dist-packages/sklearn/metrics/_classification.py:1308: UndefinedMetricWarning: Precision and F-score are ill-defined and being set to 0.0 in labels with no predicted samples. Use `zero_division` parameter to control this behavior.\n",
            "  _warn_prf(average, modifier, msg_start, len(result))\n",
            "/usr/local/lib/python3.7/dist-packages/sklearn/metrics/_classification.py:1308: UndefinedMetricWarning: Precision and F-score are ill-defined and being set to 0.0 in labels with no predicted samples. Use `zero_division` parameter to control this behavior.\n",
            "  _warn_prf(average, modifier, msg_start, len(result))\n"
          ]
        }
      ]
    },
    {
      "cell_type": "markdown",
      "metadata": {
        "id": "lYyGyFyM_FAo"
      },
      "source": [
        "#### **Result: For learning rate = 1*10^(-4) and 70 iterations, the highest accuracy obtained is 10%(approx) at (1, 10).**"
      ]
    }
  ]
}