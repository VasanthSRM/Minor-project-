{
  "nbformat": 4,
  "nbformat_minor": 0,
  "metadata": {
    "accelerator": "GPU",
    "colab": {
      "name": "SIFT_ANN_MIN_KEY_Test_run_1_lr_1e(-3)_epochs_50_acc_6.67.ipynb",
      "provenance": [],
      "collapsed_sections": []
    },
    "kernelspec": {
      "display_name": "Python 3",
      "name": "python3"
    },
    "language_info": {
      "name": "python"
    }
  },
  "cells": [
    {
      "cell_type": "markdown",
      "metadata": {
        "id": "xkfpI5lL8ofl"
      },
      "source": [
        "## **SIFT + ANN (Min_Keypoints approach)**\n",
        "#### **lr=1*10^(-3), epochs=50, Accuracy = 6.67% (approx) at (1, 50) epochs range**\n",
        "#### **Test run - 1**"
      ]
    },
    {
      "cell_type": "markdown",
      "metadata": {
        "id": "5AVHk6bP8110"
      },
      "source": [
        "#### **Aim: To find suitable learning rate and epoch value.**"
      ]
    },
    {
      "cell_type": "markdown",
      "metadata": {
        "id": "xaufx6N9PNMd"
      },
      "source": [
        "#### **For mounting drive**"
      ]
    },
    {
      "cell_type": "code",
      "metadata": {
        "colab": {
          "base_uri": "https://localhost:8080/"
        },
        "id": "LoT75uFsDMt3",
        "outputId": "520a82ee-b6c8-44ee-a4d1-b8f22b0280a4"
      },
      "source": [
        "#For mounting GDrive\n",
        "from google.colab import drive\n",
        "drive.mount('/content/drive')"
      ],
      "execution_count": 1,
      "outputs": [
        {
          "output_type": "stream",
          "name": "stdout",
          "text": [
            "Mounted at /content/drive\n"
          ]
        }
      ]
    },
    {
      "cell_type": "markdown",
      "metadata": {
        "id": "hsXW3CzQ9KWG"
      },
      "source": [
        "#### **Required modules**"
      ]
    },
    {
      "cell_type": "code",
      "metadata": {
        "colab": {
          "base_uri": "https://localhost:8080/"
        },
        "id": "K08YLlNJhfSU",
        "outputId": "4adefd49-9c1d-44ce-e745-41b43ad08e59"
      },
      "source": [
        "#Req. opencv 4.5+\n",
        "!pip uninstall opencv-python\n",
        "!pip install opencv-python"
      ],
      "execution_count": 2,
      "outputs": [
        {
          "output_type": "stream",
          "name": "stdout",
          "text": [
            "Found existing installation: opencv-python 4.1.2.30\n",
            "Uninstalling opencv-python-4.1.2.30:\n",
            "  Would remove:\n",
            "    /usr/local/lib/python3.7/dist-packages/cv2/*\n",
            "    /usr/local/lib/python3.7/dist-packages/opencv_python-4.1.2.30.dist-info/*\n",
            "Proceed (y/n)? y\n",
            "  Successfully uninstalled opencv-python-4.1.2.30\n",
            "Collecting opencv-python\n",
            "  Downloading opencv_python-4.5.4.60-cp37-cp37m-manylinux_2_17_x86_64.manylinux2014_x86_64.whl (60.3 MB)\n",
            "\u001b[K     |████████████████████████████████| 60.3 MB 1.4 MB/s \n",
            "\u001b[?25hRequirement already satisfied: numpy>=1.14.5 in /usr/local/lib/python3.7/dist-packages (from opencv-python) (1.19.5)\n",
            "Installing collected packages: opencv-python\n",
            "\u001b[31mERROR: pip's dependency resolver does not currently take into account all the packages that are installed. This behaviour is the source of the following dependency conflicts.\n",
            "albumentations 0.1.12 requires imgaug<0.2.7,>=0.2.5, but you have imgaug 0.2.9 which is incompatible.\u001b[0m\n",
            "Successfully installed opencv-python-4.5.4.60\n"
          ]
        }
      ]
    },
    {
      "cell_type": "code",
      "metadata": {
        "id": "__cYeeQF8IEn"
      },
      "source": [
        "#Importing necessary libraries\n",
        "from zipfile import ZipFile\n",
        "from tensorflow.python.client import device_lib\n",
        "import platform\n",
        "import matplotlib.pyplot as plt\n",
        "import seaborn as sns\n",
        "from tensorflow.keras.models import Sequential\n",
        "from tensorflow.keras.layers import Dense, Flatten, Dropout\n",
        "from tensorflow.keras.optimizers import Adam\n",
        "from sklearn.metrics import classification_report, accuracy_score\n",
        "import tensorflow as tf\n",
        "import cv2\n",
        "import os\n",
        "import sys\n",
        "import numpy as np\n",
        "import random"
      ],
      "execution_count": 3,
      "outputs": []
    },
    {
      "cell_type": "markdown",
      "metadata": {
        "id": "lAtfR4ri9T-G"
      },
      "source": [
        "#### **Functions definition**"
      ]
    },
    {
      "cell_type": "code",
      "metadata": {
        "id": "4TAGvB5o8ns-"
      },
      "source": [
        "def extract_zip(file_name = \"drive/MyDrive/Dataset_test_1.zip\"):\n",
        "    with ZipFile(file_name, \"r\") as zip:\n",
        "        zip.extractall()\n",
        "        print(\"Dataset Extracted\")"
      ],
      "execution_count": 4,
      "outputs": []
    },
    {
      "cell_type": "code",
      "metadata": {
        "id": "JwTPw__89fBU"
      },
      "source": [
        "def python_ver():\n",
        "    print(\"\\nPython version:\\n\")\n",
        "    print(sys.version)\n",
        "\n",
        "def device_info():\n",
        "    print(\"\\nDevice Info:\\n\")\n",
        "    print(device_lib.list_local_devices())\n",
        "\n",
        "def platform_info():\n",
        "    print(\"\\nPlatform Info:\\n\")\n",
        "    print(platform.platform())\n",
        "    print(platform.processor())"
      ],
      "execution_count": 5,
      "outputs": []
    },
    {
      "cell_type": "code",
      "metadata": {
        "id": "QtlFrxEVYIno"
      },
      "source": [
        "def SIFT_test(dirs, labels, img_size):\n",
        "    \"\"\"Scale Invariant Feature Transform Test run for finding the minimum keypoints detected among all the images in the dataset\"\"\"\n",
        "    \n",
        "    min_key = np.inf\n",
        "    \n",
        "    for data_dir in dirs:\n",
        "        for label in labels:\n",
        "            path = os.path.join(data_dir, label)\n",
        "            for img in os.listdir(path):\n",
        "                #Reading the image in grayscale mode\n",
        "                img_arr = cv2.imread(os.path.join(path, img), cv2.IMREAD_GRAYSCALE)\n",
        "                   \n",
        "                #Reshaping images to preferred size\n",
        "                resized_arr = cv2.resize(img_arr, (img_size, img_size)) \n",
        "\n",
        "                #detecting keypoints\n",
        "                sift = cv2.SIFT_create()\n",
        "                keypoints = sift.detect(resized_arr, None)\n",
        "\n",
        "                if (len(keypoints) < min_key):\n",
        "                    min_key = len(keypoints)\n",
        "                \n",
        "    return min_key"
      ],
      "execution_count": 6,
      "outputs": []
    },
    {
      "cell_type": "code",
      "metadata": {
        "id": "j9IR6y7nYJ5a"
      },
      "source": [
        "def SIFT(image, min_key):\n",
        "    \"\"\"Scale Invariant Feature Transform for finding keypoints and computing descriptors\"\"\"\n",
        "    \n",
        "    sift = cv2.SIFT_create(min_key)\n",
        "    keypoints, descriptors = sift.detectAndCompute(image, None)\n",
        "\n",
        "    return np.array(descriptors, dtype=\"i\")[:min_key]"
      ],
      "execution_count": 7,
      "outputs": []
    },
    {
      "cell_type": "code",
      "metadata": {
        "id": "GSQlfqEA9jN7"
      },
      "source": [
        "def dataset_creation(data_dir, labels, img_size, min_key):\n",
        "    \"\"\"Loading data and shuffling\"\"\"\n",
        "    data = [] \n",
        "\n",
        "    for class_num, label in enumerate(labels): \n",
        "        path = os.path.join(data_dir, label)\n",
        "        for img in os.listdir(path):\n",
        "            try:\n",
        "                #Reading the image in grayscale mode\n",
        "                img_arr = cv2.imread(os.path.join(path, img), cv2.IMREAD_GRAYSCALE)\n",
        "                \n",
        "                #Reshaping images to preferred size\n",
        "                resized_arr = cv2.resize(img_arr, (img_size, img_size)) \n",
        "\n",
        "                #SIFT function call\n",
        "                SIFT_img_desc = SIFT(resized_arr, min_key)\n",
        "                \n",
        "                data.append([SIFT_img_desc, class_num])\n",
        "            except Exception as err:\n",
        "                print(\"Error:\\n\",err)\n",
        "    \n",
        "    random.shuffle(data)\n",
        "    return np.array(data)"
      ],
      "execution_count": 8,
      "outputs": []
    },
    {
      "cell_type": "code",
      "metadata": {
        "id": "gr4RAyHY9oed"
      },
      "source": [
        "def dataset_creation_train_stat(labels, train):\n",
        "    \"\"\"Plot initial data graph\"\"\"\n",
        "    list_graph = []\n",
        "    for i in train:\n",
        "        list_graph.append(labels[i[1]])\n",
        "    \n",
        "    sns.set_style('darkgrid')\n",
        "    plt.figure(figsize=(25, 25))    \n",
        "    sns.countplot(list_graph)\n",
        "    plt.title(\"Train set\")\n",
        "    plt.show()\n",
        "\n",
        "\n",
        "def dataset_creation_test_stat(labels, test):\n",
        "    \"\"\"Plot initial data graph\"\"\"\n",
        "    list_graph = []\n",
        "    for i in test:\n",
        "        list_graph.append(labels[i[1]])\n",
        "    \n",
        "    sns.set_style('darkgrid')\n",
        "    plt.figure(figsize=(25, 25))\n",
        "    sns.countplot(list_graph)\n",
        "    plt.title(\"Test set\")\n",
        "    plt.show()"
      ],
      "execution_count": 9,
      "outputs": []
    },
    {
      "cell_type": "code",
      "metadata": {
        "id": "mCiE7s_E9072"
      },
      "source": [
        "def train_test_data_split(train, test):\n",
        "    \"\"\"train and test\"\"\"\n",
        "    x_train = []\n",
        "    y_train = []\n",
        "    x_test = []\n",
        "    y_test = []\n",
        "\n",
        "    for feature, label in train:\n",
        "        x_train.append(feature)\n",
        "        y_train.append(label)\n",
        "\n",
        "    for feature, label in test:\n",
        "        x_test.append(feature)\n",
        "        y_test.append(label)\n",
        "\n",
        "    return (np.array(x_train), np.array(y_train), np.array(x_test), np.array(y_test))"
      ],
      "execution_count": 10,
      "outputs": []
    },
    {
      "cell_type": "code",
      "metadata": {
        "id": "SizxlEkV94hy"
      },
      "source": [
        "def normalize_array_conv_data(x_train, y_train, x_test, y_test):\n",
        "    \"\"\"Normalize and array conversion\"\"\"\n",
        "    x_train = np.array(x_train) / 255\n",
        "    x_test = np.array(x_test) / 255\n",
        "\n",
        "    y_train = np.array(y_train)\n",
        "    y_test = np.array(y_test)\n",
        "\n",
        "    return (x_train, y_train, x_test, y_test)"
      ],
      "execution_count": 11,
      "outputs": []
    },
    {
      "cell_type": "code",
      "metadata": {
        "id": "RgLvHqvB98Dd"
      },
      "source": [
        "def build_model_ann(tot_classes, x_train):\n",
        "    \"\"\"Builds ANN model and prints model summary\"\"\"\n",
        "    model = Sequential()\n",
        "    \n",
        "    model.add(Flatten(input_shape=x_train.shape[1:]))\n",
        "    model.add(Dense(3000,activation=\"relu\"))\n",
        "    model.add(Dropout(0.5))\n",
        "    model.add(Dense(1000,activation=\"relu\"))\n",
        "    model.add(Dropout(0.5))\n",
        "    model.add(Dense(tot_classes, activation=\"softmax\"))\n",
        "\n",
        "    model.summary()\n",
        "    return model"
      ],
      "execution_count": 12,
      "outputs": []
    },
    {
      "cell_type": "code",
      "metadata": {
        "id": "9nEf4toB-BzT"
      },
      "source": [
        "def compile_and_fit(model, x_train, y_train, x_test, y_test, iterations, l_rate):\n",
        "    \"\"\"Compiles and fits the model\"\"\"\n",
        "    opt = Adam(learning_rate=l_rate)\n",
        "    model.compile(optimizer = opt, loss = \"sparse_categorical_crossentropy\", metrics = ['accuracy'])\n",
        "    history = model.fit(x_train, y_train, epochs = iterations, validation_data = (x_test, y_test))\n",
        "\n",
        "    return (history, model)"
      ],
      "execution_count": 13,
      "outputs": []
    },
    {
      "cell_type": "code",
      "metadata": {
        "id": "BpybfYak-FKt"
      },
      "source": [
        "def acc_plots(history, iterations):\n",
        "    \"\"\"Requires history and number of iterations\"\"\"\n",
        "    acc = history.history['accuracy']\n",
        "    val_acc = history.history['val_accuracy']\n",
        "    loss = history.history['loss']\n",
        "    val_loss = history.history['val_loss']\n",
        "\n",
        "    epochs_range = range(iterations)\n",
        "\n",
        "    plt.figure(figsize=(15, 15))\n",
        "    plt.subplot(2, 2, 1)\n",
        "    plt.plot(epochs_range, acc, label='Training Accuracy')\n",
        "    plt.plot(epochs_range, val_acc, label='Validation Accuracy')\n",
        "    plt.legend(loc='lower right')\n",
        "    plt.title('Training and Validation Accuracy')\n",
        "\n",
        "    plt.subplot(2, 2, 2)\n",
        "    plt.plot(epochs_range, loss, label='Training Loss')\n",
        "    plt.plot(epochs_range, val_loss, label='Validation Loss')\n",
        "    plt.legend(loc='upper right')\n",
        "    plt.title('Training and Validation Loss')\n",
        "    plt.show()"
      ],
      "execution_count": 14,
      "outputs": []
    },
    {
      "cell_type": "code",
      "metadata": {
        "id": "lTTbnTYd-Ipb"
      },
      "source": [
        "def acc_results(model, labels, x_test, y_test):\n",
        "    \"\"\"Prediction and test accuracy\"\"\"\n",
        "    predictions = np.argmax(model.predict(x_test), axis=-1)\n",
        "    print(classification_report(y_test, predictions, target_names = labels))\n",
        "    print(\"\\nAccuracy = \"+str(accuracy_score(y_test, predictions)*100)+\"%\")"
      ],
      "execution_count": 15,
      "outputs": []
    },
    {
      "cell_type": "markdown",
      "metadata": {
        "id": "M1PFZZFw-S_P"
      },
      "source": [
        "#### **Making Function calls and defining variables**"
      ]
    },
    {
      "cell_type": "code",
      "metadata": {
        "colab": {
          "base_uri": "https://localhost:8080/"
        },
        "id": "OgZinHaw-Mq7",
        "outputId": "ab55cbc3-53bb-488b-e887-6413e7e05192"
      },
      "source": [
        "#Extracting Dataset\n",
        "extract_zip(\"drive/MyDrive/Dataset_test_1.zip\")\n",
        "\n",
        "#Device and environment Info\n",
        "python_ver()\n",
        "device_info()\n",
        "platform_info()"
      ],
      "execution_count": 16,
      "outputs": [
        {
          "output_type": "stream",
          "name": "stdout",
          "text": [
            "Dataset Extracted\n",
            "\n",
            "Python version:\n",
            "\n",
            "3.7.12 (default, Sep 10 2021, 00:21:48) \n",
            "[GCC 7.5.0]\n",
            "\n",
            "Device Info:\n",
            "\n",
            "[name: \"/device:CPU:0\"\n",
            "device_type: \"CPU\"\n",
            "memory_limit: 268435456\n",
            "locality {\n",
            "}\n",
            "incarnation: 11949051320926878403\n",
            "xla_global_id: -1\n",
            ", name: \"/device:GPU:0\"\n",
            "device_type: \"GPU\"\n",
            "memory_limit: 11321147392\n",
            "locality {\n",
            "  bus_id: 1\n",
            "  links {\n",
            "  }\n",
            "}\n",
            "incarnation: 16223789599182853799\n",
            "physical_device_desc: \"device: 0, name: Tesla K80, pci bus id: 0000:00:04.0, compute capability: 3.7\"\n",
            "xla_global_id: 416903419\n",
            "]\n",
            "\n",
            "Platform Info:\n",
            "\n",
            "Linux-5.4.104+-x86_64-with-Ubuntu-18.04-bionic\n",
            "x86_64\n"
          ]
        }
      ]
    },
    {
      "cell_type": "code",
      "metadata": {
        "id": "Bl01clC0-XOZ"
      },
      "source": [
        "#Variables\n",
        "dirs = [\"Dataset_test_1/Train\", \"Dataset_test_1/Test\"]\n",
        "labels = ['Buddha', 'Garuda', 'Goddess_Durga', 'Goddess_Lakshmi', 'Goddess_Saraswathi', 'Lord_Ganesh', \n",
        "        'Lord_Hanuman', 'Lord_Hayagriva', 'Lord_Indra', 'Lord_Krishna', 'Lord_Muruga', 'Nandi', 'Nataraj', \n",
        "        'Shirdi_Sai_Baba', 'Shivling']\n",
        "img_size = 224\n",
        "tot_classes = len(labels)\n",
        "num_sample_img = 3\n",
        "iterations = 50\n",
        "l_rate = 0.001"
      ],
      "execution_count": 17,
      "outputs": []
    },
    {
      "cell_type": "code",
      "metadata": {
        "colab": {
          "base_uri": "https://localhost:8080/"
        },
        "id": "ngdQO8_D-kzS",
        "outputId": "8d4ce5b7-71d0-42aa-8d9c-984d565ead31"
      },
      "source": [
        "#Min keypoints detection\n",
        "min_key = SIFT_test(dirs, labels, img_size)\n",
        "\n",
        "#Train and Test data loading\n",
        "train = dataset_creation(\"Dataset_test_1/Train\", labels, img_size, min_key)\n",
        "test = dataset_creation(\"Dataset_test_1/Test\", labels, img_size, min_key)"
      ],
      "execution_count": 18,
      "outputs": [
        {
          "output_type": "stream",
          "name": "stderr",
          "text": [
            "/usr/local/lib/python3.7/dist-packages/ipykernel_launcher.py:23: VisibleDeprecationWarning: Creating an ndarray from ragged nested sequences (which is a list-or-tuple of lists-or-tuples-or ndarrays with different lengths or shapes) is deprecated. If you meant to do this, you must specify 'dtype=object' when creating the ndarray\n"
          ]
        }
      ]
    },
    {
      "cell_type": "code",
      "metadata": {
        "colab": {
          "base_uri": "https://localhost:8080/",
          "height": 1000
        },
        "id": "ci_GDz0G-ngO",
        "outputId": "c401bf25-afe9-448f-aded-565978345293"
      },
      "source": [
        "#Stats\n",
        "dataset_creation_train_stat(labels, train)\n",
        "dataset_creation_test_stat(labels, test)"
      ],
      "execution_count": 19,
      "outputs": [
        {
          "output_type": "stream",
          "name": "stderr",
          "text": [
            "/usr/local/lib/python3.7/dist-packages/seaborn/_decorators.py:43: FutureWarning: Pass the following variable as a keyword arg: x. From version 0.12, the only valid positional argument will be `data`, and passing other arguments without an explicit keyword will result in an error or misinterpretation.\n",
            "  FutureWarning\n"
          ]
        },
        {
          "output_type": "display_data",
          "data": {
            "image/png": "[encoded data removed]",
            "text/plain": [
              "<Figure size 1800x1800 with 1 Axes>"
            ]
          },
          "metadata": {}
        },
        {
          "output_type": "stream",
          "name": "stderr",
          "text": [
            "/usr/local/lib/python3.7/dist-packages/seaborn/_decorators.py:43: FutureWarning: Pass the following variable as a keyword arg: x. From version 0.12, the only valid positional argument will be `data`, and passing other arguments without an explicit keyword will result in an error or misinterpretation.\n",
            "  FutureWarning\n"
          ]
        },
        {
          "output_type": "display_data",
          "data": {
            "image/png": "[encoded data removed]",
            "text/plain": [
              "<Figure size 1800x1800 with 1 Axes>"
            ]
          },
          "metadata": {}
        }
      ]
    },
    {
      "cell_type": "code",
      "metadata": {
        "id": "4JOI1Up6-tGQ"
      },
      "source": [
        "#Training and testing data\n",
        "x_train, y_train, x_test, y_test = train_test_data_split(train, test)"
      ],
      "execution_count": 20,
      "outputs": []
    },
    {
      "cell_type": "code",
      "metadata": {
        "colab": {
          "base_uri": "https://localhost:8080/"
        },
        "id": "08fhlmqh-z4O",
        "outputId": "24bec562-9ec0-4e3f-cdc3-aa493784d719"
      },
      "source": [
        "#Building ANN Model\n",
        "model = build_model_ann(tot_classes, x_train)\n"
      ],
      "execution_count": 21,
      "outputs": [
        {
          "output_type": "stream",
          "name": "stdout",
          "text": [
            "Model: \"sequential\"\n",
            "_________________________________________________________________\n",
            " Layer (type)                Output Shape              Param #   \n",
            "=================================================================\n",
            " flatten (Flatten)           (None, 4608)              0         \n",
            "                                                                 \n",
            " dense (Dense)               (None, 3000)              13827000  \n",
            "                                                                 \n",
            " dropout (Dropout)           (None, 3000)              0         \n",
            "                                                                 \n",
            " dense_1 (Dense)             (None, 1000)              3001000   \n",
            "                                                                 \n",
            " dropout_1 (Dropout)         (None, 1000)              0         \n",
            "                                                                 \n",
            " dense_2 (Dense)             (None, 15)                15015     \n",
            "                                                                 \n",
            "=================================================================\n",
            "Total params: 16,843,015\n",
            "Trainable params: 16,843,015\n",
            "Non-trainable params: 0\n",
            "_________________________________________________________________\n"
          ]
        }
      ]
    },
    {
      "cell_type": "code",
      "metadata": {
        "colab": {
          "base_uri": "https://localhost:8080/"
        },
        "id": "j5NP-yio-5Bl",
        "outputId": "4edd0939-4632-43b7-ab26-d57d172c4676"
      },
      "source": [
        "#Compile and fit the model\n",
        "history, model = compile_and_fit(model, x_train, y_train, x_test, y_test, iterations, l_rate)"
      ],
      "execution_count": 22,
      "outputs": [
        {
          "output_type": "stream",
          "name": "stdout",
          "text": [
            "Epoch 1/50\n",
            "71/71 [==============================] - 3s 15ms/step - loss: 133.9085 - accuracy: 0.0733 - val_loss: 2.7081 - val_accuracy: 0.0667\n",
            "Epoch 2/50\n",
            "71/71 [==============================] - 1s 11ms/step - loss: 3.1949 - accuracy: 0.0596 - val_loss: 2.7081 - val_accuracy: 0.0667\n",
            "Epoch 3/50\n",
            "71/71 [==============================] - 1s 11ms/step - loss: 2.8550 - accuracy: 0.0618 - val_loss: 2.7081 - val_accuracy: 0.0667\n",
            "Epoch 4/50\n",
            "71/71 [==============================] - 1s 11ms/step - loss: 2.7708 - accuracy: 0.0587 - val_loss: 2.7081 - val_accuracy: 0.0667\n",
            "Epoch 5/50\n",
            "71/71 [==============================] - 1s 11ms/step - loss: 2.7831 - accuracy: 0.0627 - val_loss: 2.7081 - val_accuracy: 0.0667\n",
            "Epoch 6/50\n",
            "71/71 [==============================] - 1s 11ms/step - loss: 2.7709 - accuracy: 0.0649 - val_loss: 2.7081 - val_accuracy: 0.0667\n",
            "Epoch 7/50\n",
            "71/71 [==============================] - 1s 11ms/step - loss: 2.7523 - accuracy: 0.0644 - val_loss: 2.7081 - val_accuracy: 0.0667\n",
            "Epoch 8/50\n",
            "71/71 [==============================] - 1s 12ms/step - loss: 2.7477 - accuracy: 0.0653 - val_loss: 2.7081 - val_accuracy: 0.0667\n",
            "Epoch 9/50\n",
            "71/71 [==============================] - 1s 11ms/step - loss: 2.7362 - accuracy: 0.0604 - val_loss: 2.7081 - val_accuracy: 0.0667\n",
            "Epoch 10/50\n",
            "71/71 [==============================] - 1s 11ms/step - loss: 2.7322 - accuracy: 0.0538 - val_loss: 2.7081 - val_accuracy: 0.0667\n",
            "Epoch 11/50\n",
            "71/71 [==============================] - 1s 11ms/step - loss: 2.7303 - accuracy: 0.0604 - val_loss: 2.7081 - val_accuracy: 0.0667\n",
            "Epoch 12/50\n",
            "71/71 [==============================] - 1s 12ms/step - loss: 2.7489 - accuracy: 0.0680 - val_loss: 2.7081 - val_accuracy: 0.0667\n",
            "Epoch 13/50\n",
            "71/71 [==============================] - 1s 11ms/step - loss: 2.7322 - accuracy: 0.0556 - val_loss: 2.7081 - val_accuracy: 0.0667\n",
            "Epoch 14/50\n",
            "71/71 [==============================] - 1s 11ms/step - loss: 2.7368 - accuracy: 0.0538 - val_loss: 2.7081 - val_accuracy: 0.0667\n",
            "Epoch 15/50\n",
            "71/71 [==============================] - 1s 11ms/step - loss: 2.7155 - accuracy: 0.0667 - val_loss: 2.7081 - val_accuracy: 0.0667\n",
            "Epoch 16/50\n",
            "71/71 [==============================] - 1s 11ms/step - loss: 2.7278 - accuracy: 0.0622 - val_loss: 2.7081 - val_accuracy: 0.0667\n",
            "Epoch 17/50\n",
            "71/71 [==============================] - 1s 11ms/step - loss: 2.7510 - accuracy: 0.0609 - val_loss: 2.7081 - val_accuracy: 0.0667\n",
            "Epoch 18/50\n",
            "71/71 [==============================] - 1s 12ms/step - loss: 2.7454 - accuracy: 0.0511 - val_loss: 2.7081 - val_accuracy: 0.0667\n",
            "Epoch 19/50\n",
            "71/71 [==============================] - 1s 11ms/step - loss: 2.7308 - accuracy: 0.0649 - val_loss: 2.7081 - val_accuracy: 0.0667\n",
            "Epoch 20/50\n",
            "71/71 [==============================] - 1s 11ms/step - loss: 2.7196 - accuracy: 0.0627 - val_loss: 2.7081 - val_accuracy: 0.0667\n",
            "Epoch 21/50\n",
            "71/71 [==============================] - 1s 12ms/step - loss: 2.7399 - accuracy: 0.0573 - val_loss: 2.7081 - val_accuracy: 0.0667\n",
            "Epoch 22/50\n",
            "71/71 [==============================] - 1s 12ms/step - loss: 2.7390 - accuracy: 0.0631 - val_loss: 2.7081 - val_accuracy: 0.0667\n",
            "Epoch 23/50\n",
            "71/71 [==============================] - 1s 11ms/step - loss: 2.7279 - accuracy: 0.0556 - val_loss: 2.7081 - val_accuracy: 0.0667\n",
            "Epoch 24/50\n",
            "71/71 [==============================] - 1s 11ms/step - loss: 2.7292 - accuracy: 0.0596 - val_loss: 2.7081 - val_accuracy: 0.0667\n",
            "Epoch 25/50\n",
            "71/71 [==============================] - 1s 12ms/step - loss: 2.7235 - accuracy: 0.0644 - val_loss: 2.7081 - val_accuracy: 0.0667\n",
            "Epoch 26/50\n",
            "71/71 [==============================] - 1s 12ms/step - loss: 2.7240 - accuracy: 0.0667 - val_loss: 2.7081 - val_accuracy: 0.0667\n",
            "Epoch 27/50\n",
            "71/71 [==============================] - 1s 12ms/step - loss: 2.7373 - accuracy: 0.0676 - val_loss: 2.7081 - val_accuracy: 0.0667\n",
            "Epoch 28/50\n",
            "71/71 [==============================] - 1s 12ms/step - loss: 2.7486 - accuracy: 0.0542 - val_loss: 2.7081 - val_accuracy: 0.0667\n",
            "Epoch 29/50\n",
            "71/71 [==============================] - 1s 11ms/step - loss: 2.7292 - accuracy: 0.0662 - val_loss: 2.7081 - val_accuracy: 0.0667\n",
            "Epoch 30/50\n",
            "71/71 [==============================] - 1s 11ms/step - loss: 2.7135 - accuracy: 0.0676 - val_loss: 2.7081 - val_accuracy: 0.0667\n",
            "Epoch 31/50\n",
            "71/71 [==============================] - 1s 12ms/step - loss: 2.7164 - accuracy: 0.0600 - val_loss: 2.7081 - val_accuracy: 0.0667\n",
            "Epoch 32/50\n",
            "71/71 [==============================] - 1s 11ms/step - loss: 2.7272 - accuracy: 0.0618 - val_loss: 2.7081 - val_accuracy: 0.0667\n",
            "Epoch 33/50\n",
            "71/71 [==============================] - 1s 12ms/step - loss: 2.7586 - accuracy: 0.0556 - val_loss: 2.7081 - val_accuracy: 0.0667\n",
            "Epoch 34/50\n",
            "71/71 [==============================] - 1s 12ms/step - loss: 2.7453 - accuracy: 0.0542 - val_loss: 2.7081 - val_accuracy: 0.0667\n",
            "Epoch 35/50\n",
            "71/71 [==============================] - 1s 12ms/step - loss: 2.7233 - accuracy: 0.0662 - val_loss: 2.7081 - val_accuracy: 0.0667\n",
            "Epoch 36/50\n",
            "71/71 [==============================] - 1s 11ms/step - loss: 2.7093 - accuracy: 0.0564 - val_loss: 2.7081 - val_accuracy: 0.0667\n",
            "Epoch 37/50\n",
            "71/71 [==============================] - 1s 11ms/step - loss: 2.7190 - accuracy: 0.0636 - val_loss: 2.7081 - val_accuracy: 0.0667\n",
            "Epoch 38/50\n",
            "71/71 [==============================] - 1s 12ms/step - loss: 2.7161 - accuracy: 0.0604 - val_loss: 2.7081 - val_accuracy: 0.0667\n",
            "Epoch 39/50\n",
            "71/71 [==============================] - 1s 11ms/step - loss: 2.7659 - accuracy: 0.0649 - val_loss: 2.7081 - val_accuracy: 0.0667\n",
            "Epoch 40/50\n",
            "71/71 [==============================] - 1s 11ms/step - loss: 2.7342 - accuracy: 0.0556 - val_loss: 2.7081 - val_accuracy: 0.0667\n",
            "Epoch 41/50\n",
            "71/71 [==============================] - 1s 12ms/step - loss: 2.7357 - accuracy: 0.0636 - val_loss: 2.7081 - val_accuracy: 0.0667\n",
            "Epoch 42/50\n",
            "71/71 [==============================] - 1s 12ms/step - loss: 2.7307 - accuracy: 0.0671 - val_loss: 2.7081 - val_accuracy: 0.0667\n",
            "Epoch 43/50\n",
            "71/71 [==============================] - 1s 12ms/step - loss: 2.7240 - accuracy: 0.0667 - val_loss: 2.7081 - val_accuracy: 0.0667\n",
            "Epoch 44/50\n",
            "71/71 [==============================] - 1s 11ms/step - loss: 2.7491 - accuracy: 0.0609 - val_loss: 2.7081 - val_accuracy: 0.0667\n",
            "Epoch 45/50\n",
            "71/71 [==============================] - 1s 11ms/step - loss: 2.7819 - accuracy: 0.0569 - val_loss: 2.7081 - val_accuracy: 0.0667\n",
            "Epoch 46/50\n",
            "71/71 [==============================] - 1s 11ms/step - loss: 2.7353 - accuracy: 0.0609 - val_loss: 2.7081 - val_accuracy: 0.0667\n",
            "Epoch 47/50\n",
            "71/71 [==============================] - 1s 12ms/step - loss: 2.7090 - accuracy: 0.0551 - val_loss: 2.7081 - val_accuracy: 0.0667\n",
            "Epoch 48/50\n",
            "71/71 [==============================] - 1s 11ms/step - loss: 2.7287 - accuracy: 0.0502 - val_loss: 2.7081 - val_accuracy: 0.0667\n",
            "Epoch 49/50\n",
            "71/71 [==============================] - 1s 11ms/step - loss: 2.7490 - accuracy: 0.0529 - val_loss: 2.7081 - val_accuracy: 0.0667\n",
            "Epoch 50/50\n",
            "71/71 [==============================] - 1s 12ms/step - loss: 2.7169 - accuracy: 0.0609 - val_loss: 2.7081 - val_accuracy: 0.0667\n"
          ]
        }
      ]
    },
    {
      "cell_type": "code",
      "metadata": {
        "colab": {
          "base_uri": "https://localhost:8080/",
          "height": 435
        },
        "id": "pMBMXPgy--9S",
        "outputId": "135da302-57d0-4da6-f7e1-fb6cf952b14f"
      },
      "source": [
        "#Plots\n",
        "acc_plots(history, iterations)"
      ],
      "execution_count": 23,
      "outputs": [
        {
          "output_type": "display_data",
          "data": {
            "image/png": "[encoded data removed]",
            "text/plain": [
              "<Figure size 1080x1080 with 2 Axes>"
            ]
          },
          "metadata": {}
        }
      ]
    },
    {
      "cell_type": "code",
      "metadata": {
        "colab": {
          "base_uri": "https://localhost:8080/"
        },
        "id": "A7sVGFjb_DdS",
        "outputId": "09902c84-b264-4b72-d234-a396c14d960c"
      },
      "source": [
        "#Results\n",
        "acc_results(model, labels, x_test, y_test)"
      ],
      "execution_count": 24,
      "outputs": [
        {
          "output_type": "stream",
          "name": "stdout",
          "text": [
            "                    precision    recall  f1-score   support\n",
            "\n",
            "            Buddha       0.00      0.00      0.00        20\n",
            "            Garuda       0.00      0.00      0.00        20\n",
            "     Goddess_Durga       0.00      0.00      0.00        20\n",
            "   Goddess_Lakshmi       0.00      0.00      0.00        20\n",
            "Goddess_Saraswathi       0.07      1.00      0.12        20\n",
            "       Lord_Ganesh       0.00      0.00      0.00        20\n",
            "      Lord_Hanuman       0.00      0.00      0.00        20\n",
            "    Lord_Hayagriva       0.00      0.00      0.00        20\n",
            "        Lord_Indra       0.00      0.00      0.00        20\n",
            "      Lord_Krishna       0.00      0.00      0.00        20\n",
            "       Lord_Muruga       0.00      0.00      0.00        20\n",
            "             Nandi       0.00      0.00      0.00        20\n",
            "           Nataraj       0.00      0.00      0.00        20\n",
            "   Shirdi_Sai_Baba       0.00      0.00      0.00        20\n",
            "          Shivling       0.00      0.00      0.00        20\n",
            "\n",
            "          accuracy                           0.07       300\n",
            "         macro avg       0.00      0.07      0.01       300\n",
            "      weighted avg       0.00      0.07      0.01       300\n",
            "\n",
            "\n",
            "Accuracy = 6.666666666666667%\n"
          ]
        },
        {
          "output_type": "stream",
          "name": "stderr",
          "text": [
            "/usr/local/lib/python3.7/dist-packages/sklearn/metrics/_classification.py:1308: UndefinedMetricWarning: Precision and F-score are ill-defined and being set to 0.0 in labels with no predicted samples. Use `zero_division` parameter to control this behavior.\n",
            "  _warn_prf(average, modifier, msg_start, len(result))\n",
            "/usr/local/lib/python3.7/dist-packages/sklearn/metrics/_classification.py:1308: UndefinedMetricWarning: Precision and F-score are ill-defined and being set to 0.0 in labels with no predicted samples. Use `zero_division` parameter to control this behavior.\n",
            "  _warn_prf(average, modifier, msg_start, len(result))\n",
            "/usr/local/lib/python3.7/dist-packages/sklearn/metrics/_classification.py:1308: UndefinedMetricWarning: Precision and F-score are ill-defined and being set to 0.0 in labels with no predicted samples. Use `zero_division` parameter to control this behavior.\n",
            "  _warn_prf(average, modifier, msg_start, len(result))\n"
          ]
        }
      ]
    },
    {
      "cell_type": "markdown",
      "metadata": {
        "id": "lYyGyFyM_FAo"
      },
      "source": [
        "#### **Result: For learning rate = 1*10^(-3) and 50 iterations, the highest accuracy obtained is 6.67%(approx) at (1, 50).**"
      ]
    }
  ]
}