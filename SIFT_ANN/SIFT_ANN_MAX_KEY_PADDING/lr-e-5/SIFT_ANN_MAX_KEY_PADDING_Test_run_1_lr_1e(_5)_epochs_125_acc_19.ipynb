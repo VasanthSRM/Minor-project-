{
  "cells": [
    {
      "cell_type": "markdown",
      "metadata": {
        "id": "xkfpI5lL8ofl"
      },
      "source": [
        "## **SIFT + ANN (Max_keypoints and padding approach)**\n",
        "#### **lr=1*10^(-5), epochs=125, Accuracy = 19.33% (approx) in (100, 110) epochs range**\n",
        "#### **Test run - 1**"
      ]
    },
    {
      "cell_type": "markdown",
      "metadata": {
        "id": "5AVHk6bP8110"
      },
      "source": [
        "#### **Aim: To find suitable learning rate and epoch value.**"
      ]
    },
    {
      "cell_type": "markdown",
      "metadata": {
        "id": "xaufx6N9PNMd"
      },
      "source": [
        "#### **For mounting drive**"
      ]
    },
    {
      "cell_type": "code",
      "execution_count": 1,
      "metadata": {
        "colab": {
          "base_uri": "https://localhost:8080/"
        },
        "id": "LoT75uFsDMt3",
        "outputId": "5493e165-4d00-402c-b1c6-64d2b0c1546a"
      },
      "outputs": [
        {
          "name": "stdout",
          "output_type": "stream",
          "text": [
            "Mounted at /content/drive\n"
          ]
        }
      ],
      "source": [
        "#For mounting GDrive\n",
        "from google.colab import drive\n",
        "drive.mount('/content/drive')"
      ]
    },
    {
      "cell_type": "markdown",
      "metadata": {
        "id": "hsXW3CzQ9KWG"
      },
      "source": [
        "#### **Required modules**"
      ]
    },
    {
      "cell_type": "code",
      "execution_count": null,
      "metadata": {},
      "outputs": [],
      "source": [
        "#Req. opencv 4.5+\n",
        "!pip uninstall opencv-python\n",
        "!pip install opencv-python"
      ]
    },
    {
      "cell_type": "code",
      "execution_count": 2,
      "metadata": {
        "colab": {
          "base_uri": "https://localhost:8080/"
        },
        "id": "UmlhxprSjvwi",
        "outputId": "ca6f6f5e-21eb-4162-a50e-b2dbafc2de23"
      },
      "outputs": [
        {
          "name": "stdout",
          "output_type": "stream",
          "text": [
            "Found existing installation: opencv-python 4.1.2.30\n",
            "Uninstalling opencv-python-4.1.2.30:\n",
            "  Would remove:\n",
            "    /usr/local/lib/python3.7/dist-packages/cv2/*\n",
            "    /usr/local/lib/python3.7/dist-packages/opencv_python-4.1.2.30.dist-info/*\n",
            "Proceed (y/n)? y\n",
            "  Successfully uninstalled opencv-python-4.1.2.30\n",
            "Collecting opencv-python\n",
            "  Downloading opencv_python-4.5.4.60-cp37-cp37m-manylinux_2_17_x86_64.manylinux2014_x86_64.whl (60.3 MB)\n",
            "\u001b[K     |████████████████████████████████| 60.3 MB 1.3 MB/s \n",
            "\u001b[?25hRequirement already satisfied: numpy>=1.14.5 in /usr/local/lib/python3.7/dist-packages (from opencv-python) (1.19.5)\n",
            "Installing collected packages: opencv-python\n",
            "\u001b[31mERROR: pip's dependency resolver does not currently take into account all the packages that are installed. This behaviour is the source of the following dependency conflicts.\n",
            "albumentations 0.1.12 requires imgaug<0.2.7,>=0.2.5, but you have imgaug 0.2.9 which is incompatible.\u001b[0m\n",
            "Successfully installed opencv-python-4.5.4.60\n"
          ]
        }
      ],
      "source": [
        "#Req. opencv 4.5+\n",
        "!pip uninstall opencv-python\n",
        "!pip install opencv-python"
      ]
    },
    {
      "cell_type": "code",
      "execution_count": 3,
      "metadata": {
        "id": "__cYeeQF8IEn"
      },
      "outputs": [],
      "source": [
        "#Importing necessary libraries\n",
        "from zipfile import ZipFile\n",
        "from tensorflow.python.client import device_lib\n",
        "import platform\n",
        "import matplotlib.pyplot as plt\n",
        "import seaborn as sns\n",
        "from tensorflow.keras.models import Sequential\n",
        "from tensorflow.keras.layers import Dense, Flatten, Dropout\n",
        "from tensorflow.keras.optimizers import Adam\n",
        "from sklearn.metrics import classification_report, accuracy_score\n",
        "import tensorflow as tf\n",
        "import cv2\n",
        "import os\n",
        "import sys\n",
        "import numpy as np\n",
        "import random"
      ]
    },
    {
      "cell_type": "markdown",
      "metadata": {
        "id": "lAtfR4ri9T-G"
      },
      "source": [
        "#### **Functions definition**"
      ]
    },
    {
      "cell_type": "code",
      "execution_count": 4,
      "metadata": {
        "id": "4TAGvB5o8ns-"
      },
      "outputs": [],
      "source": [
        "def extract_zip(file_name = \"drive/MyDrive/Dataset_test_1.zip\"):\n",
        "    with ZipFile(file_name, \"r\") as zip:\n",
        "        zip.extractall()\n",
        "        print(\"Dataset Extracted\")"
      ]
    },
    {
      "cell_type": "code",
      "execution_count": 5,
      "metadata": {
        "id": "JwTPw__89fBU"
      },
      "outputs": [],
      "source": [
        "def python_ver():\n",
        "    print(\"\\nPython version:\\n\")\n",
        "    print(sys.version)\n",
        "\n",
        "def device_info():\n",
        "    print(\"\\nDevice Info:\\n\")\n",
        "    print(device_lib.list_local_devices())\n",
        "\n",
        "def platform_info():\n",
        "    print(\"\\nPlatform Info:\\n\")\n",
        "    print(platform.platform())\n",
        "    print(platform.processor())"
      ]
    },
    {
      "cell_type": "code",
      "execution_count": 6,
      "metadata": {
        "id": "QtlFrxEVYIno"
      },
      "outputs": [],
      "source": [
        "def SIFT_test(dirs, labels, img_size):\n",
        "    \"\"\"Scale Invariant Feature Transform Test run for finding the maximum keypoints detected among all the images in the dataset\"\"\"\n",
        "    \n",
        "    max_key = 0\n",
        "    \n",
        "    for data_dir in dirs:\n",
        "        for label in labels:\n",
        "            path = os.path.join(data_dir, label)\n",
        "            for img in os.listdir(path):\n",
        "                #Reading the image in grayscale mode\n",
        "                img_arr = cv2.imread(os.path.join(path, img), cv2.IMREAD_GRAYSCALE)\n",
        "                   \n",
        "                #Reshaping images to preferred size\n",
        "                resized_arr = cv2.resize(img_arr, (img_size, img_size)) \n",
        "\n",
        "                #detecting keypoints\n",
        "                sift = cv2.SIFT_create()\n",
        "                keypoints = sift.detect(resized_arr, None)\n",
        "\n",
        "                if (len(keypoints) > max_key):\n",
        "                    max_key = len(keypoints)\n",
        "                \n",
        "    return max_key\n"
      ]
    },
    {
      "cell_type": "code",
      "execution_count": 7,
      "metadata": {
        "id": "j9IR6y7nYJ5a"
      },
      "outputs": [],
      "source": [
        "def SIFT(image, max_key):\n",
        "    \"\"\"Scale Invariant Feature Transform for finding keypoints and computing descriptors\"\"\"\n",
        "    \n",
        "    sift = cv2.SIFT_create()\n",
        "    keypoints, descriptors = sift.detectAndCompute(image, None)\n",
        "\n",
        "    return np.pad(np.array(descriptors, dtype=\"i\"), ((0, max_key-len(keypoints)), (0, 0)))[:max_key]"
      ]
    },
    {
      "cell_type": "code",
      "execution_count": 8,
      "metadata": {
        "id": "GSQlfqEA9jN7"
      },
      "outputs": [],
      "source": [
        "def dataset_creation(data_dir, labels, img_size, max_key):\n",
        "    \"\"\"Loading data and shuffling\"\"\"\n",
        "    data = [] \n",
        "\n",
        "    for class_num, label in enumerate(labels): \n",
        "        path = os.path.join(data_dir, label)\n",
        "        for img in os.listdir(path):\n",
        "            try:\n",
        "                #Reading the image in grayscale mode\n",
        "                img_arr = cv2.imread(os.path.join(path, img), cv2.IMREAD_GRAYSCALE)\n",
        "                \n",
        "                #Reshaping images to preferred size\n",
        "                resized_arr = cv2.resize(img_arr, (img_size, img_size)) \n",
        "\n",
        "                #SIFT function call\n",
        "                SIFT_img_desc = SIFT(resized_arr, max_key)\n",
        "                \n",
        "                data.append([SIFT_img_desc, class_num])\n",
        "            except Exception as err:\n",
        "                print(\"Error:\\n\",err)\n",
        "    \n",
        "    random.shuffle(data)\n",
        "    return np.array(data)"
      ]
    },
    {
      "cell_type": "code",
      "execution_count": 9,
      "metadata": {
        "id": "gr4RAyHY9oed"
      },
      "outputs": [],
      "source": [
        "def dataset_creation_train_stat(labels, train):\n",
        "    \"\"\"Plot initial data graph\"\"\"\n",
        "    list_graph = []\n",
        "    for i in train:\n",
        "        list_graph.append(labels[i[1]])\n",
        "    \n",
        "    sns.set_style('darkgrid')\n",
        "    plt.figure(figsize=(25, 25))    \n",
        "    sns.countplot(list_graph)\n",
        "    plt.title(\"Train set\")\n",
        "    plt.show()\n",
        "\n",
        "\n",
        "def dataset_creation_test_stat(labels, test):\n",
        "    \"\"\"Plot initial data graph\"\"\"\n",
        "    list_graph = []\n",
        "    for i in test:\n",
        "        list_graph.append(labels[i[1]])\n",
        "    \n",
        "    sns.set_style('darkgrid')\n",
        "    plt.figure(figsize=(25, 25))\n",
        "    sns.countplot(list_graph)\n",
        "    plt.title(\"Test set\")\n",
        "    plt.show()"
      ]
    },
    {
      "cell_type": "code",
      "execution_count": 10,
      "metadata": {
        "id": "mCiE7s_E9072"
      },
      "outputs": [],
      "source": [
        "def train_test_data_split(train, test):\n",
        "    \"\"\"train and test\"\"\"\n",
        "    x_train = []\n",
        "    y_train = []\n",
        "    x_test = []\n",
        "    y_test = []\n",
        "\n",
        "    for feature, label in train:\n",
        "        x_train.append(feature)\n",
        "        y_train.append(label)\n",
        "\n",
        "    for feature, label in test:\n",
        "        x_test.append(feature)\n",
        "        y_test.append(label)\n",
        "\n",
        "    return (np.array(x_train), np.array(y_train), np.array(x_test), np.array(y_test))"
      ]
    },
    {
      "cell_type": "code",
      "execution_count": 11,
      "metadata": {
        "id": "RgLvHqvB98Dd"
      },
      "outputs": [],
      "source": [
        "def build_model_ann(tot_classes, x_train):\n",
        "    \"\"\"Builds ANN model and prints model summary\"\"\"\n",
        "    model = Sequential()\n",
        "    \n",
        "    model.add(Flatten(input_shape=x_train.shape[1:]))\n",
        "    model.add(Dense(3000,activation=\"relu\"))\n",
        "    model.add(Dropout(0.5))\n",
        "    model.add(Dense(1000,activation=\"relu\"))\n",
        "    model.add(Dropout(0.5))\n",
        "    model.add(Dense(tot_classes, activation=\"softmax\"))\n",
        "\n",
        "    model.summary()\n",
        "    return model"
      ]
    },
    {
      "cell_type": "code",
      "execution_count": 12,
      "metadata": {
        "id": "9nEf4toB-BzT"
      },
      "outputs": [],
      "source": [
        "def compile_and_fit(model, x_train, y_train, x_test, y_test, iterations, l_rate):\n",
        "    \"\"\"Compiles and fits the model\"\"\"\n",
        "    opt = Adam(learning_rate=l_rate)\n",
        "    model.compile(optimizer = opt, loss = \"sparse_categorical_crossentropy\", metrics = ['accuracy'])\n",
        "    history = model.fit(x_train, y_train, epochs = iterations, validation_data = (x_test, y_test))\n",
        "\n",
        "    return (history, model)"
      ]
    },
    {
      "cell_type": "code",
      "execution_count": 13,
      "metadata": {
        "id": "BpybfYak-FKt"
      },
      "outputs": [],
      "source": [
        "def acc_plots(history, iterations):\n",
        "    \"\"\"Requires history and number of iterations\"\"\"\n",
        "    acc = history.history['accuracy']\n",
        "    val_acc = history.history['val_accuracy']\n",
        "    loss = history.history['loss']\n",
        "    val_loss = history.history['val_loss']\n",
        "\n",
        "    epochs_range = range(iterations)\n",
        "\n",
        "    plt.figure(figsize=(15, 15))\n",
        "    plt.subplot(2, 2, 1)\n",
        "    plt.plot(epochs_range, acc, label='Training Accuracy')\n",
        "    plt.plot(epochs_range, val_acc, label='Validation Accuracy')\n",
        "    plt.legend(loc='lower right')\n",
        "    plt.title('Training and Validation Accuracy')\n",
        "\n",
        "    plt.subplot(2, 2, 2)\n",
        "    plt.plot(epochs_range, loss, label='Training Loss')\n",
        "    plt.plot(epochs_range, val_loss, label='Validation Loss')\n",
        "    plt.legend(loc='upper right')\n",
        "    plt.title('Training and Validation Loss')\n",
        "    plt.show()"
      ]
    },
    {
      "cell_type": "code",
      "execution_count": 14,
      "metadata": {
        "id": "lTTbnTYd-Ipb"
      },
      "outputs": [],
      "source": [
        "def acc_results(model, labels, x_test, y_test):\n",
        "    \"\"\"Prediction and test accuracy\"\"\"\n",
        "    predictions = np.argmax(model.predict(x_test), axis=-1)\n",
        "    print(classification_report(y_test, predictions, target_names = labels))\n",
        "    print(\"\\nAccuracy = \"+str(accuracy_score(y_test, predictions)*100)+\"%\")"
      ]
    },
    {
      "cell_type": "markdown",
      "metadata": {
        "id": "M1PFZZFw-S_P"
      },
      "source": [
        "#### **Making Function calls and defining variables**"
      ]
    },
    {
      "cell_type": "code",
      "execution_count": 15,
      "metadata": {
        "colab": {
          "base_uri": "https://localhost:8080/"
        },
        "id": "OgZinHaw-Mq7",
        "outputId": "6535c8d7-5164-46f6-cd1f-f7b495e27285"
      },
      "outputs": [
        {
          "name": "stdout",
          "output_type": "stream",
          "text": [
            "Dataset Extracted\n",
            "\n",
            "Python version:\n",
            "\n",
            "3.7.12 (default, Sep 10 2021, 00:21:48) \n",
            "[GCC 7.5.0]\n",
            "\n",
            "Device Info:\n",
            "\n",
            "[name: \"/device:CPU:0\"\n",
            "device_type: \"CPU\"\n",
            "memory_limit: 268435456\n",
            "locality {\n",
            "}\n",
            "incarnation: 14242923819733671233\n",
            "xla_global_id: -1\n",
            ", name: \"/device:GPU:0\"\n",
            "device_type: \"GPU\"\n",
            "memory_limit: 11321147392\n",
            "locality {\n",
            "  bus_id: 1\n",
            "  links {\n",
            "  }\n",
            "}\n",
            "incarnation: 15073732075920621065\n",
            "physical_device_desc: \"device: 0, name: Tesla K80, pci bus id: 0000:00:04.0, compute capability: 3.7\"\n",
            "xla_global_id: 416903419\n",
            "]\n",
            "\n",
            "Platform Info:\n",
            "\n",
            "Linux-5.4.104+-x86_64-with-Ubuntu-18.04-bionic\n",
            "x86_64\n"
          ]
        }
      ],
      "source": [
        "#Extracting Dataset\n",
        "extract_zip(\"drive/MyDrive/Dataset_test_1.zip\")\n",
        "\n",
        "#Device and environment Info\n",
        "python_ver()\n",
        "device_info()\n",
        "platform_info()"
      ]
    },
    {
      "cell_type": "code",
      "execution_count": 16,
      "metadata": {
        "id": "Bl01clC0-XOZ"
      },
      "outputs": [],
      "source": [
        "#Variables\n",
        "dirs = [\"Dataset_test_1/Train\", \"Dataset_test_1/Test\"]\n",
        "labels = ['Buddha', 'Garuda', 'Goddess_Durga', 'Goddess_Lakshmi', 'Goddess_Saraswathi', 'Lord_Ganesh', \n",
        "        'Lord_Hanuman', 'Lord_Hayagriva', 'Lord_Indra', 'Lord_Krishna', 'Lord_Muruga', 'Nandi', 'Nataraj', \n",
        "        'Shirdi_Sai_Baba', 'Shivling']\n",
        "img_size = 224\n",
        "tot_classes = len(labels)\n",
        "num_sample_img = 3\n",
        "iterations = 125\n",
        "l_rate = 0.00001"
      ]
    },
    {
      "cell_type": "code",
      "execution_count": 17,
      "metadata": {
        "colab": {
          "base_uri": "https://localhost:8080/"
        },
        "id": "ngdQO8_D-kzS",
        "outputId": "8516f311-9c57-4c3d-cd1f-facd5b1d61c6"
      },
      "outputs": [
        {
          "name": "stderr",
          "output_type": "stream",
          "text": [
            "/usr/local/lib/python3.7/dist-packages/ipykernel_launcher.py:23: VisibleDeprecationWarning: Creating an ndarray from ragged nested sequences (which is a list-or-tuple of lists-or-tuples-or ndarrays with different lengths or shapes) is deprecated. If you meant to do this, you must specify 'dtype=object' when creating the ndarray\n"
          ]
        }
      ],
      "source": [
        "#Max keypoints detection\n",
        "max_key = SIFT_test(dirs, labels, img_size)\n",
        "\n",
        "#Train and Test data loading\n",
        "train = dataset_creation(\"Dataset_test_1/Train\", labels, img_size, max_key)\n",
        "test = dataset_creation(\"Dataset_test_1/Test\", labels, img_size, max_key)"
      ]
    },
    {
      "cell_type": "code",
      "execution_count": 18,
      "metadata": {
        "colab": {
          "base_uri": "https://localhost:8080/",
          "height": 1000
        },
        "id": "ci_GDz0G-ngO",
        "outputId": "3f9335a9-3f55-4c02-b736-0fe26dd471da"
      },
      "outputs": [
        {
          "name": "stderr",
          "output_type": "stream",
          "text": [
            "/usr/local/lib/python3.7/dist-packages/seaborn/_decorators.py:43: FutureWarning: Pass the following variable as a keyword arg: x. From version 0.12, the only valid positional argument will be `data`, and passing other arguments without an explicit keyword will result in an error or misinterpretation.\n",
            "  FutureWarning\n"
          ]
        },
        {
          "data": {
            "image/png": "[encoded data removed]",
            "text/plain": [
              "<Figure size 1800x1800 with 1 Axes>"
            ]
          },
          "metadata": {},
          "output_type": "display_data"
        },
        {
          "name": "stderr",
          "output_type": "stream",
          "text": [
            "/usr/local/lib/python3.7/dist-packages/seaborn/_decorators.py:43: FutureWarning: Pass the following variable as a keyword arg: x. From version 0.12, the only valid positional argument will be `data`, and passing other arguments without an explicit keyword will result in an error or misinterpretation.\n",
            "  FutureWarning\n"
          ]
        },
        {
          "data": {
            "image/png": "[encoded data removed]",
            "text/plain": [
              "<Figure size 1800x1800 with 1 Axes>"
            ]
          },
          "metadata": {},
          "output_type": "display_data"
        }
      ],
      "source": [
        "#Stats\n",
        "dataset_creation_train_stat(labels, train)\n",
        "dataset_creation_test_stat(labels, test)"
      ]
    },
    {
      "cell_type": "code",
      "execution_count": 19,
      "metadata": {
        "id": "4JOI1Up6-tGQ"
      },
      "outputs": [],
      "source": [
        "#Training and testing data\n",
        "x_train, y_train, x_test, y_test = train_test_data_split(train, test)"
      ]
    },
    {
      "cell_type": "code",
      "execution_count": 20,
      "metadata": {
        "colab": {
          "base_uri": "https://localhost:8080/"
        },
        "id": "08fhlmqh-z4O",
        "outputId": "84f37c24-acea-4747-df1a-f9f5416912ca"
      },
      "outputs": [
        {
          "name": "stdout",
          "output_type": "stream",
          "text": [
            "Model: \"sequential\"\n",
            "_________________________________________________________________\n",
            " Layer (type)                Output Shape              Param #   \n",
            "=================================================================\n",
            " flatten (Flatten)           (None, 147712)            0         \n",
            "                                                                 \n",
            " dense (Dense)               (None, 3000)              443139000 \n",
            "                                                                 \n",
            " dropout (Dropout)           (None, 3000)              0         \n",
            "                                                                 \n",
            " dense_1 (Dense)             (None, 1000)              3001000   \n",
            "                                                                 \n",
            " dropout_1 (Dropout)         (None, 1000)              0         \n",
            "                                                                 \n",
            " dense_2 (Dense)             (None, 15)                15015     \n",
            "                                                                 \n",
            "=================================================================\n",
            "Total params: 446,155,015\n",
            "Trainable params: 446,155,015\n",
            "Non-trainable params: 0\n",
            "_________________________________________________________________\n"
          ]
        }
      ],
      "source": [
        "#Building ANN Model\n",
        "model = build_model_ann(tot_classes, x_train)"
      ]
    },
    {
      "cell_type": "code",
      "execution_count": 21,
      "metadata": {
        "colab": {
          "base_uri": "https://localhost:8080/"
        },
        "id": "j5NP-yio-5Bl",
        "outputId": "d7f16e98-d28f-47a1-d80c-a6d701211a29"
      },
      "outputs": [
        {
          "name": "stdout",
          "output_type": "stream",
          "text": [
            "Epoch 1/125\n",
            "71/71 [==============================] - 15s 186ms/step - loss: 77.2901 - accuracy: 0.0751 - val_loss: 19.5030 - val_accuracy: 0.1633\n",
            "Epoch 2/125\n",
            "71/71 [==============================] - 13s 182ms/step - loss: 39.1132 - accuracy: 0.1169 - val_loss: 10.8962 - val_accuracy: 0.1467\n",
            "Epoch 3/125\n",
            "71/71 [==============================] - 13s 182ms/step - loss: 21.9834 - accuracy: 0.1364 - val_loss: 6.9758 - val_accuracy: 0.1633\n",
            "Epoch 4/125\n",
            "71/71 [==============================] - 13s 181ms/step - loss: 11.5561 - accuracy: 0.1818 - val_loss: 4.4785 - val_accuracy: 0.1700\n",
            "Epoch 5/125\n",
            "71/71 [==============================] - 13s 180ms/step - loss: 7.0882 - accuracy: 0.1893 - val_loss: 3.7088 - val_accuracy: 0.1767\n",
            "Epoch 6/125\n",
            "71/71 [==============================] - 13s 180ms/step - loss: 4.7823 - accuracy: 0.2013 - val_loss: 3.2429 - val_accuracy: 0.1567\n",
            "Epoch 7/125\n",
            "71/71 [==============================] - 13s 180ms/step - loss: 3.9816 - accuracy: 0.2089 - val_loss: 3.0984 - val_accuracy: 0.1300\n",
            "Epoch 8/125\n",
            "71/71 [==============================] - 13s 182ms/step - loss: 3.5603 - accuracy: 0.2413 - val_loss: 2.8977 - val_accuracy: 0.1433\n",
            "Epoch 9/125\n",
            "71/71 [==============================] - 13s 182ms/step - loss: 3.3630 - accuracy: 0.2364 - val_loss: 2.8986 - val_accuracy: 0.1433\n",
            "Epoch 10/125\n",
            "71/71 [==============================] - 13s 183ms/step - loss: 3.5335 - accuracy: 0.2458 - val_loss: 2.9131 - val_accuracy: 0.1700\n",
            "Epoch 11/125\n",
            "71/71 [==============================] - 13s 184ms/step - loss: 3.2268 - accuracy: 0.2351 - val_loss: 2.8721 - val_accuracy: 0.1567\n",
            "Epoch 12/125\n",
            "71/71 [==============================] - 13s 183ms/step - loss: 3.0230 - accuracy: 0.2511 - val_loss: 2.8425 - val_accuracy: 0.1567\n",
            "Epoch 13/125\n",
            "71/71 [==============================] - 13s 184ms/step - loss: 3.0121 - accuracy: 0.2724 - val_loss: 2.8115 - val_accuracy: 0.1667\n",
            "Epoch 14/125\n",
            "71/71 [==============================] - 13s 183ms/step - loss: 2.9184 - accuracy: 0.2764 - val_loss: 2.7088 - val_accuracy: 0.1500\n",
            "Epoch 15/125\n",
            "71/71 [==============================] - 13s 183ms/step - loss: 2.7336 - accuracy: 0.2658 - val_loss: 2.7223 - val_accuracy: 0.1533\n",
            "Epoch 16/125\n",
            "71/71 [==============================] - 13s 183ms/step - loss: 2.8222 - accuracy: 0.2613 - val_loss: 2.7226 - val_accuracy: 0.1700\n",
            "Epoch 17/125\n",
            "71/71 [==============================] - 13s 183ms/step - loss: 2.5162 - accuracy: 0.2769 - val_loss: 2.8187 - val_accuracy: 0.1367\n",
            "Epoch 18/125\n",
            "71/71 [==============================] - 13s 183ms/step - loss: 2.6581 - accuracy: 0.2702 - val_loss: 2.7270 - val_accuracy: 0.1267\n",
            "Epoch 19/125\n",
            "71/71 [==============================] - 13s 183ms/step - loss: 2.5708 - accuracy: 0.2840 - val_loss: 2.7273 - val_accuracy: 0.1467\n",
            "Epoch 20/125\n",
            "71/71 [==============================] - 13s 182ms/step - loss: 2.5558 - accuracy: 0.2840 - val_loss: 2.6729 - val_accuracy: 0.1667\n",
            "Epoch 21/125\n",
            "71/71 [==============================] - 13s 184ms/step - loss: 2.4803 - accuracy: 0.2827 - val_loss: 2.6313 - val_accuracy: 0.1700\n",
            "Epoch 22/125\n",
            "71/71 [==============================] - 13s 183ms/step - loss: 2.4802 - accuracy: 0.2889 - val_loss: 2.7611 - val_accuracy: 0.1567\n",
            "Epoch 23/125\n",
            "71/71 [==============================] - 13s 183ms/step - loss: 2.5040 - accuracy: 0.2898 - val_loss: 2.7410 - val_accuracy: 0.1700\n",
            "Epoch 24/125\n",
            "71/71 [==============================] - 13s 183ms/step - loss: 2.5211 - accuracy: 0.3013 - val_loss: 2.6760 - val_accuracy: 0.1567\n",
            "Epoch 25/125\n",
            "71/71 [==============================] - 13s 182ms/step - loss: 2.5259 - accuracy: 0.3071 - val_loss: 2.6568 - val_accuracy: 0.1400\n",
            "Epoch 26/125\n",
            "71/71 [==============================] - 13s 182ms/step - loss: 2.3708 - accuracy: 0.2933 - val_loss: 2.6521 - val_accuracy: 0.1467\n",
            "Epoch 27/125\n",
            "71/71 [==============================] - 13s 182ms/step - loss: 2.4297 - accuracy: 0.2902 - val_loss: 2.6513 - val_accuracy: 0.1367\n",
            "Epoch 28/125\n",
            "71/71 [==============================] - 13s 182ms/step - loss: 2.3397 - accuracy: 0.2898 - val_loss: 2.6834 - val_accuracy: 0.1667\n",
            "Epoch 29/125\n",
            "71/71 [==============================] - 13s 182ms/step - loss: 2.3657 - accuracy: 0.3062 - val_loss: 2.7031 - val_accuracy: 0.1500\n",
            "Epoch 30/125\n",
            "71/71 [==============================] - 13s 182ms/step - loss: 2.3995 - accuracy: 0.3036 - val_loss: 2.7350 - val_accuracy: 0.1400\n",
            "Epoch 31/125\n",
            "71/71 [==============================] - 13s 183ms/step - loss: 2.4055 - accuracy: 0.2867 - val_loss: 2.7203 - val_accuracy: 0.1333\n",
            "Epoch 32/125\n",
            "71/71 [==============================] - 13s 182ms/step - loss: 2.3492 - accuracy: 0.2987 - val_loss: 2.7930 - val_accuracy: 0.1600\n",
            "Epoch 33/125\n",
            "71/71 [==============================] - 13s 182ms/step - loss: 2.4685 - accuracy: 0.3062 - val_loss: 2.7964 - val_accuracy: 0.1367\n",
            "Epoch 34/125\n",
            "71/71 [==============================] - 13s 182ms/step - loss: 2.4573 - accuracy: 0.2787 - val_loss: 2.6550 - val_accuracy: 0.1633\n",
            "Epoch 35/125\n",
            "71/71 [==============================] - 13s 183ms/step - loss: 2.3551 - accuracy: 0.3160 - val_loss: 2.7838 - val_accuracy: 0.1500\n",
            "Epoch 36/125\n",
            "71/71 [==============================] - 13s 182ms/step - loss: 2.3425 - accuracy: 0.3022 - val_loss: 2.7942 - val_accuracy: 0.1567\n",
            "Epoch 37/125\n",
            "71/71 [==============================] - 13s 182ms/step - loss: 2.3270 - accuracy: 0.3004 - val_loss: 2.7577 - val_accuracy: 0.1467\n",
            "Epoch 38/125\n",
            "71/71 [==============================] - 13s 183ms/step - loss: 2.4232 - accuracy: 0.3093 - val_loss: 2.6244 - val_accuracy: 0.1400\n",
            "Epoch 39/125\n",
            "71/71 [==============================] - 13s 183ms/step - loss: 2.4488 - accuracy: 0.3027 - val_loss: 2.7775 - val_accuracy: 0.1400\n",
            "Epoch 40/125\n",
            "71/71 [==============================] - 13s 182ms/step - loss: 2.4265 - accuracy: 0.3142 - val_loss: 2.7435 - val_accuracy: 0.1400\n",
            "Epoch 41/125\n",
            "71/71 [==============================] - 13s 183ms/step - loss: 2.2733 - accuracy: 0.3147 - val_loss: 2.5765 - val_accuracy: 0.1733\n",
            "Epoch 42/125\n",
            "71/71 [==============================] - 13s 182ms/step - loss: 2.3929 - accuracy: 0.3053 - val_loss: 2.5828 - val_accuracy: 0.1500\n",
            "Epoch 43/125\n",
            "71/71 [==============================] - 13s 183ms/step - loss: 2.3242 - accuracy: 0.3164 - val_loss: 2.7246 - val_accuracy: 0.1533\n",
            "Epoch 44/125\n",
            "71/71 [==============================] - 13s 182ms/step - loss: 2.3009 - accuracy: 0.3058 - val_loss: 2.6330 - val_accuracy: 0.1600\n",
            "Epoch 45/125\n",
            "71/71 [==============================] - 13s 181ms/step - loss: 2.3799 - accuracy: 0.3129 - val_loss: 2.6559 - val_accuracy: 0.1400\n",
            "Epoch 46/125\n",
            "71/71 [==============================] - 13s 181ms/step - loss: 2.3722 - accuracy: 0.3036 - val_loss: 2.6555 - val_accuracy: 0.1700\n",
            "Epoch 47/125\n",
            "71/71 [==============================] - 13s 182ms/step - loss: 2.3129 - accuracy: 0.3204 - val_loss: 2.6207 - val_accuracy: 0.1633\n",
            "Epoch 48/125\n",
            "71/71 [==============================] - 13s 183ms/step - loss: 2.2015 - accuracy: 0.3160 - val_loss: 2.6603 - val_accuracy: 0.1433\n",
            "Epoch 49/125\n",
            "71/71 [==============================] - 13s 182ms/step - loss: 2.2809 - accuracy: 0.3147 - val_loss: 2.5804 - val_accuracy: 0.1500\n",
            "Epoch 50/125\n",
            "71/71 [==============================] - 13s 182ms/step - loss: 2.2098 - accuracy: 0.3236 - val_loss: 2.5802 - val_accuracy: 0.1800\n",
            "Epoch 51/125\n",
            "71/71 [==============================] - 13s 182ms/step - loss: 2.2102 - accuracy: 0.3302 - val_loss: 2.5656 - val_accuracy: 0.1667\n",
            "Epoch 52/125\n",
            "71/71 [==============================] - 13s 182ms/step - loss: 2.3306 - accuracy: 0.3022 - val_loss: 2.5854 - val_accuracy: 0.1567\n",
            "Epoch 53/125\n",
            "71/71 [==============================] - 13s 182ms/step - loss: 2.3188 - accuracy: 0.3138 - val_loss: 2.6471 - val_accuracy: 0.1767\n",
            "Epoch 54/125\n",
            "71/71 [==============================] - 13s 182ms/step - loss: 2.4181 - accuracy: 0.2991 - val_loss: 2.5728 - val_accuracy: 0.1567\n",
            "Epoch 55/125\n",
            "71/71 [==============================] - 13s 185ms/step - loss: 2.4046 - accuracy: 0.3120 - val_loss: 2.6191 - val_accuracy: 0.1533\n",
            "Epoch 56/125\n",
            "71/71 [==============================] - 13s 185ms/step - loss: 2.2547 - accuracy: 0.3129 - val_loss: 2.5413 - val_accuracy: 0.1700\n",
            "Epoch 57/125\n",
            "71/71 [==============================] - 13s 181ms/step - loss: 2.3141 - accuracy: 0.3142 - val_loss: 2.6252 - val_accuracy: 0.1467\n",
            "Epoch 58/125\n",
            "71/71 [==============================] - 13s 182ms/step - loss: 2.2815 - accuracy: 0.3236 - val_loss: 2.5661 - val_accuracy: 0.1433\n",
            "Epoch 59/125\n",
            "71/71 [==============================] - 13s 185ms/step - loss: 2.1926 - accuracy: 0.3196 - val_loss: 2.5887 - val_accuracy: 0.1500\n",
            "Epoch 60/125\n",
            "71/71 [==============================] - 13s 182ms/step - loss: 2.3839 - accuracy: 0.3173 - val_loss: 2.5541 - val_accuracy: 0.1767\n",
            "Epoch 61/125\n",
            "71/71 [==============================] - 13s 183ms/step - loss: 2.2684 - accuracy: 0.3227 - val_loss: 2.6077 - val_accuracy: 0.1433\n",
            "Epoch 62/125\n",
            "71/71 [==============================] - 13s 182ms/step - loss: 2.1327 - accuracy: 0.3302 - val_loss: 2.6227 - val_accuracy: 0.1500\n",
            "Epoch 63/125\n",
            "71/71 [==============================] - 13s 182ms/step - loss: 2.1772 - accuracy: 0.3364 - val_loss: 2.5554 - val_accuracy: 0.1500\n",
            "Epoch 64/125\n",
            "71/71 [==============================] - 13s 181ms/step - loss: 2.3008 - accuracy: 0.3236 - val_loss: 2.5000 - val_accuracy: 0.1867\n",
            "Epoch 65/125\n",
            "71/71 [==============================] - 13s 182ms/step - loss: 2.2177 - accuracy: 0.3227 - val_loss: 2.6094 - val_accuracy: 0.1567\n",
            "Epoch 66/125\n",
            "71/71 [==============================] - 13s 183ms/step - loss: 2.1782 - accuracy: 0.3302 - val_loss: 2.5545 - val_accuracy: 0.1633\n",
            "Epoch 67/125\n",
            "71/71 [==============================] - 13s 182ms/step - loss: 2.3425 - accuracy: 0.3267 - val_loss: 2.6314 - val_accuracy: 0.1500\n",
            "Epoch 68/125\n",
            "71/71 [==============================] - 13s 185ms/step - loss: 2.1721 - accuracy: 0.3342 - val_loss: 2.6387 - val_accuracy: 0.1733\n",
            "Epoch 69/125\n",
            "71/71 [==============================] - 13s 182ms/step - loss: 2.2456 - accuracy: 0.3271 - val_loss: 2.6674 - val_accuracy: 0.1467\n",
            "Epoch 70/125\n",
            "71/71 [==============================] - 13s 182ms/step - loss: 2.2020 - accuracy: 0.3324 - val_loss: 2.5724 - val_accuracy: 0.1667\n",
            "Epoch 71/125\n",
            "71/71 [==============================] - 13s 183ms/step - loss: 2.0855 - accuracy: 0.3289 - val_loss: 2.5519 - val_accuracy: 0.1800\n",
            "Epoch 72/125\n",
            "71/71 [==============================] - 13s 182ms/step - loss: 2.1426 - accuracy: 0.3351 - val_loss: 2.6521 - val_accuracy: 0.1633\n",
            "Epoch 73/125\n",
            "71/71 [==============================] - 13s 182ms/step - loss: 2.1594 - accuracy: 0.3320 - val_loss: 2.5697 - val_accuracy: 0.1767\n",
            "Epoch 74/125\n",
            "71/71 [==============================] - 13s 183ms/step - loss: 2.1456 - accuracy: 0.3436 - val_loss: 2.6143 - val_accuracy: 0.1533\n",
            "Epoch 75/125\n",
            "71/71 [==============================] - 13s 182ms/step - loss: 2.2937 - accuracy: 0.3316 - val_loss: 2.6232 - val_accuracy: 0.1533\n",
            "Epoch 76/125\n",
            "71/71 [==============================] - 13s 182ms/step - loss: 2.1589 - accuracy: 0.3253 - val_loss: 2.6375 - val_accuracy: 0.1600\n",
            "Epoch 77/125\n",
            "71/71 [==============================] - 13s 181ms/step - loss: 2.3219 - accuracy: 0.3391 - val_loss: 2.6015 - val_accuracy: 0.1433\n",
            "Epoch 78/125\n",
            "71/71 [==============================] - 13s 183ms/step - loss: 2.0929 - accuracy: 0.3396 - val_loss: 2.5927 - val_accuracy: 0.1600\n",
            "Epoch 79/125\n",
            "71/71 [==============================] - 13s 182ms/step - loss: 2.1095 - accuracy: 0.3427 - val_loss: 2.6444 - val_accuracy: 0.1633\n",
            "Epoch 80/125\n",
            "71/71 [==============================] - 13s 182ms/step - loss: 2.1504 - accuracy: 0.3347 - val_loss: 2.5426 - val_accuracy: 0.1533\n",
            "Epoch 81/125\n",
            "71/71 [==============================] - 13s 182ms/step - loss: 2.2581 - accuracy: 0.3316 - val_loss: 2.6094 - val_accuracy: 0.1567\n",
            "Epoch 82/125\n",
            "71/71 [==============================] - 13s 182ms/step - loss: 2.1087 - accuracy: 0.3364 - val_loss: 2.6860 - val_accuracy: 0.1733\n",
            "Epoch 83/125\n",
            "71/71 [==============================] - 13s 185ms/step - loss: 2.1591 - accuracy: 0.3391 - val_loss: 2.5978 - val_accuracy: 0.1567\n",
            "Epoch 84/125\n",
            "71/71 [==============================] - 13s 182ms/step - loss: 2.1903 - accuracy: 0.3378 - val_loss: 2.6214 - val_accuracy: 0.1567\n",
            "Epoch 85/125\n",
            "71/71 [==============================] - 13s 182ms/step - loss: 2.1659 - accuracy: 0.3329 - val_loss: 2.6949 - val_accuracy: 0.1433\n",
            "Epoch 86/125\n",
            "71/71 [==============================] - 13s 183ms/step - loss: 2.1653 - accuracy: 0.3360 - val_loss: 2.5582 - val_accuracy: 0.1500\n",
            "Epoch 87/125\n",
            "71/71 [==============================] - 13s 182ms/step - loss: 2.0392 - accuracy: 0.3516 - val_loss: 2.6829 - val_accuracy: 0.1500\n",
            "Epoch 88/125\n",
            "71/71 [==============================] - 13s 182ms/step - loss: 2.1516 - accuracy: 0.3413 - val_loss: 2.5394 - val_accuracy: 0.1533\n",
            "Epoch 89/125\n",
            "71/71 [==============================] - 13s 182ms/step - loss: 2.0990 - accuracy: 0.3476 - val_loss: 2.5342 - val_accuracy: 0.1900\n",
            "Epoch 90/125\n",
            "71/71 [==============================] - 13s 182ms/step - loss: 2.2235 - accuracy: 0.3289 - val_loss: 2.5708 - val_accuracy: 0.1700\n",
            "Epoch 91/125\n",
            "71/71 [==============================] - 13s 183ms/step - loss: 2.1473 - accuracy: 0.3338 - val_loss: 2.5689 - val_accuracy: 0.1567\n",
            "Epoch 92/125\n",
            "71/71 [==============================] - 13s 182ms/step - loss: 2.1608 - accuracy: 0.3489 - val_loss: 2.5859 - val_accuracy: 0.1667\n",
            "Epoch 93/125\n",
            "71/71 [==============================] - 13s 182ms/step - loss: 2.0710 - accuracy: 0.3489 - val_loss: 2.6600 - val_accuracy: 0.1633\n",
            "Epoch 94/125\n",
            "71/71 [==============================] - 13s 183ms/step - loss: 2.1487 - accuracy: 0.3422 - val_loss: 2.5809 - val_accuracy: 0.1600\n",
            "Epoch 95/125\n",
            "71/71 [==============================] - 13s 182ms/step - loss: 2.0548 - accuracy: 0.3542 - val_loss: 2.5561 - val_accuracy: 0.1500\n",
            "Epoch 96/125\n",
            "71/71 [==============================] - 13s 182ms/step - loss: 2.0828 - accuracy: 0.3476 - val_loss: 2.5307 - val_accuracy: 0.1867\n",
            "Epoch 97/125\n",
            "71/71 [==============================] - 13s 182ms/step - loss: 2.2107 - accuracy: 0.3418 - val_loss: 2.4934 - val_accuracy: 0.1733\n",
            "Epoch 98/125\n",
            "71/71 [==============================] - 13s 182ms/step - loss: 2.0902 - accuracy: 0.3418 - val_loss: 2.5170 - val_accuracy: 0.1700\n",
            "Epoch 99/125\n",
            "71/71 [==============================] - 13s 182ms/step - loss: 2.0857 - accuracy: 0.3413 - val_loss: 2.5936 - val_accuracy: 0.1667\n",
            "Epoch 100/125\n",
            "71/71 [==============================] - 13s 182ms/step - loss: 1.9960 - accuracy: 0.3489 - val_loss: 2.6173 - val_accuracy: 0.1733\n",
            "Epoch 101/125\n",
            "71/71 [==============================] - 13s 182ms/step - loss: 2.1687 - accuracy: 0.3533 - val_loss: 2.5357 - val_accuracy: 0.1533\n",
            "Epoch 102/125\n",
            "71/71 [==============================] - 13s 183ms/step - loss: 2.0514 - accuracy: 0.3609 - val_loss: 2.5659 - val_accuracy: 0.1600\n",
            "Epoch 103/125\n",
            "71/71 [==============================] - 13s 181ms/step - loss: 2.0306 - accuracy: 0.3467 - val_loss: 2.5538 - val_accuracy: 0.1933\n",
            "Epoch 104/125\n",
            "71/71 [==============================] - 13s 181ms/step - loss: 2.1354 - accuracy: 0.3582 - val_loss: 2.6680 - val_accuracy: 0.1533\n",
            "Epoch 105/125\n",
            "71/71 [==============================] - 13s 184ms/step - loss: 1.9509 - accuracy: 0.3716 - val_loss: 2.5403 - val_accuracy: 0.1600\n",
            "Epoch 106/125\n",
            "71/71 [==============================] - 13s 182ms/step - loss: 2.0401 - accuracy: 0.3413 - val_loss: 2.6192 - val_accuracy: 0.1500\n",
            "Epoch 107/125\n",
            "71/71 [==============================] - 13s 181ms/step - loss: 2.0308 - accuracy: 0.3596 - val_loss: 2.7073 - val_accuracy: 0.1467\n",
            "Epoch 108/125\n",
            "71/71 [==============================] - 13s 182ms/step - loss: 2.0920 - accuracy: 0.3596 - val_loss: 2.6004 - val_accuracy: 0.1467\n",
            "Epoch 109/125\n",
            "71/71 [==============================] - 13s 182ms/step - loss: 2.0277 - accuracy: 0.3587 - val_loss: 2.5086 - val_accuracy: 0.1667\n",
            "Epoch 110/125\n",
            "71/71 [==============================] - 13s 182ms/step - loss: 2.0558 - accuracy: 0.3551 - val_loss: 2.5575 - val_accuracy: 0.1767\n",
            "Epoch 111/125\n",
            "71/71 [==============================] - 13s 183ms/step - loss: 2.0877 - accuracy: 0.3667 - val_loss: 2.5002 - val_accuracy: 0.1767\n",
            "Epoch 112/125\n",
            "71/71 [==============================] - 13s 182ms/step - loss: 2.0227 - accuracy: 0.3569 - val_loss: 2.4976 - val_accuracy: 0.1667\n",
            "Epoch 113/125\n",
            "71/71 [==============================] - 13s 182ms/step - loss: 2.0009 - accuracy: 0.3613 - val_loss: 2.5258 - val_accuracy: 0.1700\n",
            "Epoch 114/125\n",
            "71/71 [==============================] - 13s 183ms/step - loss: 1.9933 - accuracy: 0.3671 - val_loss: 2.5342 - val_accuracy: 0.1733\n",
            "Epoch 115/125\n",
            "71/71 [==============================] - 13s 182ms/step - loss: 1.9646 - accuracy: 0.3653 - val_loss: 2.4991 - val_accuracy: 0.1633\n",
            "Epoch 116/125\n",
            "71/71 [==============================] - 13s 182ms/step - loss: 2.0095 - accuracy: 0.3551 - val_loss: 2.4915 - val_accuracy: 0.1600\n",
            "Epoch 117/125\n",
            "71/71 [==============================] - 13s 186ms/step - loss: 1.9608 - accuracy: 0.3609 - val_loss: 2.5185 - val_accuracy: 0.1667\n",
            "Epoch 118/125\n",
            "71/71 [==============================] - 13s 181ms/step - loss: 1.9569 - accuracy: 0.3716 - val_loss: 2.5067 - val_accuracy: 0.1667\n",
            "Epoch 119/125\n",
            "71/71 [==============================] - 13s 182ms/step - loss: 1.9342 - accuracy: 0.3751 - val_loss: 2.5853 - val_accuracy: 0.1800\n",
            "Epoch 120/125\n",
            "71/71 [==============================] - 13s 181ms/step - loss: 2.0310 - accuracy: 0.3622 - val_loss: 2.6315 - val_accuracy: 0.1667\n",
            "Epoch 121/125\n",
            "71/71 [==============================] - 13s 182ms/step - loss: 2.0801 - accuracy: 0.3720 - val_loss: 2.6999 - val_accuracy: 0.1600\n",
            "Epoch 122/125\n",
            "71/71 [==============================] - 13s 186ms/step - loss: 1.9333 - accuracy: 0.3720 - val_loss: 2.6741 - val_accuracy: 0.1667\n",
            "Epoch 123/125\n",
            "71/71 [==============================] - 13s 182ms/step - loss: 2.0254 - accuracy: 0.3609 - val_loss: 2.5907 - val_accuracy: 0.1600\n",
            "Epoch 124/125\n",
            "71/71 [==============================] - 13s 182ms/step - loss: 1.9893 - accuracy: 0.3849 - val_loss: 2.4625 - val_accuracy: 0.1833\n",
            "Epoch 125/125\n",
            "71/71 [==============================] - 13s 182ms/step - loss: 1.9604 - accuracy: 0.3720 - val_loss: 2.5212 - val_accuracy: 0.1633\n"
          ]
        }
      ],
      "source": [
        "#Compile and fit the model\n",
        "history, model = compile_and_fit(model, x_train, y_train, x_test, y_test, iterations, l_rate)"
      ]
    },
    {
      "cell_type": "code",
      "execution_count": 22,
      "metadata": {
        "colab": {
          "base_uri": "https://localhost:8080/",
          "height": 435
        },
        "id": "pMBMXPgy--9S",
        "outputId": "573fcac1-ea5d-437f-9e3f-57e7495edcb7"
      },
      "outputs": [
        {
          "data": {
            "image/png": "[encoded data removed]",
            "text/plain": [
              "<Figure size 1080x1080 with 2 Axes>"
            ]
          },
          "metadata": {},
          "output_type": "display_data"
        }
      ],
      "source": [
        "#Plots\n",
        "acc_plots(history, iterations)"
      ]
    },
    {
      "cell_type": "code",
      "execution_count": 23,
      "metadata": {
        "colab": {
          "base_uri": "https://localhost:8080/"
        },
        "id": "A7sVGFjb_DdS",
        "outputId": "4d24834d-69be-48c4-bd15-c3529cfbd337"
      },
      "outputs": [
        {
          "name": "stdout",
          "output_type": "stream",
          "text": [
            "                    precision    recall  f1-score   support\n",
            "\n",
            "            Buddha       0.00      0.00      0.00        20\n",
            "            Garuda       0.75      0.15      0.25        20\n",
            "     Goddess_Durga       0.00      0.00      0.00        20\n",
            "   Goddess_Lakshmi       0.40      0.10      0.16        20\n",
            "Goddess_Saraswathi       0.00      0.00      0.00        20\n",
            "       Lord_Ganesh       0.00      0.00      0.00        20\n",
            "      Lord_Hanuman       0.07      0.75      0.13        20\n",
            "    Lord_Hayagriva       0.00      0.00      0.00        20\n",
            "        Lord_Indra       0.87      0.65      0.74        20\n",
            "      Lord_Krishna       0.50      0.10      0.17        20\n",
            "       Lord_Muruga       0.11      0.05      0.07        20\n",
            "             Nandi       0.00      0.00      0.00        20\n",
            "           Nataraj       1.00      0.10      0.18        20\n",
            "   Shirdi_Sai_Baba       0.31      0.40      0.35        20\n",
            "          Shivling       0.43      0.15      0.22        20\n",
            "\n",
            "          accuracy                           0.16       300\n",
            "         macro avg       0.30      0.16      0.15       300\n",
            "      weighted avg       0.30      0.16      0.15       300\n",
            "\n",
            "\n",
            "Accuracy = 16.333333333333332%\n"
          ]
        }
      ],
      "source": [
        "#Results\n",
        "acc_results(model, labels, x_test, y_test)"
      ]
    },
    {
      "cell_type": "markdown",
      "metadata": {
        "id": "lYyGyFyM_FAo"
      },
      "source": [
        "#### **Result: For learning rate = 1*10^(-5) and 125 iterations, the highest accuracy obtained is 19.33%(approx) in (100, 110).**"
      ]
    }
  ],
  "metadata": {
    "accelerator": "GPU",
    "colab": {
      "collapsed_sections": [],
      "name": "SIFT_ANN_MAX_KEY_PADDING_Test_run_1_lr_1e(_5)_epochs_125_acc_19.ipynb",
      "provenance": []
    },
    "kernelspec": {
      "display_name": "Python 3",
      "name": "python3"
    },
    "language_info": {
      "name": "python"
    }
  },
  "nbformat": 4,
  "nbformat_minor": 0
}
