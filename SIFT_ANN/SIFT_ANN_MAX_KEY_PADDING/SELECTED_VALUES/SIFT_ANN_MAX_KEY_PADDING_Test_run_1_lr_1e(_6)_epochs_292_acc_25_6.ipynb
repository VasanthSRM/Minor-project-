{
  "nbformat": 4,
  "nbformat_minor": 0,
  "metadata": {
    "accelerator": "GPU",
    "colab": {
      "name": "SIFT_ANN_MAX_KEY_PADDING_Test_run_1_lr_1e(_6)_epochs_292_acc_25_6.ipynb",
      "provenance": [],
      "collapsed_sections": []
    },
    "kernelspec": {
      "display_name": "Python 3",
      "name": "python3"
    },
    "language_info": {
      "name": "python"
    }
  },
  "cells": [
    {
      "cell_type": "markdown",
      "metadata": {
        "id": "xkfpI5lL8ofl"
      },
      "source": [
        "## **SIFT + ANN (Max_keypoints and padding approach)**\n",
        "#### **lr=1*10^(-6), epochs=292, Accuracy = 25.66% (approx).**\n",
        "#### **Test run - 1**"
      ]
    },
    {
      "cell_type": "markdown",
      "metadata": {
        "id": "5AVHk6bP8110"
      },
      "source": [
        "#### **Aim: To find the accuracy of the model for the given learning rate and epoch value.**"
      ]
    },
    {
      "cell_type": "markdown",
      "metadata": {
        "id": "xaufx6N9PNMd"
      },
      "source": [
        "#### **For mounting drive**"
      ]
    },
    {
      "cell_type": "code",
      "metadata": {
        "colab": {
          "base_uri": "https://localhost:8080/"
        },
        "id": "LoT75uFsDMt3",
        "outputId": "6b9a6d5d-a644-4e9b-a1e1-09bd2461c7ac"
      },
      "source": [
        "#For mounting GDrive\n",
        "from google.colab import drive\n",
        "drive.mount('/content/drive')"
      ],
      "execution_count": 1,
      "outputs": [
        {
          "output_type": "stream",
          "name": "stdout",
          "text": [
            "Drive already mounted at /content/drive; to attempt to forcibly remount, call drive.mount(\"/content/drive\", force_remount=True).\n"
          ]
        }
      ]
    },
    {
      "cell_type": "markdown",
      "metadata": {
        "id": "hsXW3CzQ9KWG"
      },
      "source": [
        "#### **Required modules**"
      ]
    },
    {
      "cell_type": "code",
      "metadata": {
        "colab": {
          "base_uri": "https://localhost:8080/"
        },
        "id": "UmlhxprSjvwi",
        "outputId": "012c1104-3014-4aa7-ed75-10a23ba67087"
      },
      "source": [
        "#Req. opencv 4.5+\n",
        "!pip uninstall opencv-python\n",
        "!pip install opencv-python"
      ],
      "execution_count": 2,
      "outputs": [
        {
          "output_type": "stream",
          "name": "stdout",
          "text": [
            "Found existing installation: opencv-python 4.5.4.60\n",
            "Uninstalling opencv-python-4.5.4.60:\n",
            "  Would remove:\n",
            "    /usr/local/lib/python3.7/dist-packages/cv2/*\n",
            "    /usr/local/lib/python3.7/dist-packages/opencv_python-4.5.4.60.dist-info/*\n",
            "    /usr/local/lib/python3.7/dist-packages/opencv_python.libs/libQt5Core-39545cc7.so.5.15.0\n",
            "    /usr/local/lib/python3.7/dist-packages/opencv_python.libs/libQt5Gui-ba0a2070.so.5.15.0\n",
            "    /usr/local/lib/python3.7/dist-packages/opencv_python.libs/libQt5Test-c38a5234.so.5.15.0\n",
            "    /usr/local/lib/python3.7/dist-packages/opencv_python.libs/libQt5Widgets-e69d94fb.so.5.15.0\n",
            "    /usr/local/lib/python3.7/dist-packages/opencv_python.libs/libQt5XcbQpa-ca221f44.so.5.15.0\n",
            "    /usr/local/lib/python3.7/dist-packages/opencv_python.libs/libX11-xcb-69166bdf.so.1.0.0\n",
            "    /usr/local/lib/python3.7/dist-packages/opencv_python.libs/libXau-00ec42fe.so.6.0.0\n",
            "    /usr/local/lib/python3.7/dist-packages/opencv_python.libs/libavcodec-64ac49e1.so.58.91.100\n",
            "    /usr/local/lib/python3.7/dist-packages/opencv_python.libs/libavformat-4b79e479.so.58.45.100\n",
            "    /usr/local/lib/python3.7/dist-packages/opencv_python.libs/libavutil-805734e8.so.56.51.100\n",
            "    /usr/local/lib/python3.7/dist-packages/opencv_python.libs/libbz2-a273e504.so.1.0.6\n",
            "    /usr/local/lib/python3.7/dist-packages/opencv_python.libs/libcrypto-018b8c17.so.1.1\n",
            "    /usr/local/lib/python3.7/dist-packages/opencv_python.libs/libfreetype-c0e61f0c.so.6.14.0\n",
            "    /usr/local/lib/python3.7/dist-packages/opencv_python.libs/libgfortran-91cc3cb1.so.3.0.0\n",
            "    /usr/local/lib/python3.7/dist-packages/opencv_python.libs/libopenblas-r0-f650aae0.3.3.so\n",
            "    /usr/local/lib/python3.7/dist-packages/opencv_python.libs/libpng15-ce838cd1.so.15.13.0\n",
            "    /usr/local/lib/python3.7/dist-packages/opencv_python.libs/libquadmath-96973f99.so.0.0.0\n",
            "    /usr/local/lib/python3.7/dist-packages/opencv_python.libs/libssl-6082116c.so.1.1\n",
            "    /usr/local/lib/python3.7/dist-packages/opencv_python.libs/libswresample-83ce3247.so.3.7.100\n",
            "    /usr/local/lib/python3.7/dist-packages/opencv_python.libs/libswscale-7e960168.so.5.7.100\n",
            "    /usr/local/lib/python3.7/dist-packages/opencv_python.libs/libvpx-392cd848.so.6.4.0\n",
            "    /usr/local/lib/python3.7/dist-packages/opencv_python.libs/libxcb-icccm-413c9f41.so.4.0.0\n",
            "    /usr/local/lib/python3.7/dist-packages/opencv_python.libs/libxcb-image-e82a276d.so.0.0.0\n",
            "    /usr/local/lib/python3.7/dist-packages/opencv_python.libs/libxcb-keysyms-21015570.so.1.0.0\n",
            "    /usr/local/lib/python3.7/dist-packages/opencv_python.libs/libxcb-randr-a96a5a87.so.0.1.0\n",
            "    /usr/local/lib/python3.7/dist-packages/opencv_python.libs/libxcb-render-637b984a.so.0.0.0\n",
            "    /usr/local/lib/python3.7/dist-packages/opencv_python.libs/libxcb-render-util-43ce00f5.so.0.0.0\n",
            "    /usr/local/lib/python3.7/dist-packages/opencv_python.libs/libxcb-shape-25c2b258.so.0.0.0\n",
            "    /usr/local/lib/python3.7/dist-packages/opencv_python.libs/libxcb-shm-7a199f70.so.0.0.0\n",
            "    /usr/local/lib/python3.7/dist-packages/opencv_python.libs/libxcb-sync-89374f40.so.1.0.0\n",
            "    /usr/local/lib/python3.7/dist-packages/opencv_python.libs/libxcb-util-4d666913.so.1.0.0\n",
            "    /usr/local/lib/python3.7/dist-packages/opencv_python.libs/libxcb-xfixes-9be3ba6f.so.0.0.0\n",
            "    /usr/local/lib/python3.7/dist-packages/opencv_python.libs/libxcb-xinerama-ae147f87.so.0.0.0\n",
            "    /usr/local/lib/python3.7/dist-packages/opencv_python.libs/libxcb-xkb-9ba31ab3.so.1.0.0\n",
            "    /usr/local/lib/python3.7/dist-packages/opencv_python.libs/libxkbcommon-71ae2972.so.0.0.0\n",
            "    /usr/local/lib/python3.7/dist-packages/opencv_python.libs/libxkbcommon-x11-c65ed502.so.0.0.0\n",
            "Proceed (y/n)? y\n",
            "  Successfully uninstalled opencv-python-4.5.4.60\n",
            "Collecting opencv-python\n",
            "  Using cached opencv_python-4.5.4.60-cp37-cp37m-manylinux_2_17_x86_64.manylinux2014_x86_64.whl (60.3 MB)\n",
            "Requirement already satisfied: numpy>=1.14.5 in /usr/local/lib/python3.7/dist-packages (from opencv-python) (1.19.5)\n",
            "Installing collected packages: opencv-python\n",
            "\u001b[31mERROR: pip's dependency resolver does not currently take into account all the packages that are installed. This behaviour is the source of the following dependency conflicts.\n",
            "albumentations 0.1.12 requires imgaug<0.2.7,>=0.2.5, but you have imgaug 0.2.9 which is incompatible.\u001b[0m\n",
            "Successfully installed opencv-python-4.5.4.60\n"
          ]
        }
      ]
    },
    {
      "cell_type": "code",
      "metadata": {
        "id": "__cYeeQF8IEn"
      },
      "source": [
        "#Importing necessary libraries\n",
        "from zipfile import ZipFile\n",
        "from tensorflow.python.client import device_lib\n",
        "import platform\n",
        "import matplotlib.pyplot as plt\n",
        "import seaborn as sns\n",
        "from tensorflow.keras.models import Sequential\n",
        "from tensorflow.keras.layers import Dense, Flatten, Dropout\n",
        "from tensorflow.keras.optimizers import Adam\n",
        "from sklearn.metrics import classification_report, accuracy_score\n",
        "import tensorflow as tf\n",
        "import cv2\n",
        "import os\n",
        "import sys\n",
        "import numpy as np\n",
        "import random"
      ],
      "execution_count": 3,
      "outputs": []
    },
    {
      "cell_type": "markdown",
      "metadata": {
        "id": "lAtfR4ri9T-G"
      },
      "source": [
        "#### **Functions definition**"
      ]
    },
    {
      "cell_type": "code",
      "metadata": {
        "id": "4TAGvB5o8ns-"
      },
      "source": [
        "def extract_zip(file_name = \"drive/MyDrive/Dataset_test_1.zip\"):\n",
        "    with ZipFile(file_name, \"r\") as zip:\n",
        "        zip.extractall()\n",
        "        print(\"Dataset Extracted\")"
      ],
      "execution_count": 4,
      "outputs": []
    },
    {
      "cell_type": "code",
      "metadata": {
        "id": "JwTPw__89fBU"
      },
      "source": [
        "def python_ver():\n",
        "    print(\"\\nPython version:\\n\")\n",
        "    print(sys.version)\n",
        "\n",
        "def device_info():\n",
        "    print(\"\\nDevice Info:\\n\")\n",
        "    print(device_lib.list_local_devices())\n",
        "\n",
        "def platform_info():\n",
        "    print(\"\\nPlatform Info:\\n\")\n",
        "    print(platform.platform())\n",
        "    print(platform.processor())"
      ],
      "execution_count": 5,
      "outputs": []
    },
    {
      "cell_type": "code",
      "metadata": {
        "id": "QtlFrxEVYIno"
      },
      "source": [
        "def SIFT_test(dirs, labels, img_size):\n",
        "    \"\"\"Scale Invariant Feature Transform Test run for finding the maximum keypoints detected among all the images in the dataset\"\"\"\n",
        "    \n",
        "    max_key = 0\n",
        "    \n",
        "    for data_dir in dirs:\n",
        "        for label in labels:\n",
        "            path = os.path.join(data_dir, label)\n",
        "            for img in os.listdir(path):\n",
        "                #Reading the image in grayscale mode\n",
        "                img_arr = cv2.imread(os.path.join(path, img), cv2.IMREAD_GRAYSCALE)\n",
        "                   \n",
        "                #Reshaping images to preferred size\n",
        "                resized_arr = cv2.resize(img_arr, (img_size, img_size)) \n",
        "\n",
        "                #detecting keypoints\n",
        "                sift = cv2.SIFT_create()\n",
        "                keypoints = sift.detect(resized_arr, None)\n",
        "\n",
        "                if (len(keypoints) > max_key):\n",
        "                    max_key = len(keypoints)\n",
        "                \n",
        "    return max_key\n"
      ],
      "execution_count": 6,
      "outputs": []
    },
    {
      "cell_type": "code",
      "metadata": {
        "id": "j9IR6y7nYJ5a"
      },
      "source": [
        "def SIFT(image, max_key):\n",
        "    \"\"\"Scale Invariant Feature Transform for finding keypoints and computing descriptors\"\"\"\n",
        "    \n",
        "    sift = cv2.SIFT_create()\n",
        "    keypoints, descriptors = sift.detectAndCompute(image, None)\n",
        "\n",
        "    return np.pad(np.array(descriptors, dtype=\"i\"), ((0, max_key-len(keypoints)), (0, 0)))[:max_key]"
      ],
      "execution_count": 7,
      "outputs": []
    },
    {
      "cell_type": "code",
      "metadata": {
        "id": "GSQlfqEA9jN7"
      },
      "source": [
        "def dataset_creation(data_dir, labels, img_size, max_key):\n",
        "    \"\"\"Loading data and shuffling\"\"\"\n",
        "    data = [] \n",
        "\n",
        "    for class_num, label in enumerate(labels): \n",
        "        path = os.path.join(data_dir, label)\n",
        "        for img in os.listdir(path):\n",
        "            try:\n",
        "                #Reading the image in grayscale mode\n",
        "                img_arr = cv2.imread(os.path.join(path, img), cv2.IMREAD_GRAYSCALE)\n",
        "                \n",
        "                #Reshaping images to preferred size\n",
        "                resized_arr = cv2.resize(img_arr, (img_size, img_size)) \n",
        "\n",
        "                #SIFT function call\n",
        "                SIFT_img_desc = SIFT(resized_arr, max_key)\n",
        "                \n",
        "                data.append([SIFT_img_desc, class_num])\n",
        "            except Exception as err:\n",
        "                print(\"Error:\\n\",err)\n",
        "    \n",
        "    random.shuffle(data)\n",
        "    return np.array(data)"
      ],
      "execution_count": 8,
      "outputs": []
    },
    {
      "cell_type": "code",
      "metadata": {
        "id": "gr4RAyHY9oed"
      },
      "source": [
        "def dataset_creation_train_stat(labels, train):\n",
        "    \"\"\"Plot initial data graph\"\"\"\n",
        "    list_graph = []\n",
        "    for i in train:\n",
        "        list_graph.append(labels[i[1]])\n",
        "    \n",
        "    sns.set_style('darkgrid')\n",
        "    plt.figure(figsize=(25, 25))    \n",
        "    sns.countplot(list_graph)\n",
        "    plt.title(\"Train set\")\n",
        "    plt.show()\n",
        "\n",
        "\n",
        "def dataset_creation_test_stat(labels, test):\n",
        "    \"\"\"Plot initial data graph\"\"\"\n",
        "    list_graph = []\n",
        "    for i in test:\n",
        "        list_graph.append(labels[i[1]])\n",
        "    \n",
        "    sns.set_style('darkgrid')\n",
        "    plt.figure(figsize=(25, 25))\n",
        "    sns.countplot(list_graph)\n",
        "    plt.title(\"Test set\")\n",
        "    plt.show()"
      ],
      "execution_count": 9,
      "outputs": []
    },
    {
      "cell_type": "code",
      "metadata": {
        "id": "mCiE7s_E9072"
      },
      "source": [
        "def train_test_data_split(train, test):\n",
        "    \"\"\"train and test\"\"\"\n",
        "    x_train = []\n",
        "    y_train = []\n",
        "    x_test = []\n",
        "    y_test = []\n",
        "\n",
        "    for feature, label in train:\n",
        "        x_train.append(feature)\n",
        "        y_train.append(label)\n",
        "\n",
        "    for feature, label in test:\n",
        "        x_test.append(feature)\n",
        "        y_test.append(label)\n",
        "\n",
        "    return (np.array(x_train), np.array(y_train), np.array(x_test), np.array(y_test))"
      ],
      "execution_count": 10,
      "outputs": []
    },
    {
      "cell_type": "code",
      "metadata": {
        "id": "RgLvHqvB98Dd"
      },
      "source": [
        "def build_model_ann(tot_classes, x_train):\n",
        "    \"\"\"Builds ANN model and prints model summary\"\"\"\n",
        "    model = Sequential()\n",
        "    \n",
        "    model.add(Flatten(input_shape=x_train.shape[1:]))\n",
        "    model.add(Dense(3000,activation=\"relu\"))\n",
        "    model.add(Dropout(0.5))\n",
        "    model.add(Dense(1000,activation=\"relu\"))\n",
        "    model.add(Dropout(0.5))\n",
        "    model.add(Dense(tot_classes, activation=\"softmax\"))\n",
        "\n",
        "    model.summary()\n",
        "    return model"
      ],
      "execution_count": 11,
      "outputs": []
    },
    {
      "cell_type": "code",
      "metadata": {
        "id": "9nEf4toB-BzT"
      },
      "source": [
        "def compile_and_fit(model, x_train, y_train, x_test, y_test, iterations, l_rate):\n",
        "    \"\"\"Compiles and fits the model\"\"\"\n",
        "    opt = Adam(learning_rate=l_rate)\n",
        "    model.compile(optimizer = opt, loss = \"sparse_categorical_crossentropy\", metrics = ['accuracy'])\n",
        "    history = model.fit(x_train, y_train, epochs = iterations, validation_data = (x_test, y_test))\n",
        "\n",
        "    return (history, model)"
      ],
      "execution_count": 12,
      "outputs": []
    },
    {
      "cell_type": "code",
      "metadata": {
        "id": "BpybfYak-FKt"
      },
      "source": [
        "def acc_plots(history, iterations):\n",
        "    \"\"\"Requires history and number of iterations\"\"\"\n",
        "    acc = history.history['accuracy']\n",
        "    val_acc = history.history['val_accuracy']\n",
        "    loss = history.history['loss']\n",
        "    val_loss = history.history['val_loss']\n",
        "\n",
        "    epochs_range = range(iterations)\n",
        "\n",
        "    plt.figure(figsize=(15, 15))\n",
        "    plt.subplot(2, 2, 1)\n",
        "    plt.plot(epochs_range, acc, label='Training Accuracy')\n",
        "    plt.plot(epochs_range, val_acc, label='Validation Accuracy')\n",
        "    plt.legend(loc='lower right')\n",
        "    plt.title('Training and Validation Accuracy')\n",
        "\n",
        "    plt.subplot(2, 2, 2)\n",
        "    plt.plot(epochs_range, loss, label='Training Loss')\n",
        "    plt.plot(epochs_range, val_loss, label='Validation Loss')\n",
        "    plt.legend(loc='upper right')\n",
        "    plt.title('Training and Validation Loss')\n",
        "    plt.show()"
      ],
      "execution_count": 13,
      "outputs": []
    },
    {
      "cell_type": "code",
      "metadata": {
        "id": "lTTbnTYd-Ipb"
      },
      "source": [
        "def acc_results(model, labels, x_test, y_test):\n",
        "    \"\"\"Prediction and test accuracy\"\"\"\n",
        "    predictions = np.argmax(model.predict(x_test), axis=-1)\n",
        "    print(classification_report(y_test, predictions, target_names = labels))\n",
        "    print(\"\\nAccuracy = \"+str(accuracy_score(y_test, predictions)*100)+\"%\")"
      ],
      "execution_count": 14,
      "outputs": []
    },
    {
      "cell_type": "markdown",
      "metadata": {
        "id": "M1PFZZFw-S_P"
      },
      "source": [
        "#### **Making Function calls and defining variables**"
      ]
    },
    {
      "cell_type": "code",
      "metadata": {
        "colab": {
          "base_uri": "https://localhost:8080/"
        },
        "id": "OgZinHaw-Mq7",
        "outputId": "92de0543-1f7b-4917-80a1-b8b9f58c8c19"
      },
      "source": [
        "#Extracting Dataset\n",
        "extract_zip(\"drive/MyDrive/Dataset_test_1.zip\")\n",
        "\n",
        "#Device and environment Info\n",
        "python_ver()\n",
        "device_info()\n",
        "platform_info()"
      ],
      "execution_count": 15,
      "outputs": [
        {
          "output_type": "stream",
          "name": "stdout",
          "text": [
            "Dataset Extracted\n",
            "\n",
            "Python version:\n",
            "\n",
            "3.7.12 (default, Sep 10 2021, 00:21:48) \n",
            "[GCC 7.5.0]\n",
            "\n",
            "Device Info:\n",
            "\n",
            "[name: \"/device:CPU:0\"\n",
            "device_type: \"CPU\"\n",
            "memory_limit: 268435456\n",
            "locality {\n",
            "}\n",
            "incarnation: 8077934931398302506\n",
            "xla_global_id: -1\n",
            ", name: \"/device:GPU:0\"\n",
            "device_type: \"GPU\"\n",
            "memory_limit: 11321147392\n",
            "locality {\n",
            "  bus_id: 1\n",
            "  links {\n",
            "  }\n",
            "}\n",
            "incarnation: 2529902312245267565\n",
            "physical_device_desc: \"device: 0, name: Tesla K80, pci bus id: 0000:00:04.0, compute capability: 3.7\"\n",
            "xla_global_id: 416903419\n",
            "]\n",
            "\n",
            "Platform Info:\n",
            "\n",
            "Linux-5.4.104+-x86_64-with-Ubuntu-18.04-bionic\n",
            "x86_64\n"
          ]
        }
      ]
    },
    {
      "cell_type": "code",
      "metadata": {
        "id": "Bl01clC0-XOZ"
      },
      "source": [
        "#Variables\n",
        "dirs = [\"Dataset_test_1/Train\", \"Dataset_test_1/Test\"]\n",
        "labels = ['Buddha', 'Garuda', 'Goddess_Durga', 'Goddess_Lakshmi', 'Goddess_Saraswathi', 'Lord_Ganesh', \n",
        "        'Lord_Hanuman', 'Lord_Hayagriva', 'Lord_Indra', 'Lord_Krishna', 'Lord_Muruga', 'Nandi', 'Nataraj', \n",
        "        'Shirdi_Sai_Baba', 'Shivling']\n",
        "img_size = 224\n",
        "tot_classes = len(labels)\n",
        "num_sample_img = 3\n",
        "iterations = 292\n",
        "l_rate = 0.000001"
      ],
      "execution_count": 16,
      "outputs": []
    },
    {
      "cell_type": "code",
      "metadata": {
        "colab": {
          "base_uri": "https://localhost:8080/"
        },
        "id": "ngdQO8_D-kzS",
        "outputId": "0733116b-82f7-4b97-966e-04fa3e4f6ee7"
      },
      "source": [
        "#Max keypoints detection\n",
        "max_key = SIFT_test(dirs, labels, img_size)\n",
        "\n",
        "#Train and Test data loading\n",
        "train = dataset_creation(\"Dataset_test_1/Train\", labels, img_size, max_key)\n",
        "test = dataset_creation(\"Dataset_test_1/Test\", labels, img_size, max_key)"
      ],
      "execution_count": 17,
      "outputs": [
        {
          "output_type": "stream",
          "name": "stderr",
          "text": [
            "/usr/local/lib/python3.7/dist-packages/ipykernel_launcher.py:23: VisibleDeprecationWarning: Creating an ndarray from ragged nested sequences (which is a list-or-tuple of lists-or-tuples-or ndarrays with different lengths or shapes) is deprecated. If you meant to do this, you must specify 'dtype=object' when creating the ndarray\n"
          ]
        }
      ]
    },
    {
      "cell_type": "code",
      "metadata": {
        "colab": {
          "base_uri": "https://localhost:8080/",
          "height": 1000
        },
        "id": "ci_GDz0G-ngO",
        "outputId": "531da1da-9a7f-446b-c503-1292b9e4a7ab"
      },
      "source": [
        "#Stats\n",
        "dataset_creation_train_stat(labels, train)\n",
        "dataset_creation_test_stat(labels, test)"
      ],
      "execution_count": 18,
      "outputs": [
        {
          "output_type": "stream",
          "name": "stderr",
          "text": [
            "/usr/local/lib/python3.7/dist-packages/seaborn/_decorators.py:43: FutureWarning: Pass the following variable as a keyword arg: x. From version 0.12, the only valid positional argument will be `data`, and passing other arguments without an explicit keyword will result in an error or misinterpretation.\n",
            "  FutureWarning\n"
          ]
        },
        {
          "output_type": "display_data",
          "data": {
            "image/png": "[encoded data removed]",
            "text/plain": [
              "<Figure size 1800x1800 with 1 Axes>"
            ]
          },
          "metadata": {}
        },
        {
          "output_type": "stream",
          "name": "stderr",
          "text": [
            "/usr/local/lib/python3.7/dist-packages/seaborn/_decorators.py:43: FutureWarning: Pass the following variable as a keyword arg: x. From version 0.12, the only valid positional argument will be `data`, and passing other arguments without an explicit keyword will result in an error or misinterpretation.\n",
            "  FutureWarning\n"
          ]
        },
        {
          "output_type": "display_data",
          "data": {
            "image/png": "[encoded data removed]",
            "text/plain": [
              "<Figure size 1800x1800 with 1 Axes>"
            ]
          },
          "metadata": {}
        }
      ]
    },
    {
      "cell_type": "code",
      "metadata": {
        "id": "4JOI1Up6-tGQ"
      },
      "source": [
        "#Training and testing data\n",
        "x_train, y_train, x_test, y_test = train_test_data_split(train, test)"
      ],
      "execution_count": 19,
      "outputs": []
    },
    {
      "cell_type": "code",
      "metadata": {
        "colab": {
          "base_uri": "https://localhost:8080/"
        },
        "id": "08fhlmqh-z4O",
        "outputId": "7f74632e-4ac6-4b1a-dcfc-6fb5a95facff"
      },
      "source": [
        "#Building ANN Model\n",
        "model = build_model_ann(tot_classes, x_train)"
      ],
      "execution_count": 20,
      "outputs": [
        {
          "output_type": "stream",
          "name": "stdout",
          "text": [
            "Model: \"sequential\"\n",
            "_________________________________________________________________\n",
            " Layer (type)                Output Shape              Param #   \n",
            "=================================================================\n",
            " flatten (Flatten)           (None, 147712)            0         \n",
            "                                                                 \n",
            " dense (Dense)               (None, 3000)              443139000 \n",
            "                                                                 \n",
            " dropout (Dropout)           (None, 3000)              0         \n",
            "                                                                 \n",
            " dense_1 (Dense)             (None, 1000)              3001000   \n",
            "                                                                 \n",
            " dropout_1 (Dropout)         (None, 1000)              0         \n",
            "                                                                 \n",
            " dense_2 (Dense)             (None, 15)                15015     \n",
            "                                                                 \n",
            "=================================================================\n",
            "Total params: 446,155,015\n",
            "Trainable params: 446,155,015\n",
            "Non-trainable params: 0\n",
            "_________________________________________________________________\n"
          ]
        }
      ]
    },
    {
      "cell_type": "code",
      "metadata": {
        "colab": {
          "base_uri": "https://localhost:8080/"
        },
        "id": "j5NP-yio-5Bl",
        "outputId": "b2517c08-1de4-43b8-ce75-9d60dcf7c7f4"
      },
      "source": [
        "#Compile and fit the model\n",
        "history, model = compile_and_fit(model, x_train, y_train, x_test, y_test, iterations, l_rate)"
      ],
      "execution_count": 21,
      "outputs": [
        {
          "output_type": "stream",
          "name": "stdout",
          "text": [
            "Epoch 1/292\n",
            "71/71 [==============================] - 14s 183ms/step - loss: 80.5048 - accuracy: 0.0729 - val_loss: 24.3799 - val_accuracy: 0.1000\n",
            "Epoch 2/292\n",
            "71/71 [==============================] - 13s 181ms/step - loss: 62.2928 - accuracy: 0.0964 - val_loss: 21.0937 - val_accuracy: 0.1233\n",
            "Epoch 3/292\n",
            "71/71 [==============================] - 13s 180ms/step - loss: 53.8892 - accuracy: 0.1004 - val_loss: 18.5362 - val_accuracy: 0.1233\n",
            "Epoch 4/292\n",
            "71/71 [==============================] - 13s 179ms/step - loss: 44.0755 - accuracy: 0.1187 - val_loss: 16.5155 - val_accuracy: 0.1533\n",
            "Epoch 5/292\n",
            "71/71 [==============================] - 13s 179ms/step - loss: 40.6388 - accuracy: 0.1120 - val_loss: 14.8963 - val_accuracy: 0.1500\n",
            "Epoch 6/292\n",
            "71/71 [==============================] - 13s 179ms/step - loss: 35.0415 - accuracy: 0.1369 - val_loss: 13.6333 - val_accuracy: 0.1633\n",
            "Epoch 7/292\n",
            "71/71 [==============================] - 13s 179ms/step - loss: 31.6591 - accuracy: 0.1507 - val_loss: 12.8506 - val_accuracy: 0.1533\n",
            "Epoch 8/292\n",
            "71/71 [==============================] - 13s 180ms/step - loss: 27.6667 - accuracy: 0.1547 - val_loss: 12.0597 - val_accuracy: 0.1500\n",
            "Epoch 9/292\n",
            "71/71 [==============================] - 13s 180ms/step - loss: 24.8137 - accuracy: 0.1733 - val_loss: 11.5243 - val_accuracy: 0.1667\n",
            "Epoch 10/292\n",
            "71/71 [==============================] - 13s 180ms/step - loss: 23.7154 - accuracy: 0.1840 - val_loss: 10.7231 - val_accuracy: 0.1800\n",
            "Epoch 11/292\n",
            "71/71 [==============================] - 13s 180ms/step - loss: 21.7337 - accuracy: 0.1853 - val_loss: 10.2028 - val_accuracy: 0.1800\n",
            "Epoch 12/292\n",
            "71/71 [==============================] - 13s 180ms/step - loss: 19.3534 - accuracy: 0.2071 - val_loss: 9.9413 - val_accuracy: 0.1700\n",
            "Epoch 13/292\n",
            "71/71 [==============================] - 13s 180ms/step - loss: 18.4299 - accuracy: 0.2022 - val_loss: 9.4441 - val_accuracy: 0.1733\n",
            "Epoch 14/292\n",
            "71/71 [==============================] - 13s 180ms/step - loss: 15.9566 - accuracy: 0.2356 - val_loss: 9.1044 - val_accuracy: 0.1967\n",
            "Epoch 15/292\n",
            "71/71 [==============================] - 13s 180ms/step - loss: 14.8857 - accuracy: 0.2578 - val_loss: 8.8767 - val_accuracy: 0.1967\n",
            "Epoch 16/292\n",
            "71/71 [==============================] - 13s 181ms/step - loss: 14.0255 - accuracy: 0.2542 - val_loss: 8.7599 - val_accuracy: 0.2100\n",
            "Epoch 17/292\n",
            "71/71 [==============================] - 13s 181ms/step - loss: 13.0389 - accuracy: 0.2609 - val_loss: 8.5536 - val_accuracy: 0.2200\n",
            "Epoch 18/292\n",
            "71/71 [==============================] - 13s 181ms/step - loss: 11.6891 - accuracy: 0.2938 - val_loss: 8.3622 - val_accuracy: 0.2067\n",
            "Epoch 19/292\n",
            "71/71 [==============================] - 13s 183ms/step - loss: 11.1619 - accuracy: 0.3040 - val_loss: 8.1237 - val_accuracy: 0.2200\n",
            "Epoch 20/292\n",
            "71/71 [==============================] - 13s 180ms/step - loss: 10.3457 - accuracy: 0.3200 - val_loss: 7.8927 - val_accuracy: 0.2267\n",
            "Epoch 21/292\n",
            "71/71 [==============================] - 13s 180ms/step - loss: 9.6747 - accuracy: 0.3098 - val_loss: 7.6054 - val_accuracy: 0.2200\n",
            "Epoch 22/292\n",
            "71/71 [==============================] - 13s 180ms/step - loss: 9.0719 - accuracy: 0.3449 - val_loss: 7.3613 - val_accuracy: 0.2167\n",
            "Epoch 23/292\n",
            "71/71 [==============================] - 13s 181ms/step - loss: 8.9813 - accuracy: 0.3453 - val_loss: 7.1851 - val_accuracy: 0.2167\n",
            "Epoch 24/292\n",
            "71/71 [==============================] - 13s 180ms/step - loss: 8.0312 - accuracy: 0.3560 - val_loss: 7.1339 - val_accuracy: 0.2133\n",
            "Epoch 25/292\n",
            "71/71 [==============================] - 13s 181ms/step - loss: 7.6066 - accuracy: 0.3644 - val_loss: 6.8399 - val_accuracy: 0.2300\n",
            "Epoch 26/292\n",
            "71/71 [==============================] - 13s 181ms/step - loss: 7.1577 - accuracy: 0.3787 - val_loss: 6.6378 - val_accuracy: 0.2300\n",
            "Epoch 27/292\n",
            "71/71 [==============================] - 13s 180ms/step - loss: 6.5321 - accuracy: 0.4036 - val_loss: 6.5167 - val_accuracy: 0.2300\n",
            "Epoch 28/292\n",
            "71/71 [==============================] - 13s 181ms/step - loss: 6.3272 - accuracy: 0.4133 - val_loss: 6.3820 - val_accuracy: 0.2267\n",
            "Epoch 29/292\n",
            "71/71 [==============================] - 13s 181ms/step - loss: 5.7619 - accuracy: 0.4422 - val_loss: 6.2833 - val_accuracy: 0.2267\n",
            "Epoch 30/292\n",
            "71/71 [==============================] - 13s 181ms/step - loss: 5.2583 - accuracy: 0.4564 - val_loss: 6.2600 - val_accuracy: 0.2267\n",
            "Epoch 31/292\n",
            "71/71 [==============================] - 13s 180ms/step - loss: 5.2048 - accuracy: 0.4538 - val_loss: 6.1269 - val_accuracy: 0.2167\n",
            "Epoch 32/292\n",
            "71/71 [==============================] - 13s 181ms/step - loss: 4.8742 - accuracy: 0.4569 - val_loss: 5.9291 - val_accuracy: 0.2133\n",
            "Epoch 33/292\n",
            "71/71 [==============================] - 13s 180ms/step - loss: 4.6490 - accuracy: 0.4827 - val_loss: 6.0486 - val_accuracy: 0.2267\n",
            "Epoch 34/292\n",
            "71/71 [==============================] - 13s 182ms/step - loss: 4.4878 - accuracy: 0.4849 - val_loss: 5.9488 - val_accuracy: 0.2333\n",
            "Epoch 35/292\n",
            "71/71 [==============================] - 13s 181ms/step - loss: 3.9292 - accuracy: 0.5062 - val_loss: 5.7986 - val_accuracy: 0.2200\n",
            "Epoch 36/292\n",
            "71/71 [==============================] - 13s 184ms/step - loss: 4.0189 - accuracy: 0.5129 - val_loss: 5.7269 - val_accuracy: 0.2300\n",
            "Epoch 37/292\n",
            "71/71 [==============================] - 13s 181ms/step - loss: 3.9119 - accuracy: 0.5124 - val_loss: 5.7197 - val_accuracy: 0.2100\n",
            "Epoch 38/292\n",
            "71/71 [==============================] - 13s 181ms/step - loss: 3.7212 - accuracy: 0.5289 - val_loss: 5.6655 - val_accuracy: 0.2200\n",
            "Epoch 39/292\n",
            "71/71 [==============================] - 13s 181ms/step - loss: 3.3699 - accuracy: 0.5529 - val_loss: 5.5780 - val_accuracy: 0.2400\n",
            "Epoch 40/292\n",
            "71/71 [==============================] - 13s 181ms/step - loss: 3.2107 - accuracy: 0.5640 - val_loss: 5.5017 - val_accuracy: 0.2333\n",
            "Epoch 41/292\n",
            "71/71 [==============================] - 13s 181ms/step - loss: 3.2456 - accuracy: 0.5560 - val_loss: 5.4711 - val_accuracy: 0.2333\n",
            "Epoch 42/292\n",
            "71/71 [==============================] - 13s 181ms/step - loss: 2.8289 - accuracy: 0.5871 - val_loss: 5.3496 - val_accuracy: 0.2200\n",
            "Epoch 43/292\n",
            "71/71 [==============================] - 13s 181ms/step - loss: 2.9293 - accuracy: 0.5818 - val_loss: 5.3222 - val_accuracy: 0.2067\n",
            "Epoch 44/292\n",
            "71/71 [==============================] - 13s 182ms/step - loss: 2.8100 - accuracy: 0.6000 - val_loss: 5.3239 - val_accuracy: 0.2167\n",
            "Epoch 45/292\n",
            "71/71 [==============================] - 13s 182ms/step - loss: 2.6998 - accuracy: 0.6022 - val_loss: 5.3648 - val_accuracy: 0.2100\n",
            "Epoch 46/292\n",
            "71/71 [==============================] - 13s 181ms/step - loss: 2.5568 - accuracy: 0.6191 - val_loss: 5.4177 - val_accuracy: 0.2167\n",
            "Epoch 47/292\n",
            "71/71 [==============================] - 13s 181ms/step - loss: 2.3909 - accuracy: 0.6351 - val_loss: 5.3350 - val_accuracy: 0.2167\n",
            "Epoch 48/292\n",
            "71/71 [==============================] - 13s 182ms/step - loss: 2.2407 - accuracy: 0.6449 - val_loss: 5.3764 - val_accuracy: 0.2100\n",
            "Epoch 49/292\n",
            "71/71 [==============================] - 13s 182ms/step - loss: 2.1217 - accuracy: 0.6738 - val_loss: 5.3571 - val_accuracy: 0.2300\n",
            "Epoch 50/292\n",
            "71/71 [==============================] - 13s 181ms/step - loss: 2.0211 - accuracy: 0.6671 - val_loss: 5.3471 - val_accuracy: 0.2167\n",
            "Epoch 51/292\n",
            "71/71 [==============================] - 13s 181ms/step - loss: 2.0418 - accuracy: 0.6587 - val_loss: 5.2694 - val_accuracy: 0.2267\n",
            "Epoch 52/292\n",
            "71/71 [==============================] - 13s 182ms/step - loss: 1.8575 - accuracy: 0.6929 - val_loss: 5.1028 - val_accuracy: 0.2367\n",
            "Epoch 53/292\n",
            "71/71 [==============================] - 13s 181ms/step - loss: 1.8427 - accuracy: 0.6813 - val_loss: 5.1330 - val_accuracy: 0.2233\n",
            "Epoch 54/292\n",
            "71/71 [==============================] - 13s 181ms/step - loss: 1.7875 - accuracy: 0.7013 - val_loss: 5.1111 - val_accuracy: 0.2333\n",
            "Epoch 55/292\n",
            "71/71 [==============================] - 13s 181ms/step - loss: 1.7577 - accuracy: 0.6871 - val_loss: 5.0689 - val_accuracy: 0.2367\n",
            "Epoch 56/292\n",
            "71/71 [==============================] - 13s 182ms/step - loss: 1.5782 - accuracy: 0.7124 - val_loss: 5.0646 - val_accuracy: 0.2233\n",
            "Epoch 57/292\n",
            "71/71 [==============================] - 13s 183ms/step - loss: 1.5353 - accuracy: 0.7142 - val_loss: 5.0882 - val_accuracy: 0.2400\n",
            "Epoch 58/292\n",
            "71/71 [==============================] - 13s 181ms/step - loss: 1.4922 - accuracy: 0.7213 - val_loss: 5.0461 - val_accuracy: 0.2367\n",
            "Epoch 59/292\n",
            "71/71 [==============================] - 13s 182ms/step - loss: 1.3019 - accuracy: 0.7542 - val_loss: 4.9899 - val_accuracy: 0.2367\n",
            "Epoch 60/292\n",
            "71/71 [==============================] - 13s 182ms/step - loss: 1.3400 - accuracy: 0.7427 - val_loss: 4.9386 - val_accuracy: 0.2400\n",
            "Epoch 61/292\n",
            "71/71 [==============================] - 13s 181ms/step - loss: 1.3288 - accuracy: 0.7507 - val_loss: 4.9290 - val_accuracy: 0.2400\n",
            "Epoch 62/292\n",
            "71/71 [==============================] - 13s 180ms/step - loss: 1.3906 - accuracy: 0.7462 - val_loss: 4.8542 - val_accuracy: 0.2333\n",
            "Epoch 63/292\n",
            "71/71 [==============================] - 13s 181ms/step - loss: 1.1775 - accuracy: 0.7604 - val_loss: 4.8437 - val_accuracy: 0.2367\n",
            "Epoch 64/292\n",
            "71/71 [==============================] - 13s 182ms/step - loss: 1.2518 - accuracy: 0.7680 - val_loss: 4.8797 - val_accuracy: 0.2433\n",
            "Epoch 65/292\n",
            "71/71 [==============================] - 13s 182ms/step - loss: 1.1899 - accuracy: 0.7622 - val_loss: 4.8823 - val_accuracy: 0.2433\n",
            "Epoch 66/292\n",
            "71/71 [==============================] - 13s 182ms/step - loss: 1.0475 - accuracy: 0.7849 - val_loss: 4.9192 - val_accuracy: 0.2433\n",
            "Epoch 67/292\n",
            "71/71 [==============================] - 13s 182ms/step - loss: 1.1008 - accuracy: 0.7773 - val_loss: 4.8654 - val_accuracy: 0.2267\n",
            "Epoch 68/292\n",
            "71/71 [==============================] - 13s 182ms/step - loss: 1.1074 - accuracy: 0.7720 - val_loss: 4.8063 - val_accuracy: 0.2467\n",
            "Epoch 69/292\n",
            "71/71 [==============================] - 13s 182ms/step - loss: 1.0079 - accuracy: 0.7964 - val_loss: 4.8782 - val_accuracy: 0.2433\n",
            "Epoch 70/292\n",
            "71/71 [==============================] - 13s 181ms/step - loss: 1.1280 - accuracy: 0.7756 - val_loss: 4.9800 - val_accuracy: 0.2233\n",
            "Epoch 71/292\n",
            "71/71 [==============================] - 13s 182ms/step - loss: 0.9039 - accuracy: 0.8071 - val_loss: 5.0544 - val_accuracy: 0.2267\n",
            "Epoch 72/292\n",
            "71/71 [==============================] - 13s 181ms/step - loss: 0.9955 - accuracy: 0.7924 - val_loss: 5.0821 - val_accuracy: 0.2367\n",
            "Epoch 73/292\n",
            "71/71 [==============================] - 13s 182ms/step - loss: 0.9389 - accuracy: 0.8093 - val_loss: 5.1684 - val_accuracy: 0.2367\n",
            "Epoch 74/292\n",
            "71/71 [==============================] - 13s 181ms/step - loss: 0.9329 - accuracy: 0.8031 - val_loss: 4.9966 - val_accuracy: 0.2300\n",
            "Epoch 75/292\n",
            "71/71 [==============================] - 13s 182ms/step - loss: 0.8904 - accuracy: 0.8164 - val_loss: 4.8817 - val_accuracy: 0.2467\n",
            "Epoch 76/292\n",
            "71/71 [==============================] - 13s 182ms/step - loss: 0.8907 - accuracy: 0.8187 - val_loss: 4.8812 - val_accuracy: 0.2333\n",
            "Epoch 77/292\n",
            "71/71 [==============================] - 13s 182ms/step - loss: 0.8240 - accuracy: 0.8280 - val_loss: 4.9439 - val_accuracy: 0.2233\n",
            "Epoch 78/292\n",
            "71/71 [==============================] - 13s 181ms/step - loss: 0.8141 - accuracy: 0.8333 - val_loss: 4.9146 - val_accuracy: 0.2267\n",
            "Epoch 79/292\n",
            "71/71 [==============================] - 13s 182ms/step - loss: 0.7345 - accuracy: 0.8431 - val_loss: 4.8270 - val_accuracy: 0.2033\n",
            "Epoch 80/292\n",
            "71/71 [==============================] - 13s 181ms/step - loss: 0.8135 - accuracy: 0.8404 - val_loss: 4.9950 - val_accuracy: 0.2167\n",
            "Epoch 81/292\n",
            "71/71 [==============================] - 13s 181ms/step - loss: 0.7565 - accuracy: 0.8333 - val_loss: 4.9022 - val_accuracy: 0.2233\n",
            "Epoch 82/292\n",
            "71/71 [==============================] - 13s 181ms/step - loss: 0.6697 - accuracy: 0.8382 - val_loss: 4.8611 - val_accuracy: 0.2067\n",
            "Epoch 83/292\n",
            "71/71 [==============================] - 13s 182ms/step - loss: 0.7753 - accuracy: 0.8276 - val_loss: 4.8156 - val_accuracy: 0.2133\n",
            "Epoch 84/292\n",
            "71/71 [==============================] - 13s 181ms/step - loss: 0.7348 - accuracy: 0.8427 - val_loss: 4.8267 - val_accuracy: 0.2200\n",
            "Epoch 85/292\n",
            "71/71 [==============================] - 13s 182ms/step - loss: 0.7340 - accuracy: 0.8404 - val_loss: 4.8245 - val_accuracy: 0.2133\n",
            "Epoch 86/292\n",
            "71/71 [==============================] - 13s 181ms/step - loss: 0.6401 - accuracy: 0.8600 - val_loss: 4.8249 - val_accuracy: 0.2200\n",
            "Epoch 87/292\n",
            "71/71 [==============================] - 13s 181ms/step - loss: 0.6409 - accuracy: 0.8551 - val_loss: 4.7968 - val_accuracy: 0.2100\n",
            "Epoch 88/292\n",
            "71/71 [==============================] - 13s 182ms/step - loss: 0.6845 - accuracy: 0.8498 - val_loss: 4.7950 - val_accuracy: 0.2133\n",
            "Epoch 89/292\n",
            "71/71 [==============================] - 13s 182ms/step - loss: 0.5731 - accuracy: 0.8609 - val_loss: 4.9211 - val_accuracy: 0.2167\n",
            "Epoch 90/292\n",
            "71/71 [==============================] - 13s 182ms/step - loss: 0.6401 - accuracy: 0.8498 - val_loss: 4.9343 - val_accuracy: 0.2133\n",
            "Epoch 91/292\n",
            "71/71 [==============================] - 13s 183ms/step - loss: 0.5802 - accuracy: 0.8729 - val_loss: 4.8953 - val_accuracy: 0.2233\n",
            "Epoch 92/292\n",
            "71/71 [==============================] - 13s 181ms/step - loss: 0.5749 - accuracy: 0.8627 - val_loss: 4.9466 - val_accuracy: 0.2267\n",
            "Epoch 93/292\n",
            "71/71 [==============================] - 13s 185ms/step - loss: 0.5955 - accuracy: 0.8613 - val_loss: 5.0156 - val_accuracy: 0.2133\n",
            "Epoch 94/292\n",
            "71/71 [==============================] - 13s 182ms/step - loss: 0.5356 - accuracy: 0.8778 - val_loss: 5.0282 - val_accuracy: 0.2133\n",
            "Epoch 95/292\n",
            "71/71 [==============================] - 13s 183ms/step - loss: 0.5426 - accuracy: 0.8782 - val_loss: 5.0052 - val_accuracy: 0.2133\n",
            "Epoch 96/292\n",
            "71/71 [==============================] - 13s 182ms/step - loss: 0.5253 - accuracy: 0.8782 - val_loss: 5.0784 - val_accuracy: 0.2167\n",
            "Epoch 97/292\n",
            "71/71 [==============================] - 13s 182ms/step - loss: 0.5643 - accuracy: 0.8796 - val_loss: 5.0359 - val_accuracy: 0.2367\n",
            "Epoch 98/292\n",
            "71/71 [==============================] - 13s 181ms/step - loss: 0.5755 - accuracy: 0.8778 - val_loss: 5.0331 - val_accuracy: 0.2067\n",
            "Epoch 99/292\n",
            "71/71 [==============================] - 13s 181ms/step - loss: 0.5304 - accuracy: 0.8747 - val_loss: 5.0128 - val_accuracy: 0.2233\n",
            "Epoch 100/292\n",
            "71/71 [==============================] - 13s 182ms/step - loss: 0.5396 - accuracy: 0.8756 - val_loss: 4.9496 - val_accuracy: 0.2067\n",
            "Epoch 101/292\n",
            "71/71 [==============================] - 13s 182ms/step - loss: 0.5485 - accuracy: 0.8827 - val_loss: 4.8769 - val_accuracy: 0.2233\n",
            "Epoch 102/292\n",
            "71/71 [==============================] - 13s 182ms/step - loss: 0.4697 - accuracy: 0.8924 - val_loss: 4.8231 - val_accuracy: 0.2267\n",
            "Epoch 103/292\n",
            "71/71 [==============================] - 13s 183ms/step - loss: 0.4651 - accuracy: 0.8858 - val_loss: 4.7855 - val_accuracy: 0.2167\n",
            "Epoch 104/292\n",
            "71/71 [==============================] - 13s 182ms/step - loss: 0.4901 - accuracy: 0.8804 - val_loss: 4.8541 - val_accuracy: 0.2267\n",
            "Epoch 105/292\n",
            "71/71 [==============================] - 13s 182ms/step - loss: 0.5248 - accuracy: 0.8862 - val_loss: 4.9106 - val_accuracy: 0.2133\n",
            "Epoch 106/292\n",
            "71/71 [==============================] - 13s 182ms/step - loss: 0.4637 - accuracy: 0.8924 - val_loss: 4.9481 - val_accuracy: 0.2000\n",
            "Epoch 107/292\n",
            "71/71 [==============================] - 13s 182ms/step - loss: 0.4759 - accuracy: 0.8920 - val_loss: 4.9379 - val_accuracy: 0.2267\n",
            "Epoch 108/292\n",
            "71/71 [==============================] - 13s 182ms/step - loss: 0.4425 - accuracy: 0.8969 - val_loss: 4.9855 - val_accuracy: 0.2033\n",
            "Epoch 109/292\n",
            "71/71 [==============================] - 13s 182ms/step - loss: 0.4359 - accuracy: 0.9018 - val_loss: 4.9418 - val_accuracy: 0.2333\n",
            "Epoch 110/292\n",
            "71/71 [==============================] - 13s 182ms/step - loss: 0.4851 - accuracy: 0.8902 - val_loss: 5.0223 - val_accuracy: 0.2300\n",
            "Epoch 111/292\n",
            "71/71 [==============================] - 13s 182ms/step - loss: 0.3954 - accuracy: 0.9053 - val_loss: 4.9537 - val_accuracy: 0.2367\n",
            "Epoch 112/292\n",
            "71/71 [==============================] - 13s 182ms/step - loss: 0.5184 - accuracy: 0.8889 - val_loss: 5.0278 - val_accuracy: 0.2433\n",
            "Epoch 113/292\n",
            "71/71 [==============================] - 13s 182ms/step - loss: 0.4018 - accuracy: 0.9107 - val_loss: 5.0867 - val_accuracy: 0.2367\n",
            "Epoch 114/292\n",
            "71/71 [==============================] - 13s 182ms/step - loss: 0.4525 - accuracy: 0.9058 - val_loss: 4.9725 - val_accuracy: 0.2300\n",
            "Epoch 115/292\n",
            "71/71 [==============================] - 13s 182ms/step - loss: 0.4621 - accuracy: 0.9004 - val_loss: 5.0704 - val_accuracy: 0.2367\n",
            "Epoch 116/292\n",
            "71/71 [==============================] - 13s 182ms/step - loss: 0.3947 - accuracy: 0.9022 - val_loss: 5.1053 - val_accuracy: 0.2233\n",
            "Epoch 117/292\n",
            "71/71 [==============================] - 13s 182ms/step - loss: 0.3654 - accuracy: 0.9116 - val_loss: 5.0486 - val_accuracy: 0.2333\n",
            "Epoch 118/292\n",
            "71/71 [==============================] - 13s 182ms/step - loss: 0.3311 - accuracy: 0.9227 - val_loss: 5.1068 - val_accuracy: 0.2167\n",
            "Epoch 119/292\n",
            "71/71 [==============================] - 13s 185ms/step - loss: 0.4279 - accuracy: 0.9138 - val_loss: 5.1145 - val_accuracy: 0.2067\n",
            "Epoch 120/292\n",
            "71/71 [==============================] - 13s 181ms/step - loss: 0.3728 - accuracy: 0.9098 - val_loss: 5.0797 - val_accuracy: 0.2233\n",
            "Epoch 121/292\n",
            "71/71 [==============================] - 13s 183ms/step - loss: 0.3885 - accuracy: 0.9169 - val_loss: 5.1224 - val_accuracy: 0.2200\n",
            "Epoch 122/292\n",
            "71/71 [==============================] - 13s 181ms/step - loss: 0.3661 - accuracy: 0.9142 - val_loss: 5.2856 - val_accuracy: 0.2167\n",
            "Epoch 123/292\n",
            "71/71 [==============================] - 13s 182ms/step - loss: 0.3395 - accuracy: 0.9240 - val_loss: 5.1437 - val_accuracy: 0.2067\n",
            "Epoch 124/292\n",
            "71/71 [==============================] - 13s 183ms/step - loss: 0.3446 - accuracy: 0.9218 - val_loss: 5.0178 - val_accuracy: 0.2300\n",
            "Epoch 125/292\n",
            "71/71 [==============================] - 13s 182ms/step - loss: 0.3671 - accuracy: 0.9191 - val_loss: 4.9472 - val_accuracy: 0.2233\n",
            "Epoch 126/292\n",
            "71/71 [==============================] - 13s 183ms/step - loss: 0.3632 - accuracy: 0.9209 - val_loss: 4.9717 - val_accuracy: 0.2367\n",
            "Epoch 127/292\n",
            "71/71 [==============================] - 13s 182ms/step - loss: 0.3751 - accuracy: 0.9147 - val_loss: 4.9952 - val_accuracy: 0.2433\n",
            "Epoch 128/292\n",
            "71/71 [==============================] - 13s 182ms/step - loss: 0.4133 - accuracy: 0.9156 - val_loss: 4.9383 - val_accuracy: 0.2267\n",
            "Epoch 129/292\n",
            "71/71 [==============================] - 13s 183ms/step - loss: 0.3249 - accuracy: 0.9240 - val_loss: 5.0037 - val_accuracy: 0.2033\n",
            "Epoch 130/292\n",
            "71/71 [==============================] - 13s 182ms/step - loss: 0.3422 - accuracy: 0.9227 - val_loss: 5.0365 - val_accuracy: 0.2233\n",
            "Epoch 131/292\n",
            "71/71 [==============================] - 13s 182ms/step - loss: 0.3698 - accuracy: 0.9147 - val_loss: 4.9861 - val_accuracy: 0.2333\n",
            "Epoch 132/292\n",
            "71/71 [==============================] - 13s 182ms/step - loss: 0.3769 - accuracy: 0.9129 - val_loss: 5.1415 - val_accuracy: 0.2467\n",
            "Epoch 133/292\n",
            "71/71 [==============================] - 13s 181ms/step - loss: 0.3763 - accuracy: 0.9151 - val_loss: 5.3098 - val_accuracy: 0.2300\n",
            "Epoch 134/292\n",
            "71/71 [==============================] - 13s 182ms/step - loss: 0.3853 - accuracy: 0.9187 - val_loss: 5.2683 - val_accuracy: 0.2267\n",
            "Epoch 135/292\n",
            "71/71 [==============================] - 13s 183ms/step - loss: 0.3779 - accuracy: 0.9151 - val_loss: 5.0203 - val_accuracy: 0.2533\n",
            "Epoch 136/292\n",
            "71/71 [==============================] - 13s 183ms/step - loss: 0.3237 - accuracy: 0.9209 - val_loss: 5.0325 - val_accuracy: 0.2400\n",
            "Epoch 137/292\n",
            "71/71 [==============================] - 13s 182ms/step - loss: 0.3202 - accuracy: 0.9307 - val_loss: 5.0573 - val_accuracy: 0.2467\n",
            "Epoch 138/292\n",
            "71/71 [==============================] - 13s 182ms/step - loss: 0.3312 - accuracy: 0.9262 - val_loss: 5.0372 - val_accuracy: 0.2533\n",
            "Epoch 139/292\n",
            "71/71 [==============================] - 13s 182ms/step - loss: 0.3543 - accuracy: 0.9231 - val_loss: 5.0606 - val_accuracy: 0.2400\n",
            "Epoch 140/292\n",
            "71/71 [==============================] - 13s 182ms/step - loss: 0.3231 - accuracy: 0.9249 - val_loss: 4.9206 - val_accuracy: 0.2500\n",
            "Epoch 141/292\n",
            "71/71 [==============================] - 13s 183ms/step - loss: 0.3121 - accuracy: 0.9307 - val_loss: 5.0838 - val_accuracy: 0.2333\n",
            "Epoch 142/292\n",
            "71/71 [==============================] - 13s 182ms/step - loss: 0.3132 - accuracy: 0.9289 - val_loss: 4.9649 - val_accuracy: 0.2467\n",
            "Epoch 143/292\n",
            "71/71 [==============================] - 13s 183ms/step - loss: 0.3032 - accuracy: 0.9284 - val_loss: 5.1291 - val_accuracy: 0.2500\n",
            "Epoch 144/292\n",
            "71/71 [==============================] - 13s 182ms/step - loss: 0.2942 - accuracy: 0.9333 - val_loss: 5.1633 - val_accuracy: 0.2367\n",
            "Epoch 145/292\n",
            "71/71 [==============================] - 13s 182ms/step - loss: 0.3109 - accuracy: 0.9280 - val_loss: 5.0221 - val_accuracy: 0.2267\n",
            "Epoch 146/292\n",
            "71/71 [==============================] - 13s 183ms/step - loss: 0.2696 - accuracy: 0.9413 - val_loss: 5.1429 - val_accuracy: 0.2333\n",
            "Epoch 147/292\n",
            "71/71 [==============================] - 13s 183ms/step - loss: 0.3223 - accuracy: 0.9204 - val_loss: 4.8747 - val_accuracy: 0.2600\n",
            "Epoch 148/292\n",
            "71/71 [==============================] - 13s 182ms/step - loss: 0.2968 - accuracy: 0.9333 - val_loss: 4.8954 - val_accuracy: 0.2267\n",
            "Epoch 149/292\n",
            "71/71 [==============================] - 13s 182ms/step - loss: 0.3015 - accuracy: 0.9271 - val_loss: 4.9275 - val_accuracy: 0.2333\n",
            "Epoch 150/292\n",
            "71/71 [==============================] - 13s 183ms/step - loss: 0.2723 - accuracy: 0.9307 - val_loss: 4.9215 - val_accuracy: 0.2500\n",
            "Epoch 151/292\n",
            "71/71 [==============================] - 13s 184ms/step - loss: 0.2904 - accuracy: 0.9307 - val_loss: 4.8841 - val_accuracy: 0.2333\n",
            "Epoch 152/292\n",
            "71/71 [==============================] - 13s 182ms/step - loss: 0.2723 - accuracy: 0.9418 - val_loss: 4.9025 - val_accuracy: 0.2167\n",
            "Epoch 153/292\n",
            "71/71 [==============================] - 13s 183ms/step - loss: 0.2398 - accuracy: 0.9356 - val_loss: 4.9267 - val_accuracy: 0.2267\n",
            "Epoch 154/292\n",
            "71/71 [==============================] - 13s 183ms/step - loss: 0.3138 - accuracy: 0.9302 - val_loss: 4.8735 - val_accuracy: 0.2567\n",
            "Epoch 155/292\n",
            "71/71 [==============================] - 13s 184ms/step - loss: 0.2978 - accuracy: 0.9338 - val_loss: 4.9414 - val_accuracy: 0.2233\n",
            "Epoch 156/292\n",
            "71/71 [==============================] - 13s 184ms/step - loss: 0.2964 - accuracy: 0.9329 - val_loss: 4.9494 - val_accuracy: 0.2300\n",
            "Epoch 157/292\n",
            "71/71 [==============================] - 13s 183ms/step - loss: 0.2381 - accuracy: 0.9431 - val_loss: 5.1124 - val_accuracy: 0.2167\n",
            "Epoch 158/292\n",
            "71/71 [==============================] - 13s 183ms/step - loss: 0.2756 - accuracy: 0.9387 - val_loss: 5.0344 - val_accuracy: 0.2267\n",
            "Epoch 159/292\n",
            "71/71 [==============================] - 13s 183ms/step - loss: 0.2838 - accuracy: 0.9351 - val_loss: 5.1278 - val_accuracy: 0.2333\n",
            "Epoch 160/292\n",
            "71/71 [==============================] - 13s 183ms/step - loss: 0.2589 - accuracy: 0.9413 - val_loss: 5.0310 - val_accuracy: 0.2333\n",
            "Epoch 161/292\n",
            "71/71 [==============================] - 13s 183ms/step - loss: 0.2656 - accuracy: 0.9373 - val_loss: 5.0169 - val_accuracy: 0.2300\n",
            "Epoch 162/292\n",
            "71/71 [==============================] - 13s 183ms/step - loss: 0.2073 - accuracy: 0.9431 - val_loss: 5.1662 - val_accuracy: 0.2333\n",
            "Epoch 163/292\n",
            "71/71 [==============================] - 13s 182ms/step - loss: 0.2560 - accuracy: 0.9378 - val_loss: 5.1987 - val_accuracy: 0.2267\n",
            "Epoch 164/292\n",
            "71/71 [==============================] - 13s 182ms/step - loss: 0.2573 - accuracy: 0.9489 - val_loss: 5.2319 - val_accuracy: 0.2100\n",
            "Epoch 165/292\n",
            "71/71 [==============================] - 13s 183ms/step - loss: 0.2578 - accuracy: 0.9427 - val_loss: 5.1818 - val_accuracy: 0.2233\n",
            "Epoch 166/292\n",
            "71/71 [==============================] - 13s 183ms/step - loss: 0.3072 - accuracy: 0.9364 - val_loss: 5.2318 - val_accuracy: 0.2400\n",
            "Epoch 167/292\n",
            "71/71 [==============================] - 13s 183ms/step - loss: 0.2440 - accuracy: 0.9400 - val_loss: 5.0841 - val_accuracy: 0.2433\n",
            "Epoch 168/292\n",
            "71/71 [==============================] - 13s 184ms/step - loss: 0.2111 - accuracy: 0.9449 - val_loss: 5.3436 - val_accuracy: 0.2433\n",
            "Epoch 169/292\n",
            "71/71 [==============================] - 13s 183ms/step - loss: 0.2348 - accuracy: 0.9476 - val_loss: 5.1839 - val_accuracy: 0.2400\n",
            "Epoch 170/292\n",
            "71/71 [==============================] - 13s 182ms/step - loss: 0.3597 - accuracy: 0.9373 - val_loss: 5.0708 - val_accuracy: 0.2433\n",
            "Epoch 171/292\n",
            "71/71 [==============================] - 13s 183ms/step - loss: 0.2768 - accuracy: 0.9396 - val_loss: 5.0782 - val_accuracy: 0.2433\n",
            "Epoch 172/292\n",
            "71/71 [==============================] - 13s 183ms/step - loss: 0.2589 - accuracy: 0.9507 - val_loss: 5.2341 - val_accuracy: 0.2400\n",
            "Epoch 173/292\n",
            "71/71 [==============================] - 13s 183ms/step - loss: 0.2897 - accuracy: 0.9378 - val_loss: 5.2346 - val_accuracy: 0.2333\n",
            "Epoch 174/292\n",
            "71/71 [==============================] - 13s 183ms/step - loss: 0.2089 - accuracy: 0.9489 - val_loss: 5.0926 - val_accuracy: 0.2467\n",
            "Epoch 175/292\n",
            "71/71 [==============================] - 13s 183ms/step - loss: 0.2573 - accuracy: 0.9449 - val_loss: 5.1800 - val_accuracy: 0.2500\n",
            "Epoch 176/292\n",
            "71/71 [==============================] - 13s 183ms/step - loss: 0.3073 - accuracy: 0.9382 - val_loss: 5.2108 - val_accuracy: 0.2600\n",
            "Epoch 177/292\n",
            "71/71 [==============================] - 13s 184ms/step - loss: 0.2690 - accuracy: 0.9378 - val_loss: 5.2835 - val_accuracy: 0.2567\n",
            "Epoch 178/292\n",
            "71/71 [==============================] - 13s 183ms/step - loss: 0.3033 - accuracy: 0.9458 - val_loss: 5.2302 - val_accuracy: 0.2467\n",
            "Epoch 179/292\n",
            "71/71 [==============================] - 13s 183ms/step - loss: 0.2884 - accuracy: 0.9329 - val_loss: 5.1358 - val_accuracy: 0.2400\n",
            "Epoch 180/292\n",
            "71/71 [==============================] - 13s 184ms/step - loss: 0.2288 - accuracy: 0.9422 - val_loss: 5.2529 - val_accuracy: 0.2533\n",
            "Epoch 181/292\n",
            "71/71 [==============================] - 13s 183ms/step - loss: 0.2161 - accuracy: 0.9502 - val_loss: 5.1871 - val_accuracy: 0.2533\n",
            "Epoch 182/292\n",
            "71/71 [==============================] - 13s 183ms/step - loss: 0.3072 - accuracy: 0.9382 - val_loss: 5.2755 - val_accuracy: 0.2533\n",
            "Epoch 183/292\n",
            "71/71 [==============================] - 13s 183ms/step - loss: 0.2051 - accuracy: 0.9520 - val_loss: 5.2912 - val_accuracy: 0.2467\n",
            "Epoch 184/292\n",
            "71/71 [==============================] - 13s 183ms/step - loss: 0.2079 - accuracy: 0.9484 - val_loss: 5.3882 - val_accuracy: 0.2400\n",
            "Epoch 185/292\n",
            "71/71 [==============================] - 13s 183ms/step - loss: 0.2505 - accuracy: 0.9436 - val_loss: 5.1669 - val_accuracy: 0.2467\n",
            "Epoch 186/292\n",
            "71/71 [==============================] - 13s 182ms/step - loss: 0.1781 - accuracy: 0.9569 - val_loss: 5.1613 - val_accuracy: 0.2567\n",
            "Epoch 187/292\n",
            "71/71 [==============================] - 13s 183ms/step - loss: 0.2588 - accuracy: 0.9529 - val_loss: 5.2095 - val_accuracy: 0.2267\n",
            "Epoch 188/292\n",
            "71/71 [==============================] - 13s 183ms/step - loss: 0.2272 - accuracy: 0.9458 - val_loss: 5.0989 - val_accuracy: 0.2300\n",
            "Epoch 189/292\n",
            "71/71 [==============================] - 13s 183ms/step - loss: 0.2030 - accuracy: 0.9551 - val_loss: 5.0540 - val_accuracy: 0.2500\n",
            "Epoch 190/292\n",
            "71/71 [==============================] - 13s 183ms/step - loss: 0.1839 - accuracy: 0.9587 - val_loss: 5.1542 - val_accuracy: 0.2333\n",
            "Epoch 191/292\n",
            "71/71 [==============================] - 13s 183ms/step - loss: 0.1756 - accuracy: 0.9600 - val_loss: 5.1418 - val_accuracy: 0.2500\n",
            "Epoch 192/292\n",
            "71/71 [==============================] - 13s 182ms/step - loss: 0.2564 - accuracy: 0.9484 - val_loss: 5.1532 - val_accuracy: 0.2433\n",
            "Epoch 193/292\n",
            "71/71 [==============================] - 13s 182ms/step - loss: 0.1987 - accuracy: 0.9560 - val_loss: 5.3764 - val_accuracy: 0.2367\n",
            "Epoch 194/292\n",
            "71/71 [==============================] - 13s 183ms/step - loss: 0.2046 - accuracy: 0.9516 - val_loss: 5.4027 - val_accuracy: 0.2600\n",
            "Epoch 195/292\n",
            "71/71 [==============================] - 13s 183ms/step - loss: 0.2305 - accuracy: 0.9533 - val_loss: 5.4255 - val_accuracy: 0.2433\n",
            "Epoch 196/292\n",
            "71/71 [==============================] - 13s 183ms/step - loss: 0.1712 - accuracy: 0.9573 - val_loss: 5.4042 - val_accuracy: 0.2433\n",
            "Epoch 197/292\n",
            "71/71 [==============================] - 13s 184ms/step - loss: 0.1972 - accuracy: 0.9569 - val_loss: 5.3422 - val_accuracy: 0.2500\n",
            "Epoch 198/292\n",
            "71/71 [==============================] - 13s 184ms/step - loss: 0.2337 - accuracy: 0.9511 - val_loss: 5.2935 - val_accuracy: 0.2333\n",
            "Epoch 199/292\n",
            "71/71 [==============================] - 13s 184ms/step - loss: 0.2053 - accuracy: 0.9556 - val_loss: 5.4266 - val_accuracy: 0.2133\n",
            "Epoch 200/292\n",
            "71/71 [==============================] - 13s 184ms/step - loss: 0.2405 - accuracy: 0.9453 - val_loss: 5.2941 - val_accuracy: 0.2333\n",
            "Epoch 201/292\n",
            "71/71 [==============================] - 13s 183ms/step - loss: 0.2527 - accuracy: 0.9516 - val_loss: 5.2350 - val_accuracy: 0.2433\n",
            "Epoch 202/292\n",
            "71/71 [==============================] - 13s 184ms/step - loss: 0.1977 - accuracy: 0.9618 - val_loss: 5.2787 - val_accuracy: 0.2300\n",
            "Epoch 203/292\n",
            "71/71 [==============================] - 13s 183ms/step - loss: 0.1978 - accuracy: 0.9578 - val_loss: 5.2032 - val_accuracy: 0.2300\n",
            "Epoch 204/292\n",
            "71/71 [==============================] - 13s 183ms/step - loss: 0.1954 - accuracy: 0.9551 - val_loss: 5.2686 - val_accuracy: 0.2433\n",
            "Epoch 205/292\n",
            "71/71 [==============================] - 13s 184ms/step - loss: 0.2244 - accuracy: 0.9547 - val_loss: 5.3265 - val_accuracy: 0.2533\n",
            "Epoch 206/292\n",
            "71/71 [==============================] - 13s 183ms/step - loss: 0.2107 - accuracy: 0.9560 - val_loss: 5.3334 - val_accuracy: 0.2600\n",
            "Epoch 207/292\n",
            "71/71 [==============================] - 13s 184ms/step - loss: 0.2250 - accuracy: 0.9502 - val_loss: 5.4032 - val_accuracy: 0.2433\n",
            "Epoch 208/292\n",
            "71/71 [==============================] - 13s 183ms/step - loss: 0.1874 - accuracy: 0.9573 - val_loss: 5.4511 - val_accuracy: 0.2367\n",
            "Epoch 209/292\n",
            "71/71 [==============================] - 13s 183ms/step - loss: 0.2448 - accuracy: 0.9564 - val_loss: 5.4890 - val_accuracy: 0.2433\n",
            "Epoch 210/292\n",
            "71/71 [==============================] - 13s 183ms/step - loss: 0.2189 - accuracy: 0.9498 - val_loss: 5.5459 - val_accuracy: 0.2367\n",
            "Epoch 211/292\n",
            "71/71 [==============================] - 13s 183ms/step - loss: 0.2083 - accuracy: 0.9547 - val_loss: 5.3678 - val_accuracy: 0.2500\n",
            "Epoch 212/292\n",
            "71/71 [==============================] - 13s 183ms/step - loss: 0.2173 - accuracy: 0.9542 - val_loss: 5.3371 - val_accuracy: 0.2567\n",
            "Epoch 213/292\n",
            "71/71 [==============================] - 13s 183ms/step - loss: 0.2052 - accuracy: 0.9502 - val_loss: 5.2949 - val_accuracy: 0.2467\n",
            "Epoch 214/292\n",
            "71/71 [==============================] - 13s 183ms/step - loss: 0.2141 - accuracy: 0.9480 - val_loss: 5.3737 - val_accuracy: 0.2533\n",
            "Epoch 215/292\n",
            "71/71 [==============================] - 13s 183ms/step - loss: 0.2717 - accuracy: 0.9502 - val_loss: 5.4300 - val_accuracy: 0.2200\n",
            "Epoch 216/292\n",
            "71/71 [==============================] - 13s 183ms/step - loss: 0.2468 - accuracy: 0.9444 - val_loss: 5.5195 - val_accuracy: 0.2400\n",
            "Epoch 217/292\n",
            "71/71 [==============================] - 13s 184ms/step - loss: 0.2465 - accuracy: 0.9498 - val_loss: 5.3617 - val_accuracy: 0.2267\n",
            "Epoch 218/292\n",
            "71/71 [==============================] - 13s 183ms/step - loss: 0.2098 - accuracy: 0.9591 - val_loss: 5.3484 - val_accuracy: 0.2467\n",
            "Epoch 219/292\n",
            "71/71 [==============================] - 13s 183ms/step - loss: 0.1612 - accuracy: 0.9613 - val_loss: 5.2831 - val_accuracy: 0.2433\n",
            "Epoch 220/292\n",
            "71/71 [==============================] - 13s 183ms/step - loss: 0.2698 - accuracy: 0.9462 - val_loss: 5.3195 - val_accuracy: 0.2500\n",
            "Epoch 221/292\n",
            "71/71 [==============================] - 13s 184ms/step - loss: 0.1947 - accuracy: 0.9578 - val_loss: 5.2241 - val_accuracy: 0.2533\n",
            "Epoch 222/292\n",
            "71/71 [==============================] - 13s 184ms/step - loss: 0.1838 - accuracy: 0.9596 - val_loss: 5.2151 - val_accuracy: 0.2267\n",
            "Epoch 223/292\n",
            "71/71 [==============================] - 13s 186ms/step - loss: 0.2275 - accuracy: 0.9484 - val_loss: 5.3300 - val_accuracy: 0.2367\n",
            "Epoch 224/292\n",
            "71/71 [==============================] - 13s 184ms/step - loss: 0.1950 - accuracy: 0.9569 - val_loss: 5.3531 - val_accuracy: 0.2467\n",
            "Epoch 225/292\n",
            "71/71 [==============================] - 13s 183ms/step - loss: 0.1874 - accuracy: 0.9582 - val_loss: 5.1815 - val_accuracy: 0.2433\n",
            "Epoch 226/292\n",
            "71/71 [==============================] - 13s 184ms/step - loss: 0.2171 - accuracy: 0.9600 - val_loss: 5.2332 - val_accuracy: 0.2400\n",
            "Epoch 227/292\n",
            "71/71 [==============================] - 13s 184ms/step - loss: 0.2391 - accuracy: 0.9520 - val_loss: 5.2751 - val_accuracy: 0.2233\n",
            "Epoch 228/292\n",
            "71/71 [==============================] - 13s 184ms/step - loss: 0.1982 - accuracy: 0.9604 - val_loss: 5.1441 - val_accuracy: 0.2333\n",
            "Epoch 229/292\n",
            "71/71 [==============================] - 13s 184ms/step - loss: 0.1846 - accuracy: 0.9609 - val_loss: 5.1992 - val_accuracy: 0.2467\n",
            "Epoch 230/292\n",
            "71/71 [==============================] - 13s 184ms/step - loss: 0.1424 - accuracy: 0.9671 - val_loss: 5.1324 - val_accuracy: 0.2467\n",
            "Epoch 231/292\n",
            "71/71 [==============================] - 13s 184ms/step - loss: 0.1920 - accuracy: 0.9604 - val_loss: 5.2589 - val_accuracy: 0.2600\n",
            "Epoch 232/292\n",
            "71/71 [==============================] - 13s 184ms/step - loss: 0.1850 - accuracy: 0.9573 - val_loss: 5.4954 - val_accuracy: 0.2500\n",
            "Epoch 233/292\n",
            "71/71 [==============================] - 13s 182ms/step - loss: 0.1691 - accuracy: 0.9591 - val_loss: 5.5371 - val_accuracy: 0.2200\n",
            "Epoch 234/292\n",
            "71/71 [==============================] - 13s 184ms/step - loss: 0.1893 - accuracy: 0.9569 - val_loss: 5.5720 - val_accuracy: 0.2433\n",
            "Epoch 235/292\n",
            "71/71 [==============================] - 13s 183ms/step - loss: 0.2082 - accuracy: 0.9564 - val_loss: 5.6219 - val_accuracy: 0.2333\n",
            "Epoch 236/292\n",
            "71/71 [==============================] - 13s 183ms/step - loss: 0.2346 - accuracy: 0.9542 - val_loss: 5.5686 - val_accuracy: 0.2467\n",
            "Epoch 237/292\n",
            "71/71 [==============================] - 13s 185ms/step - loss: 0.1957 - accuracy: 0.9573 - val_loss: 5.4122 - val_accuracy: 0.2367\n",
            "Epoch 238/292\n",
            "71/71 [==============================] - 13s 183ms/step - loss: 0.2004 - accuracy: 0.9622 - val_loss: 5.2721 - val_accuracy: 0.2500\n",
            "Epoch 239/292\n",
            "71/71 [==============================] - 13s 184ms/step - loss: 0.1811 - accuracy: 0.9644 - val_loss: 5.2457 - val_accuracy: 0.2667\n",
            "Epoch 240/292\n",
            "71/71 [==============================] - 13s 183ms/step - loss: 0.2065 - accuracy: 0.9604 - val_loss: 5.3996 - val_accuracy: 0.2433\n",
            "Epoch 241/292\n",
            "71/71 [==============================] - 13s 183ms/step - loss: 0.2187 - accuracy: 0.9622 - val_loss: 5.5328 - val_accuracy: 0.2567\n",
            "Epoch 242/292\n",
            "71/71 [==============================] - 13s 183ms/step - loss: 0.2042 - accuracy: 0.9640 - val_loss: 5.4878 - val_accuracy: 0.2400\n",
            "Epoch 243/292\n",
            "71/71 [==============================] - 13s 184ms/step - loss: 0.1639 - accuracy: 0.9684 - val_loss: 5.3319 - val_accuracy: 0.2433\n",
            "Epoch 244/292\n",
            "71/71 [==============================] - 13s 184ms/step - loss: 0.1777 - accuracy: 0.9627 - val_loss: 5.3764 - val_accuracy: 0.2667\n",
            "Epoch 245/292\n",
            "71/71 [==============================] - 13s 184ms/step - loss: 0.1697 - accuracy: 0.9622 - val_loss: 5.2845 - val_accuracy: 0.2467\n",
            "Epoch 246/292\n",
            "71/71 [==============================] - 13s 184ms/step - loss: 0.1524 - accuracy: 0.9658 - val_loss: 5.2828 - val_accuracy: 0.2433\n",
            "Epoch 247/292\n",
            "71/71 [==============================] - 13s 183ms/step - loss: 0.1433 - accuracy: 0.9667 - val_loss: 5.3498 - val_accuracy: 0.2567\n",
            "Epoch 248/292\n",
            "71/71 [==============================] - 13s 184ms/step - loss: 0.1560 - accuracy: 0.9631 - val_loss: 5.4033 - val_accuracy: 0.2333\n",
            "Epoch 249/292\n",
            "71/71 [==============================] - 13s 184ms/step - loss: 0.2245 - accuracy: 0.9560 - val_loss: 5.2112 - val_accuracy: 0.2267\n",
            "Epoch 250/292\n",
            "71/71 [==============================] - 13s 184ms/step - loss: 0.1450 - accuracy: 0.9693 - val_loss: 5.2823 - val_accuracy: 0.2300\n",
            "Epoch 251/292\n",
            "71/71 [==============================] - 13s 184ms/step - loss: 0.2157 - accuracy: 0.9578 - val_loss: 5.3631 - val_accuracy: 0.2467\n",
            "Epoch 252/292\n",
            "71/71 [==============================] - 13s 184ms/step - loss: 0.1612 - accuracy: 0.9653 - val_loss: 5.3833 - val_accuracy: 0.2533\n",
            "Epoch 253/292\n",
            "71/71 [==============================] - 13s 185ms/step - loss: 0.1854 - accuracy: 0.9671 - val_loss: 5.3972 - val_accuracy: 0.2533\n",
            "Epoch 254/292\n",
            "71/71 [==============================] - 13s 184ms/step - loss: 0.2313 - accuracy: 0.9578 - val_loss: 5.3589 - val_accuracy: 0.2567\n",
            "Epoch 255/292\n",
            "71/71 [==============================] - 13s 184ms/step - loss: 0.1600 - accuracy: 0.9667 - val_loss: 5.5006 - val_accuracy: 0.2500\n",
            "Epoch 256/292\n",
            "71/71 [==============================] - 13s 184ms/step - loss: 0.2288 - accuracy: 0.9613 - val_loss: 5.5327 - val_accuracy: 0.2333\n",
            "Epoch 257/292\n",
            "71/71 [==============================] - 13s 185ms/step - loss: 0.1951 - accuracy: 0.9582 - val_loss: 5.4786 - val_accuracy: 0.2400\n",
            "Epoch 258/292\n",
            "71/71 [==============================] - 13s 184ms/step - loss: 0.1490 - accuracy: 0.9667 - val_loss: 5.3074 - val_accuracy: 0.2600\n",
            "Epoch 259/292\n",
            "71/71 [==============================] - 13s 184ms/step - loss: 0.1695 - accuracy: 0.9693 - val_loss: 5.4669 - val_accuracy: 0.2567\n",
            "Epoch 260/292\n",
            "71/71 [==============================] - 13s 185ms/step - loss: 0.1665 - accuracy: 0.9618 - val_loss: 5.4484 - val_accuracy: 0.2600\n",
            "Epoch 261/292\n",
            "71/71 [==============================] - 13s 183ms/step - loss: 0.1761 - accuracy: 0.9627 - val_loss: 5.4178 - val_accuracy: 0.2467\n",
            "Epoch 262/292\n",
            "71/71 [==============================] - 13s 187ms/step - loss: 0.2101 - accuracy: 0.9600 - val_loss: 5.5908 - val_accuracy: 0.2567\n",
            "Epoch 263/292\n",
            "71/71 [==============================] - 13s 185ms/step - loss: 0.2616 - accuracy: 0.9627 - val_loss: 5.5001 - val_accuracy: 0.2500\n",
            "Epoch 264/292\n",
            "71/71 [==============================] - 13s 185ms/step - loss: 0.1993 - accuracy: 0.9622 - val_loss: 5.4709 - val_accuracy: 0.2533\n",
            "Epoch 265/292\n",
            "71/71 [==============================] - 13s 188ms/step - loss: 0.1799 - accuracy: 0.9667 - val_loss: 5.4070 - val_accuracy: 0.2667\n",
            "Epoch 266/292\n",
            "71/71 [==============================] - 13s 183ms/step - loss: 0.1686 - accuracy: 0.9640 - val_loss: 5.4990 - val_accuracy: 0.2567\n",
            "Epoch 267/292\n",
            "71/71 [==============================] - 13s 184ms/step - loss: 0.1424 - accuracy: 0.9662 - val_loss: 5.4372 - val_accuracy: 0.2433\n",
            "Epoch 268/292\n",
            "71/71 [==============================] - 13s 185ms/step - loss: 0.2204 - accuracy: 0.9618 - val_loss: 5.4354 - val_accuracy: 0.2533\n",
            "Epoch 269/292\n",
            "71/71 [==============================] - 13s 185ms/step - loss: 0.1598 - accuracy: 0.9662 - val_loss: 5.4495 - val_accuracy: 0.2667\n",
            "Epoch 270/292\n",
            "71/71 [==============================] - 13s 184ms/step - loss: 0.1516 - accuracy: 0.9702 - val_loss: 5.4974 - val_accuracy: 0.2600\n",
            "Epoch 271/292\n",
            "71/71 [==============================] - 13s 185ms/step - loss: 0.1822 - accuracy: 0.9622 - val_loss: 5.7286 - val_accuracy: 0.2500\n",
            "Epoch 272/292\n",
            "71/71 [==============================] - 13s 184ms/step - loss: 0.1467 - accuracy: 0.9689 - val_loss: 5.7526 - val_accuracy: 0.2367\n",
            "Epoch 273/292\n",
            "71/71 [==============================] - 13s 187ms/step - loss: 0.1797 - accuracy: 0.9667 - val_loss: 5.6433 - val_accuracy: 0.2400\n",
            "Epoch 274/292\n",
            "71/71 [==============================] - 13s 185ms/step - loss: 0.1328 - accuracy: 0.9716 - val_loss: 5.6222 - val_accuracy: 0.2300\n",
            "Epoch 275/292\n",
            "71/71 [==============================] - 13s 185ms/step - loss: 0.2595 - accuracy: 0.9538 - val_loss: 5.6229 - val_accuracy: 0.2367\n",
            "Epoch 276/292\n",
            "71/71 [==============================] - 13s 185ms/step - loss: 0.1418 - accuracy: 0.9716 - val_loss: 5.5461 - val_accuracy: 0.2200\n",
            "Epoch 277/292\n",
            "71/71 [==============================] - 13s 185ms/step - loss: 0.1754 - accuracy: 0.9644 - val_loss: 5.3675 - val_accuracy: 0.2400\n",
            "Epoch 278/292\n",
            "71/71 [==============================] - 13s 185ms/step - loss: 0.1926 - accuracy: 0.9613 - val_loss: 5.6075 - val_accuracy: 0.2400\n",
            "Epoch 279/292\n",
            "71/71 [==============================] - 13s 184ms/step - loss: 0.1414 - accuracy: 0.9738 - val_loss: 5.6831 - val_accuracy: 0.2500\n",
            "Epoch 280/292\n",
            "71/71 [==============================] - 13s 184ms/step - loss: 0.1754 - accuracy: 0.9698 - val_loss: 5.6176 - val_accuracy: 0.2533\n",
            "Epoch 281/292\n",
            "71/71 [==============================] - 13s 185ms/step - loss: 0.1402 - accuracy: 0.9662 - val_loss: 5.4508 - val_accuracy: 0.2400\n",
            "Epoch 282/292\n",
            "71/71 [==============================] - 13s 186ms/step - loss: 0.1365 - accuracy: 0.9720 - val_loss: 5.4773 - val_accuracy: 0.2533\n",
            "Epoch 283/292\n",
            "71/71 [==============================] - 13s 185ms/step - loss: 0.1471 - accuracy: 0.9689 - val_loss: 5.7542 - val_accuracy: 0.2400\n",
            "Epoch 284/292\n",
            "71/71 [==============================] - 13s 188ms/step - loss: 0.1439 - accuracy: 0.9716 - val_loss: 5.5201 - val_accuracy: 0.2500\n",
            "Epoch 285/292\n",
            "71/71 [==============================] - 13s 185ms/step - loss: 0.1466 - accuracy: 0.9671 - val_loss: 5.5319 - val_accuracy: 0.2700\n",
            "Epoch 286/292\n",
            "71/71 [==============================] - 13s 184ms/step - loss: 0.1499 - accuracy: 0.9653 - val_loss: 5.5506 - val_accuracy: 0.2500\n",
            "Epoch 287/292\n",
            "71/71 [==============================] - 13s 185ms/step - loss: 0.1419 - accuracy: 0.9662 - val_loss: 5.5493 - val_accuracy: 0.2500\n",
            "Epoch 288/292\n",
            "71/71 [==============================] - 13s 185ms/step - loss: 0.1321 - accuracy: 0.9702 - val_loss: 5.6019 - val_accuracy: 0.2433\n",
            "Epoch 289/292\n",
            "71/71 [==============================] - 13s 185ms/step - loss: 0.2533 - accuracy: 0.9631 - val_loss: 5.4578 - val_accuracy: 0.2300\n",
            "Epoch 290/292\n",
            "71/71 [==============================] - 13s 185ms/step - loss: 0.1321 - accuracy: 0.9720 - val_loss: 5.3660 - val_accuracy: 0.2433\n",
            "Epoch 291/292\n",
            "71/71 [==============================] - 13s 184ms/step - loss: 0.1517 - accuracy: 0.9667 - val_loss: 5.3633 - val_accuracy: 0.2533\n",
            "Epoch 292/292\n",
            "71/71 [==============================] - 13s 184ms/step - loss: 0.1364 - accuracy: 0.9671 - val_loss: 5.5369 - val_accuracy: 0.2567\n"
          ]
        }
      ]
    },
    {
      "cell_type": "code",
      "metadata": {
        "colab": {
          "base_uri": "https://localhost:8080/",
          "height": 435
        },
        "id": "pMBMXPgy--9S",
        "outputId": "32ee8e24-08d1-43be-858f-17e2d42f959e"
      },
      "source": [
        "#Plots\n",
        "acc_plots(history, iterations)"
      ],
      "execution_count": 22,
      "outputs": [
        {
          "output_type": "display_data",
          "data": {
            "image/png": "[encoded data removed]",
            "text/plain": [
              "<Figure size 1080x1080 with 2 Axes>"
            ]
          },
          "metadata": {}
        }
      ]
    },
    {
      "cell_type": "code",
      "metadata": {
        "colab": {
          "base_uri": "https://localhost:8080/"
        },
        "id": "A7sVGFjb_DdS",
        "outputId": "5ec28ff3-273b-46fe-e3bd-131e2f447f69"
      },
      "source": [
        "#Results\n",
        "acc_results(model, labels, x_test, y_test)"
      ],
      "execution_count": 23,
      "outputs": [
        {
          "output_type": "stream",
          "name": "stdout",
          "text": [
            "                    precision    recall  f1-score   support\n",
            "\n",
            "            Buddha       0.00      0.00      0.00        20\n",
            "            Garuda       0.56      0.50      0.53        20\n",
            "     Goddess_Durga       0.23      0.25      0.24        20\n",
            "   Goddess_Lakshmi       0.17      0.15      0.16        20\n",
            "Goddess_Saraswathi       0.09      0.15      0.11        20\n",
            "       Lord_Ganesh       0.26      0.35      0.30        20\n",
            "      Lord_Hanuman       0.10      0.10      0.10        20\n",
            "    Lord_Hayagriva       0.11      0.05      0.07        20\n",
            "        Lord_Indra       0.69      1.00      0.82        20\n",
            "      Lord_Krishna       0.08      0.10      0.09        20\n",
            "       Lord_Muruga       0.11      0.10      0.11        20\n",
            "             Nandi       0.50      0.05      0.09        20\n",
            "           Nataraj       0.67      0.50      0.57        20\n",
            "   Shirdi_Sai_Baba       0.19      0.25      0.22        20\n",
            "          Shivling       0.27      0.30      0.29        20\n",
            "\n",
            "          accuracy                           0.26       300\n",
            "         macro avg       0.27      0.26      0.24       300\n",
            "      weighted avg       0.27      0.26      0.24       300\n",
            "\n",
            "\n",
            "Accuracy = 25.666666666666664%\n"
          ]
        }
      ]
    },
    {
      "cell_type": "markdown",
      "metadata": {
        "id": "lYyGyFyM_FAo"
      },
      "source": [
        "#### **Result: For learning rate = 1*10^(-6) and 292 iterations, the accuracy obtained was 25.66%(approx).**"
      ]
    }
  ]
}