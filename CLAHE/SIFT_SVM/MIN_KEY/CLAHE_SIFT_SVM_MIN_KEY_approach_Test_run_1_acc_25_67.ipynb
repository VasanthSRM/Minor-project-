{
  "nbformat": 4,
  "nbformat_minor": 0,
  "metadata": {
    "accelerator": "GPU",
    "colab": {
      "name": "CLAHE_SIFT_SVM_MIN_KEY_approach_Test_run_1_acc_25_67.ipynb",
      "provenance": [],
      "collapsed_sections": []
    },
    "kernelspec": {
      "display_name": "Python 3",
      "name": "python3"
    },
    "language_info": {
      "name": "python"
    }
  },
  "cells": [
    {
      "cell_type": "markdown",
      "metadata": {
        "id": "xkfpI5lL8ofl"
      },
      "source": [
        "## **CLAHE + SIFT + SVM MIN_KEY approach**\n",
        "#### **Accuracy = 25.67% (approx)**\n",
        "#### **Test run - 1**"
      ]
    },
    {
      "cell_type": "markdown",
      "metadata": {
        "id": "5AVHk6bP8110"
      },
      "source": [
        "#### **Aim: To find the accuracy of the SIFT plus SVM model by using CLAHE before classification.**"
      ]
    },
    {
      "cell_type": "markdown",
      "metadata": {
        "id": "xaufx6N9PNMd"
      },
      "source": [
        "#### **For mounting drive**"
      ]
    },
    {
      "cell_type": "code",
      "metadata": {
        "colab": {
          "base_uri": "https://localhost:8080/"
        },
        "id": "LoT75uFsDMt3",
        "outputId": "8e5fc8cf-5f30-4d77-846a-0f49ebe45353"
      },
      "source": [
        "#For mounting GDrive\n",
        "from google.colab import drive\n",
        "drive.mount('/content/drive')"
      ],
      "execution_count": 1,
      "outputs": [
        {
          "output_type": "stream",
          "name": "stdout",
          "text": [
            "Drive already mounted at /content/drive; to attempt to forcibly remount, call drive.mount(\"/content/drive\", force_remount=True).\n"
          ]
        }
      ]
    },
    {
      "cell_type": "markdown",
      "metadata": {
        "id": "hsXW3CzQ9KWG"
      },
      "source": [
        "#### **Required modules**"
      ]
    },
    {
      "cell_type": "code",
      "metadata": {
        "colab": {
          "base_uri": "https://localhost:8080/"
        },
        "id": "p69fPEd7KiEq",
        "outputId": "8ff808e4-0383-4f9c-e77a-47a95d41e4aa"
      },
      "source": [
        "#Req. opencv 4.5+\n",
        "!pip uninstall opencv-python\n",
        "!pip install opencv-python"
      ],
      "execution_count": 2,
      "outputs": [
        {
          "output_type": "stream",
          "name": "stdout",
          "text": [
            "Found existing installation: opencv-python 4.5.4.60\n",
            "Uninstalling opencv-python-4.5.4.60:\n",
            "  Would remove:\n",
            "    /usr/local/lib/python3.7/dist-packages/cv2/*\n",
            "    /usr/local/lib/python3.7/dist-packages/opencv_python-4.5.4.60.dist-info/*\n",
            "    /usr/local/lib/python3.7/dist-packages/opencv_python.libs/libQt5Core-39545cc7.so.5.15.0\n",
            "    /usr/local/lib/python3.7/dist-packages/opencv_python.libs/libQt5Gui-ba0a2070.so.5.15.0\n",
            "    /usr/local/lib/python3.7/dist-packages/opencv_python.libs/libQt5Test-c38a5234.so.5.15.0\n",
            "    /usr/local/lib/python3.7/dist-packages/opencv_python.libs/libQt5Widgets-e69d94fb.so.5.15.0\n",
            "    /usr/local/lib/python3.7/dist-packages/opencv_python.libs/libQt5XcbQpa-ca221f44.so.5.15.0\n",
            "    /usr/local/lib/python3.7/dist-packages/opencv_python.libs/libX11-xcb-69166bdf.so.1.0.0\n",
            "    /usr/local/lib/python3.7/dist-packages/opencv_python.libs/libXau-00ec42fe.so.6.0.0\n",
            "    /usr/local/lib/python3.7/dist-packages/opencv_python.libs/libavcodec-64ac49e1.so.58.91.100\n",
            "    /usr/local/lib/python3.7/dist-packages/opencv_python.libs/libavformat-4b79e479.so.58.45.100\n",
            "    /usr/local/lib/python3.7/dist-packages/opencv_python.libs/libavutil-805734e8.so.56.51.100\n",
            "    /usr/local/lib/python3.7/dist-packages/opencv_python.libs/libbz2-a273e504.so.1.0.6\n",
            "    /usr/local/lib/python3.7/dist-packages/opencv_python.libs/libcrypto-018b8c17.so.1.1\n",
            "    /usr/local/lib/python3.7/dist-packages/opencv_python.libs/libfreetype-c0e61f0c.so.6.14.0\n",
            "    /usr/local/lib/python3.7/dist-packages/opencv_python.libs/libgfortran-91cc3cb1.so.3.0.0\n",
            "    /usr/local/lib/python3.7/dist-packages/opencv_python.libs/libopenblas-r0-f650aae0.3.3.so\n",
            "    /usr/local/lib/python3.7/dist-packages/opencv_python.libs/libpng15-ce838cd1.so.15.13.0\n",
            "    /usr/local/lib/python3.7/dist-packages/opencv_python.libs/libquadmath-96973f99.so.0.0.0\n",
            "    /usr/local/lib/python3.7/dist-packages/opencv_python.libs/libssl-6082116c.so.1.1\n",
            "    /usr/local/lib/python3.7/dist-packages/opencv_python.libs/libswresample-83ce3247.so.3.7.100\n",
            "    /usr/local/lib/python3.7/dist-packages/opencv_python.libs/libswscale-7e960168.so.5.7.100\n",
            "    /usr/local/lib/python3.7/dist-packages/opencv_python.libs/libvpx-392cd848.so.6.4.0\n",
            "    /usr/local/lib/python3.7/dist-packages/opencv_python.libs/libxcb-icccm-413c9f41.so.4.0.0\n",
            "    /usr/local/lib/python3.7/dist-packages/opencv_python.libs/libxcb-image-e82a276d.so.0.0.0\n",
            "    /usr/local/lib/python3.7/dist-packages/opencv_python.libs/libxcb-keysyms-21015570.so.1.0.0\n",
            "    /usr/local/lib/python3.7/dist-packages/opencv_python.libs/libxcb-randr-a96a5a87.so.0.1.0\n",
            "    /usr/local/lib/python3.7/dist-packages/opencv_python.libs/libxcb-render-637b984a.so.0.0.0\n",
            "    /usr/local/lib/python3.7/dist-packages/opencv_python.libs/libxcb-render-util-43ce00f5.so.0.0.0\n",
            "    /usr/local/lib/python3.7/dist-packages/opencv_python.libs/libxcb-shape-25c2b258.so.0.0.0\n",
            "    /usr/local/lib/python3.7/dist-packages/opencv_python.libs/libxcb-shm-7a199f70.so.0.0.0\n",
            "    /usr/local/lib/python3.7/dist-packages/opencv_python.libs/libxcb-sync-89374f40.so.1.0.0\n",
            "    /usr/local/lib/python3.7/dist-packages/opencv_python.libs/libxcb-util-4d666913.so.1.0.0\n",
            "    /usr/local/lib/python3.7/dist-packages/opencv_python.libs/libxcb-xfixes-9be3ba6f.so.0.0.0\n",
            "    /usr/local/lib/python3.7/dist-packages/opencv_python.libs/libxcb-xinerama-ae147f87.so.0.0.0\n",
            "    /usr/local/lib/python3.7/dist-packages/opencv_python.libs/libxcb-xkb-9ba31ab3.so.1.0.0\n",
            "    /usr/local/lib/python3.7/dist-packages/opencv_python.libs/libxkbcommon-71ae2972.so.0.0.0\n",
            "    /usr/local/lib/python3.7/dist-packages/opencv_python.libs/libxkbcommon-x11-c65ed502.so.0.0.0\n",
            "Proceed (y/n)? y\n",
            "  Successfully uninstalled opencv-python-4.5.4.60\n",
            "Collecting opencv-python\n",
            "  Using cached opencv_python-4.5.4.60-cp37-cp37m-manylinux_2_17_x86_64.manylinux2014_x86_64.whl (60.3 MB)\n",
            "Requirement already satisfied: numpy>=1.14.5 in /usr/local/lib/python3.7/dist-packages (from opencv-python) (1.19.5)\n",
            "Installing collected packages: opencv-python\n",
            "\u001b[31mERROR: pip's dependency resolver does not currently take into account all the packages that are installed. This behaviour is the source of the following dependency conflicts.\n",
            "albumentations 0.1.12 requires imgaug<0.2.7,>=0.2.5, but you have imgaug 0.2.9 which is incompatible.\u001b[0m\n",
            "Successfully installed opencv-python-4.5.4.60\n"
          ]
        }
      ]
    },
    {
      "cell_type": "code",
      "metadata": {
        "id": "__cYeeQF8IEn"
      },
      "source": [
        "#Importing necessary libraries\n",
        "from zipfile import ZipFile\n",
        "from tensorflow.python.client import device_lib\n",
        "import platform\n",
        "import matplotlib.pyplot as plt\n",
        "import seaborn as sns\n",
        "from sklearn.svm import SVC  \n",
        "from sklearn.metrics import classification_report, accuracy_score\n",
        "import cv2\n",
        "import os\n",
        "import sys\n",
        "import numpy as np\n",
        "import random"
      ],
      "execution_count": 3,
      "outputs": []
    },
    {
      "cell_type": "markdown",
      "metadata": {
        "id": "lAtfR4ri9T-G"
      },
      "source": [
        "#### **Functions definition**"
      ]
    },
    {
      "cell_type": "code",
      "metadata": {
        "id": "4TAGvB5o8ns-"
      },
      "source": [
        "def extract_zip(file_name = \"drive/MyDrive/Dataset_test_1.zip\"):\n",
        "    with ZipFile(file_name, \"r\") as zip:\n",
        "        zip.extractall()\n",
        "        print(\"Dataset Extracted\")"
      ],
      "execution_count": 4,
      "outputs": []
    },
    {
      "cell_type": "code",
      "metadata": {
        "id": "JwTPw__89fBU"
      },
      "source": [
        "def python_ver():\n",
        "    print(\"\\nPython version:\\n\")\n",
        "    print(sys.version)\n",
        "\n",
        "def device_info():\n",
        "    print(\"\\nDevice Info:\\n\")\n",
        "    print(device_lib.list_local_devices())\n",
        "\n",
        "def platform_info():\n",
        "    print(\"\\nPlatform Info:\\n\")\n",
        "    print(platform.platform())\n",
        "    print(platform.processor())"
      ],
      "execution_count": 5,
      "outputs": []
    },
    {
      "cell_type": "code",
      "metadata": {
        "id": "QtlFrxEVYIno"
      },
      "source": [
        "def SIFT_test(dirs, labels, img_size):\n",
        "    \"\"\"Scale Invariant Feature Transform Test run for finding the minimum keypoints detected among all the images in the dataset\"\"\"\n",
        "    \n",
        "    min_key = np.inf\n",
        "    \n",
        "    for data_dir in dirs:\n",
        "        for label in labels:\n",
        "            path = os.path.join(data_dir, label)\n",
        "            for img in os.listdir(path):\n",
        "                #Reading the image in grayscale mode\n",
        "                img_arr = cv2.imread(os.path.join(path, img))\n",
        "                   \n",
        "                #Reshaping images to preferred size\n",
        "                resized_arr = cv2.resize(img_arr, (img_size, img_size)) \n",
        "                \n",
        "                #CLAHE function call\n",
        "                CLAHE_img = CLAHE(resized_arr)\n",
        "\n",
        "                #Grayscale Conversion\n",
        "                gray_img = cv2.cvtColor(CLAHE_img, cv2.COLOR_BGR2GRAY)\n",
        "\n",
        "                #detecting keypoints\n",
        "                sift = cv2.SIFT_create()\n",
        "                keypoints = sift.detect(gray_img, None)\n",
        "\n",
        "                if (len(keypoints) < min_key):\n",
        "                    min_key = len(keypoints)\n",
        "                \n",
        "    return min_key"
      ],
      "execution_count": 6,
      "outputs": []
    },
    {
      "cell_type": "code",
      "metadata": {
        "id": "yQV6wVOX10qi"
      },
      "source": [
        "def CLAHE(image):\n",
        "    \"\"\"Contrast limited AHE\"\"\"\n",
        "    #Convert BGR image to LAB\n",
        "    lab_img= cv2.cvtColor(image, cv2.COLOR_BGR2LAB)\n",
        "\n",
        "    #Splitting the LAB image to L, A and B channels, respectively\n",
        "    l, a, b = cv2.split(lab_img)\n",
        "\n",
        "    clahe = cv2.createCLAHE(clipLimit=3.0, tileGridSize=(8,8))\n",
        "    clahe_img = clahe.apply(l)\n",
        "\n",
        "    #Combine the CLAHE enhanced L-channel back with A and B channels\n",
        "    updated_lab_img2 = cv2.merge((clahe_img,a,b))\n",
        "\n",
        "    #Convert LAB image back to color (BGR)\n",
        "    CLAHE_img = cv2.cvtColor(updated_lab_img2, cv2.COLOR_LAB2BGR)\n",
        "\n",
        "    return CLAHE_img"
      ],
      "execution_count": 7,
      "outputs": []
    },
    {
      "cell_type": "code",
      "metadata": {
        "id": "j9IR6y7nYJ5a"
      },
      "source": [
        "def SIFT(image, min_key):\n",
        "    \"\"\"Scale Invariant Feature Transform for finding keypoints and computing descriptors\"\"\"\n",
        "    \n",
        "    sift = cv2.SIFT_create(min_key)\n",
        "    keypoints, descriptors = sift.detectAndCompute(image, None)\n",
        "\n",
        "    return np.array(descriptors, dtype=\"i\")[:min_key]"
      ],
      "execution_count": 8,
      "outputs": []
    },
    {
      "cell_type": "code",
      "metadata": {
        "id": "GSQlfqEA9jN7"
      },
      "source": [
        "def dataset_creation(data_dir, labels, img_size, min_key):\n",
        "    \"\"\"Loading data and shuffling\"\"\"\n",
        "    data = [] \n",
        "\n",
        "    for class_num, label in enumerate(labels): \n",
        "        path = os.path.join(data_dir, label)\n",
        "        for img in os.listdir(path):\n",
        "            try:\n",
        "                #Reading the image in grayscale mode\n",
        "                img_arr = cv2.imread(os.path.join(path, img))\n",
        "                \n",
        "                #Reshaping images to preferred size\n",
        "                resized_arr = cv2.resize(img_arr, (img_size, img_size)) \n",
        "\n",
        "                #CLAHE function call\n",
        "                CLAHE_img = CLAHE(resized_arr)\n",
        "\n",
        "                #Grayscale Conversion\n",
        "                gray_img = cv2.cvtColor(CLAHE_img, cv2.COLOR_BGR2GRAY)\n",
        "\n",
        "                #SIFT function call\n",
        "                SIFT_img_desc = SIFT(gray_img, min_key)\n",
        "                \n",
        "                data.append([SIFT_img_desc, class_num])\n",
        "            except Exception as err:\n",
        "                print(\"Error:\\n\",err)\n",
        "    \n",
        "    random.shuffle(data)\n",
        "    return np.array(data)"
      ],
      "execution_count": 9,
      "outputs": []
    },
    {
      "cell_type": "code",
      "metadata": {
        "id": "gr4RAyHY9oed"
      },
      "source": [
        "def dataset_creation_train_stat(labels, train):\n",
        "    \"\"\"Plot initial data graph\"\"\"\n",
        "    list_graph = []\n",
        "    for i in train:\n",
        "        list_graph.append(labels[i[1]])\n",
        "    \n",
        "    sns.set_style('darkgrid')\n",
        "    plt.figure(figsize=(25, 25))    \n",
        "    sns.countplot(list_graph)\n",
        "    plt.title(\"Train set\")\n",
        "    plt.show()\n",
        "\n",
        "\n",
        "def dataset_creation_test_stat(labels, test):\n",
        "    \"\"\"Plot initial data graph\"\"\"\n",
        "    list_graph = []\n",
        "    for i in test:\n",
        "        list_graph.append(labels[i[1]])\n",
        "    \n",
        "    sns.set_style('darkgrid')\n",
        "    plt.figure(figsize=(25, 25))\n",
        "    sns.countplot(list_graph)\n",
        "    plt.title(\"Test set\")\n",
        "    plt.show()"
      ],
      "execution_count": 10,
      "outputs": []
    },
    {
      "cell_type": "code",
      "metadata": {
        "id": "mCiE7s_E9072"
      },
      "source": [
        "def train_test_data_split(train, test):\n",
        "    \"\"\"train and test\"\"\"\n",
        "    x_train = []\n",
        "    y_train = []\n",
        "    x_test = []\n",
        "    y_test = []\n",
        "\n",
        "    for feature, label in train:\n",
        "        x_train.append(feature.flatten())\n",
        "        y_train.append(label)\n",
        "\n",
        "    for feature, label in test:\n",
        "        x_test.append(feature.flatten())\n",
        "        y_test.append(label)\n",
        "\n",
        "    return (np.array(x_train), np.array(y_train), np.array(x_test), np.array(y_test))"
      ],
      "execution_count": 11,
      "outputs": []
    },
    {
      "cell_type": "code",
      "metadata": {
        "id": "RgLvHqvB98Dd"
      },
      "source": [
        "def build_model_svm(x_train, y_train):\n",
        "    \"\"\"Builds SVM model\"\"\"\n",
        "    model = SVC(kernel='rbf') \n",
        "    model.fit(x_train, y_train)\n",
        "    \n",
        "    return model"
      ],
      "execution_count": 12,
      "outputs": []
    },
    {
      "cell_type": "code",
      "metadata": {
        "id": "lTTbnTYd-Ipb"
      },
      "source": [
        "def acc_results(model, labels, x_test, y_test):\n",
        "    \"\"\"Prediction and test accuracy\"\"\"\n",
        "    predictions = model.predict(x_test)\n",
        "    print(classification_report(y_test, predictions, target_names = labels))\n",
        "    accuracy = accuracy_score(y_test, predictions)*100 \n",
        "    print(\"\\nAccuracy = \"+str(accuracy)+\"%\")"
      ],
      "execution_count": 13,
      "outputs": []
    },
    {
      "cell_type": "markdown",
      "metadata": {
        "id": "M1PFZZFw-S_P"
      },
      "source": [
        "#### **Making Function calls and defining variables**"
      ]
    },
    {
      "cell_type": "code",
      "metadata": {
        "colab": {
          "base_uri": "https://localhost:8080/"
        },
        "id": "OgZinHaw-Mq7",
        "outputId": "f4b9be12-66fe-47ec-8f25-8b0057352eb4"
      },
      "source": [
        "#Extracting Dataset\n",
        "extract_zip(\"drive/MyDrive/Dataset_test_1.zip\")\n",
        "\n",
        "#Device and environment Info\n",
        "python_ver()\n",
        "device_info()\n",
        "platform_info()"
      ],
      "execution_count": 14,
      "outputs": [
        {
          "output_type": "stream",
          "name": "stdout",
          "text": [
            "Dataset Extracted\n",
            "\n",
            "Python version:\n",
            "\n",
            "3.7.12 (default, Sep 10 2021, 00:21:48) \n",
            "[GCC 7.5.0]\n",
            "\n",
            "Device Info:\n",
            "\n",
            "[name: \"/device:CPU:0\"\n",
            "device_type: \"CPU\"\n",
            "memory_limit: 268435456\n",
            "locality {\n",
            "}\n",
            "incarnation: 3760150124312300476\n",
            "xla_global_id: -1\n",
            ", name: \"/device:GPU:0\"\n",
            "device_type: \"GPU\"\n",
            "memory_limit: 11320098816\n",
            "locality {\n",
            "  bus_id: 1\n",
            "  links {\n",
            "  }\n",
            "}\n",
            "incarnation: 9347643303398553445\n",
            "physical_device_desc: \"device: 0, name: Tesla K80, pci bus id: 0000:00:04.0, compute capability: 3.7\"\n",
            "xla_global_id: 416903419\n",
            "]\n",
            "\n",
            "Platform Info:\n",
            "\n",
            "Linux-5.4.104+-x86_64-with-Ubuntu-18.04-bionic\n",
            "x86_64\n"
          ]
        }
      ]
    },
    {
      "cell_type": "code",
      "metadata": {
        "id": "Bl01clC0-XOZ"
      },
      "source": [
        "#Variables\n",
        "dirs = [\"Dataset_test_1/Train\", \"Dataset_test_1/Test\"]\n",
        "labels = ['Buddha', 'Garuda', 'Goddess_Durga', 'Goddess_Lakshmi', 'Goddess_Saraswathi', 'Lord_Ganesh', \n",
        "        'Lord_Hanuman', 'Lord_Hayagriva', 'Lord_Indra', 'Lord_Krishna', 'Lord_Muruga', 'Nandi', 'Nataraj', \n",
        "        'Shirdi_Sai_Baba', 'Shivling']\n",
        "img_size = 224"
      ],
      "execution_count": 15,
      "outputs": []
    },
    {
      "cell_type": "code",
      "metadata": {
        "colab": {
          "base_uri": "https://localhost:8080/"
        },
        "id": "ngdQO8_D-kzS",
        "outputId": "723261bb-b39e-4e55-d7a0-da692c0c3129"
      },
      "source": [
        "#Min keypoints detection\n",
        "min_key = SIFT_test(dirs, labels, img_size)\n",
        "\n",
        "#Train and Test data loading\n",
        "train = dataset_creation(\"Dataset_test_1/Train\", labels, img_size, min_key)\n",
        "test = dataset_creation(\"Dataset_test_1/Test\", labels, img_size, min_key)"
      ],
      "execution_count": 16,
      "outputs": [
        {
          "output_type": "stream",
          "name": "stderr",
          "text": [
            "/usr/local/lib/python3.7/dist-packages/ipykernel_launcher.py:29: VisibleDeprecationWarning: Creating an ndarray from ragged nested sequences (which is a list-or-tuple of lists-or-tuples-or ndarrays with different lengths or shapes) is deprecated. If you meant to do this, you must specify 'dtype=object' when creating the ndarray\n"
          ]
        }
      ]
    },
    {
      "cell_type": "code",
      "metadata": {
        "colab": {
          "base_uri": "https://localhost:8080/",
          "height": 1000
        },
        "id": "ci_GDz0G-ngO",
        "outputId": "c8c5190c-c6b6-47a0-996f-efe988938ad7"
      },
      "source": [
        "#Stats\n",
        "dataset_creation_train_stat(labels, train)\n",
        "dataset_creation_test_stat(labels, test)"
      ],
      "execution_count": 17,
      "outputs": [
        {
          "output_type": "stream",
          "name": "stderr",
          "text": [
            "/usr/local/lib/python3.7/dist-packages/seaborn/_decorators.py:43: FutureWarning: Pass the following variable as a keyword arg: x. From version 0.12, the only valid positional argument will be `data`, and passing other arguments without an explicit keyword will result in an error or misinterpretation.\n",
            "  FutureWarning\n"
          ]
        },
        {
          "output_type": "display_data",
          "data": {
            "image/png": "[encoded data removed]",
            "text/plain": [
              "<Figure size 1800x1800 with 1 Axes>"
            ]
          },
          "metadata": {}
        },
        {
          "output_type": "stream",
          "name": "stderr",
          "text": [
            "/usr/local/lib/python3.7/dist-packages/seaborn/_decorators.py:43: FutureWarning: Pass the following variable as a keyword arg: x. From version 0.12, the only valid positional argument will be `data`, and passing other arguments without an explicit keyword will result in an error or misinterpretation.\n",
            "  FutureWarning\n"
          ]
        },
        {
          "output_type": "display_data",
          "data": {
            "image/png": "[encoded data removed]",
            "text/plain": [
              "<Figure size 1800x1800 with 1 Axes>"
            ]
          },
          "metadata": {}
        }
      ]
    },
    {
      "cell_type": "code",
      "metadata": {
        "id": "4JOI1Up6-tGQ"
      },
      "source": [
        "#Training and testing data\n",
        "x_train, y_train, x_test, y_test = train_test_data_split(train, test)"
      ],
      "execution_count": 18,
      "outputs": []
    },
    {
      "cell_type": "code",
      "metadata": {
        "id": "08fhlmqh-z4O"
      },
      "source": [
        "#Building SVM Model\n",
        "model = build_model_svm(x_train, y_train)"
      ],
      "execution_count": 19,
      "outputs": []
    },
    {
      "cell_type": "code",
      "metadata": {
        "id": "0p3SeQvtXi77",
        "colab": {
          "base_uri": "https://localhost:8080/"
        },
        "outputId": "002a1db8-d792-4519-b976-521745d17cf3"
      },
      "source": [
        "#Results\n",
        "acc_results(model, labels, x_test, y_test)"
      ],
      "execution_count": 20,
      "outputs": [
        {
          "output_type": "stream",
          "name": "stdout",
          "text": [
            "                    precision    recall  f1-score   support\n",
            "\n",
            "            Buddha       0.14      0.25      0.18        20\n",
            "            Garuda       0.58      0.55      0.56        20\n",
            "     Goddess_Durga       0.15      0.15      0.15        20\n",
            "   Goddess_Lakshmi       0.12      0.10      0.11        20\n",
            "Goddess_Saraswathi       0.11      0.05      0.07        20\n",
            "       Lord_Ganesh       0.08      0.05      0.06        20\n",
            "      Lord_Hanuman       0.29      0.10      0.15        20\n",
            "    Lord_Hayagriva       0.21      0.20      0.21        20\n",
            "        Lord_Indra       0.46      0.95      0.62        20\n",
            "      Lord_Krishna       0.07      0.05      0.06        20\n",
            "       Lord_Muruga       0.15      0.20      0.17        20\n",
            "             Nandi       0.00      0.00      0.00        20\n",
            "           Nataraj       0.43      0.50      0.47        20\n",
            "   Shirdi_Sai_Baba       0.22      0.40      0.29        20\n",
            "          Shivling       0.38      0.30      0.33        20\n",
            "\n",
            "          accuracy                           0.26       300\n",
            "         macro avg       0.23      0.26      0.23       300\n",
            "      weighted avg       0.23      0.26      0.23       300\n",
            "\n",
            "\n",
            "Accuracy = 25.666666666666664%\n"
          ]
        }
      ]
    },
    {
      "cell_type": "markdown",
      "metadata": {
        "id": "lYyGyFyM_FAo"
      },
      "source": [
        "#### **Result: By using CLAHE before classifying using SIFT plus SVM, we were able to get an accuracy of 25.67% (approx) only.**"
      ]
    }
  ]
}