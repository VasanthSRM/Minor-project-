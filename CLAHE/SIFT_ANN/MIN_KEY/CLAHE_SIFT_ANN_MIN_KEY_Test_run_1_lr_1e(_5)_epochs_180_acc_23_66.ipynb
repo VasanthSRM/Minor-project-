{
  "cells": [
    {
      "cell_type": "markdown",
      "metadata": {
        "id": "xkfpI5lL8ofl"
      },
      "source": [
        "## **CLAHE + SIFT + ANN (Min_Keypoints approach)**\n",
        "#### **lr=1*10^(-5), epochs=180, Accuracy = 23.66% (approx)**\n",
        "#### **Test run - 1**"
      ]
    },
    {
      "cell_type": "markdown",
      "metadata": {
        "id": "5AVHk6bP8110"
      },
      "source": [
        "#### **Aim: To find the accuracy of the model for the given learning rate and epoch value.**"
      ]
    },
    {
      "cell_type": "markdown",
      "metadata": {
        "id": "xaufx6N9PNMd"
      },
      "source": [
        "#### **For mounting drive**"
      ]
    },
    {
      "cell_type": "code",
      "execution_count": 1,
      "metadata": {
        "colab": {
          "base_uri": "https://localhost:8080/"
        },
        "id": "LoT75uFsDMt3",
        "outputId": "72ca8518-f510-429e-d65d-1880761d4b37"
      },
      "outputs": [
        {
          "name": "stdout",
          "output_type": "stream",
          "text": [
            "Mounted at /content/drive\n"
          ]
        }
      ],
      "source": [
        "#For mounting GDrive\n",
        "from google.colab import drive\n",
        "drive.mount('/content/drive')"
      ]
    },
    {
      "cell_type": "markdown",
      "metadata": {
        "id": "hsXW3CzQ9KWG"
      },
      "source": [
        "#### **Required modules**"
      ]
    },
    {
      "cell_type": "code",
      "execution_count": 2,
      "metadata": {
        "colab": {
          "base_uri": "https://localhost:8080/"
        },
        "id": "K08YLlNJhfSU",
        "outputId": "2beb2baa-a796-4b0b-e5b6-cb86538c2329"
      },
      "outputs": [
        {
          "name": "stdout",
          "output_type": "stream",
          "text": [
            "Found existing installation: opencv-python 4.1.2.30\n",
            "Uninstalling opencv-python-4.1.2.30:\n",
            "  Would remove:\n",
            "    /usr/local/lib/python3.7/dist-packages/cv2/*\n",
            "    /usr/local/lib/python3.7/dist-packages/opencv_python-4.1.2.30.dist-info/*\n",
            "Proceed (y/n)? y\n",
            "  Successfully uninstalled opencv-python-4.1.2.30\n",
            "Collecting opencv-python\n",
            "  Downloading opencv_python-4.5.4.60-cp37-cp37m-manylinux_2_17_x86_64.manylinux2014_x86_64.whl (60.3 MB)\n",
            "\u001b[K     |████████████████████████████████| 60.3 MB 1.3 MB/s \n",
            "\u001b[?25hRequirement already satisfied: numpy>=1.14.5 in /usr/local/lib/python3.7/dist-packages (from opencv-python) (1.19.5)\n",
            "Installing collected packages: opencv-python\n",
            "\u001b[31mERROR: pip's dependency resolver does not currently take into account all the packages that are installed. This behaviour is the source of the following dependency conflicts.\n",
            "albumentations 0.1.12 requires imgaug<0.2.7,>=0.2.5, but you have imgaug 0.2.9 which is incompatible.\u001b[0m\n",
            "Successfully installed opencv-python-4.5.4.60\n"
          ]
        }
      ],
      "source": [
        "#Req. opencv 4.5+\n",
        "!pip uninstall opencv-python\n",
        "!pip install opencv-python"
      ]
    },
    {
      "cell_type": "code",
      "execution_count": 3,
      "metadata": {
        "id": "__cYeeQF8IEn"
      },
      "outputs": [],
      "source": [
        "#Importing necessary libraries\n",
        "from zipfile import ZipFile\n",
        "from tensorflow.python.client import device_lib\n",
        "import platform\n",
        "import matplotlib.pyplot as plt\n",
        "import seaborn as sns\n",
        "from tensorflow.keras.models import Sequential\n",
        "from tensorflow.keras.layers import Dense, Flatten, Dropout\n",
        "from tensorflow.keras.optimizers import Adam\n",
        "from sklearn.metrics import classification_report, accuracy_score\n",
        "import tensorflow as tf\n",
        "import cv2\n",
        "import os\n",
        "import sys\n",
        "import numpy as np\n",
        "import random"
      ]
    },
    {
      "cell_type": "markdown",
      "metadata": {
        "id": "lAtfR4ri9T-G"
      },
      "source": [
        "#### **Functions definition**"
      ]
    },
    {
      "cell_type": "code",
      "execution_count": 4,
      "metadata": {
        "id": "4TAGvB5o8ns-"
      },
      "outputs": [],
      "source": [
        "def extract_zip(file_name = \"drive/MyDrive/Dataset_test_1.zip\"):\n",
        "    with ZipFile(file_name, \"r\") as zip:\n",
        "        zip.extractall()\n",
        "        print(\"Dataset Extracted\")"
      ]
    },
    {
      "cell_type": "code",
      "execution_count": 5,
      "metadata": {
        "id": "JwTPw__89fBU"
      },
      "outputs": [],
      "source": [
        "def python_ver():\n",
        "    print(\"\\nPython version:\\n\")\n",
        "    print(sys.version)\n",
        "\n",
        "def device_info():\n",
        "    print(\"\\nDevice Info:\\n\")\n",
        "    print(device_lib.list_local_devices())\n",
        "\n",
        "def platform_info():\n",
        "    print(\"\\nPlatform Info:\\n\")\n",
        "    print(platform.platform())\n",
        "    print(platform.processor())"
      ]
    },
    {
      "cell_type": "code",
      "execution_count": 6,
      "metadata": {
        "id": "QtlFrxEVYIno"
      },
      "outputs": [],
      "source": [
        "def SIFT_test(dirs, labels, img_size):\n",
        "    \"\"\"Scale Invariant Feature Transform Test run for finding the minimum keypoints detected among all the images in the dataset\"\"\"\n",
        "    \n",
        "    min_key = np.inf\n",
        "    \n",
        "    for data_dir in dirs:\n",
        "        for label in labels:\n",
        "            path = os.path.join(data_dir, label)\n",
        "            for img in os.listdir(path):\n",
        "                #Reading the image in grayscale mode\n",
        "                img_arr = cv2.imread(os.path.join(path, img))\n",
        "                   \n",
        "                #Reshaping images to preferred size\n",
        "                resized_arr = cv2.resize(img_arr, (img_size, img_size))\n",
        "\n",
        "                #CLAHE function call\n",
        "                CLAHE_img = CLAHE(resized_arr)\n",
        "\n",
        "                #Grayscale Conversion\n",
        "                gray_img = cv2.cvtColor(CLAHE_img, cv2.COLOR_BGR2GRAY) \n",
        "\n",
        "                #detecting keypoints\n",
        "                sift = cv2.SIFT_create()\n",
        "                keypoints = sift.detect(gray_img, None)\n",
        "\n",
        "                if (len(keypoints) < min_key):\n",
        "                    min_key = len(keypoints)\n",
        "                \n",
        "    return min_key"
      ]
    },
    {
      "cell_type": "code",
      "execution_count": 7,
      "metadata": {
        "id": "Hys3tY7CVXij"
      },
      "outputs": [],
      "source": [
        "def CLAHE(image):\n",
        "    \"\"\"Contrast limited AHE\"\"\"\n",
        "    #Convert BGR image to LAB\n",
        "    lab_img= cv2.cvtColor(image, cv2.COLOR_BGR2LAB)\n",
        "\n",
        "    #Splitting the LAB image to L, A and B channels, respectively\n",
        "    l, a, b = cv2.split(lab_img)\n",
        "\n",
        "    clahe = cv2.createCLAHE(clipLimit=3.0, tileGridSize=(8,8))\n",
        "    clahe_img = clahe.apply(l)\n",
        "\n",
        "    #Combine the CLAHE enhanced L-channel back with A and B channels\n",
        "    updated_lab_img2 = cv2.merge((clahe_img,a,b))\n",
        "\n",
        "    #Convert LAB image back to color (BGR)\n",
        "    CLAHE_img = cv2.cvtColor(updated_lab_img2, cv2.COLOR_LAB2BGR)\n",
        "\n",
        "    return CLAHE_img"
      ]
    },
    {
      "cell_type": "code",
      "execution_count": 8,
      "metadata": {
        "id": "j9IR6y7nYJ5a"
      },
      "outputs": [],
      "source": [
        "def SIFT(image, min_key):\n",
        "    \"\"\"Scale Invariant Feature Transform for finding keypoints and computing descriptors\"\"\"\n",
        "    \n",
        "    sift = cv2.SIFT_create(min_key)\n",
        "    keypoints, descriptors = sift.detectAndCompute(image, None)\n",
        "\n",
        "    return np.array(descriptors, dtype=\"i\")[:min_key]"
      ]
    },
    {
      "cell_type": "code",
      "execution_count": 9,
      "metadata": {
        "id": "GSQlfqEA9jN7"
      },
      "outputs": [],
      "source": [
        "def dataset_creation(data_dir, labels, img_size, min_key):\n",
        "    \"\"\"Loading data and shuffling\"\"\"\n",
        "    data = [] \n",
        "\n",
        "    for class_num, label in enumerate(labels): \n",
        "        path = os.path.join(data_dir, label)\n",
        "        for img in os.listdir(path):\n",
        "            try:\n",
        "                #Reading the image in grayscale mode\n",
        "                img_arr = cv2.imread(os.path.join(path, img))\n",
        "                \n",
        "                #Reshaping images to preferred size\n",
        "                resized_arr = cv2.resize(img_arr, (img_size, img_size)) \n",
        "\n",
        "                #CLAHE function call\n",
        "                CLAHE_img = CLAHE(resized_arr)\n",
        "\n",
        "                #Grayscale Conversion\n",
        "                gray_img = cv2.cvtColor(CLAHE_img, cv2.COLOR_BGR2GRAY)\n",
        "\n",
        "                #SIFT function call\n",
        "                SIFT_img_desc = SIFT(gray_img, min_key)\n",
        "                \n",
        "                data.append([SIFT_img_desc, class_num])\n",
        "            except Exception as err:\n",
        "                print(\"Error:\\n\",err)\n",
        "    \n",
        "    random.shuffle(data)\n",
        "    return np.array(data)"
      ]
    },
    {
      "cell_type": "code",
      "execution_count": 10,
      "metadata": {
        "id": "gr4RAyHY9oed"
      },
      "outputs": [],
      "source": [
        "def dataset_creation_train_stat(labels, train):\n",
        "    \"\"\"Plot initial data graph\"\"\"\n",
        "    list_graph = []\n",
        "    for i in train:\n",
        "        list_graph.append(labels[i[1]])\n",
        "    \n",
        "    sns.set_style('darkgrid')\n",
        "    plt.figure(figsize=(25, 25))    \n",
        "    sns.countplot(list_graph)\n",
        "    plt.title(\"Train set\")\n",
        "    plt.show()\n",
        "\n",
        "\n",
        "def dataset_creation_test_stat(labels, test):\n",
        "    \"\"\"Plot initial data graph\"\"\"\n",
        "    list_graph = []\n",
        "    for i in test:\n",
        "        list_graph.append(labels[i[1]])\n",
        "    \n",
        "    sns.set_style('darkgrid')\n",
        "    plt.figure(figsize=(25, 25))\n",
        "    sns.countplot(list_graph)\n",
        "    plt.title(\"Test set\")\n",
        "    plt.show()"
      ]
    },
    {
      "cell_type": "code",
      "execution_count": 11,
      "metadata": {
        "id": "mCiE7s_E9072"
      },
      "outputs": [],
      "source": [
        "def train_test_data_split(train, test):\n",
        "    \"\"\"train and test\"\"\"\n",
        "    x_train = []\n",
        "    y_train = []\n",
        "    x_test = []\n",
        "    y_test = []\n",
        "\n",
        "    for feature, label in train:\n",
        "        x_train.append(feature)\n",
        "        y_train.append(label)\n",
        "\n",
        "    for feature, label in test:\n",
        "        x_test.append(feature)\n",
        "        y_test.append(label)\n",
        "\n",
        "    return (np.array(x_train), np.array(y_train), np.array(x_test), np.array(y_test))"
      ]
    },
    {
      "cell_type": "code",
      "execution_count": 12,
      "metadata": {
        "id": "SizxlEkV94hy"
      },
      "outputs": [],
      "source": [
        "def normalize_array_conv_data(x_train, y_train, x_test, y_test):\n",
        "    \"\"\"Normalize and array conversion\"\"\"\n",
        "    x_train = np.array(x_train) / 255\n",
        "    x_test = np.array(x_test) / 255\n",
        "\n",
        "    y_train = np.array(y_train)\n",
        "    y_test = np.array(y_test)\n",
        "\n",
        "    return (x_train, y_train, x_test, y_test)"
      ]
    },
    {
      "cell_type": "code",
      "execution_count": 13,
      "metadata": {
        "id": "RgLvHqvB98Dd"
      },
      "outputs": [],
      "source": [
        "def build_model_ann(tot_classes, x_train):\n",
        "    \"\"\"Builds ANN model and prints model summary\"\"\"\n",
        "    model = Sequential()\n",
        "    \n",
        "    model.add(Flatten(input_shape=x_train.shape[1:]))\n",
        "    model.add(Dense(3000,activation=\"relu\"))\n",
        "    model.add(Dropout(0.5))\n",
        "    model.add(Dense(1000,activation=\"relu\"))\n",
        "    model.add(Dropout(0.5))\n",
        "    model.add(Dense(tot_classes, activation=\"softmax\"))\n",
        "\n",
        "    model.summary()\n",
        "    return model"
      ]
    },
    {
      "cell_type": "code",
      "execution_count": 14,
      "metadata": {
        "id": "9nEf4toB-BzT"
      },
      "outputs": [],
      "source": [
        "def compile_and_fit(model, x_train, y_train, x_test, y_test, iterations, l_rate):\n",
        "    \"\"\"Compiles and fits the model\"\"\"\n",
        "    opt = Adam(learning_rate=l_rate)\n",
        "    model.compile(optimizer = opt, loss = \"sparse_categorical_crossentropy\", metrics = ['accuracy'])\n",
        "    history = model.fit(x_train, y_train, epochs = iterations, validation_data = (x_test, y_test))\n",
        "\n",
        "    return (history, model)"
      ]
    },
    {
      "cell_type": "code",
      "execution_count": 15,
      "metadata": {
        "id": "BpybfYak-FKt"
      },
      "outputs": [],
      "source": [
        "def acc_plots(history, iterations):\n",
        "    \"\"\"Requires history and number of iterations\"\"\"\n",
        "    acc = history.history['accuracy']\n",
        "    val_acc = history.history['val_accuracy']\n",
        "    loss = history.history['loss']\n",
        "    val_loss = history.history['val_loss']\n",
        "\n",
        "    epochs_range = range(iterations)\n",
        "\n",
        "    plt.figure(figsize=(15, 15))\n",
        "    plt.subplot(2, 2, 1)\n",
        "    plt.plot(epochs_range, acc, label='Training Accuracy')\n",
        "    plt.plot(epochs_range, val_acc, label='Validation Accuracy')\n",
        "    plt.legend(loc='lower right')\n",
        "    plt.title('Training and Validation Accuracy')\n",
        "\n",
        "    plt.subplot(2, 2, 2)\n",
        "    plt.plot(epochs_range, loss, label='Training Loss')\n",
        "    plt.plot(epochs_range, val_loss, label='Validation Loss')\n",
        "    plt.legend(loc='upper right')\n",
        "    plt.title('Training and Validation Loss')\n",
        "    plt.show()"
      ]
    },
    {
      "cell_type": "code",
      "execution_count": 16,
      "metadata": {
        "id": "lTTbnTYd-Ipb"
      },
      "outputs": [],
      "source": [
        "def acc_results(model, labels, x_test, y_test):\n",
        "    \"\"\"Prediction and test accuracy\"\"\"\n",
        "    predictions = np.argmax(model.predict(x_test), axis=-1)\n",
        "    print(classification_report(y_test, predictions, target_names = labels))\n",
        "    print(\"\\nAccuracy = \"+str(accuracy_score(y_test, predictions)*100)+\"%\")"
      ]
    },
    {
      "cell_type": "markdown",
      "metadata": {
        "id": "M1PFZZFw-S_P"
      },
      "source": [
        "#### **Making Function calls and defining variables**"
      ]
    },
    {
      "cell_type": "code",
      "execution_count": 17,
      "metadata": {
        "colab": {
          "base_uri": "https://localhost:8080/"
        },
        "id": "OgZinHaw-Mq7",
        "outputId": "8629ecd8-42f1-4b19-f408-cbaddf5ff8ca"
      },
      "outputs": [
        {
          "name": "stdout",
          "output_type": "stream",
          "text": [
            "Dataset Extracted\n",
            "\n",
            "Python version:\n",
            "\n",
            "3.7.12 (default, Sep 10 2021, 00:21:48) \n",
            "[GCC 7.5.0]\n",
            "\n",
            "Device Info:\n",
            "\n",
            "[name: \"/device:CPU:0\"\n",
            "device_type: \"CPU\"\n",
            "memory_limit: 268435456\n",
            "locality {\n",
            "}\n",
            "incarnation: 6702514357516495819\n",
            "xla_global_id: -1\n",
            ", name: \"/device:GPU:0\"\n",
            "device_type: \"GPU\"\n",
            "memory_limit: 11320098816\n",
            "locality {\n",
            "  bus_id: 1\n",
            "  links {\n",
            "  }\n",
            "}\n",
            "incarnation: 6154912444385003063\n",
            "physical_device_desc: \"device: 0, name: Tesla K80, pci bus id: 0000:00:04.0, compute capability: 3.7\"\n",
            "xla_global_id: 416903419\n",
            "]\n",
            "\n",
            "Platform Info:\n",
            "\n",
            "Linux-5.4.104+-x86_64-with-Ubuntu-18.04-bionic\n",
            "x86_64\n"
          ]
        }
      ],
      "source": [
        "#Extracting Dataset\n",
        "extract_zip(\"drive/MyDrive/Dataset_test_1.zip\")\n",
        "\n",
        "#Device and environment Info\n",
        "python_ver()\n",
        "device_info()\n",
        "platform_info()"
      ]
    },
    {
      "cell_type": "code",
      "execution_count": 18,
      "metadata": {
        "id": "Bl01clC0-XOZ"
      },
      "outputs": [],
      "source": [
        "#Variables\n",
        "dirs = [\"Dataset_test_1/Train\", \"Dataset_test_1/Test\"]\n",
        "labels = ['Buddha', 'Garuda', 'Goddess_Durga', 'Goddess_Lakshmi', 'Goddess_Saraswathi', 'Lord_Ganesh', \n",
        "        'Lord_Hanuman', 'Lord_Hayagriva', 'Lord_Indra', 'Lord_Krishna', 'Lord_Muruga', 'Nandi', 'Nataraj', \n",
        "        'Shirdi_Sai_Baba', 'Shivling']\n",
        "img_size = 224\n",
        "tot_classes = len(labels)\n",
        "num_sample_img = 3\n",
        "iterations = 180\n",
        "l_rate = 0.00001"
      ]
    },
    {
      "cell_type": "code",
      "execution_count": 19,
      "metadata": {
        "colab": {
          "base_uri": "https://localhost:8080/"
        },
        "id": "ngdQO8_D-kzS",
        "outputId": "e4d65577-3863-4529-89e0-ebc60c967703"
      },
      "outputs": [
        {
          "name": "stderr",
          "output_type": "stream",
          "text": [
            "/usr/local/lib/python3.7/dist-packages/ipykernel_launcher.py:29: VisibleDeprecationWarning: Creating an ndarray from ragged nested sequences (which is a list-or-tuple of lists-or-tuples-or ndarrays with different lengths or shapes) is deprecated. If you meant to do this, you must specify 'dtype=object' when creating the ndarray\n"
          ]
        }
      ],
      "source": [
        "#Min keypoints detection\n",
        "min_key = SIFT_test(dirs, labels, img_size)\n",
        "\n",
        "#Train and Test data loading\n",
        "train = dataset_creation(\"Dataset_test_1/Train\", labels, img_size, min_key)\n",
        "test = dataset_creation(\"Dataset_test_1/Test\", labels, img_size, min_key)"
      ]
    },
    {
      "cell_type": "code",
      "execution_count": 20,
      "metadata": {
        "colab": {
          "base_uri": "https://localhost:8080/",
          "height": 1000
        },
        "id": "ci_GDz0G-ngO",
        "outputId": "f339a19f-3b98-4aea-e8d7-70d67aff863a"
      },
      "outputs": [
        {
          "name": "stderr",
          "output_type": "stream",
          "text": [
            "/usr/local/lib/python3.7/dist-packages/seaborn/_decorators.py:43: FutureWarning: Pass the following variable as a keyword arg: x. From version 0.12, the only valid positional argument will be `data`, and passing other arguments without an explicit keyword will result in an error or misinterpretation.\n",
            "  FutureWarning\n"
          ]
        },
        {
          "data": {
            "image/png": "[encoded data removed]",
            "text/plain": [
              "<Figure size 1800x1800 with 1 Axes>"
            ]
          },
          "metadata": {},
          "output_type": "display_data"
        },
        {
          "name": "stderr",
          "output_type": "stream",
          "text": [
            "/usr/local/lib/python3.7/dist-packages/seaborn/_decorators.py:43: FutureWarning: Pass the following variable as a keyword arg: x. From version 0.12, the only valid positional argument will be `data`, and passing other arguments without an explicit keyword will result in an error or misinterpretation.\n",
            "  FutureWarning\n"
          ]
        },
        {
          "data": {
            "image/png": "[encoded data removed]",
            "text/plain": [
              "<Figure size 1800x1800 with 1 Axes>"
            ]
          },
          "metadata": {},
          "output_type": "display_data"
        }
      ],
      "source": [
        "#Stats\n",
        "dataset_creation_train_stat(labels, train)\n",
        "dataset_creation_test_stat(labels, test)"
      ]
    },
    {
      "cell_type": "code",
      "execution_count": 21,
      "metadata": {
        "id": "4JOI1Up6-tGQ"
      },
      "outputs": [],
      "source": [
        "#Training and testing data\n",
        "x_train, y_train, x_test, y_test = train_test_data_split(train, test)"
      ]
    },
    {
      "cell_type": "code",
      "execution_count": 22,
      "metadata": {
        "colab": {
          "base_uri": "https://localhost:8080/"
        },
        "id": "08fhlmqh-z4O",
        "outputId": "82d479dc-7efe-404b-a1c5-c1a6b7d52bfa"
      },
      "outputs": [
        {
          "name": "stdout",
          "output_type": "stream",
          "text": [
            "Model: \"sequential\"\n",
            "_________________________________________________________________\n",
            " Layer (type)                Output Shape              Param #   \n",
            "=================================================================\n",
            " flatten (Flatten)           (None, 7040)              0         \n",
            "                                                                 \n",
            " dense (Dense)               (None, 3000)              21123000  \n",
            "                                                                 \n",
            " dropout (Dropout)           (None, 3000)              0         \n",
            "                                                                 \n",
            " dense_1 (Dense)             (None, 1000)              3001000   \n",
            "                                                                 \n",
            " dropout_1 (Dropout)         (None, 1000)              0         \n",
            "                                                                 \n",
            " dense_2 (Dense)             (None, 15)                15015     \n",
            "                                                                 \n",
            "=================================================================\n",
            "Total params: 24,139,015\n",
            "Trainable params: 24,139,015\n",
            "Non-trainable params: 0\n",
            "_________________________________________________________________\n"
          ]
        }
      ],
      "source": [
        "#Building ANN Model\n",
        "model = build_model_ann(tot_classes, x_train)\n"
      ]
    },
    {
      "cell_type": "code",
      "execution_count": 23,
      "metadata": {
        "colab": {
          "base_uri": "https://localhost:8080/"
        },
        "id": "j5NP-yio-5Bl",
        "outputId": "99df2c06-cefb-4689-ba71-46be1db0a9a5"
      },
      "outputs": [
        {
          "name": "stdout",
          "output_type": "stream",
          "text": [
            "Epoch 1/180\n",
            "71/71 [==============================] - 3s 18ms/step - loss: 126.1609 - accuracy: 0.0649 - val_loss: 41.6407 - val_accuracy: 0.0767\n",
            "Epoch 2/180\n",
            "71/71 [==============================] - 1s 14ms/step - loss: 92.5554 - accuracy: 0.0720 - val_loss: 30.8353 - val_accuracy: 0.0867\n",
            "Epoch 3/180\n",
            "71/71 [==============================] - 1s 14ms/step - loss: 72.4995 - accuracy: 0.0902 - val_loss: 25.5409 - val_accuracy: 0.0767\n",
            "Epoch 4/180\n",
            "71/71 [==============================] - 1s 14ms/step - loss: 59.9561 - accuracy: 0.0969 - val_loss: 23.0820 - val_accuracy: 0.0867\n",
            "Epoch 5/180\n",
            "71/71 [==============================] - 1s 14ms/step - loss: 51.0568 - accuracy: 0.0982 - val_loss: 19.0373 - val_accuracy: 0.1000\n",
            "Epoch 6/180\n",
            "71/71 [==============================] - 1s 14ms/step - loss: 45.1521 - accuracy: 0.1044 - val_loss: 16.8954 - val_accuracy: 0.0967\n",
            "Epoch 7/180\n",
            "71/71 [==============================] - 1s 14ms/step - loss: 39.0361 - accuracy: 0.1138 - val_loss: 14.9297 - val_accuracy: 0.1067\n",
            "Epoch 8/180\n",
            "71/71 [==============================] - 1s 14ms/step - loss: 36.1310 - accuracy: 0.1093 - val_loss: 14.0903 - val_accuracy: 0.1067\n",
            "Epoch 9/180\n",
            "71/71 [==============================] - 1s 14ms/step - loss: 32.6340 - accuracy: 0.1253 - val_loss: 13.1738 - val_accuracy: 0.1133\n",
            "Epoch 10/180\n",
            "71/71 [==============================] - 1s 14ms/step - loss: 28.5881 - accuracy: 0.1360 - val_loss: 12.5460 - val_accuracy: 0.1167\n",
            "Epoch 11/180\n",
            "71/71 [==============================] - 1s 15ms/step - loss: 27.2288 - accuracy: 0.1400 - val_loss: 11.6818 - val_accuracy: 0.1300\n",
            "Epoch 12/180\n",
            "71/71 [==============================] - 1s 14ms/step - loss: 24.5811 - accuracy: 0.1520 - val_loss: 11.2140 - val_accuracy: 0.1400\n",
            "Epoch 13/180\n",
            "71/71 [==============================] - 1s 14ms/step - loss: 22.9876 - accuracy: 0.1533 - val_loss: 10.8776 - val_accuracy: 0.1400\n",
            "Epoch 14/180\n",
            "71/71 [==============================] - 1s 14ms/step - loss: 22.0481 - accuracy: 0.1511 - val_loss: 10.2937 - val_accuracy: 0.1300\n",
            "Epoch 15/180\n",
            "71/71 [==============================] - 1s 15ms/step - loss: 20.4913 - accuracy: 0.1791 - val_loss: 9.8553 - val_accuracy: 0.1333\n",
            "Epoch 16/180\n",
            "71/71 [==============================] - 1s 14ms/step - loss: 18.9397 - accuracy: 0.1702 - val_loss: 9.3841 - val_accuracy: 0.1400\n",
            "Epoch 17/180\n",
            "71/71 [==============================] - 1s 14ms/step - loss: 16.8697 - accuracy: 0.2058 - val_loss: 9.2767 - val_accuracy: 0.1667\n",
            "Epoch 18/180\n",
            "71/71 [==============================] - 1s 14ms/step - loss: 15.9515 - accuracy: 0.2160 - val_loss: 9.0218 - val_accuracy: 0.1467\n",
            "Epoch 19/180\n",
            "71/71 [==============================] - 1s 14ms/step - loss: 14.8514 - accuracy: 0.2187 - val_loss: 8.9463 - val_accuracy: 0.1800\n",
            "Epoch 20/180\n",
            "71/71 [==============================] - 1s 15ms/step - loss: 13.5915 - accuracy: 0.2298 - val_loss: 8.5745 - val_accuracy: 0.1833\n",
            "Epoch 21/180\n",
            "71/71 [==============================] - 1s 14ms/step - loss: 13.1457 - accuracy: 0.2333 - val_loss: 8.3740 - val_accuracy: 0.2000\n",
            "Epoch 22/180\n",
            "71/71 [==============================] - 1s 14ms/step - loss: 11.7045 - accuracy: 0.2471 - val_loss: 8.0129 - val_accuracy: 0.2000\n",
            "Epoch 23/180\n",
            "71/71 [==============================] - 1s 14ms/step - loss: 11.4796 - accuracy: 0.2604 - val_loss: 7.7924 - val_accuracy: 0.1967\n",
            "Epoch 24/180\n",
            "71/71 [==============================] - 1s 14ms/step - loss: 10.7765 - accuracy: 0.2604 - val_loss: 7.4289 - val_accuracy: 0.2000\n",
            "Epoch 25/180\n",
            "71/71 [==============================] - 1s 14ms/step - loss: 9.9926 - accuracy: 0.2787 - val_loss: 7.3696 - val_accuracy: 0.1967\n",
            "Epoch 26/180\n",
            "71/71 [==============================] - 1s 14ms/step - loss: 9.2395 - accuracy: 0.2787 - val_loss: 7.0936 - val_accuracy: 0.2133\n",
            "Epoch 27/180\n",
            "71/71 [==============================] - 1s 14ms/step - loss: 8.4502 - accuracy: 0.3013 - val_loss: 7.0476 - val_accuracy: 0.2167\n",
            "Epoch 28/180\n",
            "71/71 [==============================] - 1s 14ms/step - loss: 8.1152 - accuracy: 0.3160 - val_loss: 6.7848 - val_accuracy: 0.2033\n",
            "Epoch 29/180\n",
            "71/71 [==============================] - 1s 14ms/step - loss: 7.7012 - accuracy: 0.3351 - val_loss: 6.5650 - val_accuracy: 0.1833\n",
            "Epoch 30/180\n",
            "71/71 [==============================] - 1s 15ms/step - loss: 7.2358 - accuracy: 0.3369 - val_loss: 6.3959 - val_accuracy: 0.1967\n",
            "Epoch 31/180\n",
            "71/71 [==============================] - 1s 15ms/step - loss: 6.8977 - accuracy: 0.3520 - val_loss: 6.1940 - val_accuracy: 0.2200\n",
            "Epoch 32/180\n",
            "71/71 [==============================] - 1s 15ms/step - loss: 6.6412 - accuracy: 0.3556 - val_loss: 6.1406 - val_accuracy: 0.2033\n",
            "Epoch 33/180\n",
            "71/71 [==============================] - 1s 14ms/step - loss: 6.1792 - accuracy: 0.3733 - val_loss: 6.1086 - val_accuracy: 0.2033\n",
            "Epoch 34/180\n",
            "71/71 [==============================] - 1s 15ms/step - loss: 5.6705 - accuracy: 0.3884 - val_loss: 6.1413 - val_accuracy: 0.1867\n",
            "Epoch 35/180\n",
            "71/71 [==============================] - 1s 15ms/step - loss: 5.5134 - accuracy: 0.3782 - val_loss: 5.9795 - val_accuracy: 0.2233\n",
            "Epoch 36/180\n",
            "71/71 [==============================] - 1s 15ms/step - loss: 5.2494 - accuracy: 0.3938 - val_loss: 5.8472 - val_accuracy: 0.2000\n",
            "Epoch 37/180\n",
            "71/71 [==============================] - 1s 15ms/step - loss: 4.8720 - accuracy: 0.4093 - val_loss: 5.5890 - val_accuracy: 0.2100\n",
            "Epoch 38/180\n",
            "71/71 [==============================] - 1s 14ms/step - loss: 4.5583 - accuracy: 0.4133 - val_loss: 5.5881 - val_accuracy: 0.2000\n",
            "Epoch 39/180\n",
            "71/71 [==============================] - 1s 14ms/step - loss: 4.7521 - accuracy: 0.4058 - val_loss: 5.4857 - val_accuracy: 0.2000\n",
            "Epoch 40/180\n",
            "71/71 [==============================] - 1s 14ms/step - loss: 4.1278 - accuracy: 0.4311 - val_loss: 5.3318 - val_accuracy: 0.2133\n",
            "Epoch 41/180\n",
            "71/71 [==============================] - 1s 14ms/step - loss: 4.0763 - accuracy: 0.4547 - val_loss: 5.3838 - val_accuracy: 0.2133\n",
            "Epoch 42/180\n",
            "71/71 [==============================] - 1s 14ms/step - loss: 3.6361 - accuracy: 0.4729 - val_loss: 5.3352 - val_accuracy: 0.2167\n",
            "Epoch 43/180\n",
            "71/71 [==============================] - 1s 14ms/step - loss: 3.3901 - accuracy: 0.4960 - val_loss: 5.2868 - val_accuracy: 0.2233\n",
            "Epoch 44/180\n",
            "71/71 [==============================] - 1s 15ms/step - loss: 3.3180 - accuracy: 0.4996 - val_loss: 5.3526 - val_accuracy: 0.2167\n",
            "Epoch 45/180\n",
            "71/71 [==============================] - 1s 14ms/step - loss: 3.3226 - accuracy: 0.4960 - val_loss: 5.2659 - val_accuracy: 0.2200\n",
            "Epoch 46/180\n",
            "71/71 [==============================] - 1s 15ms/step - loss: 3.0208 - accuracy: 0.5156 - val_loss: 5.1422 - val_accuracy: 0.2200\n",
            "Epoch 47/180\n",
            "71/71 [==============================] - 1s 14ms/step - loss: 2.7749 - accuracy: 0.5240 - val_loss: 5.0415 - val_accuracy: 0.2200\n",
            "Epoch 48/180\n",
            "71/71 [==============================] - 1s 14ms/step - loss: 2.7428 - accuracy: 0.5347 - val_loss: 4.9849 - val_accuracy: 0.2233\n",
            "Epoch 49/180\n",
            "71/71 [==============================] - 1s 14ms/step - loss: 2.6879 - accuracy: 0.5404 - val_loss: 4.9202 - val_accuracy: 0.2200\n",
            "Epoch 50/180\n",
            "71/71 [==============================] - 1s 14ms/step - loss: 2.5675 - accuracy: 0.5573 - val_loss: 4.8825 - val_accuracy: 0.2167\n",
            "Epoch 51/180\n",
            "71/71 [==============================] - 1s 14ms/step - loss: 2.3481 - accuracy: 0.5569 - val_loss: 4.9807 - val_accuracy: 0.2133\n",
            "Epoch 52/180\n",
            "71/71 [==============================] - 1s 14ms/step - loss: 2.2933 - accuracy: 0.5853 - val_loss: 4.8980 - val_accuracy: 0.2100\n",
            "Epoch 53/180\n",
            "71/71 [==============================] - 1s 14ms/step - loss: 2.4485 - accuracy: 0.5484 - val_loss: 4.7631 - val_accuracy: 0.2067\n",
            "Epoch 54/180\n",
            "71/71 [==============================] - 1s 15ms/step - loss: 2.0046 - accuracy: 0.6009 - val_loss: 4.8551 - val_accuracy: 0.2200\n",
            "Epoch 55/180\n",
            "71/71 [==============================] - 1s 15ms/step - loss: 2.0605 - accuracy: 0.6000 - val_loss: 4.8660 - val_accuracy: 0.2133\n",
            "Epoch 56/180\n",
            "71/71 [==============================] - 1s 14ms/step - loss: 2.0342 - accuracy: 0.6018 - val_loss: 4.8138 - val_accuracy: 0.2300\n",
            "Epoch 57/180\n",
            "71/71 [==============================] - 1s 14ms/step - loss: 1.8939 - accuracy: 0.6169 - val_loss: 4.9243 - val_accuracy: 0.2333\n",
            "Epoch 58/180\n",
            "71/71 [==============================] - 1s 14ms/step - loss: 1.8317 - accuracy: 0.6378 - val_loss: 4.8081 - val_accuracy: 0.2333\n",
            "Epoch 59/180\n",
            "71/71 [==============================] - 1s 14ms/step - loss: 1.7325 - accuracy: 0.6489 - val_loss: 4.8676 - val_accuracy: 0.2133\n",
            "Epoch 60/180\n",
            "71/71 [==============================] - 1s 15ms/step - loss: 1.7883 - accuracy: 0.6258 - val_loss: 4.8567 - val_accuracy: 0.2233\n",
            "Epoch 61/180\n",
            "71/71 [==============================] - 1s 14ms/step - loss: 1.5516 - accuracy: 0.6676 - val_loss: 4.7683 - val_accuracy: 0.2167\n",
            "Epoch 62/180\n",
            "71/71 [==============================] - 1s 14ms/step - loss: 1.6282 - accuracy: 0.6507 - val_loss: 4.6726 - val_accuracy: 0.2233\n",
            "Epoch 63/180\n",
            "71/71 [==============================] - 1s 14ms/step - loss: 1.4993 - accuracy: 0.6800 - val_loss: 4.7068 - val_accuracy: 0.2400\n",
            "Epoch 64/180\n",
            "71/71 [==============================] - 1s 14ms/step - loss: 1.5073 - accuracy: 0.6782 - val_loss: 4.6831 - val_accuracy: 0.2133\n",
            "Epoch 65/180\n",
            "71/71 [==============================] - 1s 14ms/step - loss: 1.4042 - accuracy: 0.7031 - val_loss: 4.7426 - val_accuracy: 0.2100\n",
            "Epoch 66/180\n",
            "71/71 [==============================] - 1s 14ms/step - loss: 1.2753 - accuracy: 0.6987 - val_loss: 4.5954 - val_accuracy: 0.2333\n",
            "Epoch 67/180\n",
            "71/71 [==============================] - 1s 15ms/step - loss: 1.3484 - accuracy: 0.7098 - val_loss: 4.6738 - val_accuracy: 0.2433\n",
            "Epoch 68/180\n",
            "71/71 [==============================] - 1s 14ms/step - loss: 1.2705 - accuracy: 0.7102 - val_loss: 4.7005 - val_accuracy: 0.2200\n",
            "Epoch 69/180\n",
            "71/71 [==============================] - 1s 15ms/step - loss: 1.2839 - accuracy: 0.7076 - val_loss: 4.6368 - val_accuracy: 0.2133\n",
            "Epoch 70/180\n",
            "71/71 [==============================] - 1s 15ms/step - loss: 1.2465 - accuracy: 0.7249 - val_loss: 4.6758 - val_accuracy: 0.2133\n",
            "Epoch 71/180\n",
            "71/71 [==============================] - 1s 15ms/step - loss: 1.1969 - accuracy: 0.7316 - val_loss: 4.7334 - val_accuracy: 0.2100\n",
            "Epoch 72/180\n",
            "71/71 [==============================] - 1s 14ms/step - loss: 1.1107 - accuracy: 0.7391 - val_loss: 4.6508 - val_accuracy: 0.2200\n",
            "Epoch 73/180\n",
            "71/71 [==============================] - 1s 14ms/step - loss: 1.1481 - accuracy: 0.7276 - val_loss: 4.7472 - val_accuracy: 0.2200\n",
            "Epoch 74/180\n",
            "71/71 [==============================] - 1s 15ms/step - loss: 1.0471 - accuracy: 0.7489 - val_loss: 4.7792 - val_accuracy: 0.2100\n",
            "Epoch 75/180\n",
            "71/71 [==============================] - 1s 15ms/step - loss: 1.0482 - accuracy: 0.7529 - val_loss: 4.6999 - val_accuracy: 0.2233\n",
            "Epoch 76/180\n",
            "71/71 [==============================] - 1s 15ms/step - loss: 1.0444 - accuracy: 0.7613 - val_loss: 4.8228 - val_accuracy: 0.2067\n",
            "Epoch 77/180\n",
            "71/71 [==============================] - 1s 14ms/step - loss: 1.0539 - accuracy: 0.7511 - val_loss: 4.7673 - val_accuracy: 0.2100\n",
            "Epoch 78/180\n",
            "71/71 [==============================] - 1s 14ms/step - loss: 0.9302 - accuracy: 0.7636 - val_loss: 4.8274 - val_accuracy: 0.1867\n",
            "Epoch 79/180\n",
            "71/71 [==============================] - 1s 15ms/step - loss: 0.8731 - accuracy: 0.7720 - val_loss: 4.7878 - val_accuracy: 0.2000\n",
            "Epoch 80/180\n",
            "71/71 [==============================] - 1s 15ms/step - loss: 0.9469 - accuracy: 0.7773 - val_loss: 4.7287 - val_accuracy: 0.2033\n",
            "Epoch 81/180\n",
            "71/71 [==============================] - 1s 14ms/step - loss: 0.8338 - accuracy: 0.7836 - val_loss: 4.7050 - val_accuracy: 0.2100\n",
            "Epoch 82/180\n",
            "71/71 [==============================] - 1s 14ms/step - loss: 0.8284 - accuracy: 0.7862 - val_loss: 4.6472 - val_accuracy: 0.2167\n",
            "Epoch 83/180\n",
            "71/71 [==============================] - 1s 15ms/step - loss: 0.8686 - accuracy: 0.7916 - val_loss: 4.5860 - val_accuracy: 0.2133\n",
            "Epoch 84/180\n",
            "71/71 [==============================] - 1s 14ms/step - loss: 0.7907 - accuracy: 0.8036 - val_loss: 4.5922 - val_accuracy: 0.2267\n",
            "Epoch 85/180\n",
            "71/71 [==============================] - 1s 15ms/step - loss: 0.8474 - accuracy: 0.7956 - val_loss: 4.5657 - val_accuracy: 0.2433\n",
            "Epoch 86/180\n",
            "71/71 [==============================] - 1s 15ms/step - loss: 0.7906 - accuracy: 0.8098 - val_loss: 4.6940 - val_accuracy: 0.2267\n",
            "Epoch 87/180\n",
            "71/71 [==============================] - 1s 14ms/step - loss: 0.7372 - accuracy: 0.8147 - val_loss: 4.5904 - val_accuracy: 0.2333\n",
            "Epoch 88/180\n",
            "71/71 [==============================] - 1s 15ms/step - loss: 0.7816 - accuracy: 0.8093 - val_loss: 4.5890 - val_accuracy: 0.2300\n",
            "Epoch 89/180\n",
            "71/71 [==============================] - 1s 14ms/step - loss: 0.7515 - accuracy: 0.8044 - val_loss: 4.5948 - val_accuracy: 0.2500\n",
            "Epoch 90/180\n",
            "71/71 [==============================] - 1s 14ms/step - loss: 0.8228 - accuracy: 0.7996 - val_loss: 4.7311 - val_accuracy: 0.2233\n",
            "Epoch 91/180\n",
            "71/71 [==============================] - 1s 14ms/step - loss: 0.7263 - accuracy: 0.8093 - val_loss: 4.6282 - val_accuracy: 0.2300\n",
            "Epoch 92/180\n",
            "71/71 [==============================] - 1s 15ms/step - loss: 0.6784 - accuracy: 0.8324 - val_loss: 4.6684 - val_accuracy: 0.2267\n",
            "Epoch 93/180\n",
            "71/71 [==============================] - 1s 15ms/step - loss: 0.7400 - accuracy: 0.8209 - val_loss: 4.7385 - val_accuracy: 0.2300\n",
            "Epoch 94/180\n",
            "71/71 [==============================] - 1s 14ms/step - loss: 0.7145 - accuracy: 0.8227 - val_loss: 4.6870 - val_accuracy: 0.2333\n",
            "Epoch 95/180\n",
            "71/71 [==============================] - 1s 15ms/step - loss: 0.6366 - accuracy: 0.8271 - val_loss: 4.6410 - val_accuracy: 0.2300\n",
            "Epoch 96/180\n",
            "71/71 [==============================] - 1s 14ms/step - loss: 0.6460 - accuracy: 0.8302 - val_loss: 4.6560 - val_accuracy: 0.2333\n",
            "Epoch 97/180\n",
            "71/71 [==============================] - 1s 15ms/step - loss: 0.5731 - accuracy: 0.8476 - val_loss: 4.7021 - val_accuracy: 0.2267\n",
            "Epoch 98/180\n",
            "71/71 [==============================] - 1s 15ms/step - loss: 0.5438 - accuracy: 0.8609 - val_loss: 4.7037 - val_accuracy: 0.2200\n",
            "Epoch 99/180\n",
            "71/71 [==============================] - 1s 15ms/step - loss: 0.6223 - accuracy: 0.8418 - val_loss: 4.7440 - val_accuracy: 0.2167\n",
            "Epoch 100/180\n",
            "71/71 [==============================] - 1s 15ms/step - loss: 0.5763 - accuracy: 0.8516 - val_loss: 4.7735 - val_accuracy: 0.2233\n",
            "Epoch 101/180\n",
            "71/71 [==============================] - 1s 14ms/step - loss: 0.5802 - accuracy: 0.8516 - val_loss: 4.7719 - val_accuracy: 0.2033\n",
            "Epoch 102/180\n",
            "71/71 [==============================] - 1s 14ms/step - loss: 0.5681 - accuracy: 0.8662 - val_loss: 4.7597 - val_accuracy: 0.2267\n",
            "Epoch 103/180\n",
            "71/71 [==============================] - 1s 15ms/step - loss: 0.5778 - accuracy: 0.8462 - val_loss: 4.8300 - val_accuracy: 0.2267\n",
            "Epoch 104/180\n",
            "71/71 [==============================] - 1s 15ms/step - loss: 0.5171 - accuracy: 0.8684 - val_loss: 4.7942 - val_accuracy: 0.2067\n",
            "Epoch 105/180\n",
            "71/71 [==============================] - 1s 14ms/step - loss: 0.5704 - accuracy: 0.8618 - val_loss: 4.9543 - val_accuracy: 0.2300\n",
            "Epoch 106/180\n",
            "71/71 [==============================] - 1s 15ms/step - loss: 0.5393 - accuracy: 0.8622 - val_loss: 4.9007 - val_accuracy: 0.2233\n",
            "Epoch 107/180\n",
            "71/71 [==============================] - 1s 15ms/step - loss: 0.5796 - accuracy: 0.8533 - val_loss: 4.9602 - val_accuracy: 0.2100\n",
            "Epoch 108/180\n",
            "71/71 [==============================] - 1s 15ms/step - loss: 0.5581 - accuracy: 0.8591 - val_loss: 4.9594 - val_accuracy: 0.2133\n",
            "Epoch 109/180\n",
            "71/71 [==============================] - 1s 14ms/step - loss: 0.5328 - accuracy: 0.8644 - val_loss: 4.9037 - val_accuracy: 0.2267\n",
            "Epoch 110/180\n",
            "71/71 [==============================] - 1s 14ms/step - loss: 0.5730 - accuracy: 0.8609 - val_loss: 5.0493 - val_accuracy: 0.2367\n",
            "Epoch 111/180\n",
            "71/71 [==============================] - 1s 15ms/step - loss: 0.5703 - accuracy: 0.8693 - val_loss: 5.0805 - val_accuracy: 0.2267\n",
            "Epoch 112/180\n",
            "71/71 [==============================] - 1s 15ms/step - loss: 0.5653 - accuracy: 0.8538 - val_loss: 5.1356 - val_accuracy: 0.2167\n",
            "Epoch 113/180\n",
            "71/71 [==============================] - 1s 15ms/step - loss: 0.4956 - accuracy: 0.8707 - val_loss: 5.0804 - val_accuracy: 0.2300\n",
            "Epoch 114/180\n",
            "71/71 [==============================] - 1s 15ms/step - loss: 0.4919 - accuracy: 0.8760 - val_loss: 5.0219 - val_accuracy: 0.2133\n",
            "Epoch 115/180\n",
            "71/71 [==============================] - 1s 14ms/step - loss: 0.4591 - accuracy: 0.8836 - val_loss: 4.9315 - val_accuracy: 0.2267\n",
            "Epoch 116/180\n",
            "71/71 [==============================] - 1s 14ms/step - loss: 0.4600 - accuracy: 0.8849 - val_loss: 4.8770 - val_accuracy: 0.2433\n",
            "Epoch 117/180\n",
            "71/71 [==============================] - 1s 14ms/step - loss: 0.4433 - accuracy: 0.8898 - val_loss: 4.9144 - val_accuracy: 0.2367\n",
            "Epoch 118/180\n",
            "71/71 [==============================] - 1s 15ms/step - loss: 0.4144 - accuracy: 0.8929 - val_loss: 5.1602 - val_accuracy: 0.2367\n",
            "Epoch 119/180\n",
            "71/71 [==============================] - 1s 15ms/step - loss: 0.4375 - accuracy: 0.8853 - val_loss: 5.1180 - val_accuracy: 0.2300\n",
            "Epoch 120/180\n",
            "71/71 [==============================] - 1s 14ms/step - loss: 0.4242 - accuracy: 0.8956 - val_loss: 5.0775 - val_accuracy: 0.2267\n",
            "Epoch 121/180\n",
            "71/71 [==============================] - 1s 14ms/step - loss: 0.3731 - accuracy: 0.8960 - val_loss: 5.1782 - val_accuracy: 0.2167\n",
            "Epoch 122/180\n",
            "71/71 [==============================] - 1s 14ms/step - loss: 0.4303 - accuracy: 0.8871 - val_loss: 4.9477 - val_accuracy: 0.2200\n",
            "Epoch 123/180\n",
            "71/71 [==============================] - 1s 15ms/step - loss: 0.4123 - accuracy: 0.8893 - val_loss: 5.0120 - val_accuracy: 0.2300\n",
            "Epoch 124/180\n",
            "71/71 [==============================] - 1s 14ms/step - loss: 0.4165 - accuracy: 0.8969 - val_loss: 4.9315 - val_accuracy: 0.2367\n",
            "Epoch 125/180\n",
            "71/71 [==============================] - 1s 15ms/step - loss: 0.4285 - accuracy: 0.8871 - val_loss: 4.9215 - val_accuracy: 0.2333\n",
            "Epoch 126/180\n",
            "71/71 [==============================] - 1s 15ms/step - loss: 0.3628 - accuracy: 0.9022 - val_loss: 4.9432 - val_accuracy: 0.2367\n",
            "Epoch 127/180\n",
            "71/71 [==============================] - 1s 14ms/step - loss: 0.3971 - accuracy: 0.8938 - val_loss: 4.9985 - val_accuracy: 0.2167\n",
            "Epoch 128/180\n",
            "71/71 [==============================] - 1s 15ms/step - loss: 0.3508 - accuracy: 0.9084 - val_loss: 5.1042 - val_accuracy: 0.2033\n",
            "Epoch 129/180\n",
            "71/71 [==============================] - 1s 15ms/step - loss: 0.3784 - accuracy: 0.9000 - val_loss: 5.0397 - val_accuracy: 0.2300\n",
            "Epoch 130/180\n",
            "71/71 [==============================] - 1s 14ms/step - loss: 0.3583 - accuracy: 0.9053 - val_loss: 4.9928 - val_accuracy: 0.2267\n",
            "Epoch 131/180\n",
            "71/71 [==============================] - 1s 15ms/step - loss: 0.3923 - accuracy: 0.8987 - val_loss: 4.9891 - val_accuracy: 0.2533\n",
            "Epoch 132/180\n",
            "71/71 [==============================] - 1s 15ms/step - loss: 0.3102 - accuracy: 0.9244 - val_loss: 5.0239 - val_accuracy: 0.2233\n",
            "Epoch 133/180\n",
            "71/71 [==============================] - 1s 15ms/step - loss: 0.3727 - accuracy: 0.9084 - val_loss: 4.9083 - val_accuracy: 0.2467\n",
            "Epoch 134/180\n",
            "71/71 [==============================] - 1s 14ms/step - loss: 0.3553 - accuracy: 0.9080 - val_loss: 5.0436 - val_accuracy: 0.2233\n",
            "Epoch 135/180\n",
            "71/71 [==============================] - 1s 15ms/step - loss: 0.3781 - accuracy: 0.9044 - val_loss: 5.0837 - val_accuracy: 0.2200\n",
            "Epoch 136/180\n",
            "71/71 [==============================] - 1s 15ms/step - loss: 0.3546 - accuracy: 0.9160 - val_loss: 5.1171 - val_accuracy: 0.2333\n",
            "Epoch 137/180\n",
            "71/71 [==============================] - 1s 14ms/step - loss: 0.2999 - accuracy: 0.9191 - val_loss: 5.1847 - val_accuracy: 0.2200\n",
            "Epoch 138/180\n",
            "71/71 [==============================] - 1s 15ms/step - loss: 0.3220 - accuracy: 0.9178 - val_loss: 5.0011 - val_accuracy: 0.2300\n",
            "Epoch 139/180\n",
            "71/71 [==============================] - 1s 15ms/step - loss: 0.2811 - accuracy: 0.9258 - val_loss: 4.9610 - val_accuracy: 0.2167\n",
            "Epoch 140/180\n",
            "71/71 [==============================] - 1s 15ms/step - loss: 0.3380 - accuracy: 0.9173 - val_loss: 5.4036 - val_accuracy: 0.2167\n",
            "Epoch 141/180\n",
            "71/71 [==============================] - 1s 15ms/step - loss: 0.3111 - accuracy: 0.9089 - val_loss: 5.5367 - val_accuracy: 0.2200\n",
            "Epoch 142/180\n",
            "71/71 [==============================] - 1s 15ms/step - loss: 0.3387 - accuracy: 0.9156 - val_loss: 5.5742 - val_accuracy: 0.2200\n",
            "Epoch 143/180\n",
            "71/71 [==============================] - 1s 15ms/step - loss: 0.3751 - accuracy: 0.9093 - val_loss: 5.4208 - val_accuracy: 0.2400\n",
            "Epoch 144/180\n",
            "71/71 [==============================] - 1s 15ms/step - loss: 0.3063 - accuracy: 0.9191 - val_loss: 5.3711 - val_accuracy: 0.2267\n",
            "Epoch 145/180\n",
            "71/71 [==============================] - 1s 15ms/step - loss: 0.2953 - accuracy: 0.9231 - val_loss: 5.4741 - val_accuracy: 0.2300\n",
            "Epoch 146/180\n",
            "71/71 [==============================] - 1s 15ms/step - loss: 0.3038 - accuracy: 0.9222 - val_loss: 5.4452 - val_accuracy: 0.2133\n",
            "Epoch 147/180\n",
            "71/71 [==============================] - 1s 15ms/step - loss: 0.2662 - accuracy: 0.9338 - val_loss: 5.2904 - val_accuracy: 0.2167\n",
            "Epoch 148/180\n",
            "71/71 [==============================] - 1s 15ms/step - loss: 0.3281 - accuracy: 0.9222 - val_loss: 5.2943 - val_accuracy: 0.2200\n",
            "Epoch 149/180\n",
            "71/71 [==============================] - 1s 15ms/step - loss: 0.2925 - accuracy: 0.9244 - val_loss: 5.2459 - val_accuracy: 0.2267\n",
            "Epoch 150/180\n",
            "71/71 [==============================] - 1s 15ms/step - loss: 0.2750 - accuracy: 0.9293 - val_loss: 5.2910 - val_accuracy: 0.2033\n",
            "Epoch 151/180\n",
            "71/71 [==============================] - 1s 15ms/step - loss: 0.2688 - accuracy: 0.9311 - val_loss: 5.3927 - val_accuracy: 0.2133\n",
            "Epoch 152/180\n",
            "71/71 [==============================] - 1s 15ms/step - loss: 0.2911 - accuracy: 0.9284 - val_loss: 5.3511 - val_accuracy: 0.2067\n",
            "Epoch 153/180\n",
            "71/71 [==============================] - 1s 15ms/step - loss: 0.3444 - accuracy: 0.9200 - val_loss: 5.6049 - val_accuracy: 0.1900\n",
            "Epoch 154/180\n",
            "71/71 [==============================] - 1s 15ms/step - loss: 0.2774 - accuracy: 0.9351 - val_loss: 5.3792 - val_accuracy: 0.2367\n",
            "Epoch 155/180\n",
            "71/71 [==============================] - 1s 15ms/step - loss: 0.3049 - accuracy: 0.9249 - val_loss: 5.4148 - val_accuracy: 0.2133\n",
            "Epoch 156/180\n",
            "71/71 [==============================] - 1s 15ms/step - loss: 0.2712 - accuracy: 0.9196 - val_loss: 5.4326 - val_accuracy: 0.2233\n",
            "Epoch 157/180\n",
            "71/71 [==============================] - 1s 15ms/step - loss: 0.2729 - accuracy: 0.9316 - val_loss: 5.4874 - val_accuracy: 0.2200\n",
            "Epoch 158/180\n",
            "71/71 [==============================] - 1s 15ms/step - loss: 0.2701 - accuracy: 0.9342 - val_loss: 5.2453 - val_accuracy: 0.2300\n",
            "Epoch 159/180\n",
            "71/71 [==============================] - 1s 15ms/step - loss: 0.3000 - accuracy: 0.9271 - val_loss: 5.2988 - val_accuracy: 0.2400\n",
            "Epoch 160/180\n",
            "71/71 [==============================] - 1s 15ms/step - loss: 0.2595 - accuracy: 0.9316 - val_loss: 5.2447 - val_accuracy: 0.2133\n",
            "Epoch 161/180\n",
            "71/71 [==============================] - 1s 15ms/step - loss: 0.3026 - accuracy: 0.9218 - val_loss: 5.4222 - val_accuracy: 0.2300\n",
            "Epoch 162/180\n",
            "71/71 [==============================] - 1s 15ms/step - loss: 0.2272 - accuracy: 0.9444 - val_loss: 5.5289 - val_accuracy: 0.2067\n",
            "Epoch 163/180\n",
            "71/71 [==============================] - 1s 15ms/step - loss: 0.2442 - accuracy: 0.9369 - val_loss: 5.5683 - val_accuracy: 0.2200\n",
            "Epoch 164/180\n",
            "71/71 [==============================] - 1s 15ms/step - loss: 0.3106 - accuracy: 0.9271 - val_loss: 5.5089 - val_accuracy: 0.2133\n",
            "Epoch 165/180\n",
            "71/71 [==============================] - 1s 15ms/step - loss: 0.2437 - accuracy: 0.9378 - val_loss: 5.3948 - val_accuracy: 0.2300\n",
            "Epoch 166/180\n",
            "71/71 [==============================] - 1s 16ms/step - loss: 0.2349 - accuracy: 0.9338 - val_loss: 5.4414 - val_accuracy: 0.2200\n",
            "Epoch 167/180\n",
            "71/71 [==============================] - 1s 16ms/step - loss: 0.2475 - accuracy: 0.9360 - val_loss: 5.3714 - val_accuracy: 0.2200\n",
            "Epoch 168/180\n",
            "71/71 [==============================] - 1s 15ms/step - loss: 0.2657 - accuracy: 0.9338 - val_loss: 5.3630 - val_accuracy: 0.2133\n",
            "Epoch 169/180\n",
            "71/71 [==============================] - 1s 15ms/step - loss: 0.2321 - accuracy: 0.9413 - val_loss: 5.4017 - val_accuracy: 0.2367\n",
            "Epoch 170/180\n",
            "71/71 [==============================] - 1s 15ms/step - loss: 0.2678 - accuracy: 0.9378 - val_loss: 5.5314 - val_accuracy: 0.2367\n",
            "Epoch 171/180\n",
            "71/71 [==============================] - 1s 15ms/step - loss: 0.2563 - accuracy: 0.9369 - val_loss: 5.5902 - val_accuracy: 0.2267\n",
            "Epoch 172/180\n",
            "71/71 [==============================] - 1s 15ms/step - loss: 0.2172 - accuracy: 0.9458 - val_loss: 5.6542 - val_accuracy: 0.2067\n",
            "Epoch 173/180\n",
            "71/71 [==============================] - 1s 15ms/step - loss: 0.2452 - accuracy: 0.9364 - val_loss: 5.5719 - val_accuracy: 0.2200\n",
            "Epoch 174/180\n",
            "71/71 [==============================] - 1s 15ms/step - loss: 0.2695 - accuracy: 0.9373 - val_loss: 5.5542 - val_accuracy: 0.2200\n",
            "Epoch 175/180\n",
            "71/71 [==============================] - 1s 15ms/step - loss: 0.2380 - accuracy: 0.9409 - val_loss: 5.5155 - val_accuracy: 0.2133\n",
            "Epoch 176/180\n",
            "71/71 [==============================] - 1s 15ms/step - loss: 0.2215 - accuracy: 0.9458 - val_loss: 5.5084 - val_accuracy: 0.2233\n",
            "Epoch 177/180\n",
            "71/71 [==============================] - 1s 15ms/step - loss: 0.2397 - accuracy: 0.9427 - val_loss: 5.5215 - val_accuracy: 0.2267\n",
            "Epoch 178/180\n",
            "71/71 [==============================] - 1s 15ms/step - loss: 0.2483 - accuracy: 0.9427 - val_loss: 5.4388 - val_accuracy: 0.2267\n",
            "Epoch 179/180\n",
            "71/71 [==============================] - 1s 15ms/step - loss: 0.2218 - accuracy: 0.9440 - val_loss: 5.3865 - val_accuracy: 0.2267\n",
            "Epoch 180/180\n",
            "71/71 [==============================] - 1s 15ms/step - loss: 0.2199 - accuracy: 0.9502 - val_loss: 5.5774 - val_accuracy: 0.2367\n"
          ]
        }
      ],
      "source": [
        "#Compile and fit the model\n",
        "history, model = compile_and_fit(model, x_train, y_train, x_test, y_test, iterations, l_rate)"
      ]
    },
    {
      "cell_type": "code",
      "execution_count": 24,
      "metadata": {
        "colab": {
          "base_uri": "https://localhost:8080/",
          "height": 435
        },
        "id": "pMBMXPgy--9S",
        "outputId": "003b4c37-ea49-4b2a-8a2d-ace56aea4c24"
      },
      "outputs": [
        {
          "data": {
            "image/png": "[encoded data removed]",
            "text/plain": [
              "<Figure size 1080x1080 with 2 Axes>"
            ]
          },
          "metadata": {},
          "output_type": "display_data"
        }
      ],
      "source": [
        "#Plots\n",
        "acc_plots(history, iterations)"
      ]
    },
    {
      "cell_type": "code",
      "execution_count": 25,
      "metadata": {
        "colab": {
          "base_uri": "https://localhost:8080/"
        },
        "id": "A7sVGFjb_DdS",
        "outputId": "1c73408f-a1bc-4ac2-f8a2-90259d44dd7b"
      },
      "outputs": [
        {
          "name": "stdout",
          "output_type": "stream",
          "text": [
            "                    precision    recall  f1-score   support\n",
            "\n",
            "            Buddha       0.10      0.05      0.07        20\n",
            "            Garuda       0.31      0.50      0.38        20\n",
            "     Goddess_Durga       0.12      0.05      0.07        20\n",
            "   Goddess_Lakshmi       0.12      0.10      0.11        20\n",
            "Goddess_Saraswathi       0.17      0.10      0.12        20\n",
            "       Lord_Ganesh       0.12      0.05      0.07        20\n",
            "      Lord_Hanuman       0.07      0.05      0.06        20\n",
            "    Lord_Hayagriva       0.08      0.10      0.09        20\n",
            "        Lord_Indra       0.49      1.00      0.66        20\n",
            "      Lord_Krishna       0.21      0.25      0.23        20\n",
            "       Lord_Muruga       0.00      0.00      0.00        20\n",
            "             Nandi       0.21      0.30      0.25        20\n",
            "           Nataraj       0.38      0.55      0.45        20\n",
            "   Shirdi_Sai_Baba       0.15      0.20      0.17        20\n",
            "          Shivling       0.28      0.25      0.26        20\n",
            "\n",
            "          accuracy                           0.24       300\n",
            "         macro avg       0.19      0.24      0.20       300\n",
            "      weighted avg       0.19      0.24      0.20       300\n",
            "\n",
            "\n",
            "Accuracy = 23.666666666666668%\n"
          ]
        }
      ],
      "source": [
        "#Results\n",
        "acc_results(model, labels, x_test, y_test)"
      ]
    },
    {
      "cell_type": "markdown",
      "metadata": {
        "id": "lYyGyFyM_FAo"
      },
      "source": [
        "#### **Result: For learning rate = 1*10^(-5) and 180 iterations, the accuracy obtained was 23.66%(approx) while using CLAHE before classification.**"
      ]
    }
  ],
  "metadata": {
    "accelerator": "GPU",
    "colab": {
      "collapsed_sections": [],
      "name": "CLAHE_SIFT_ANN_MIN_KEY_Test_run_1_lr_1e(_5)_epochs_180_acc_23_67.ipynb",
      "provenance": []
    },
    "kernelspec": {
      "display_name": "Python 3",
      "name": "python3"
    },
    "language_info": {
      "name": "python"
    }
  },
  "nbformat": 4,
  "nbformat_minor": 0
}
