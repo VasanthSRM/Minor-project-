{
  "cells": [
    {
      "cell_type": "markdown",
      "metadata": {
        "id": "xkfpI5lL8ofl"
      },
      "source": [
        "## **CLAHE + SIFT + ANN (Min_Keypoints approach)**\n",
        "#### **lr=1*10^(-5), epochs=180, Accuracy = 22.66% (approx)**\n",
        "#### **Test run - 2**"
      ]
    },
    {
      "cell_type": "markdown",
      "metadata": {
        "id": "5AVHk6bP8110"
      },
      "source": [
        "#### **Aim: To find the accuracy of the model for the given learning rate and epoch value.**"
      ]
    },
    {
      "cell_type": "markdown",
      "metadata": {
        "id": "xaufx6N9PNMd"
      },
      "source": [
        "#### **For mounting drive**"
      ]
    },
    {
      "cell_type": "code",
      "execution_count": 1,
      "metadata": {
        "colab": {
          "base_uri": "https://localhost:8080/"
        },
        "id": "LoT75uFsDMt3",
        "outputId": "95e5ed7d-36d8-465e-84ac-bae00743a839"
      },
      "outputs": [
        {
          "name": "stdout",
          "output_type": "stream",
          "text": [
            "Drive already mounted at /content/drive; to attempt to forcibly remount, call drive.mount(\"/content/drive\", force_remount=True).\n"
          ]
        }
      ],
      "source": [
        "#For mounting GDrive\n",
        "from google.colab import drive\n",
        "drive.mount('/content/drive')"
      ]
    },
    {
      "cell_type": "markdown",
      "metadata": {
        "id": "hsXW3CzQ9KWG"
      },
      "source": [
        "#### **Required modules**"
      ]
    },
    {
      "cell_type": "code",
      "execution_count": 2,
      "metadata": {
        "colab": {
          "base_uri": "https://localhost:8080/"
        },
        "id": "K08YLlNJhfSU",
        "outputId": "66a715ea-d477-4118-f827-75c4d85b498f"
      },
      "outputs": [
        {
          "name": "stdout",
          "output_type": "stream",
          "text": [
            "Found existing installation: opencv-python 4.5.4.60\n",
            "Uninstalling opencv-python-4.5.4.60:\n",
            "  Would remove:\n",
            "    /usr/local/lib/python3.7/dist-packages/cv2/*\n",
            "    /usr/local/lib/python3.7/dist-packages/opencv_python-4.5.4.60.dist-info/*\n",
            "    /usr/local/lib/python3.7/dist-packages/opencv_python.libs/libQt5Core-39545cc7.so.5.15.0\n",
            "    /usr/local/lib/python3.7/dist-packages/opencv_python.libs/libQt5Gui-ba0a2070.so.5.15.0\n",
            "    /usr/local/lib/python3.7/dist-packages/opencv_python.libs/libQt5Test-c38a5234.so.5.15.0\n",
            "    /usr/local/lib/python3.7/dist-packages/opencv_python.libs/libQt5Widgets-e69d94fb.so.5.15.0\n",
            "    /usr/local/lib/python3.7/dist-packages/opencv_python.libs/libQt5XcbQpa-ca221f44.so.5.15.0\n",
            "    /usr/local/lib/python3.7/dist-packages/opencv_python.libs/libX11-xcb-69166bdf.so.1.0.0\n",
            "    /usr/local/lib/python3.7/dist-packages/opencv_python.libs/libXau-00ec42fe.so.6.0.0\n",
            "    /usr/local/lib/python3.7/dist-packages/opencv_python.libs/libavcodec-64ac49e1.so.58.91.100\n",
            "    /usr/local/lib/python3.7/dist-packages/opencv_python.libs/libavformat-4b79e479.so.58.45.100\n",
            "    /usr/local/lib/python3.7/dist-packages/opencv_python.libs/libavutil-805734e8.so.56.51.100\n",
            "    /usr/local/lib/python3.7/dist-packages/opencv_python.libs/libbz2-a273e504.so.1.0.6\n",
            "    /usr/local/lib/python3.7/dist-packages/opencv_python.libs/libcrypto-018b8c17.so.1.1\n",
            "    /usr/local/lib/python3.7/dist-packages/opencv_python.libs/libfreetype-c0e61f0c.so.6.14.0\n",
            "    /usr/local/lib/python3.7/dist-packages/opencv_python.libs/libgfortran-91cc3cb1.so.3.0.0\n",
            "    /usr/local/lib/python3.7/dist-packages/opencv_python.libs/libopenblas-r0-f650aae0.3.3.so\n",
            "    /usr/local/lib/python3.7/dist-packages/opencv_python.libs/libpng15-ce838cd1.so.15.13.0\n",
            "    /usr/local/lib/python3.7/dist-packages/opencv_python.libs/libquadmath-96973f99.so.0.0.0\n",
            "    /usr/local/lib/python3.7/dist-packages/opencv_python.libs/libssl-6082116c.so.1.1\n",
            "    /usr/local/lib/python3.7/dist-packages/opencv_python.libs/libswresample-83ce3247.so.3.7.100\n",
            "    /usr/local/lib/python3.7/dist-packages/opencv_python.libs/libswscale-7e960168.so.5.7.100\n",
            "    /usr/local/lib/python3.7/dist-packages/opencv_python.libs/libvpx-392cd848.so.6.4.0\n",
            "    /usr/local/lib/python3.7/dist-packages/opencv_python.libs/libxcb-icccm-413c9f41.so.4.0.0\n",
            "    /usr/local/lib/python3.7/dist-packages/opencv_python.libs/libxcb-image-e82a276d.so.0.0.0\n",
            "    /usr/local/lib/python3.7/dist-packages/opencv_python.libs/libxcb-keysyms-21015570.so.1.0.0\n",
            "    /usr/local/lib/python3.7/dist-packages/opencv_python.libs/libxcb-randr-a96a5a87.so.0.1.0\n",
            "    /usr/local/lib/python3.7/dist-packages/opencv_python.libs/libxcb-render-637b984a.so.0.0.0\n",
            "    /usr/local/lib/python3.7/dist-packages/opencv_python.libs/libxcb-render-util-43ce00f5.so.0.0.0\n",
            "    /usr/local/lib/python3.7/dist-packages/opencv_python.libs/libxcb-shape-25c2b258.so.0.0.0\n",
            "    /usr/local/lib/python3.7/dist-packages/opencv_python.libs/libxcb-shm-7a199f70.so.0.0.0\n",
            "    /usr/local/lib/python3.7/dist-packages/opencv_python.libs/libxcb-sync-89374f40.so.1.0.0\n",
            "    /usr/local/lib/python3.7/dist-packages/opencv_python.libs/libxcb-util-4d666913.so.1.0.0\n",
            "    /usr/local/lib/python3.7/dist-packages/opencv_python.libs/libxcb-xfixes-9be3ba6f.so.0.0.0\n",
            "    /usr/local/lib/python3.7/dist-packages/opencv_python.libs/libxcb-xinerama-ae147f87.so.0.0.0\n",
            "    /usr/local/lib/python3.7/dist-packages/opencv_python.libs/libxcb-xkb-9ba31ab3.so.1.0.0\n",
            "    /usr/local/lib/python3.7/dist-packages/opencv_python.libs/libxkbcommon-71ae2972.so.0.0.0\n",
            "    /usr/local/lib/python3.7/dist-packages/opencv_python.libs/libxkbcommon-x11-c65ed502.so.0.0.0\n",
            "Proceed (y/n)? y\n",
            "  Successfully uninstalled opencv-python-4.5.4.60\n",
            "Collecting opencv-python\n",
            "  Using cached opencv_python-4.5.4.60-cp37-cp37m-manylinux_2_17_x86_64.manylinux2014_x86_64.whl (60.3 MB)\n",
            "Requirement already satisfied: numpy>=1.14.5 in /usr/local/lib/python3.7/dist-packages (from opencv-python) (1.19.5)\n",
            "Installing collected packages: opencv-python\n",
            "\u001b[31mERROR: pip's dependency resolver does not currently take into account all the packages that are installed. This behaviour is the source of the following dependency conflicts.\n",
            "albumentations 0.1.12 requires imgaug<0.2.7,>=0.2.5, but you have imgaug 0.2.9 which is incompatible.\u001b[0m\n",
            "Successfully installed opencv-python-4.5.4.60\n"
          ]
        }
      ],
      "source": [
        "#Req. opencv 4.5+\n",
        "!pip uninstall opencv-python\n",
        "!pip install opencv-python"
      ]
    },
    {
      "cell_type": "code",
      "execution_count": 3,
      "metadata": {
        "id": "__cYeeQF8IEn"
      },
      "outputs": [],
      "source": [
        "#Importing necessary libraries\n",
        "from zipfile import ZipFile\n",
        "from tensorflow.python.client import device_lib\n",
        "import platform\n",
        "import matplotlib.pyplot as plt\n",
        "import seaborn as sns\n",
        "from tensorflow.keras.models import Sequential\n",
        "from tensorflow.keras.layers import Dense, Flatten, Dropout\n",
        "from tensorflow.keras.optimizers import Adam\n",
        "from sklearn.metrics import classification_report, accuracy_score\n",
        "import tensorflow as tf\n",
        "import cv2\n",
        "import os\n",
        "import sys\n",
        "import numpy as np\n",
        "import random"
      ]
    },
    {
      "cell_type": "markdown",
      "metadata": {
        "id": "lAtfR4ri9T-G"
      },
      "source": [
        "#### **Functions definition**"
      ]
    },
    {
      "cell_type": "code",
      "execution_count": 4,
      "metadata": {
        "id": "4TAGvB5o8ns-"
      },
      "outputs": [],
      "source": [
        "def extract_zip(file_name = \"drive/MyDrive/Dataset_test_1.zip\"):\n",
        "    with ZipFile(file_name, \"r\") as zip:\n",
        "        zip.extractall()\n",
        "        print(\"Dataset Extracted\")"
      ]
    },
    {
      "cell_type": "code",
      "execution_count": 5,
      "metadata": {
        "id": "JwTPw__89fBU"
      },
      "outputs": [],
      "source": [
        "def python_ver():\n",
        "    print(\"\\nPython version:\\n\")\n",
        "    print(sys.version)\n",
        "\n",
        "def device_info():\n",
        "    print(\"\\nDevice Info:\\n\")\n",
        "    print(device_lib.list_local_devices())\n",
        "\n",
        "def platform_info():\n",
        "    print(\"\\nPlatform Info:\\n\")\n",
        "    print(platform.platform())\n",
        "    print(platform.processor())"
      ]
    },
    {
      "cell_type": "code",
      "execution_count": 6,
      "metadata": {
        "id": "QtlFrxEVYIno"
      },
      "outputs": [],
      "source": [
        "def SIFT_test(dirs, labels, img_size):\n",
        "    \"\"\"Scale Invariant Feature Transform Test run for finding the minimum keypoints detected among all the images in the dataset\"\"\"\n",
        "    \n",
        "    min_key = np.inf\n",
        "    \n",
        "    for data_dir in dirs:\n",
        "        for label in labels:\n",
        "            path = os.path.join(data_dir, label)\n",
        "            for img in os.listdir(path):\n",
        "                #Reading the image in grayscale mode\n",
        "                img_arr = cv2.imread(os.path.join(path, img))\n",
        "                   \n",
        "                #Reshaping images to preferred size\n",
        "                resized_arr = cv2.resize(img_arr, (img_size, img_size))\n",
        "\n",
        "                #CLAHE function call\n",
        "                CLAHE_img = CLAHE(resized_arr)\n",
        "\n",
        "                #Grayscale Conversion\n",
        "                gray_img = cv2.cvtColor(CLAHE_img, cv2.COLOR_BGR2GRAY) \n",
        "\n",
        "                #detecting keypoints\n",
        "                sift = cv2.SIFT_create()\n",
        "                keypoints = sift.detect(gray_img, None)\n",
        "\n",
        "                if (len(keypoints) < min_key):\n",
        "                    min_key = len(keypoints)\n",
        "                \n",
        "    return min_key"
      ]
    },
    {
      "cell_type": "code",
      "execution_count": 7,
      "metadata": {
        "id": "Hys3tY7CVXij"
      },
      "outputs": [],
      "source": [
        "def CLAHE(image):\n",
        "    \"\"\"Contrast limited AHE\"\"\"\n",
        "    #Convert BGR image to LAB\n",
        "    lab_img= cv2.cvtColor(image, cv2.COLOR_BGR2LAB)\n",
        "\n",
        "    #Splitting the LAB image to L, A and B channels, respectively\n",
        "    l, a, b = cv2.split(lab_img)\n",
        "\n",
        "    clahe = cv2.createCLAHE(clipLimit=3.0, tileGridSize=(8,8))\n",
        "    clahe_img = clahe.apply(l)\n",
        "\n",
        "    #Combine the CLAHE enhanced L-channel back with A and B channels\n",
        "    updated_lab_img2 = cv2.merge((clahe_img,a,b))\n",
        "\n",
        "    #Convert LAB image back to color (BGR)\n",
        "    CLAHE_img = cv2.cvtColor(updated_lab_img2, cv2.COLOR_LAB2BGR)\n",
        "\n",
        "    return CLAHE_img"
      ]
    },
    {
      "cell_type": "code",
      "execution_count": 8,
      "metadata": {
        "id": "j9IR6y7nYJ5a"
      },
      "outputs": [],
      "source": [
        "def SIFT(image, min_key):\n",
        "    \"\"\"Scale Invariant Feature Transform for finding keypoints and computing descriptors\"\"\"\n",
        "    \n",
        "    sift = cv2.SIFT_create(min_key)\n",
        "    keypoints, descriptors = sift.detectAndCompute(image, None)\n",
        "\n",
        "    return np.array(descriptors, dtype=\"i\")[:min_key]"
      ]
    },
    {
      "cell_type": "code",
      "execution_count": 9,
      "metadata": {
        "id": "GSQlfqEA9jN7"
      },
      "outputs": [],
      "source": [
        "def dataset_creation(data_dir, labels, img_size, min_key):\n",
        "    \"\"\"Loading data and shuffling\"\"\"\n",
        "    data = [] \n",
        "\n",
        "    for class_num, label in enumerate(labels): \n",
        "        path = os.path.join(data_dir, label)\n",
        "        for img in os.listdir(path):\n",
        "            try:\n",
        "                #Reading the image in grayscale mode\n",
        "                img_arr = cv2.imread(os.path.join(path, img))\n",
        "                \n",
        "                #Reshaping images to preferred size\n",
        "                resized_arr = cv2.resize(img_arr, (img_size, img_size)) \n",
        "\n",
        "                #CLAHE function call\n",
        "                CLAHE_img = CLAHE(resized_arr)\n",
        "\n",
        "                #Grayscale Conversion\n",
        "                gray_img = cv2.cvtColor(CLAHE_img, cv2.COLOR_BGR2GRAY)\n",
        "\n",
        "                #SIFT function call\n",
        "                SIFT_img_desc = SIFT(gray_img, min_key)\n",
        "                \n",
        "                data.append([SIFT_img_desc, class_num])\n",
        "            except Exception as err:\n",
        "                print(\"Error:\\n\",err)\n",
        "    \n",
        "    random.shuffle(data)\n",
        "    return np.array(data)"
      ]
    },
    {
      "cell_type": "code",
      "execution_count": 10,
      "metadata": {
        "id": "gr4RAyHY9oed"
      },
      "outputs": [],
      "source": [
        "def dataset_creation_train_stat(labels, train):\n",
        "    \"\"\"Plot initial data graph\"\"\"\n",
        "    list_graph = []\n",
        "    for i in train:\n",
        "        list_graph.append(labels[i[1]])\n",
        "    \n",
        "    sns.set_style('darkgrid')\n",
        "    plt.figure(figsize=(25, 25))    \n",
        "    sns.countplot(list_graph)\n",
        "    plt.title(\"Train set\")\n",
        "    plt.show()\n",
        "\n",
        "\n",
        "def dataset_creation_test_stat(labels, test):\n",
        "    \"\"\"Plot initial data graph\"\"\"\n",
        "    list_graph = []\n",
        "    for i in test:\n",
        "        list_graph.append(labels[i[1]])\n",
        "    \n",
        "    sns.set_style('darkgrid')\n",
        "    plt.figure(figsize=(25, 25))\n",
        "    sns.countplot(list_graph)\n",
        "    plt.title(\"Test set\")\n",
        "    plt.show()"
      ]
    },
    {
      "cell_type": "code",
      "execution_count": 11,
      "metadata": {
        "id": "mCiE7s_E9072"
      },
      "outputs": [],
      "source": [
        "def train_test_data_split(train, test):\n",
        "    \"\"\"train and test\"\"\"\n",
        "    x_train = []\n",
        "    y_train = []\n",
        "    x_test = []\n",
        "    y_test = []\n",
        "\n",
        "    for feature, label in train:\n",
        "        x_train.append(feature)\n",
        "        y_train.append(label)\n",
        "\n",
        "    for feature, label in test:\n",
        "        x_test.append(feature)\n",
        "        y_test.append(label)\n",
        "\n",
        "    return (np.array(x_train), np.array(y_train), np.array(x_test), np.array(y_test))"
      ]
    },
    {
      "cell_type": "code",
      "execution_count": 12,
      "metadata": {
        "id": "SizxlEkV94hy"
      },
      "outputs": [],
      "source": [
        "def normalize_array_conv_data(x_train, y_train, x_test, y_test):\n",
        "    \"\"\"Normalize and array conversion\"\"\"\n",
        "    x_train = np.array(x_train) / 255\n",
        "    x_test = np.array(x_test) / 255\n",
        "\n",
        "    y_train = np.array(y_train)\n",
        "    y_test = np.array(y_test)\n",
        "\n",
        "    return (x_train, y_train, x_test, y_test)"
      ]
    },
    {
      "cell_type": "code",
      "execution_count": 13,
      "metadata": {
        "id": "RgLvHqvB98Dd"
      },
      "outputs": [],
      "source": [
        "def build_model_ann(tot_classes, x_train):\n",
        "    \"\"\"Builds ANN model and prints model summary\"\"\"\n",
        "    model = Sequential()\n",
        "    \n",
        "    model.add(Flatten(input_shape=x_train.shape[1:]))\n",
        "    model.add(Dense(3000,activation=\"relu\"))\n",
        "    model.add(Dropout(0.5))\n",
        "    model.add(Dense(1000,activation=\"relu\"))\n",
        "    model.add(Dropout(0.5))\n",
        "    model.add(Dense(tot_classes, activation=\"softmax\"))\n",
        "\n",
        "    model.summary()\n",
        "    return model"
      ]
    },
    {
      "cell_type": "code",
      "execution_count": 14,
      "metadata": {
        "id": "9nEf4toB-BzT"
      },
      "outputs": [],
      "source": [
        "def compile_and_fit(model, x_train, y_train, x_test, y_test, iterations, l_rate):\n",
        "    \"\"\"Compiles and fits the model\"\"\"\n",
        "    opt = Adam(learning_rate=l_rate)\n",
        "    model.compile(optimizer = opt, loss = \"sparse_categorical_crossentropy\", metrics = ['accuracy'])\n",
        "    history = model.fit(x_train, y_train, epochs = iterations, validation_data = (x_test, y_test))\n",
        "\n",
        "    return (history, model)"
      ]
    },
    {
      "cell_type": "code",
      "execution_count": 15,
      "metadata": {
        "id": "BpybfYak-FKt"
      },
      "outputs": [],
      "source": [
        "def acc_plots(history, iterations):\n",
        "    \"\"\"Requires history and number of iterations\"\"\"\n",
        "    acc = history.history['accuracy']\n",
        "    val_acc = history.history['val_accuracy']\n",
        "    loss = history.history['loss']\n",
        "    val_loss = history.history['val_loss']\n",
        "\n",
        "    epochs_range = range(iterations)\n",
        "\n",
        "    plt.figure(figsize=(15, 15))\n",
        "    plt.subplot(2, 2, 1)\n",
        "    plt.plot(epochs_range, acc, label='Training Accuracy')\n",
        "    plt.plot(epochs_range, val_acc, label='Validation Accuracy')\n",
        "    plt.legend(loc='lower right')\n",
        "    plt.title('Training and Validation Accuracy')\n",
        "\n",
        "    plt.subplot(2, 2, 2)\n",
        "    plt.plot(epochs_range, loss, label='Training Loss')\n",
        "    plt.plot(epochs_range, val_loss, label='Validation Loss')\n",
        "    plt.legend(loc='upper right')\n",
        "    plt.title('Training and Validation Loss')\n",
        "    plt.show()"
      ]
    },
    {
      "cell_type": "code",
      "execution_count": 16,
      "metadata": {
        "id": "lTTbnTYd-Ipb"
      },
      "outputs": [],
      "source": [
        "def acc_results(model, labels, x_test, y_test):\n",
        "    \"\"\"Prediction and test accuracy\"\"\"\n",
        "    predictions = np.argmax(model.predict(x_test), axis=-1)\n",
        "    print(classification_report(y_test, predictions, target_names = labels))\n",
        "    print(\"\\nAccuracy = \"+str(accuracy_score(y_test, predictions)*100)+\"%\")"
      ]
    },
    {
      "cell_type": "markdown",
      "metadata": {
        "id": "M1PFZZFw-S_P"
      },
      "source": [
        "#### **Making Function calls and defining variables**"
      ]
    },
    {
      "cell_type": "code",
      "execution_count": 17,
      "metadata": {
        "colab": {
          "base_uri": "https://localhost:8080/"
        },
        "id": "OgZinHaw-Mq7",
        "outputId": "7ed2099e-9227-4d38-bd7c-f4c114826ceb"
      },
      "outputs": [
        {
          "name": "stdout",
          "output_type": "stream",
          "text": [
            "Dataset Extracted\n",
            "\n",
            "Python version:\n",
            "\n",
            "3.7.12 (default, Sep 10 2021, 00:21:48) \n",
            "[GCC 7.5.0]\n",
            "\n",
            "Device Info:\n",
            "\n",
            "[name: \"/device:CPU:0\"\n",
            "device_type: \"CPU\"\n",
            "memory_limit: 268435456\n",
            "locality {\n",
            "}\n",
            "incarnation: 11855358772551537795\n",
            "xla_global_id: -1\n",
            ", name: \"/device:GPU:0\"\n",
            "device_type: \"GPU\"\n",
            "memory_limit: 11320098816\n",
            "locality {\n",
            "  bus_id: 1\n",
            "  links {\n",
            "  }\n",
            "}\n",
            "incarnation: 1631876559090374790\n",
            "physical_device_desc: \"device: 0, name: Tesla K80, pci bus id: 0000:00:04.0, compute capability: 3.7\"\n",
            "xla_global_id: 416903419\n",
            "]\n",
            "\n",
            "Platform Info:\n",
            "\n",
            "Linux-5.4.104+-x86_64-with-Ubuntu-18.04-bionic\n",
            "x86_64\n"
          ]
        }
      ],
      "source": [
        "#Extracting Dataset\n",
        "extract_zip(\"drive/MyDrive/Dataset_test_1.zip\")\n",
        "\n",
        "#Device and environment Info\n",
        "python_ver()\n",
        "device_info()\n",
        "platform_info()"
      ]
    },
    {
      "cell_type": "code",
      "execution_count": 18,
      "metadata": {
        "id": "Bl01clC0-XOZ"
      },
      "outputs": [],
      "source": [
        "#Variables\n",
        "dirs = [\"Dataset_test_1/Train\", \"Dataset_test_1/Test\"]\n",
        "labels = ['Buddha', 'Garuda', 'Goddess_Durga', 'Goddess_Lakshmi', 'Goddess_Saraswathi', 'Lord_Ganesh', \n",
        "        'Lord_Hanuman', 'Lord_Hayagriva', 'Lord_Indra', 'Lord_Krishna', 'Lord_Muruga', 'Nandi', 'Nataraj', \n",
        "        'Shirdi_Sai_Baba', 'Shivling']\n",
        "img_size = 224\n",
        "tot_classes = len(labels)\n",
        "num_sample_img = 3\n",
        "iterations = 180\n",
        "l_rate = 0.00001"
      ]
    },
    {
      "cell_type": "code",
      "execution_count": 19,
      "metadata": {
        "colab": {
          "base_uri": "https://localhost:8080/"
        },
        "id": "ngdQO8_D-kzS",
        "outputId": "b8584f5a-959b-4eec-ff4b-26775b2267c2"
      },
      "outputs": [
        {
          "name": "stderr",
          "output_type": "stream",
          "text": [
            "/usr/local/lib/python3.7/dist-packages/ipykernel_launcher.py:29: VisibleDeprecationWarning: Creating an ndarray from ragged nested sequences (which is a list-or-tuple of lists-or-tuples-or ndarrays with different lengths or shapes) is deprecated. If you meant to do this, you must specify 'dtype=object' when creating the ndarray\n"
          ]
        }
      ],
      "source": [
        "#Min keypoints detection\n",
        "min_key = SIFT_test(dirs, labels, img_size)\n",
        "\n",
        "#Train and Test data loading\n",
        "train = dataset_creation(\"Dataset_test_1/Train\", labels, img_size, min_key)\n",
        "test = dataset_creation(\"Dataset_test_1/Test\", labels, img_size, min_key)"
      ]
    },
    {
      "cell_type": "code",
      "execution_count": 20,
      "metadata": {
        "colab": {
          "base_uri": "https://localhost:8080/",
          "height": 1000
        },
        "id": "ci_GDz0G-ngO",
        "outputId": "e2a575aa-7a8f-40a4-ca92-b2399beb5ec3"
      },
      "outputs": [
        {
          "name": "stderr",
          "output_type": "stream",
          "text": [
            "/usr/local/lib/python3.7/dist-packages/seaborn/_decorators.py:43: FutureWarning: Pass the following variable as a keyword arg: x. From version 0.12, the only valid positional argument will be `data`, and passing other arguments without an explicit keyword will result in an error or misinterpretation.\n",
            "  FutureWarning\n"
          ]
        },
        {
          "data": {
            "image/png": "[encoded data removed]",
            "text/plain": [
              "<Figure size 1800x1800 with 1 Axes>"
            ]
          },
          "metadata": {},
          "output_type": "display_data"
        },
        {
          "name": "stderr",
          "output_type": "stream",
          "text": [
            "/usr/local/lib/python3.7/dist-packages/seaborn/_decorators.py:43: FutureWarning: Pass the following variable as a keyword arg: x. From version 0.12, the only valid positional argument will be `data`, and passing other arguments without an explicit keyword will result in an error or misinterpretation.\n",
            "  FutureWarning\n"
          ]
        },
        {
          "data": {
            "image/png": "[encoded data removed]",
            "text/plain": [
              "<Figure size 1800x1800 with 1 Axes>"
            ]
          },
          "metadata": {},
          "output_type": "display_data"
        }
      ],
      "source": [
        "#Stats\n",
        "dataset_creation_train_stat(labels, train)\n",
        "dataset_creation_test_stat(labels, test)"
      ]
    },
    {
      "cell_type": "code",
      "execution_count": 21,
      "metadata": {
        "id": "4JOI1Up6-tGQ"
      },
      "outputs": [],
      "source": [
        "#Training and testing data\n",
        "x_train, y_train, x_test, y_test = train_test_data_split(train, test)"
      ]
    },
    {
      "cell_type": "code",
      "execution_count": 22,
      "metadata": {
        "colab": {
          "base_uri": "https://localhost:8080/"
        },
        "id": "08fhlmqh-z4O",
        "outputId": "77690452-0e66-4a0d-90e8-c11eb3e48f8a"
      },
      "outputs": [
        {
          "name": "stdout",
          "output_type": "stream",
          "text": [
            "Model: \"sequential\"\n",
            "_________________________________________________________________\n",
            " Layer (type)                Output Shape              Param #   \n",
            "=================================================================\n",
            " flatten (Flatten)           (None, 7040)              0         \n",
            "                                                                 \n",
            " dense (Dense)               (None, 3000)              21123000  \n",
            "                                                                 \n",
            " dropout (Dropout)           (None, 3000)              0         \n",
            "                                                                 \n",
            " dense_1 (Dense)             (None, 1000)              3001000   \n",
            "                                                                 \n",
            " dropout_1 (Dropout)         (None, 1000)              0         \n",
            "                                                                 \n",
            " dense_2 (Dense)             (None, 15)                15015     \n",
            "                                                                 \n",
            "=================================================================\n",
            "Total params: 24,139,015\n",
            "Trainable params: 24,139,015\n",
            "Non-trainable params: 0\n",
            "_________________________________________________________________\n"
          ]
        }
      ],
      "source": [
        "#Building ANN Model\n",
        "model = build_model_ann(tot_classes, x_train)\n"
      ]
    },
    {
      "cell_type": "code",
      "execution_count": 23,
      "metadata": {
        "colab": {
          "base_uri": "https://localhost:8080/"
        },
        "id": "j5NP-yio-5Bl",
        "outputId": "d5912382-65ea-4d8f-b60b-bc00b2d9fb3b"
      },
      "outputs": [
        {
          "name": "stdout",
          "output_type": "stream",
          "text": [
            "Epoch 1/180\n",
            "71/71 [==============================] - 2s 18ms/step - loss: 128.4828 - accuracy: 0.0604 - val_loss: 36.8619 - val_accuracy: 0.0700\n",
            "Epoch 2/180\n",
            "71/71 [==============================] - 1s 14ms/step - loss: 91.7618 - accuracy: 0.0716 - val_loss: 27.2753 - val_accuracy: 0.1000\n",
            "Epoch 3/180\n",
            "71/71 [==============================] - 1s 14ms/step - loss: 76.2374 - accuracy: 0.0747 - val_loss: 23.2324 - val_accuracy: 0.1167\n",
            "Epoch 4/180\n",
            "71/71 [==============================] - 1s 14ms/step - loss: 59.9882 - accuracy: 0.0942 - val_loss: 20.1656 - val_accuracy: 0.0933\n",
            "Epoch 5/180\n",
            "71/71 [==============================] - 1s 14ms/step - loss: 50.5463 - accuracy: 0.1031 - val_loss: 17.3999 - val_accuracy: 0.1067\n",
            "Epoch 6/180\n",
            "71/71 [==============================] - 1s 14ms/step - loss: 45.5196 - accuracy: 0.1049 - val_loss: 15.5290 - val_accuracy: 0.1167\n",
            "Epoch 7/180\n",
            "71/71 [==============================] - 1s 14ms/step - loss: 40.0104 - accuracy: 0.1062 - val_loss: 14.0492 - val_accuracy: 0.1133\n",
            "Epoch 8/180\n",
            "71/71 [==============================] - 1s 14ms/step - loss: 36.5528 - accuracy: 0.1200 - val_loss: 13.2055 - val_accuracy: 0.1033\n",
            "Epoch 9/180\n",
            "71/71 [==============================] - 1s 14ms/step - loss: 33.3224 - accuracy: 0.1307 - val_loss: 12.0376 - val_accuracy: 0.1100\n",
            "Epoch 10/180\n",
            "71/71 [==============================] - 1s 14ms/step - loss: 30.0261 - accuracy: 0.1396 - val_loss: 11.5933 - val_accuracy: 0.1333\n",
            "Epoch 11/180\n",
            "71/71 [==============================] - 1s 14ms/step - loss: 26.8452 - accuracy: 0.1440 - val_loss: 10.9822 - val_accuracy: 0.1300\n",
            "Epoch 12/180\n",
            "71/71 [==============================] - 1s 14ms/step - loss: 25.1746 - accuracy: 0.1520 - val_loss: 10.3643 - val_accuracy: 0.1533\n",
            "Epoch 13/180\n",
            "71/71 [==============================] - 1s 14ms/step - loss: 23.5622 - accuracy: 0.1618 - val_loss: 9.8861 - val_accuracy: 0.1467\n",
            "Epoch 14/180\n",
            "71/71 [==============================] - 1s 14ms/step - loss: 21.4170 - accuracy: 0.1720 - val_loss: 9.4471 - val_accuracy: 0.1500\n",
            "Epoch 15/180\n",
            "71/71 [==============================] - 1s 14ms/step - loss: 19.8166 - accuracy: 0.1773 - val_loss: 9.2712 - val_accuracy: 0.1567\n",
            "Epoch 16/180\n",
            "71/71 [==============================] - 1s 14ms/step - loss: 18.7674 - accuracy: 0.1796 - val_loss: 8.8918 - val_accuracy: 0.1367\n",
            "Epoch 17/180\n",
            "71/71 [==============================] - 1s 14ms/step - loss: 17.4239 - accuracy: 0.1911 - val_loss: 8.4835 - val_accuracy: 0.1533\n",
            "Epoch 18/180\n",
            "71/71 [==============================] - 1s 14ms/step - loss: 16.0196 - accuracy: 0.2111 - val_loss: 8.4483 - val_accuracy: 0.1667\n",
            "Epoch 19/180\n",
            "71/71 [==============================] - 1s 14ms/step - loss: 14.9799 - accuracy: 0.2156 - val_loss: 8.0553 - val_accuracy: 0.1567\n",
            "Epoch 20/180\n",
            "71/71 [==============================] - 1s 14ms/step - loss: 13.7493 - accuracy: 0.2240 - val_loss: 7.6733 - val_accuracy: 0.1667\n",
            "Epoch 21/180\n",
            "71/71 [==============================] - 1s 14ms/step - loss: 12.6828 - accuracy: 0.2484 - val_loss: 7.4527 - val_accuracy: 0.1700\n",
            "Epoch 22/180\n",
            "71/71 [==============================] - 1s 14ms/step - loss: 11.9518 - accuracy: 0.2493 - val_loss: 7.2054 - val_accuracy: 0.1833\n",
            "Epoch 23/180\n",
            "71/71 [==============================] - 1s 14ms/step - loss: 11.2826 - accuracy: 0.2547 - val_loss: 6.8936 - val_accuracy: 0.1933\n",
            "Epoch 24/180\n",
            "71/71 [==============================] - 1s 14ms/step - loss: 10.4880 - accuracy: 0.2631 - val_loss: 6.7673 - val_accuracy: 0.1833\n",
            "Epoch 25/180\n",
            "71/71 [==============================] - 1s 14ms/step - loss: 9.7895 - accuracy: 0.2738 - val_loss: 6.5191 - val_accuracy: 0.1800\n",
            "Epoch 26/180\n",
            "71/71 [==============================] - 1s 14ms/step - loss: 9.0436 - accuracy: 0.2813 - val_loss: 6.3882 - val_accuracy: 0.2033\n",
            "Epoch 27/180\n",
            "71/71 [==============================] - 1s 14ms/step - loss: 8.6243 - accuracy: 0.2898 - val_loss: 6.2369 - val_accuracy: 0.1967\n",
            "Epoch 28/180\n",
            "71/71 [==============================] - 1s 14ms/step - loss: 7.8150 - accuracy: 0.3071 - val_loss: 6.1166 - val_accuracy: 0.2000\n",
            "Epoch 29/180\n",
            "71/71 [==============================] - 1s 14ms/step - loss: 7.5970 - accuracy: 0.3076 - val_loss: 6.0015 - val_accuracy: 0.2000\n",
            "Epoch 30/180\n",
            "71/71 [==============================] - 1s 14ms/step - loss: 7.0725 - accuracy: 0.3151 - val_loss: 5.8511 - val_accuracy: 0.2133\n",
            "Epoch 31/180\n",
            "71/71 [==============================] - 1s 14ms/step - loss: 6.5492 - accuracy: 0.3347 - val_loss: 5.6870 - val_accuracy: 0.2233\n",
            "Epoch 32/180\n",
            "71/71 [==============================] - 1s 14ms/step - loss: 6.0850 - accuracy: 0.3684 - val_loss: 5.5744 - val_accuracy: 0.2100\n",
            "Epoch 33/180\n",
            "71/71 [==============================] - 1s 14ms/step - loss: 5.7207 - accuracy: 0.3716 - val_loss: 5.5704 - val_accuracy: 0.1967\n",
            "Epoch 34/180\n",
            "71/71 [==============================] - 1s 14ms/step - loss: 5.3245 - accuracy: 0.3751 - val_loss: 5.4754 - val_accuracy: 0.1900\n",
            "Epoch 35/180\n",
            "71/71 [==============================] - 1s 14ms/step - loss: 5.0499 - accuracy: 0.3853 - val_loss: 5.2988 - val_accuracy: 0.2167\n",
            "Epoch 36/180\n",
            "71/71 [==============================] - 1s 14ms/step - loss: 4.8434 - accuracy: 0.3876 - val_loss: 5.1692 - val_accuracy: 0.2200\n",
            "Epoch 37/180\n",
            "71/71 [==============================] - 1s 14ms/step - loss: 4.5767 - accuracy: 0.4187 - val_loss: 4.9891 - val_accuracy: 0.2133\n",
            "Epoch 38/180\n",
            "71/71 [==============================] - 1s 14ms/step - loss: 4.4772 - accuracy: 0.4067 - val_loss: 4.9942 - val_accuracy: 0.2033\n",
            "Epoch 39/180\n",
            "71/71 [==============================] - 1s 14ms/step - loss: 4.2429 - accuracy: 0.4218 - val_loss: 4.8195 - val_accuracy: 0.2167\n",
            "Epoch 40/180\n",
            "71/71 [==============================] - 1s 14ms/step - loss: 3.9827 - accuracy: 0.4360 - val_loss: 4.8642 - val_accuracy: 0.2300\n",
            "Epoch 41/180\n",
            "71/71 [==============================] - 1s 14ms/step - loss: 3.7541 - accuracy: 0.4476 - val_loss: 4.7023 - val_accuracy: 0.2267\n",
            "Epoch 42/180\n",
            "71/71 [==============================] - 1s 14ms/step - loss: 3.3877 - accuracy: 0.4533 - val_loss: 4.6949 - val_accuracy: 0.2333\n",
            "Epoch 43/180\n",
            "71/71 [==============================] - 1s 14ms/step - loss: 3.2946 - accuracy: 0.4782 - val_loss: 4.6212 - val_accuracy: 0.2267\n",
            "Epoch 44/180\n",
            "71/71 [==============================] - 1s 14ms/step - loss: 3.1443 - accuracy: 0.4742 - val_loss: 4.6704 - val_accuracy: 0.2000\n",
            "Epoch 45/180\n",
            "71/71 [==============================] - 1s 14ms/step - loss: 2.9874 - accuracy: 0.4978 - val_loss: 4.6240 - val_accuracy: 0.2167\n",
            "Epoch 46/180\n",
            "71/71 [==============================] - 1s 14ms/step - loss: 2.9016 - accuracy: 0.4991 - val_loss: 4.6668 - val_accuracy: 0.2067\n",
            "Epoch 47/180\n",
            "71/71 [==============================] - 1s 14ms/step - loss: 2.9900 - accuracy: 0.4947 - val_loss: 4.5151 - val_accuracy: 0.2233\n",
            "Epoch 48/180\n",
            "71/71 [==============================] - 1s 14ms/step - loss: 2.6821 - accuracy: 0.5222 - val_loss: 4.4220 - val_accuracy: 0.2333\n",
            "Epoch 49/180\n",
            "71/71 [==============================] - 1s 14ms/step - loss: 2.5669 - accuracy: 0.5418 - val_loss: 4.4325 - val_accuracy: 0.2233\n",
            "Epoch 50/180\n",
            "71/71 [==============================] - 1s 14ms/step - loss: 2.5192 - accuracy: 0.5538 - val_loss: 4.4601 - val_accuracy: 0.2300\n",
            "Epoch 51/180\n",
            "71/71 [==============================] - 1s 14ms/step - loss: 2.3858 - accuracy: 0.5462 - val_loss: 4.4236 - val_accuracy: 0.2233\n",
            "Epoch 52/180\n",
            "71/71 [==============================] - 1s 14ms/step - loss: 2.3137 - accuracy: 0.5689 - val_loss: 4.4678 - val_accuracy: 0.2300\n",
            "Epoch 53/180\n",
            "71/71 [==============================] - 1s 14ms/step - loss: 2.1263 - accuracy: 0.5769 - val_loss: 4.5673 - val_accuracy: 0.2300\n",
            "Epoch 54/180\n",
            "71/71 [==============================] - 1s 14ms/step - loss: 2.1032 - accuracy: 0.6018 - val_loss: 4.4386 - val_accuracy: 0.2200\n",
            "Epoch 55/180\n",
            "71/71 [==============================] - 1s 14ms/step - loss: 1.9881 - accuracy: 0.6084 - val_loss: 4.4103 - val_accuracy: 0.2100\n",
            "Epoch 56/180\n",
            "71/71 [==============================] - 1s 14ms/step - loss: 1.8489 - accuracy: 0.6036 - val_loss: 4.4002 - val_accuracy: 0.2067\n",
            "Epoch 57/180\n",
            "71/71 [==============================] - 1s 14ms/step - loss: 1.8226 - accuracy: 0.6191 - val_loss: 4.4151 - val_accuracy: 0.2233\n",
            "Epoch 58/180\n",
            "71/71 [==============================] - 1s 14ms/step - loss: 1.7050 - accuracy: 0.6244 - val_loss: 4.3384 - val_accuracy: 0.2167\n",
            "Epoch 59/180\n",
            "71/71 [==============================] - 1s 14ms/step - loss: 1.6886 - accuracy: 0.6329 - val_loss: 4.3067 - val_accuracy: 0.2100\n",
            "Epoch 60/180\n",
            "71/71 [==============================] - 1s 14ms/step - loss: 1.5852 - accuracy: 0.6436 - val_loss: 4.3463 - val_accuracy: 0.2233\n",
            "Epoch 61/180\n",
            "71/71 [==============================] - 1s 14ms/step - loss: 1.5934 - accuracy: 0.6618 - val_loss: 4.2672 - val_accuracy: 0.2000\n",
            "Epoch 62/180\n",
            "71/71 [==============================] - 1s 14ms/step - loss: 1.5397 - accuracy: 0.6542 - val_loss: 4.1990 - val_accuracy: 0.2067\n",
            "Epoch 63/180\n",
            "71/71 [==============================] - 1s 14ms/step - loss: 1.4841 - accuracy: 0.6676 - val_loss: 4.2079 - val_accuracy: 0.2233\n",
            "Epoch 64/180\n",
            "71/71 [==============================] - 1s 14ms/step - loss: 1.4755 - accuracy: 0.6636 - val_loss: 4.2659 - val_accuracy: 0.2033\n",
            "Epoch 65/180\n",
            "71/71 [==============================] - 1s 14ms/step - loss: 1.3752 - accuracy: 0.6818 - val_loss: 4.2704 - val_accuracy: 0.2167\n",
            "Epoch 66/180\n",
            "71/71 [==============================] - 1s 14ms/step - loss: 1.3239 - accuracy: 0.6969 - val_loss: 4.2726 - val_accuracy: 0.2200\n",
            "Epoch 67/180\n",
            "71/71 [==============================] - 1s 14ms/step - loss: 1.2700 - accuracy: 0.7089 - val_loss: 4.1735 - val_accuracy: 0.2300\n",
            "Epoch 68/180\n",
            "71/71 [==============================] - 1s 15ms/step - loss: 1.2590 - accuracy: 0.7000 - val_loss: 4.1968 - val_accuracy: 0.2133\n",
            "Epoch 69/180\n",
            "71/71 [==============================] - 1s 15ms/step - loss: 1.2282 - accuracy: 0.6987 - val_loss: 4.1813 - val_accuracy: 0.2100\n",
            "Epoch 70/180\n",
            "71/71 [==============================] - 1s 14ms/step - loss: 1.2338 - accuracy: 0.7124 - val_loss: 4.1870 - val_accuracy: 0.2300\n",
            "Epoch 71/180\n",
            "71/71 [==============================] - 1s 14ms/step - loss: 1.1101 - accuracy: 0.7222 - val_loss: 4.2580 - val_accuracy: 0.2400\n",
            "Epoch 72/180\n",
            "71/71 [==============================] - 1s 15ms/step - loss: 1.1097 - accuracy: 0.7431 - val_loss: 4.1656 - val_accuracy: 0.2300\n",
            "Epoch 73/180\n",
            "71/71 [==============================] - 1s 15ms/step - loss: 1.0697 - accuracy: 0.7196 - val_loss: 4.1976 - val_accuracy: 0.2467\n",
            "Epoch 74/180\n",
            "71/71 [==============================] - 1s 14ms/step - loss: 1.0999 - accuracy: 0.7373 - val_loss: 4.2738 - val_accuracy: 0.2300\n",
            "Epoch 75/180\n",
            "71/71 [==============================] - 1s 14ms/step - loss: 1.0357 - accuracy: 0.7453 - val_loss: 4.3167 - val_accuracy: 0.2133\n",
            "Epoch 76/180\n",
            "71/71 [==============================] - 1s 14ms/step - loss: 0.9837 - accuracy: 0.7436 - val_loss: 4.2312 - val_accuracy: 0.2167\n",
            "Epoch 77/180\n",
            "71/71 [==============================] - 1s 14ms/step - loss: 0.9689 - accuracy: 0.7600 - val_loss: 4.2620 - val_accuracy: 0.2200\n",
            "Epoch 78/180\n",
            "71/71 [==============================] - 1s 14ms/step - loss: 1.0076 - accuracy: 0.7493 - val_loss: 4.2571 - val_accuracy: 0.2000\n",
            "Epoch 79/180\n",
            "71/71 [==============================] - 1s 14ms/step - loss: 0.8843 - accuracy: 0.7729 - val_loss: 4.2056 - val_accuracy: 0.2000\n",
            "Epoch 80/180\n",
            "71/71 [==============================] - 1s 15ms/step - loss: 0.9252 - accuracy: 0.7733 - val_loss: 4.1868 - val_accuracy: 0.2133\n",
            "Epoch 81/180\n",
            "71/71 [==============================] - 1s 14ms/step - loss: 0.8356 - accuracy: 0.7729 - val_loss: 4.1923 - val_accuracy: 0.2100\n",
            "Epoch 82/180\n",
            "71/71 [==============================] - 1s 14ms/step - loss: 0.9436 - accuracy: 0.7747 - val_loss: 4.2566 - val_accuracy: 0.2100\n",
            "Epoch 83/180\n",
            "71/71 [==============================] - 1s 15ms/step - loss: 0.8198 - accuracy: 0.7942 - val_loss: 4.3268 - val_accuracy: 0.2067\n",
            "Epoch 84/180\n",
            "71/71 [==============================] - 1s 14ms/step - loss: 0.7945 - accuracy: 0.8018 - val_loss: 4.2245 - val_accuracy: 0.1900\n",
            "Epoch 85/180\n",
            "71/71 [==============================] - 1s 14ms/step - loss: 0.8332 - accuracy: 0.7849 - val_loss: 4.2826 - val_accuracy: 0.1967\n",
            "Epoch 86/180\n",
            "71/71 [==============================] - 1s 14ms/step - loss: 0.8153 - accuracy: 0.7782 - val_loss: 4.3005 - val_accuracy: 0.2133\n",
            "Epoch 87/180\n",
            "71/71 [==============================] - 1s 14ms/step - loss: 0.8049 - accuracy: 0.7911 - val_loss: 4.3486 - val_accuracy: 0.2167\n",
            "Epoch 88/180\n",
            "71/71 [==============================] - 1s 14ms/step - loss: 0.7421 - accuracy: 0.8027 - val_loss: 4.2486 - val_accuracy: 0.2033\n",
            "Epoch 89/180\n",
            "71/71 [==============================] - 1s 15ms/step - loss: 0.7555 - accuracy: 0.7960 - val_loss: 4.3270 - val_accuracy: 0.2200\n",
            "Epoch 90/180\n",
            "71/71 [==============================] - 1s 15ms/step - loss: 0.7771 - accuracy: 0.7978 - val_loss: 4.3506 - val_accuracy: 0.2300\n",
            "Epoch 91/180\n",
            "71/71 [==============================] - 1s 14ms/step - loss: 0.7271 - accuracy: 0.8093 - val_loss: 4.4265 - val_accuracy: 0.2167\n",
            "Epoch 92/180\n",
            "71/71 [==============================] - 1s 15ms/step - loss: 0.7722 - accuracy: 0.8116 - val_loss: 4.3871 - val_accuracy: 0.2067\n",
            "Epoch 93/180\n",
            "71/71 [==============================] - 1s 14ms/step - loss: 0.7210 - accuracy: 0.8196 - val_loss: 4.3403 - val_accuracy: 0.2300\n",
            "Epoch 94/180\n",
            "71/71 [==============================] - 1s 14ms/step - loss: 0.6777 - accuracy: 0.8138 - val_loss: 4.3617 - val_accuracy: 0.2167\n",
            "Epoch 95/180\n",
            "71/71 [==============================] - 1s 14ms/step - loss: 0.6749 - accuracy: 0.8213 - val_loss: 4.3446 - val_accuracy: 0.2100\n",
            "Epoch 96/180\n",
            "71/71 [==============================] - 1s 14ms/step - loss: 0.6904 - accuracy: 0.8222 - val_loss: 4.3043 - val_accuracy: 0.2267\n",
            "Epoch 97/180\n",
            "71/71 [==============================] - 1s 14ms/step - loss: 0.6842 - accuracy: 0.8244 - val_loss: 4.2530 - val_accuracy: 0.2367\n",
            "Epoch 98/180\n",
            "71/71 [==============================] - 1s 14ms/step - loss: 0.5995 - accuracy: 0.8431 - val_loss: 4.2480 - val_accuracy: 0.2133\n",
            "Epoch 99/180\n",
            "71/71 [==============================] - 1s 14ms/step - loss: 0.5806 - accuracy: 0.8476 - val_loss: 4.4207 - val_accuracy: 0.2100\n",
            "Epoch 100/180\n",
            "71/71 [==============================] - 1s 15ms/step - loss: 0.5916 - accuracy: 0.8444 - val_loss: 4.4060 - val_accuracy: 0.2133\n",
            "Epoch 101/180\n",
            "71/71 [==============================] - 1s 14ms/step - loss: 0.6036 - accuracy: 0.8427 - val_loss: 4.4153 - val_accuracy: 0.2100\n",
            "Epoch 102/180\n",
            "71/71 [==============================] - 1s 15ms/step - loss: 0.5133 - accuracy: 0.8507 - val_loss: 4.3818 - val_accuracy: 0.2033\n",
            "Epoch 103/180\n",
            "71/71 [==============================] - 1s 15ms/step - loss: 0.4983 - accuracy: 0.8542 - val_loss: 4.5087 - val_accuracy: 0.2000\n",
            "Epoch 104/180\n",
            "71/71 [==============================] - 1s 14ms/step - loss: 0.5226 - accuracy: 0.8573 - val_loss: 4.5348 - val_accuracy: 0.2033\n",
            "Epoch 105/180\n",
            "71/71 [==============================] - 1s 15ms/step - loss: 0.5314 - accuracy: 0.8538 - val_loss: 4.4661 - val_accuracy: 0.2200\n",
            "Epoch 106/180\n",
            "71/71 [==============================] - 1s 14ms/step - loss: 0.5573 - accuracy: 0.8596 - val_loss: 4.4549 - val_accuracy: 0.2233\n",
            "Epoch 107/180\n",
            "71/71 [==============================] - 1s 14ms/step - loss: 0.5728 - accuracy: 0.8542 - val_loss: 4.3895 - val_accuracy: 0.2300\n",
            "Epoch 108/180\n",
            "71/71 [==============================] - 1s 15ms/step - loss: 0.5133 - accuracy: 0.8653 - val_loss: 4.5158 - val_accuracy: 0.2033\n",
            "Epoch 109/180\n",
            "71/71 [==============================] - 1s 15ms/step - loss: 0.5518 - accuracy: 0.8507 - val_loss: 4.6333 - val_accuracy: 0.2133\n",
            "Epoch 110/180\n",
            "71/71 [==============================] - 1s 15ms/step - loss: 0.4861 - accuracy: 0.8733 - val_loss: 4.5692 - val_accuracy: 0.2100\n",
            "Epoch 111/180\n",
            "71/71 [==============================] - 1s 14ms/step - loss: 0.5080 - accuracy: 0.8653 - val_loss: 4.5851 - val_accuracy: 0.2267\n",
            "Epoch 112/180\n",
            "71/71 [==============================] - 1s 15ms/step - loss: 0.5222 - accuracy: 0.8684 - val_loss: 4.6295 - val_accuracy: 0.2200\n",
            "Epoch 113/180\n",
            "71/71 [==============================] - 1s 15ms/step - loss: 0.5148 - accuracy: 0.8698 - val_loss: 4.4506 - val_accuracy: 0.2033\n",
            "Epoch 114/180\n",
            "71/71 [==============================] - 1s 14ms/step - loss: 0.4193 - accuracy: 0.8809 - val_loss: 4.4652 - val_accuracy: 0.2167\n",
            "Epoch 115/180\n",
            "71/71 [==============================] - 1s 14ms/step - loss: 0.4673 - accuracy: 0.8782 - val_loss: 4.4746 - val_accuracy: 0.2233\n",
            "Epoch 116/180\n",
            "71/71 [==============================] - 1s 15ms/step - loss: 0.4238 - accuracy: 0.8778 - val_loss: 4.3699 - val_accuracy: 0.2433\n",
            "Epoch 117/180\n",
            "71/71 [==============================] - 1s 14ms/step - loss: 0.4177 - accuracy: 0.8858 - val_loss: 4.4128 - val_accuracy: 0.2167\n",
            "Epoch 118/180\n",
            "71/71 [==============================] - 1s 14ms/step - loss: 0.4319 - accuracy: 0.8867 - val_loss: 4.4307 - val_accuracy: 0.2100\n",
            "Epoch 119/180\n",
            "71/71 [==============================] - 1s 14ms/step - loss: 0.4461 - accuracy: 0.8778 - val_loss: 4.5439 - val_accuracy: 0.2233\n",
            "Epoch 120/180\n",
            "71/71 [==============================] - 1s 14ms/step - loss: 0.4698 - accuracy: 0.8796 - val_loss: 4.5550 - val_accuracy: 0.2167\n",
            "Epoch 121/180\n",
            "71/71 [==============================] - 1s 15ms/step - loss: 0.4949 - accuracy: 0.8649 - val_loss: 4.5775 - val_accuracy: 0.2167\n",
            "Epoch 122/180\n",
            "71/71 [==============================] - 1s 14ms/step - loss: 0.4676 - accuracy: 0.8751 - val_loss: 4.6160 - val_accuracy: 0.2000\n",
            "Epoch 123/180\n",
            "71/71 [==============================] - 1s 14ms/step - loss: 0.4249 - accuracy: 0.8898 - val_loss: 4.5918 - val_accuracy: 0.2067\n",
            "Epoch 124/180\n",
            "71/71 [==============================] - 1s 14ms/step - loss: 0.4141 - accuracy: 0.8898 - val_loss: 4.6082 - val_accuracy: 0.2133\n",
            "Epoch 125/180\n",
            "71/71 [==============================] - 1s 15ms/step - loss: 0.4714 - accuracy: 0.8738 - val_loss: 4.6501 - val_accuracy: 0.1833\n",
            "Epoch 126/180\n",
            "71/71 [==============================] - 1s 14ms/step - loss: 0.4207 - accuracy: 0.8822 - val_loss: 4.6372 - val_accuracy: 0.2100\n",
            "Epoch 127/180\n",
            "71/71 [==============================] - 1s 14ms/step - loss: 0.4325 - accuracy: 0.8876 - val_loss: 4.5396 - val_accuracy: 0.2167\n",
            "Epoch 128/180\n",
            "71/71 [==============================] - 1s 14ms/step - loss: 0.4012 - accuracy: 0.8902 - val_loss: 4.6634 - val_accuracy: 0.2200\n",
            "Epoch 129/180\n",
            "71/71 [==============================] - 1s 15ms/step - loss: 0.3841 - accuracy: 0.8862 - val_loss: 4.5695 - val_accuracy: 0.2267\n",
            "Epoch 130/180\n",
            "71/71 [==============================] - 1s 15ms/step - loss: 0.3998 - accuracy: 0.8911 - val_loss: 4.6626 - val_accuracy: 0.2033\n",
            "Epoch 131/180\n",
            "71/71 [==============================] - 1s 15ms/step - loss: 0.4134 - accuracy: 0.8942 - val_loss: 4.5319 - val_accuracy: 0.2400\n",
            "Epoch 132/180\n",
            "71/71 [==============================] - 1s 14ms/step - loss: 0.3815 - accuracy: 0.9084 - val_loss: 4.4700 - val_accuracy: 0.2433\n",
            "Epoch 133/180\n",
            "71/71 [==============================] - 1s 14ms/step - loss: 0.3988 - accuracy: 0.8933 - val_loss: 4.4750 - val_accuracy: 0.2233\n",
            "Epoch 134/180\n",
            "71/71 [==============================] - 1s 14ms/step - loss: 0.3599 - accuracy: 0.9053 - val_loss: 4.5103 - val_accuracy: 0.2167\n",
            "Epoch 135/180\n",
            "71/71 [==============================] - 1s 14ms/step - loss: 0.3787 - accuracy: 0.8960 - val_loss: 4.5515 - val_accuracy: 0.2067\n",
            "Epoch 136/180\n",
            "71/71 [==============================] - 1s 14ms/step - loss: 0.3548 - accuracy: 0.9076 - val_loss: 4.7137 - val_accuracy: 0.2133\n",
            "Epoch 137/180\n",
            "71/71 [==============================] - 1s 15ms/step - loss: 0.3503 - accuracy: 0.9049 - val_loss: 4.7823 - val_accuracy: 0.2067\n",
            "Epoch 138/180\n",
            "71/71 [==============================] - 1s 15ms/step - loss: 0.3478 - accuracy: 0.9062 - val_loss: 4.8130 - val_accuracy: 0.1967\n",
            "Epoch 139/180\n",
            "71/71 [==============================] - 1s 15ms/step - loss: 0.3529 - accuracy: 0.9067 - val_loss: 4.7710 - val_accuracy: 0.2000\n",
            "Epoch 140/180\n",
            "71/71 [==============================] - 1s 15ms/step - loss: 0.3405 - accuracy: 0.9116 - val_loss: 4.7377 - val_accuracy: 0.2100\n",
            "Epoch 141/180\n",
            "71/71 [==============================] - 1s 15ms/step - loss: 0.3654 - accuracy: 0.9147 - val_loss: 4.8383 - val_accuracy: 0.2167\n",
            "Epoch 142/180\n",
            "71/71 [==============================] - 1s 15ms/step - loss: 0.3598 - accuracy: 0.9098 - val_loss: 4.8314 - val_accuracy: 0.2333\n",
            "Epoch 143/180\n",
            "71/71 [==============================] - 1s 15ms/step - loss: 0.3303 - accuracy: 0.9111 - val_loss: 4.9759 - val_accuracy: 0.2300\n",
            "Epoch 144/180\n",
            "71/71 [==============================] - 1s 15ms/step - loss: 0.3649 - accuracy: 0.9018 - val_loss: 4.7994 - val_accuracy: 0.2233\n",
            "Epoch 145/180\n",
            "71/71 [==============================] - 1s 14ms/step - loss: 0.3682 - accuracy: 0.8978 - val_loss: 4.8324 - val_accuracy: 0.2167\n",
            "Epoch 146/180\n",
            "71/71 [==============================] - 1s 14ms/step - loss: 0.3549 - accuracy: 0.9076 - val_loss: 4.8592 - val_accuracy: 0.2333\n",
            "Epoch 147/180\n",
            "71/71 [==============================] - 1s 14ms/step - loss: 0.2963 - accuracy: 0.9244 - val_loss: 4.8663 - val_accuracy: 0.2333\n",
            "Epoch 148/180\n",
            "71/71 [==============================] - 1s 14ms/step - loss: 0.2976 - accuracy: 0.9196 - val_loss: 4.8647 - val_accuracy: 0.2033\n",
            "Epoch 149/180\n",
            "71/71 [==============================] - 1s 14ms/step - loss: 0.3240 - accuracy: 0.9169 - val_loss: 4.9448 - val_accuracy: 0.2300\n",
            "Epoch 150/180\n",
            "71/71 [==============================] - 1s 14ms/step - loss: 0.3195 - accuracy: 0.9142 - val_loss: 4.8116 - val_accuracy: 0.1967\n",
            "Epoch 151/180\n",
            "71/71 [==============================] - 1s 15ms/step - loss: 0.3172 - accuracy: 0.9173 - val_loss: 4.9000 - val_accuracy: 0.2167\n",
            "Epoch 152/180\n",
            "71/71 [==============================] - 1s 15ms/step - loss: 0.3088 - accuracy: 0.9169 - val_loss: 4.8895 - val_accuracy: 0.2200\n",
            "Epoch 153/180\n",
            "71/71 [==============================] - 1s 15ms/step - loss: 0.3392 - accuracy: 0.9164 - val_loss: 4.7443 - val_accuracy: 0.2267\n",
            "Epoch 154/180\n",
            "71/71 [==============================] - 1s 14ms/step - loss: 0.3044 - accuracy: 0.9178 - val_loss: 4.9963 - val_accuracy: 0.2300\n",
            "Epoch 155/180\n",
            "71/71 [==============================] - 1s 14ms/step - loss: 0.3415 - accuracy: 0.9160 - val_loss: 4.9490 - val_accuracy: 0.2333\n",
            "Epoch 156/180\n",
            "71/71 [==============================] - 1s 15ms/step - loss: 0.3213 - accuracy: 0.9231 - val_loss: 4.7380 - val_accuracy: 0.2367\n",
            "Epoch 157/180\n",
            "71/71 [==============================] - 1s 15ms/step - loss: 0.3112 - accuracy: 0.9173 - val_loss: 4.7507 - val_accuracy: 0.2267\n",
            "Epoch 158/180\n",
            "71/71 [==============================] - 1s 14ms/step - loss: 0.3027 - accuracy: 0.9187 - val_loss: 4.7170 - val_accuracy: 0.2300\n",
            "Epoch 159/180\n",
            "71/71 [==============================] - 1s 14ms/step - loss: 0.2870 - accuracy: 0.9258 - val_loss: 4.8992 - val_accuracy: 0.2267\n",
            "Epoch 160/180\n",
            "71/71 [==============================] - 1s 14ms/step - loss: 0.3124 - accuracy: 0.9147 - val_loss: 4.9365 - val_accuracy: 0.2100\n",
            "Epoch 161/180\n",
            "71/71 [==============================] - 1s 15ms/step - loss: 0.3107 - accuracy: 0.9209 - val_loss: 5.0052 - val_accuracy: 0.2133\n",
            "Epoch 162/180\n",
            "71/71 [==============================] - 1s 15ms/step - loss: 0.2978 - accuracy: 0.9280 - val_loss: 5.0030 - val_accuracy: 0.2233\n",
            "Epoch 163/180\n",
            "71/71 [==============================] - 1s 15ms/step - loss: 0.2959 - accuracy: 0.9280 - val_loss: 4.9292 - val_accuracy: 0.2367\n",
            "Epoch 164/180\n",
            "71/71 [==============================] - 1s 14ms/step - loss: 0.2753 - accuracy: 0.9267 - val_loss: 4.9422 - val_accuracy: 0.2167\n",
            "Epoch 165/180\n",
            "71/71 [==============================] - 1s 15ms/step - loss: 0.2710 - accuracy: 0.9276 - val_loss: 5.0431 - val_accuracy: 0.2167\n",
            "Epoch 166/180\n",
            "71/71 [==============================] - 1s 15ms/step - loss: 0.2655 - accuracy: 0.9236 - val_loss: 4.8750 - val_accuracy: 0.1833\n",
            "Epoch 167/180\n",
            "71/71 [==============================] - 1s 15ms/step - loss: 0.2455 - accuracy: 0.9307 - val_loss: 4.9254 - val_accuracy: 0.2033\n",
            "Epoch 168/180\n",
            "71/71 [==============================] - 1s 15ms/step - loss: 0.2920 - accuracy: 0.9280 - val_loss: 4.8047 - val_accuracy: 0.2167\n",
            "Epoch 169/180\n",
            "71/71 [==============================] - 1s 14ms/step - loss: 0.2834 - accuracy: 0.9298 - val_loss: 4.9101 - val_accuracy: 0.2033\n",
            "Epoch 170/180\n",
            "71/71 [==============================] - 1s 14ms/step - loss: 0.2852 - accuracy: 0.9267 - val_loss: 4.9271 - val_accuracy: 0.2067\n",
            "Epoch 171/180\n",
            "71/71 [==============================] - 1s 14ms/step - loss: 0.2737 - accuracy: 0.9360 - val_loss: 4.9369 - val_accuracy: 0.2000\n",
            "Epoch 172/180\n",
            "71/71 [==============================] - 1s 15ms/step - loss: 0.2531 - accuracy: 0.9356 - val_loss: 4.9814 - val_accuracy: 0.1933\n",
            "Epoch 173/180\n",
            "71/71 [==============================] - 1s 15ms/step - loss: 0.2945 - accuracy: 0.9258 - val_loss: 4.8358 - val_accuracy: 0.2133\n",
            "Epoch 174/180\n",
            "71/71 [==============================] - 1s 14ms/step - loss: 0.2534 - accuracy: 0.9404 - val_loss: 4.9589 - val_accuracy: 0.2167\n",
            "Epoch 175/180\n",
            "71/71 [==============================] - 1s 15ms/step - loss: 0.2485 - accuracy: 0.9347 - val_loss: 4.8106 - val_accuracy: 0.2167\n",
            "Epoch 176/180\n",
            "71/71 [==============================] - 1s 14ms/step - loss: 0.2225 - accuracy: 0.9427 - val_loss: 4.9062 - val_accuracy: 0.2167\n",
            "Epoch 177/180\n",
            "71/71 [==============================] - 1s 14ms/step - loss: 0.2229 - accuracy: 0.9436 - val_loss: 4.9436 - val_accuracy: 0.2200\n",
            "Epoch 178/180\n",
            "71/71 [==============================] - 1s 15ms/step - loss: 0.2701 - accuracy: 0.9298 - val_loss: 4.8679 - val_accuracy: 0.2300\n",
            "Epoch 179/180\n",
            "71/71 [==============================] - 1s 15ms/step - loss: 0.2335 - accuracy: 0.9378 - val_loss: 5.0203 - val_accuracy: 0.2033\n",
            "Epoch 180/180\n",
            "71/71 [==============================] - 1s 14ms/step - loss: 0.2369 - accuracy: 0.9400 - val_loss: 4.9589 - val_accuracy: 0.2267\n"
          ]
        }
      ],
      "source": [
        "#Compile and fit the model\n",
        "history, model = compile_and_fit(model, x_train, y_train, x_test, y_test, iterations, l_rate)"
      ]
    },
    {
      "cell_type": "code",
      "execution_count": 24,
      "metadata": {
        "colab": {
          "base_uri": "https://localhost:8080/",
          "height": 435
        },
        "id": "pMBMXPgy--9S",
        "outputId": "d0bd0da3-4b61-41a4-e07f-c7419c0032ca"
      },
      "outputs": [
        {
          "data": {
            "image/png": "[encoded data removed]",
            "text/plain": [
              "<Figure size 1080x1080 with 2 Axes>"
            ]
          },
          "metadata": {},
          "output_type": "display_data"
        }
      ],
      "source": [
        "#Plots\n",
        "acc_plots(history, iterations)"
      ]
    },
    {
      "cell_type": "code",
      "execution_count": 25,
      "metadata": {
        "colab": {
          "base_uri": "https://localhost:8080/"
        },
        "id": "A7sVGFjb_DdS",
        "outputId": "836c3e2b-dcf9-4b60-c140-650327054967"
      },
      "outputs": [
        {
          "name": "stdout",
          "output_type": "stream",
          "text": [
            "                    precision    recall  f1-score   support\n",
            "\n",
            "            Buddha       0.07      0.05      0.06        20\n",
            "            Garuda       0.37      0.50      0.43        20\n",
            "     Goddess_Durga       0.09      0.05      0.06        20\n",
            "   Goddess_Lakshmi       0.13      0.15      0.14        20\n",
            "Goddess_Saraswathi       0.04      0.05      0.05        20\n",
            "       Lord_Ganesh       0.14      0.15      0.15        20\n",
            "      Lord_Hanuman       0.06      0.05      0.06        20\n",
            "    Lord_Hayagriva       0.11      0.10      0.10        20\n",
            "        Lord_Indra       0.62      1.00      0.77        20\n",
            "      Lord_Krishna       0.00      0.00      0.00        20\n",
            "       Lord_Muruga       0.16      0.15      0.15        20\n",
            "             Nandi       0.09      0.10      0.09        20\n",
            "           Nataraj       0.50      0.45      0.47        20\n",
            "   Shirdi_Sai_Baba       0.25      0.35      0.29        20\n",
            "          Shivling       0.31      0.25      0.28        20\n",
            "\n",
            "          accuracy                           0.23       300\n",
            "         macro avg       0.20      0.23      0.21       300\n",
            "      weighted avg       0.20      0.23      0.21       300\n",
            "\n",
            "\n",
            "Accuracy = 22.666666666666664%\n"
          ]
        }
      ],
      "source": [
        "#Results\n",
        "acc_results(model, labels, x_test, y_test)"
      ]
    },
    {
      "cell_type": "markdown",
      "metadata": {
        "id": "lYyGyFyM_FAo"
      },
      "source": [
        "#### **Result: For learning rate = 1*10^(-5) and 180 iterations, the accuracy obtained was 22.66%(approx) while using CLAHE before classification.**"
      ]
    }
  ],
  "metadata": {
    "accelerator": "GPU",
    "colab": {
      "collapsed_sections": [],
      "name": "CLAHE_SIFT_ANN_MIN_KEY_Test_run_1_lr_1e(_5)_epochs_180_acc_22_67.ipynb",
      "provenance": []
    },
    "kernelspec": {
      "display_name": "Python 3",
      "name": "python3"
    },
    "language_info": {
      "name": "python"
    }
  },
  "nbformat": 4,
  "nbformat_minor": 0
}
