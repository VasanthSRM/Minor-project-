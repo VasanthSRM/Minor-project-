{
  "cells": [
    {
      "cell_type": "markdown",
      "metadata": {
        "id": "xkfpI5lL8ofl"
      },
      "source": [
        "## **CLAHE + SIFT + ANN (Max_keypoints and padding approach)**\n",
        "#### **lr=1*10^(-6), epochs=292, Accuracy = 25.00% (approx).**\n",
        "#### **Test run - 2**"
      ]
    },
    {
      "cell_type": "markdown",
      "metadata": {
        "id": "5AVHk6bP8110"
      },
      "source": [
        "#### **Aim: To find the accuracy of the model for the given learning rate and epoch value.**"
      ]
    },
    {
      "cell_type": "markdown",
      "metadata": {
        "id": "xaufx6N9PNMd"
      },
      "source": [
        "#### **For mounting drive**"
      ]
    },
    {
      "cell_type": "code",
      "execution_count": 1,
      "metadata": {
        "colab": {
          "base_uri": "https://localhost:8080/"
        },
        "id": "LoT75uFsDMt3",
        "outputId": "5acc840e-007f-4763-ac5e-c03cb6e1fbb6"
      },
      "outputs": [
        {
          "name": "stdout",
          "output_type": "stream",
          "text": [
            "Mounted at /content/drive\n"
          ]
        }
      ],
      "source": [
        "#For mounting GDrive\n",
        "from google.colab import drive\n",
        "drive.mount('/content/drive')"
      ]
    },
    {
      "cell_type": "markdown",
      "metadata": {
        "id": "hsXW3CzQ9KWG"
      },
      "source": [
        "#### **Required modules**"
      ]
    },
    {
      "cell_type": "code",
      "execution_count": 2,
      "metadata": {
        "colab": {
          "base_uri": "https://localhost:8080/"
        },
        "id": "UmlhxprSjvwi",
        "outputId": "b49ef3a2-1fa3-481b-d96d-b372655d55bb"
      },
      "outputs": [
        {
          "name": "stdout",
          "output_type": "stream",
          "text": [
            "Found existing installation: opencv-python 4.1.2.30\n",
            "Uninstalling opencv-python-4.1.2.30:\n",
            "  Would remove:\n",
            "    /usr/local/lib/python3.7/dist-packages/cv2/*\n",
            "    /usr/local/lib/python3.7/dist-packages/opencv_python-4.1.2.30.dist-info/*\n",
            "Proceed (y/n)? y\n",
            "  Successfully uninstalled opencv-python-4.1.2.30\n",
            "Collecting opencv-python\n",
            "  Downloading opencv_python-4.5.4.60-cp37-cp37m-manylinux_2_17_x86_64.manylinux2014_x86_64.whl (60.3 MB)\n",
            "\u001b[K     |████████████████████████████████| 60.3 MB 1.5 MB/s \n",
            "\u001b[?25hRequirement already satisfied: numpy>=1.14.5 in /usr/local/lib/python3.7/dist-packages (from opencv-python) (1.19.5)\n",
            "Installing collected packages: opencv-python\n",
            "\u001b[31mERROR: pip's dependency resolver does not currently take into account all the packages that are installed. This behaviour is the source of the following dependency conflicts.\n",
            "albumentations 0.1.12 requires imgaug<0.2.7,>=0.2.5, but you have imgaug 0.2.9 which is incompatible.\u001b[0m\n",
            "Successfully installed opencv-python-4.5.4.60\n"
          ]
        }
      ],
      "source": [
        "#Req. opencv 4.5+\n",
        "!pip uninstall opencv-python\n",
        "!pip install opencv-python"
      ]
    },
    {
      "cell_type": "code",
      "execution_count": 3,
      "metadata": {
        "id": "__cYeeQF8IEn"
      },
      "outputs": [],
      "source": [
        "#Importing necessary libraries\n",
        "from zipfile import ZipFile\n",
        "from tensorflow.python.client import device_lib\n",
        "import platform\n",
        "import matplotlib.pyplot as plt\n",
        "import seaborn as sns\n",
        "from tensorflow.keras.models import Sequential\n",
        "from tensorflow.keras.layers import Dense, Flatten, Dropout\n",
        "from tensorflow.keras.optimizers import Adam\n",
        "from sklearn.metrics import classification_report, accuracy_score\n",
        "import tensorflow as tf\n",
        "import cv2\n",
        "import os\n",
        "import sys\n",
        "import numpy as np\n",
        "import random"
      ]
    },
    {
      "cell_type": "markdown",
      "metadata": {
        "id": "lAtfR4ri9T-G"
      },
      "source": [
        "#### **Functions definition**"
      ]
    },
    {
      "cell_type": "code",
      "execution_count": 4,
      "metadata": {
        "id": "4TAGvB5o8ns-"
      },
      "outputs": [],
      "source": [
        "def extract_zip(file_name = \"drive/MyDrive/Dataset_test_1.zip\"):\n",
        "    with ZipFile(file_name, \"r\") as zip:\n",
        "        zip.extractall()\n",
        "        print(\"Dataset Extracted\")"
      ]
    },
    {
      "cell_type": "code",
      "execution_count": 5,
      "metadata": {
        "id": "JwTPw__89fBU"
      },
      "outputs": [],
      "source": [
        "def python_ver():\n",
        "    print(\"\\nPython version:\\n\")\n",
        "    print(sys.version)\n",
        "\n",
        "def device_info():\n",
        "    print(\"\\nDevice Info:\\n\")\n",
        "    print(device_lib.list_local_devices())\n",
        "\n",
        "def platform_info():\n",
        "    print(\"\\nPlatform Info:\\n\")\n",
        "    print(platform.platform())\n",
        "    print(platform.processor())"
      ]
    },
    {
      "cell_type": "code",
      "execution_count": 6,
      "metadata": {
        "id": "QtlFrxEVYIno"
      },
      "outputs": [],
      "source": [
        "def SIFT_test(dirs, labels, img_size):\n",
        "    \"\"\"Scale Invariant Feature Transform Test run for finding the maximum keypoints detected among all the images in the dataset\"\"\"\n",
        "    \n",
        "    max_key = 0\n",
        "    \n",
        "    for data_dir in dirs:\n",
        "        for label in labels:\n",
        "            path = os.path.join(data_dir, label)\n",
        "            for img in os.listdir(path):\n",
        "                #Reading the image in grayscale mode\n",
        "                img_arr = cv2.imread(os.path.join(path, img))\n",
        "                   \n",
        "                #Reshaping images to preferred size\n",
        "                resized_arr = cv2.resize(img_arr, (img_size, img_size)) \n",
        "\n",
        "                #CLAHE function call\n",
        "                CLAHE_img = CLAHE(resized_arr)\n",
        "\n",
        "                #Grayscale Conversion\n",
        "                gray_img = cv2.cvtColor(CLAHE_img, cv2.COLOR_BGR2GRAY)\n",
        "\n",
        "                #detecting keypoints\n",
        "                sift = cv2.SIFT_create()\n",
        "                keypoints = sift.detect(gray_img, None)\n",
        "\n",
        "                if (len(keypoints) > max_key):\n",
        "                    max_key = len(keypoints)\n",
        "                \n",
        "    return max_key\n"
      ]
    },
    {
      "cell_type": "code",
      "execution_count": 7,
      "metadata": {
        "id": "GEYZRobBfuNX"
      },
      "outputs": [],
      "source": [
        "def CLAHE(image):\n",
        "    \"\"\"Contrast limited AHE\"\"\"\n",
        "    #Convert BGR image to LAB\n",
        "    lab_img= cv2.cvtColor(image, cv2.COLOR_BGR2LAB)\n",
        "\n",
        "    #Splitting the LAB image to L, A and B channels, respectively\n",
        "    l, a, b = cv2.split(lab_img)\n",
        "\n",
        "    clahe = cv2.createCLAHE(clipLimit=3.0, tileGridSize=(8,8))\n",
        "    clahe_img = clahe.apply(l)\n",
        "\n",
        "    #Combine the CLAHE enhanced L-channel back with A and B channels\n",
        "    updated_lab_img2 = cv2.merge((clahe_img,a,b))\n",
        "\n",
        "    #Convert LAB image back to color (BGR)\n",
        "    CLAHE_img = cv2.cvtColor(updated_lab_img2, cv2.COLOR_LAB2BGR)\n",
        "\n",
        "    return CLAHE_img"
      ]
    },
    {
      "cell_type": "code",
      "execution_count": 8,
      "metadata": {
        "id": "j9IR6y7nYJ5a"
      },
      "outputs": [],
      "source": [
        "def SIFT(image, max_key):\n",
        "    \"\"\"Scale Invariant Feature Transform for finding keypoints and computing descriptors\"\"\"\n",
        "    \n",
        "    sift = cv2.SIFT_create()\n",
        "    keypoints, descriptors = sift.detectAndCompute(image, None)\n",
        "\n",
        "    cut_off = len(keypoints)\n",
        "    if (max_key<cut_off):\n",
        "        cut_off = max_key\n",
        "\n",
        "    return np.pad(np.array(descriptors, dtype=\"i\"), ((0, max_key-cut_off), (0, 0)))[:max_key]"
      ]
    },
    {
      "cell_type": "code",
      "execution_count": 9,
      "metadata": {
        "id": "GSQlfqEA9jN7"
      },
      "outputs": [],
      "source": [
        "def dataset_creation(data_dir, labels, img_size, max_key):\n",
        "    \"\"\"Loading data and shuffling\"\"\"\n",
        "    data = [] \n",
        "\n",
        "    for class_num, label in enumerate(labels): \n",
        "        path = os.path.join(data_dir, label)\n",
        "        for img in os.listdir(path):\n",
        "            try:\n",
        "                #Reading the image in grayscale mode\n",
        "                img_arr = cv2.imread(os.path.join(path, img))\n",
        "                \n",
        "                #Reshaping images to preferred size\n",
        "                resized_arr = cv2.resize(img_arr, (img_size, img_size)) \n",
        "\n",
        "                #CLAHE function call\n",
        "                CLAHE_img = CLAHE(resized_arr)\n",
        "\n",
        "                #Grayscale Conversion\n",
        "                gray_img = cv2.cvtColor(CLAHE_img, cv2.COLOR_BGR2GRAY)\n",
        "\n",
        "                #SIFT function call\n",
        "                SIFT_img_desc = SIFT(gray_img, max_key)\n",
        "                \n",
        "                data.append([SIFT_img_desc, class_num])\n",
        "            except Exception as err:\n",
        "                print(\"Error:\\n\",err)\n",
        "    \n",
        "    random.shuffle(data)\n",
        "    return np.array(data)"
      ]
    },
    {
      "cell_type": "code",
      "execution_count": 10,
      "metadata": {
        "id": "gr4RAyHY9oed"
      },
      "outputs": [],
      "source": [
        "def dataset_creation_train_stat(labels, train):\n",
        "    \"\"\"Plot initial data graph\"\"\"\n",
        "    list_graph = []\n",
        "    for i in train:\n",
        "        list_graph.append(labels[i[1]])\n",
        "    \n",
        "    sns.set_style('darkgrid')\n",
        "    plt.figure(figsize=(25, 25))    \n",
        "    sns.countplot(list_graph)\n",
        "    plt.title(\"Train set\")\n",
        "    plt.show()\n",
        "\n",
        "\n",
        "def dataset_creation_test_stat(labels, test):\n",
        "    \"\"\"Plot initial data graph\"\"\"\n",
        "    list_graph = []\n",
        "    for i in test:\n",
        "        list_graph.append(labels[i[1]])\n",
        "    \n",
        "    sns.set_style('darkgrid')\n",
        "    plt.figure(figsize=(25, 25))\n",
        "    sns.countplot(list_graph)\n",
        "    plt.title(\"Test set\")\n",
        "    plt.show()"
      ]
    },
    {
      "cell_type": "code",
      "execution_count": 11,
      "metadata": {
        "id": "mCiE7s_E9072"
      },
      "outputs": [],
      "source": [
        "def train_test_data_split(train, test):\n",
        "    \"\"\"train and test\"\"\"\n",
        "    x_train = []\n",
        "    y_train = []\n",
        "    x_test = []\n",
        "    y_test = []\n",
        "\n",
        "    for feature, label in train:\n",
        "        x_train.append(feature)\n",
        "        y_train.append(label)\n",
        "\n",
        "    for feature, label in test:\n",
        "        x_test.append(feature)\n",
        "        y_test.append(label)\n",
        "\n",
        "    return (np.array(x_train), np.array(y_train), np.array(x_test), np.array(y_test))"
      ]
    },
    {
      "cell_type": "code",
      "execution_count": 12,
      "metadata": {
        "id": "RgLvHqvB98Dd"
      },
      "outputs": [],
      "source": [
        "def build_model_ann(tot_classes, x_train):\n",
        "    \"\"\"Builds ANN model and prints model summary\"\"\"\n",
        "    model = Sequential()\n",
        "    \n",
        "    model.add(Flatten(input_shape=x_train.shape[1:]))\n",
        "    model.add(Dense(3000,activation=\"relu\"))\n",
        "    model.add(Dropout(0.5))\n",
        "    model.add(Dense(1000,activation=\"relu\"))\n",
        "    model.add(Dropout(0.5))\n",
        "    model.add(Dense(tot_classes, activation=\"softmax\"))\n",
        "\n",
        "    model.summary()\n",
        "    return model"
      ]
    },
    {
      "cell_type": "code",
      "execution_count": 13,
      "metadata": {
        "id": "9nEf4toB-BzT"
      },
      "outputs": [],
      "source": [
        "def compile_and_fit(model, x_train, y_train, x_test, y_test, iterations, l_rate):\n",
        "    \"\"\"Compiles and fits the model\"\"\"\n",
        "    opt = Adam(learning_rate=l_rate)\n",
        "    model.compile(optimizer = opt, loss = \"sparse_categorical_crossentropy\", metrics = ['accuracy'])\n",
        "    history = model.fit(x_train, y_train, epochs = iterations, validation_data = (x_test, y_test))\n",
        "\n",
        "    return (history, model)"
      ]
    },
    {
      "cell_type": "code",
      "execution_count": 14,
      "metadata": {
        "id": "BpybfYak-FKt"
      },
      "outputs": [],
      "source": [
        "def acc_plots(history, iterations):\n",
        "    \"\"\"Requires history and number of iterations\"\"\"\n",
        "    acc = history.history['accuracy']\n",
        "    val_acc = history.history['val_accuracy']\n",
        "    loss = history.history['loss']\n",
        "    val_loss = history.history['val_loss']\n",
        "\n",
        "    epochs_range = range(iterations)\n",
        "\n",
        "    plt.figure(figsize=(15, 15))\n",
        "    plt.subplot(2, 2, 1)\n",
        "    plt.plot(epochs_range, acc, label='Training Accuracy')\n",
        "    plt.plot(epochs_range, val_acc, label='Validation Accuracy')\n",
        "    plt.legend(loc='lower right')\n",
        "    plt.title('Training and Validation Accuracy')\n",
        "\n",
        "    plt.subplot(2, 2, 2)\n",
        "    plt.plot(epochs_range, loss, label='Training Loss')\n",
        "    plt.plot(epochs_range, val_loss, label='Validation Loss')\n",
        "    plt.legend(loc='upper right')\n",
        "    plt.title('Training and Validation Loss')\n",
        "    plt.show()"
      ]
    },
    {
      "cell_type": "code",
      "execution_count": 15,
      "metadata": {
        "id": "lTTbnTYd-Ipb"
      },
      "outputs": [],
      "source": [
        "def acc_results(model, labels, x_test, y_test):\n",
        "    \"\"\"Prediction and test accuracy\"\"\"\n",
        "    predictions = np.argmax(model.predict(x_test), axis=-1)\n",
        "    print(classification_report(y_test, predictions, target_names = labels))\n",
        "    print(\"\\nAccuracy = \"+str(accuracy_score(y_test, predictions)*100)+\"%\")"
      ]
    },
    {
      "cell_type": "markdown",
      "metadata": {
        "id": "M1PFZZFw-S_P"
      },
      "source": [
        "#### **Making Function calls and defining variables**"
      ]
    },
    {
      "cell_type": "code",
      "execution_count": 16,
      "metadata": {
        "colab": {
          "base_uri": "https://localhost:8080/"
        },
        "id": "OgZinHaw-Mq7",
        "outputId": "605a4284-929b-45d9-afde-edcb23357e1f"
      },
      "outputs": [
        {
          "name": "stdout",
          "output_type": "stream",
          "text": [
            "Dataset Extracted\n",
            "\n",
            "Python version:\n",
            "\n",
            "3.7.12 (default, Sep 10 2021, 00:21:48) \n",
            "[GCC 7.5.0]\n",
            "\n",
            "Device Info:\n",
            "\n",
            "[name: \"/device:CPU:0\"\n",
            "device_type: \"CPU\"\n",
            "memory_limit: 268435456\n",
            "locality {\n",
            "}\n",
            "incarnation: 8028714978595567186\n",
            "xla_global_id: -1\n",
            ", name: \"/device:GPU:0\"\n",
            "device_type: \"GPU\"\n",
            "memory_limit: 11320098816\n",
            "locality {\n",
            "  bus_id: 1\n",
            "  links {\n",
            "  }\n",
            "}\n",
            "incarnation: 733692899441468372\n",
            "physical_device_desc: \"device: 0, name: Tesla K80, pci bus id: 0000:00:04.0, compute capability: 3.7\"\n",
            "xla_global_id: 416903419\n",
            "]\n",
            "\n",
            "Platform Info:\n",
            "\n",
            "Linux-5.4.104+-x86_64-with-Ubuntu-18.04-bionic\n",
            "x86_64\n"
          ]
        }
      ],
      "source": [
        "#Extracting Dataset\n",
        "extract_zip(\"drive/MyDrive/Dataset_test_1.zip\")\n",
        "\n",
        "#Device and environment Info\n",
        "python_ver()\n",
        "device_info()\n",
        "platform_info()"
      ]
    },
    {
      "cell_type": "code",
      "execution_count": 17,
      "metadata": {
        "id": "Bl01clC0-XOZ"
      },
      "outputs": [],
      "source": [
        "#Variables\n",
        "dirs = [\"Dataset_test_1/Train\", \"Dataset_test_1/Test\"]\n",
        "labels = ['Buddha', 'Garuda', 'Goddess_Durga', 'Goddess_Lakshmi', 'Goddess_Saraswathi', 'Lord_Ganesh', \n",
        "        'Lord_Hanuman', 'Lord_Hayagriva', 'Lord_Indra', 'Lord_Krishna', 'Lord_Muruga', 'Nandi', 'Nataraj', \n",
        "        'Shirdi_Sai_Baba', 'Shivling']\n",
        "img_size = 224\n",
        "tot_classes = len(labels)\n",
        "num_sample_img = 3\n",
        "iterations = 292\n",
        "l_rate = 0.000001"
      ]
    },
    {
      "cell_type": "code",
      "execution_count": 18,
      "metadata": {
        "colab": {
          "base_uri": "https://localhost:8080/"
        },
        "id": "ngdQO8_D-kzS",
        "outputId": "ff8244b7-1cc0-4d2c-cbb7-b970ffe89b47"
      },
      "outputs": [
        {
          "name": "stderr",
          "output_type": "stream",
          "text": [
            "/usr/local/lib/python3.7/dist-packages/ipykernel_launcher.py:29: VisibleDeprecationWarning: Creating an ndarray from ragged nested sequences (which is a list-or-tuple of lists-or-tuples-or ndarrays with different lengths or shapes) is deprecated. If you meant to do this, you must specify 'dtype=object' when creating the ndarray\n"
          ]
        }
      ],
      "source": [
        "#Max keypoints detection\n",
        "max_key = SIFT_test(dirs, labels, img_size)\n",
        "\n",
        "#Computational limit\n",
        "if (max_key>1300):\n",
        "    max_key = 1300\n",
        "\n",
        "#Train and Test data loading\n",
        "train = dataset_creation(\"Dataset_test_1/Train\", labels, img_size, max_key)\n",
        "test = dataset_creation(\"Dataset_test_1/Test\", labels, img_size, max_key)"
      ]
    },
    {
      "cell_type": "code",
      "execution_count": 19,
      "metadata": {
        "colab": {
          "base_uri": "https://localhost:8080/",
          "height": 1000
        },
        "id": "ci_GDz0G-ngO",
        "outputId": "b2e6eaf9-c782-4afc-aa6e-149c43632bf6"
      },
      "outputs": [
        {
          "name": "stderr",
          "output_type": "stream",
          "text": [
            "/usr/local/lib/python3.7/dist-packages/seaborn/_decorators.py:43: FutureWarning: Pass the following variable as a keyword arg: x. From version 0.12, the only valid positional argument will be `data`, and passing other arguments without an explicit keyword will result in an error or misinterpretation.\n",
            "  FutureWarning\n"
          ]
        },
        {
          "data": {
            "image/png": "[encoded data removed]",
            "text/plain": [
              "<Figure size 1800x1800 with 1 Axes>"
            ]
          },
          "metadata": {},
          "output_type": "display_data"
        },
        {
          "name": "stderr",
          "output_type": "stream",
          "text": [
            "/usr/local/lib/python3.7/dist-packages/seaborn/_decorators.py:43: FutureWarning: Pass the following variable as a keyword arg: x. From version 0.12, the only valid positional argument will be `data`, and passing other arguments without an explicit keyword will result in an error or misinterpretation.\n",
            "  FutureWarning\n"
          ]
        },
        {
          "data": {
            "image/png": "[encoded data removed]",
            "text/plain": [
              "<Figure size 1800x1800 with 1 Axes>"
            ]
          },
          "metadata": {},
          "output_type": "display_data"
        }
      ],
      "source": [
        "#Stats\n",
        "dataset_creation_train_stat(labels, train)\n",
        "dataset_creation_test_stat(labels, test)"
      ]
    },
    {
      "cell_type": "code",
      "execution_count": 20,
      "metadata": {
        "id": "4JOI1Up6-tGQ"
      },
      "outputs": [],
      "source": [
        "#Training and testing data\n",
        "x_train, y_train, x_test, y_test = train_test_data_split(train, test)"
      ]
    },
    {
      "cell_type": "code",
      "execution_count": 21,
      "metadata": {
        "colab": {
          "base_uri": "https://localhost:8080/"
        },
        "id": "08fhlmqh-z4O",
        "outputId": "2f8a88ae-146d-48b9-81c4-5ed775d23702"
      },
      "outputs": [
        {
          "name": "stdout",
          "output_type": "stream",
          "text": [
            "Model: \"sequential\"\n",
            "_________________________________________________________________\n",
            " Layer (type)                Output Shape              Param #   \n",
            "=================================================================\n",
            " flatten (Flatten)           (None, 166400)            0         \n",
            "                                                                 \n",
            " dense (Dense)               (None, 3000)              499203000 \n",
            "                                                                 \n",
            " dropout (Dropout)           (None, 3000)              0         \n",
            "                                                                 \n",
            " dense_1 (Dense)             (None, 1000)              3001000   \n",
            "                                                                 \n",
            " dropout_1 (Dropout)         (None, 1000)              0         \n",
            "                                                                 \n",
            " dense_2 (Dense)             (None, 15)                15015     \n",
            "                                                                 \n",
            "=================================================================\n",
            "Total params: 502,219,015\n",
            "Trainable params: 502,219,015\n",
            "Non-trainable params: 0\n",
            "_________________________________________________________________\n"
          ]
        }
      ],
      "source": [
        "#Building ANN Model\n",
        "model = build_model_ann(tot_classes, x_train)"
      ]
    },
    {
      "cell_type": "code",
      "execution_count": 22,
      "metadata": {
        "colab": {
          "base_uri": "https://localhost:8080/"
        },
        "id": "j5NP-yio-5Bl",
        "outputId": "a958b3f5-6cb9-4c5d-9f36-4be97d986a59"
      },
      "outputs": [
        {
          "name": "stdout",
          "output_type": "stream",
          "text": [
            "Epoch 1/292\n",
            "71/71 [==============================] - 16s 204ms/step - loss: 88.2652 - accuracy: 0.0724 - val_loss: 29.2774 - val_accuracy: 0.0867\n",
            "Epoch 2/292\n",
            "71/71 [==============================] - 14s 200ms/step - loss: 66.8699 - accuracy: 0.0840 - val_loss: 22.6543 - val_accuracy: 0.1267\n",
            "Epoch 3/292\n",
            "71/71 [==============================] - 14s 199ms/step - loss: 53.5755 - accuracy: 0.0991 - val_loss: 18.9690 - val_accuracy: 0.1233\n",
            "Epoch 4/292\n",
            "71/71 [==============================] - 14s 202ms/step - loss: 45.8132 - accuracy: 0.1031 - val_loss: 16.6667 - val_accuracy: 0.1100\n",
            "Epoch 5/292\n",
            "71/71 [==============================] - 14s 200ms/step - loss: 38.7512 - accuracy: 0.1182 - val_loss: 15.0089 - val_accuracy: 0.1533\n",
            "Epoch 6/292\n",
            "71/71 [==============================] - 14s 199ms/step - loss: 33.7428 - accuracy: 0.1400 - val_loss: 13.5300 - val_accuracy: 0.1600\n",
            "Epoch 7/292\n",
            "71/71 [==============================] - 14s 200ms/step - loss: 30.2955 - accuracy: 0.1373 - val_loss: 12.5862 - val_accuracy: 0.1767\n",
            "Epoch 8/292\n",
            "71/71 [==============================] - 14s 200ms/step - loss: 27.1440 - accuracy: 0.1662 - val_loss: 11.7126 - val_accuracy: 0.1833\n",
            "Epoch 9/292\n",
            "71/71 [==============================] - 14s 201ms/step - loss: 23.5638 - accuracy: 0.1760 - val_loss: 11.0308 - val_accuracy: 0.1867\n",
            "Epoch 10/292\n",
            "71/71 [==============================] - 14s 201ms/step - loss: 20.9200 - accuracy: 0.1836 - val_loss: 10.5321 - val_accuracy: 0.2100\n",
            "Epoch 11/292\n",
            "71/71 [==============================] - 14s 200ms/step - loss: 20.0975 - accuracy: 0.1831 - val_loss: 10.0021 - val_accuracy: 0.1800\n",
            "Epoch 12/292\n",
            "71/71 [==============================] - 14s 201ms/step - loss: 17.3795 - accuracy: 0.2089 - val_loss: 9.7538 - val_accuracy: 0.1967\n",
            "Epoch 13/292\n",
            "71/71 [==============================] - 14s 200ms/step - loss: 15.9529 - accuracy: 0.2347 - val_loss: 9.0108 - val_accuracy: 0.2033\n",
            "Epoch 14/292\n",
            "71/71 [==============================] - 14s 200ms/step - loss: 14.7753 - accuracy: 0.2436 - val_loss: 8.6212 - val_accuracy: 0.1900\n",
            "Epoch 15/292\n",
            "71/71 [==============================] - 14s 204ms/step - loss: 13.0883 - accuracy: 0.2600 - val_loss: 8.2964 - val_accuracy: 0.2100\n",
            "Epoch 16/292\n",
            "71/71 [==============================] - 14s 201ms/step - loss: 11.8375 - accuracy: 0.2862 - val_loss: 7.9269 - val_accuracy: 0.2033\n",
            "Epoch 17/292\n",
            "71/71 [==============================] - 14s 201ms/step - loss: 11.1291 - accuracy: 0.2760 - val_loss: 7.7333 - val_accuracy: 0.2067\n",
            "Epoch 18/292\n",
            "71/71 [==============================] - 14s 201ms/step - loss: 10.3932 - accuracy: 0.2862 - val_loss: 7.7061 - val_accuracy: 0.2167\n",
            "Epoch 19/292\n",
            "71/71 [==============================] - 14s 201ms/step - loss: 9.1281 - accuracy: 0.3262 - val_loss: 7.2117 - val_accuracy: 0.2033\n",
            "Epoch 20/292\n",
            "71/71 [==============================] - 14s 201ms/step - loss: 8.7918 - accuracy: 0.3267 - val_loss: 7.1777 - val_accuracy: 0.2300\n",
            "Epoch 21/292\n",
            "71/71 [==============================] - 14s 202ms/step - loss: 7.9548 - accuracy: 0.3511 - val_loss: 6.8451 - val_accuracy: 0.2333\n",
            "Epoch 22/292\n",
            "71/71 [==============================] - 14s 201ms/step - loss: 7.2925 - accuracy: 0.3582 - val_loss: 6.4885 - val_accuracy: 0.2500\n",
            "Epoch 23/292\n",
            "71/71 [==============================] - 14s 201ms/step - loss: 6.8826 - accuracy: 0.3618 - val_loss: 6.2615 - val_accuracy: 0.2367\n",
            "Epoch 24/292\n",
            "71/71 [==============================] - 14s 201ms/step - loss: 6.5415 - accuracy: 0.3849 - val_loss: 6.2465 - val_accuracy: 0.2400\n",
            "Epoch 25/292\n",
            "71/71 [==============================] - 14s 201ms/step - loss: 5.8677 - accuracy: 0.4076 - val_loss: 6.1109 - val_accuracy: 0.2333\n",
            "Epoch 26/292\n",
            "71/71 [==============================] - 14s 202ms/step - loss: 5.3655 - accuracy: 0.4222 - val_loss: 6.0581 - val_accuracy: 0.2467\n",
            "Epoch 27/292\n",
            "71/71 [==============================] - 14s 201ms/step - loss: 5.2917 - accuracy: 0.4236 - val_loss: 5.8216 - val_accuracy: 0.2267\n",
            "Epoch 28/292\n",
            "71/71 [==============================] - 14s 202ms/step - loss: 4.7576 - accuracy: 0.4436 - val_loss: 5.8268 - val_accuracy: 0.2300\n",
            "Epoch 29/292\n",
            "71/71 [==============================] - 14s 200ms/step - loss: 4.5267 - accuracy: 0.4449 - val_loss: 5.7584 - val_accuracy: 0.2267\n",
            "Epoch 30/292\n",
            "71/71 [==============================] - 14s 202ms/step - loss: 4.3837 - accuracy: 0.4573 - val_loss: 5.6133 - val_accuracy: 0.2400\n",
            "Epoch 31/292\n",
            "71/71 [==============================] - 14s 202ms/step - loss: 3.8921 - accuracy: 0.4827 - val_loss: 5.5093 - val_accuracy: 0.2467\n",
            "Epoch 32/292\n",
            "71/71 [==============================] - 14s 202ms/step - loss: 3.7814 - accuracy: 0.4809 - val_loss: 5.3732 - val_accuracy: 0.2367\n",
            "Epoch 33/292\n",
            "71/71 [==============================] - 14s 201ms/step - loss: 3.3890 - accuracy: 0.5009 - val_loss: 5.3561 - val_accuracy: 0.2267\n",
            "Epoch 34/292\n",
            "71/71 [==============================] - 14s 201ms/step - loss: 3.3608 - accuracy: 0.5044 - val_loss: 5.4093 - val_accuracy: 0.2267\n",
            "Epoch 35/292\n",
            "71/71 [==============================] - 14s 202ms/step - loss: 3.2072 - accuracy: 0.5338 - val_loss: 5.2702 - val_accuracy: 0.2267\n",
            "Epoch 36/292\n",
            "71/71 [==============================] - 14s 204ms/step - loss: 3.1627 - accuracy: 0.5284 - val_loss: 5.4058 - val_accuracy: 0.2267\n",
            "Epoch 37/292\n",
            "71/71 [==============================] - 14s 202ms/step - loss: 2.9457 - accuracy: 0.5636 - val_loss: 5.1834 - val_accuracy: 0.2233\n",
            "Epoch 38/292\n",
            "71/71 [==============================] - 14s 202ms/step - loss: 2.7002 - accuracy: 0.5742 - val_loss: 5.0914 - val_accuracy: 0.2267\n",
            "Epoch 39/292\n",
            "71/71 [==============================] - 14s 202ms/step - loss: 2.5637 - accuracy: 0.5827 - val_loss: 5.0136 - val_accuracy: 0.2333\n",
            "Epoch 40/292\n",
            "71/71 [==============================] - 14s 202ms/step - loss: 2.5643 - accuracy: 0.5724 - val_loss: 4.9757 - val_accuracy: 0.2300\n",
            "Epoch 41/292\n",
            "71/71 [==============================] - 14s 201ms/step - loss: 2.4523 - accuracy: 0.5942 - val_loss: 4.8560 - val_accuracy: 0.2200\n",
            "Epoch 42/292\n",
            "71/71 [==============================] - 14s 201ms/step - loss: 2.2641 - accuracy: 0.5978 - val_loss: 4.8447 - val_accuracy: 0.2500\n",
            "Epoch 43/292\n",
            "71/71 [==============================] - 14s 202ms/step - loss: 2.2337 - accuracy: 0.6138 - val_loss: 4.7700 - val_accuracy: 0.2333\n",
            "Epoch 44/292\n",
            "71/71 [==============================] - 14s 201ms/step - loss: 2.1133 - accuracy: 0.6289 - val_loss: 4.7503 - val_accuracy: 0.2400\n",
            "Epoch 45/292\n",
            "71/71 [==============================] - 14s 201ms/step - loss: 2.0859 - accuracy: 0.6200 - val_loss: 4.6670 - val_accuracy: 0.2500\n",
            "Epoch 46/292\n",
            "71/71 [==============================] - 14s 202ms/step - loss: 1.9764 - accuracy: 0.6489 - val_loss: 4.7083 - val_accuracy: 0.2500\n",
            "Epoch 47/292\n",
            "71/71 [==============================] - 14s 202ms/step - loss: 1.9098 - accuracy: 0.6547 - val_loss: 4.7510 - val_accuracy: 0.2333\n",
            "Epoch 48/292\n",
            "71/71 [==============================] - 14s 201ms/step - loss: 1.7494 - accuracy: 0.6796 - val_loss: 4.7829 - val_accuracy: 0.2200\n",
            "Epoch 49/292\n",
            "71/71 [==============================] - 14s 202ms/step - loss: 1.7962 - accuracy: 0.6769 - val_loss: 4.7618 - val_accuracy: 0.2200\n",
            "Epoch 50/292\n",
            "71/71 [==============================] - 14s 201ms/step - loss: 1.6845 - accuracy: 0.6778 - val_loss: 4.6946 - val_accuracy: 0.2233\n",
            "Epoch 51/292\n",
            "71/71 [==============================] - 14s 201ms/step - loss: 1.6712 - accuracy: 0.6747 - val_loss: 4.6166 - val_accuracy: 0.2233\n",
            "Epoch 52/292\n",
            "71/71 [==============================] - 14s 202ms/step - loss: 1.4917 - accuracy: 0.7040 - val_loss: 4.7049 - val_accuracy: 0.2200\n",
            "Epoch 53/292\n",
            "71/71 [==============================] - 14s 202ms/step - loss: 1.5092 - accuracy: 0.6889 - val_loss: 4.7148 - val_accuracy: 0.2100\n",
            "Epoch 54/292\n",
            "71/71 [==============================] - 15s 204ms/step - loss: 1.4806 - accuracy: 0.7076 - val_loss: 4.5983 - val_accuracy: 0.2100\n",
            "Epoch 55/292\n",
            "71/71 [==============================] - 14s 203ms/step - loss: 1.3300 - accuracy: 0.7173 - val_loss: 4.5222 - val_accuracy: 0.2067\n",
            "Epoch 56/292\n",
            "71/71 [==============================] - 14s 202ms/step - loss: 1.3949 - accuracy: 0.7089 - val_loss: 4.4834 - val_accuracy: 0.2200\n",
            "Epoch 57/292\n",
            "71/71 [==============================] - 14s 202ms/step - loss: 1.3277 - accuracy: 0.7173 - val_loss: 4.5499 - val_accuracy: 0.2233\n",
            "Epoch 58/292\n",
            "71/71 [==============================] - 14s 202ms/step - loss: 1.2928 - accuracy: 0.7231 - val_loss: 4.5814 - val_accuracy: 0.2233\n",
            "Epoch 59/292\n",
            "71/71 [==============================] - 14s 202ms/step - loss: 1.2227 - accuracy: 0.7440 - val_loss: 4.6503 - val_accuracy: 0.2300\n",
            "Epoch 60/292\n",
            "71/71 [==============================] - 14s 202ms/step - loss: 1.1793 - accuracy: 0.7480 - val_loss: 4.6272 - val_accuracy: 0.2267\n",
            "Epoch 61/292\n",
            "71/71 [==============================] - 14s 202ms/step - loss: 1.1085 - accuracy: 0.7542 - val_loss: 4.5729 - val_accuracy: 0.2167\n",
            "Epoch 62/292\n",
            "71/71 [==============================] - 14s 202ms/step - loss: 1.1104 - accuracy: 0.7716 - val_loss: 4.6652 - val_accuracy: 0.2167\n",
            "Epoch 63/292\n",
            "71/71 [==============================] - 14s 202ms/step - loss: 1.0687 - accuracy: 0.7556 - val_loss: 4.6544 - val_accuracy: 0.2200\n",
            "Epoch 64/292\n",
            "71/71 [==============================] - 14s 202ms/step - loss: 1.0039 - accuracy: 0.7822 - val_loss: 4.6432 - val_accuracy: 0.2333\n",
            "Epoch 65/292\n",
            "71/71 [==============================] - 14s 202ms/step - loss: 1.0818 - accuracy: 0.7604 - val_loss: 4.6522 - val_accuracy: 0.2233\n",
            "Epoch 66/292\n",
            "71/71 [==============================] - 14s 202ms/step - loss: 0.9640 - accuracy: 0.7796 - val_loss: 4.5465 - val_accuracy: 0.2133\n",
            "Epoch 67/292\n",
            "71/71 [==============================] - 14s 201ms/step - loss: 0.9336 - accuracy: 0.7924 - val_loss: 4.6102 - val_accuracy: 0.2100\n",
            "Epoch 68/292\n",
            "71/71 [==============================] - 14s 202ms/step - loss: 0.9141 - accuracy: 0.7871 - val_loss: 4.6275 - val_accuracy: 0.2100\n",
            "Epoch 69/292\n",
            "71/71 [==============================] - 14s 202ms/step - loss: 1.0084 - accuracy: 0.7831 - val_loss: 4.6790 - val_accuracy: 0.2167\n",
            "Epoch 70/292\n",
            "71/71 [==============================] - 14s 202ms/step - loss: 1.0118 - accuracy: 0.7769 - val_loss: 4.6393 - val_accuracy: 0.2333\n",
            "Epoch 71/292\n",
            "71/71 [==============================] - 14s 203ms/step - loss: 0.9418 - accuracy: 0.7964 - val_loss: 4.6367 - val_accuracy: 0.2167\n",
            "Epoch 72/292\n",
            "71/71 [==============================] - 14s 202ms/step - loss: 0.8374 - accuracy: 0.8173 - val_loss: 4.6570 - val_accuracy: 0.2233\n",
            "Epoch 73/292\n",
            "71/71 [==============================] - 14s 202ms/step - loss: 0.7856 - accuracy: 0.8200 - val_loss: 4.7107 - val_accuracy: 0.2267\n",
            "Epoch 74/292\n",
            "71/71 [==============================] - 14s 203ms/step - loss: 0.8847 - accuracy: 0.8058 - val_loss: 4.6176 - val_accuracy: 0.2033\n",
            "Epoch 75/292\n",
            "71/71 [==============================] - 14s 202ms/step - loss: 0.8979 - accuracy: 0.8027 - val_loss: 4.5331 - val_accuracy: 0.2167\n",
            "Epoch 76/292\n",
            "71/71 [==============================] - 14s 203ms/step - loss: 0.8229 - accuracy: 0.8089 - val_loss: 4.5784 - val_accuracy: 0.2267\n",
            "Epoch 77/292\n",
            "71/71 [==============================] - 14s 202ms/step - loss: 0.8022 - accuracy: 0.8218 - val_loss: 4.5908 - val_accuracy: 0.2200\n",
            "Epoch 78/292\n",
            "71/71 [==============================] - 14s 203ms/step - loss: 0.7031 - accuracy: 0.8258 - val_loss: 4.6937 - val_accuracy: 0.1967\n",
            "Epoch 79/292\n",
            "71/71 [==============================] - 14s 202ms/step - loss: 0.7621 - accuracy: 0.8191 - val_loss: 4.6201 - val_accuracy: 0.2133\n",
            "Epoch 80/292\n",
            "71/71 [==============================] - 14s 202ms/step - loss: 0.7617 - accuracy: 0.8182 - val_loss: 4.6874 - val_accuracy: 0.2133\n",
            "Epoch 81/292\n",
            "71/71 [==============================] - 14s 202ms/step - loss: 0.7067 - accuracy: 0.8338 - val_loss: 4.6698 - val_accuracy: 0.2300\n",
            "Epoch 82/292\n",
            "71/71 [==============================] - 14s 202ms/step - loss: 0.6607 - accuracy: 0.8391 - val_loss: 4.7324 - val_accuracy: 0.2100\n",
            "Epoch 83/292\n",
            "71/71 [==============================] - 14s 202ms/step - loss: 0.7183 - accuracy: 0.8320 - val_loss: 4.7529 - val_accuracy: 0.2267\n",
            "Epoch 84/292\n",
            "71/71 [==============================] - 14s 202ms/step - loss: 0.6255 - accuracy: 0.8489 - val_loss: 4.6859 - val_accuracy: 0.2300\n",
            "Epoch 85/292\n",
            "71/71 [==============================] - 14s 202ms/step - loss: 0.7141 - accuracy: 0.8311 - val_loss: 4.6209 - val_accuracy: 0.2333\n",
            "Epoch 86/292\n",
            "71/71 [==============================] - 14s 202ms/step - loss: 0.7894 - accuracy: 0.8280 - val_loss: 4.5121 - val_accuracy: 0.2233\n",
            "Epoch 87/292\n",
            "71/71 [==============================] - 14s 202ms/step - loss: 0.7437 - accuracy: 0.8351 - val_loss: 4.6995 - val_accuracy: 0.2267\n",
            "Epoch 88/292\n",
            "71/71 [==============================] - 14s 202ms/step - loss: 0.6991 - accuracy: 0.8453 - val_loss: 4.8405 - val_accuracy: 0.2133\n",
            "Epoch 89/292\n",
            "71/71 [==============================] - 14s 203ms/step - loss: 0.6934 - accuracy: 0.8418 - val_loss: 4.7323 - val_accuracy: 0.2333\n",
            "Epoch 90/292\n",
            "71/71 [==============================] - 14s 202ms/step - loss: 0.6177 - accuracy: 0.8538 - val_loss: 4.7236 - val_accuracy: 0.2333\n",
            "Epoch 91/292\n",
            "71/71 [==============================] - 15s 205ms/step - loss: 0.6633 - accuracy: 0.8507 - val_loss: 4.6585 - val_accuracy: 0.2233\n",
            "Epoch 92/292\n",
            "71/71 [==============================] - 15s 205ms/step - loss: 0.6176 - accuracy: 0.8436 - val_loss: 4.5856 - val_accuracy: 0.2400\n",
            "Epoch 93/292\n",
            "71/71 [==============================] - 14s 202ms/step - loss: 0.6113 - accuracy: 0.8547 - val_loss: 4.6196 - val_accuracy: 0.2333\n",
            "Epoch 94/292\n",
            "71/71 [==============================] - 14s 203ms/step - loss: 0.6173 - accuracy: 0.8524 - val_loss: 4.5491 - val_accuracy: 0.2500\n",
            "Epoch 95/292\n",
            "71/71 [==============================] - 14s 202ms/step - loss: 0.6510 - accuracy: 0.8404 - val_loss: 4.5397 - val_accuracy: 0.2267\n",
            "Epoch 96/292\n",
            "71/71 [==============================] - 14s 203ms/step - loss: 0.6348 - accuracy: 0.8547 - val_loss: 4.3780 - val_accuracy: 0.2367\n",
            "Epoch 97/292\n",
            "71/71 [==============================] - 14s 203ms/step - loss: 0.6360 - accuracy: 0.8622 - val_loss: 4.2458 - val_accuracy: 0.2367\n",
            "Epoch 98/292\n",
            "71/71 [==============================] - 14s 203ms/step - loss: 0.6072 - accuracy: 0.8609 - val_loss: 4.4137 - val_accuracy: 0.2367\n",
            "Epoch 99/292\n",
            "71/71 [==============================] - 14s 203ms/step - loss: 0.6087 - accuracy: 0.8533 - val_loss: 4.5427 - val_accuracy: 0.2267\n",
            "Epoch 100/292\n",
            "71/71 [==============================] - 14s 203ms/step - loss: 0.5670 - accuracy: 0.8680 - val_loss: 4.7109 - val_accuracy: 0.2200\n",
            "Epoch 101/292\n",
            "71/71 [==============================] - 14s 203ms/step - loss: 0.5077 - accuracy: 0.8711 - val_loss: 4.6385 - val_accuracy: 0.2267\n",
            "Epoch 102/292\n",
            "71/71 [==============================] - 14s 202ms/step - loss: 0.4464 - accuracy: 0.8907 - val_loss: 4.6438 - val_accuracy: 0.2267\n",
            "Epoch 103/292\n",
            "71/71 [==============================] - 14s 203ms/step - loss: 0.5425 - accuracy: 0.8756 - val_loss: 4.5802 - val_accuracy: 0.2167\n",
            "Epoch 104/292\n",
            "71/71 [==============================] - 14s 203ms/step - loss: 0.5611 - accuracy: 0.8684 - val_loss: 4.6752 - val_accuracy: 0.2200\n",
            "Epoch 105/292\n",
            "71/71 [==============================] - 14s 203ms/step - loss: 0.5654 - accuracy: 0.8751 - val_loss: 4.5672 - val_accuracy: 0.2500\n",
            "Epoch 106/292\n",
            "71/71 [==============================] - 14s 203ms/step - loss: 0.5693 - accuracy: 0.8658 - val_loss: 4.6903 - val_accuracy: 0.2233\n",
            "Epoch 107/292\n",
            "71/71 [==============================] - 14s 203ms/step - loss: 0.5310 - accuracy: 0.8720 - val_loss: 4.6362 - val_accuracy: 0.2500\n",
            "Epoch 108/292\n",
            "71/71 [==============================] - 15s 206ms/step - loss: 0.5269 - accuracy: 0.8818 - val_loss: 4.5848 - val_accuracy: 0.2300\n",
            "Epoch 109/292\n",
            "71/71 [==============================] - 14s 203ms/step - loss: 0.5416 - accuracy: 0.8818 - val_loss: 4.7347 - val_accuracy: 0.2333\n",
            "Epoch 110/292\n",
            "71/71 [==============================] - 14s 203ms/step - loss: 0.5220 - accuracy: 0.8822 - val_loss: 4.6621 - val_accuracy: 0.2400\n",
            "Epoch 111/292\n",
            "71/71 [==============================] - 14s 202ms/step - loss: 0.5400 - accuracy: 0.8667 - val_loss: 4.5516 - val_accuracy: 0.2433\n",
            "Epoch 112/292\n",
            "71/71 [==============================] - 14s 203ms/step - loss: 0.5179 - accuracy: 0.8760 - val_loss: 4.6016 - val_accuracy: 0.2300\n",
            "Epoch 113/292\n",
            "71/71 [==============================] - 14s 204ms/step - loss: 0.5296 - accuracy: 0.8764 - val_loss: 4.5194 - val_accuracy: 0.2567\n",
            "Epoch 114/292\n",
            "71/71 [==============================] - 14s 203ms/step - loss: 0.4915 - accuracy: 0.8844 - val_loss: 4.5405 - val_accuracy: 0.2567\n",
            "Epoch 115/292\n",
            "71/71 [==============================] - 14s 203ms/step - loss: 0.4790 - accuracy: 0.8920 - val_loss: 4.3566 - val_accuracy: 0.2533\n",
            "Epoch 116/292\n",
            "71/71 [==============================] - 15s 205ms/step - loss: 0.5532 - accuracy: 0.8778 - val_loss: 4.6797 - val_accuracy: 0.2267\n",
            "Epoch 117/292\n",
            "71/71 [==============================] - 14s 204ms/step - loss: 0.5480 - accuracy: 0.8796 - val_loss: 4.8432 - val_accuracy: 0.2333\n",
            "Epoch 118/292\n",
            "71/71 [==============================] - 14s 204ms/step - loss: 0.5604 - accuracy: 0.8680 - val_loss: 4.6674 - val_accuracy: 0.2233\n",
            "Epoch 119/292\n",
            "71/71 [==============================] - 14s 204ms/step - loss: 0.5542 - accuracy: 0.8800 - val_loss: 4.7063 - val_accuracy: 0.2233\n",
            "Epoch 120/292\n",
            "71/71 [==============================] - 14s 204ms/step - loss: 0.4556 - accuracy: 0.8884 - val_loss: 4.6975 - val_accuracy: 0.2167\n",
            "Epoch 121/292\n",
            "71/71 [==============================] - 14s 204ms/step - loss: 0.4937 - accuracy: 0.8880 - val_loss: 4.8896 - val_accuracy: 0.2233\n",
            "Epoch 122/292\n",
            "71/71 [==============================] - 14s 203ms/step - loss: 0.4826 - accuracy: 0.8884 - val_loss: 4.8058 - val_accuracy: 0.2367\n",
            "Epoch 123/292\n",
            "71/71 [==============================] - 14s 204ms/step - loss: 0.5521 - accuracy: 0.8862 - val_loss: 4.6762 - val_accuracy: 0.2400\n",
            "Epoch 124/292\n",
            "71/71 [==============================] - 14s 203ms/step - loss: 0.5551 - accuracy: 0.8733 - val_loss: 4.6637 - val_accuracy: 0.2200\n",
            "Epoch 125/292\n",
            "71/71 [==============================] - 14s 204ms/step - loss: 0.5388 - accuracy: 0.8844 - val_loss: 4.5338 - val_accuracy: 0.2500\n",
            "Epoch 126/292\n",
            "71/71 [==============================] - 15s 205ms/step - loss: 0.4714 - accuracy: 0.8876 - val_loss: 4.4468 - val_accuracy: 0.2233\n",
            "Epoch 127/292\n",
            "71/71 [==============================] - 14s 204ms/step - loss: 0.5482 - accuracy: 0.8902 - val_loss: 4.6343 - val_accuracy: 0.2300\n",
            "Epoch 128/292\n",
            "71/71 [==============================] - 15s 205ms/step - loss: 0.5853 - accuracy: 0.8813 - val_loss: 4.7271 - val_accuracy: 0.2200\n",
            "Epoch 129/292\n",
            "71/71 [==============================] - 15s 204ms/step - loss: 0.4985 - accuracy: 0.8884 - val_loss: 4.7097 - val_accuracy: 0.2167\n",
            "Epoch 130/292\n",
            "71/71 [==============================] - 14s 204ms/step - loss: 0.4233 - accuracy: 0.9009 - val_loss: 4.7090 - val_accuracy: 0.2467\n",
            "Epoch 131/292\n",
            "71/71 [==============================] - 15s 205ms/step - loss: 0.4389 - accuracy: 0.9022 - val_loss: 4.7736 - val_accuracy: 0.2400\n",
            "Epoch 132/292\n",
            "71/71 [==============================] - 14s 204ms/step - loss: 0.4877 - accuracy: 0.8911 - val_loss: 4.7334 - val_accuracy: 0.2300\n",
            "Epoch 133/292\n",
            "71/71 [==============================] - 14s 204ms/step - loss: 0.4803 - accuracy: 0.8858 - val_loss: 4.8904 - val_accuracy: 0.2167\n",
            "Epoch 134/292\n",
            "71/71 [==============================] - 14s 204ms/step - loss: 0.4516 - accuracy: 0.8987 - val_loss: 4.9617 - val_accuracy: 0.2300\n",
            "Epoch 135/292\n",
            "71/71 [==============================] - 14s 204ms/step - loss: 0.4867 - accuracy: 0.8991 - val_loss: 4.8725 - val_accuracy: 0.2267\n",
            "Epoch 136/292\n",
            "71/71 [==============================] - 15s 207ms/step - loss: 0.4548 - accuracy: 0.8911 - val_loss: 4.7657 - val_accuracy: 0.2267\n",
            "Epoch 137/292\n",
            "71/71 [==============================] - 15s 205ms/step - loss: 0.5026 - accuracy: 0.8956 - val_loss: 4.5182 - val_accuracy: 0.2333\n",
            "Epoch 138/292\n",
            "71/71 [==============================] - 15s 205ms/step - loss: 0.4362 - accuracy: 0.9133 - val_loss: 4.8032 - val_accuracy: 0.2300\n",
            "Epoch 139/292\n",
            "71/71 [==============================] - 15s 205ms/step - loss: 0.4206 - accuracy: 0.9013 - val_loss: 4.6970 - val_accuracy: 0.2367\n",
            "Epoch 140/292\n",
            "71/71 [==============================] - 14s 204ms/step - loss: 0.3674 - accuracy: 0.9049 - val_loss: 4.5896 - val_accuracy: 0.2267\n",
            "Epoch 141/292\n",
            "71/71 [==============================] - 15s 205ms/step - loss: 0.4188 - accuracy: 0.9036 - val_loss: 4.5421 - val_accuracy: 0.2500\n",
            "Epoch 142/292\n",
            "71/71 [==============================] - 15s 205ms/step - loss: 0.4317 - accuracy: 0.9071 - val_loss: 4.7541 - val_accuracy: 0.2500\n",
            "Epoch 143/292\n",
            "71/71 [==============================] - 15s 205ms/step - loss: 0.3769 - accuracy: 0.9142 - val_loss: 4.7511 - val_accuracy: 0.2400\n",
            "Epoch 144/292\n",
            "71/71 [==============================] - 14s 204ms/step - loss: 0.3464 - accuracy: 0.9138 - val_loss: 4.8882 - val_accuracy: 0.2200\n",
            "Epoch 145/292\n",
            "71/71 [==============================] - 14s 204ms/step - loss: 0.4351 - accuracy: 0.9049 - val_loss: 4.7117 - val_accuracy: 0.2233\n",
            "Epoch 146/292\n",
            "71/71 [==============================] - 15s 205ms/step - loss: 0.3952 - accuracy: 0.9116 - val_loss: 4.7058 - val_accuracy: 0.2467\n",
            "Epoch 147/292\n",
            "71/71 [==============================] - 14s 204ms/step - loss: 0.4245 - accuracy: 0.9009 - val_loss: 4.5641 - val_accuracy: 0.2500\n",
            "Epoch 148/292\n",
            "71/71 [==============================] - 15s 205ms/step - loss: 0.3638 - accuracy: 0.9138 - val_loss: 4.5016 - val_accuracy: 0.2333\n",
            "Epoch 149/292\n",
            "71/71 [==============================] - 15s 205ms/step - loss: 0.3824 - accuracy: 0.9160 - val_loss: 4.7081 - val_accuracy: 0.2233\n",
            "Epoch 150/292\n",
            "71/71 [==============================] - 14s 204ms/step - loss: 0.3741 - accuracy: 0.9200 - val_loss: 4.8571 - val_accuracy: 0.2500\n",
            "Epoch 151/292\n",
            "71/71 [==============================] - 15s 204ms/step - loss: 0.3664 - accuracy: 0.9102 - val_loss: 4.7033 - val_accuracy: 0.2333\n",
            "Epoch 152/292\n",
            "71/71 [==============================] - 15s 205ms/step - loss: 0.3490 - accuracy: 0.9160 - val_loss: 4.7714 - val_accuracy: 0.2267\n",
            "Epoch 153/292\n",
            "71/71 [==============================] - 14s 204ms/step - loss: 0.3335 - accuracy: 0.9169 - val_loss: 4.7033 - val_accuracy: 0.2033\n",
            "Epoch 154/292\n",
            "71/71 [==============================] - 14s 204ms/step - loss: 0.3914 - accuracy: 0.9124 - val_loss: 4.6613 - val_accuracy: 0.2300\n",
            "Epoch 155/292\n",
            "71/71 [==============================] - 15s 205ms/step - loss: 0.3640 - accuracy: 0.9178 - val_loss: 4.8444 - val_accuracy: 0.2467\n",
            "Epoch 156/292\n",
            "71/71 [==============================] - 14s 204ms/step - loss: 0.3461 - accuracy: 0.9151 - val_loss: 4.7373 - val_accuracy: 0.2367\n",
            "Epoch 157/292\n",
            "71/71 [==============================] - 14s 204ms/step - loss: 0.4292 - accuracy: 0.9142 - val_loss: 4.7033 - val_accuracy: 0.2133\n",
            "Epoch 158/292\n",
            "71/71 [==============================] - 15s 205ms/step - loss: 0.3082 - accuracy: 0.9316 - val_loss: 4.9180 - val_accuracy: 0.2167\n",
            "Epoch 159/292\n",
            "71/71 [==============================] - 15s 205ms/step - loss: 0.3113 - accuracy: 0.9222 - val_loss: 4.9161 - val_accuracy: 0.2033\n",
            "Epoch 160/292\n",
            "71/71 [==============================] - 14s 204ms/step - loss: 0.3469 - accuracy: 0.9253 - val_loss: 4.9265 - val_accuracy: 0.2300\n",
            "Epoch 161/292\n",
            "71/71 [==============================] - 14s 203ms/step - loss: 0.4566 - accuracy: 0.9200 - val_loss: 5.0897 - val_accuracy: 0.2267\n",
            "Epoch 162/292\n",
            "71/71 [==============================] - 15s 205ms/step - loss: 0.3863 - accuracy: 0.9218 - val_loss: 5.1847 - val_accuracy: 0.2400\n",
            "Epoch 163/292\n",
            "71/71 [==============================] - 15s 205ms/step - loss: 0.3626 - accuracy: 0.9129 - val_loss: 4.9798 - val_accuracy: 0.2267\n",
            "Epoch 164/292\n",
            "71/71 [==============================] - 15s 205ms/step - loss: 0.3666 - accuracy: 0.9200 - val_loss: 5.0586 - val_accuracy: 0.2333\n",
            "Epoch 165/292\n",
            "71/71 [==============================] - 14s 204ms/step - loss: 0.4131 - accuracy: 0.9124 - val_loss: 5.0094 - val_accuracy: 0.2567\n",
            "Epoch 166/292\n",
            "71/71 [==============================] - 15s 205ms/step - loss: 0.4250 - accuracy: 0.9120 - val_loss: 5.0213 - val_accuracy: 0.2500\n",
            "Epoch 167/292\n",
            "71/71 [==============================] - 14s 204ms/step - loss: 0.4153 - accuracy: 0.9124 - val_loss: 5.0036 - val_accuracy: 0.2533\n",
            "Epoch 168/292\n",
            "71/71 [==============================] - 15s 205ms/step - loss: 0.3908 - accuracy: 0.9204 - val_loss: 4.9642 - val_accuracy: 0.2600\n",
            "Epoch 169/292\n",
            "71/71 [==============================] - 15s 205ms/step - loss: 0.2966 - accuracy: 0.9262 - val_loss: 4.9541 - val_accuracy: 0.2300\n",
            "Epoch 170/292\n",
            "71/71 [==============================] - 15s 204ms/step - loss: 0.3767 - accuracy: 0.9289 - val_loss: 4.9614 - val_accuracy: 0.2267\n",
            "Epoch 171/292\n",
            "71/71 [==============================] - 14s 204ms/step - loss: 0.4024 - accuracy: 0.9191 - val_loss: 4.8613 - val_accuracy: 0.2333\n",
            "Epoch 172/292\n",
            "71/71 [==============================] - 15s 205ms/step - loss: 0.3810 - accuracy: 0.9200 - val_loss: 4.8545 - val_accuracy: 0.2467\n",
            "Epoch 173/292\n",
            "71/71 [==============================] - 15s 204ms/step - loss: 0.3846 - accuracy: 0.9218 - val_loss: 5.1232 - val_accuracy: 0.2300\n",
            "Epoch 174/292\n",
            "71/71 [==============================] - 15s 205ms/step - loss: 0.3938 - accuracy: 0.9164 - val_loss: 5.0383 - val_accuracy: 0.2367\n",
            "Epoch 175/292\n",
            "71/71 [==============================] - 14s 204ms/step - loss: 0.3217 - accuracy: 0.9307 - val_loss: 5.0368 - val_accuracy: 0.2400\n",
            "Epoch 176/292\n",
            "71/71 [==============================] - 14s 204ms/step - loss: 0.3695 - accuracy: 0.9178 - val_loss: 4.9504 - val_accuracy: 0.2500\n",
            "Epoch 177/292\n",
            "71/71 [==============================] - 15s 204ms/step - loss: 0.4172 - accuracy: 0.9236 - val_loss: 4.9581 - val_accuracy: 0.2467\n",
            "Epoch 178/292\n",
            "71/71 [==============================] - 15s 205ms/step - loss: 0.3878 - accuracy: 0.9173 - val_loss: 4.8297 - val_accuracy: 0.2467\n",
            "Epoch 179/292\n",
            "71/71 [==============================] - 15s 205ms/step - loss: 0.4037 - accuracy: 0.9244 - val_loss: 4.9058 - val_accuracy: 0.2600\n",
            "Epoch 180/292\n",
            "71/71 [==============================] - 15s 205ms/step - loss: 0.3680 - accuracy: 0.9271 - val_loss: 4.8275 - val_accuracy: 0.2200\n",
            "Epoch 181/292\n",
            "71/71 [==============================] - 15s 205ms/step - loss: 0.3176 - accuracy: 0.9271 - val_loss: 5.0169 - val_accuracy: 0.2267\n",
            "Epoch 182/292\n",
            "71/71 [==============================] - 15s 206ms/step - loss: 0.3787 - accuracy: 0.9231 - val_loss: 4.9231 - val_accuracy: 0.2367\n",
            "Epoch 183/292\n",
            "71/71 [==============================] - 15s 205ms/step - loss: 0.3431 - accuracy: 0.9333 - val_loss: 4.9885 - val_accuracy: 0.2300\n",
            "Epoch 184/292\n",
            "71/71 [==============================] - 15s 205ms/step - loss: 0.2627 - accuracy: 0.9351 - val_loss: 4.9451 - val_accuracy: 0.2367\n",
            "Epoch 185/292\n",
            "71/71 [==============================] - 15s 206ms/step - loss: 0.3048 - accuracy: 0.9276 - val_loss: 4.8485 - val_accuracy: 0.2367\n",
            "Epoch 186/292\n",
            "71/71 [==============================] - 15s 205ms/step - loss: 0.2803 - accuracy: 0.9360 - val_loss: 4.7786 - val_accuracy: 0.2533\n",
            "Epoch 187/292\n",
            "71/71 [==============================] - 15s 205ms/step - loss: 0.3385 - accuracy: 0.9231 - val_loss: 5.0324 - val_accuracy: 0.2567\n",
            "Epoch 188/292\n",
            "71/71 [==============================] - 15s 205ms/step - loss: 0.3057 - accuracy: 0.9320 - val_loss: 5.1904 - val_accuracy: 0.2367\n",
            "Epoch 189/292\n",
            "71/71 [==============================] - 15s 207ms/step - loss: 0.3086 - accuracy: 0.9342 - val_loss: 5.4253 - val_accuracy: 0.2233\n",
            "Epoch 190/292\n",
            "71/71 [==============================] - 15s 205ms/step - loss: 0.3586 - accuracy: 0.9253 - val_loss: 5.1027 - val_accuracy: 0.2400\n",
            "Epoch 191/292\n",
            "71/71 [==============================] - 14s 204ms/step - loss: 0.3394 - accuracy: 0.9293 - val_loss: 5.1936 - val_accuracy: 0.2167\n",
            "Epoch 192/292\n",
            "71/71 [==============================] - 14s 203ms/step - loss: 0.3701 - accuracy: 0.9271 - val_loss: 5.2462 - val_accuracy: 0.2367\n",
            "Epoch 193/292\n",
            "71/71 [==============================] - 15s 205ms/step - loss: 0.3558 - accuracy: 0.9280 - val_loss: 5.1781 - val_accuracy: 0.2533\n",
            "Epoch 194/292\n",
            "71/71 [==============================] - 14s 204ms/step - loss: 0.2832 - accuracy: 0.9413 - val_loss: 5.1590 - val_accuracy: 0.2500\n",
            "Epoch 195/292\n",
            "71/71 [==============================] - 15s 205ms/step - loss: 0.3008 - accuracy: 0.9302 - val_loss: 5.1886 - val_accuracy: 0.2333\n",
            "Epoch 196/292\n",
            "71/71 [==============================] - 14s 204ms/step - loss: 0.3227 - accuracy: 0.9293 - val_loss: 5.3180 - val_accuracy: 0.2300\n",
            "Epoch 197/292\n",
            "71/71 [==============================] - 14s 204ms/step - loss: 0.3076 - accuracy: 0.9320 - val_loss: 5.3505 - val_accuracy: 0.2333\n",
            "Epoch 198/292\n",
            "71/71 [==============================] - 14s 204ms/step - loss: 0.2947 - accuracy: 0.9311 - val_loss: 5.1222 - val_accuracy: 0.2400\n",
            "Epoch 199/292\n",
            "71/71 [==============================] - 15s 205ms/step - loss: 0.3124 - accuracy: 0.9378 - val_loss: 5.1995 - val_accuracy: 0.2533\n",
            "Epoch 200/292\n",
            "71/71 [==============================] - 14s 204ms/step - loss: 0.4119 - accuracy: 0.9280 - val_loss: 5.0565 - val_accuracy: 0.2567\n",
            "Epoch 201/292\n",
            "71/71 [==============================] - 14s 204ms/step - loss: 0.2883 - accuracy: 0.9356 - val_loss: 5.1096 - val_accuracy: 0.2467\n",
            "Epoch 202/292\n",
            "71/71 [==============================] - 15s 205ms/step - loss: 0.3150 - accuracy: 0.9258 - val_loss: 5.1988 - val_accuracy: 0.2300\n",
            "Epoch 203/292\n",
            "71/71 [==============================] - 14s 204ms/step - loss: 0.3438 - accuracy: 0.9298 - val_loss: 5.2350 - val_accuracy: 0.2300\n",
            "Epoch 204/292\n",
            "71/71 [==============================] - 14s 204ms/step - loss: 0.2905 - accuracy: 0.9298 - val_loss: 5.1927 - val_accuracy: 0.2233\n",
            "Epoch 205/292\n",
            "71/71 [==============================] - 15s 205ms/step - loss: 0.2783 - accuracy: 0.9422 - val_loss: 5.2938 - val_accuracy: 0.2267\n",
            "Epoch 206/292\n",
            "71/71 [==============================] - 14s 204ms/step - loss: 0.3098 - accuracy: 0.9311 - val_loss: 5.1673 - val_accuracy: 0.2133\n",
            "Epoch 207/292\n",
            "71/71 [==============================] - 15s 205ms/step - loss: 0.2721 - accuracy: 0.9369 - val_loss: 5.2865 - val_accuracy: 0.2200\n",
            "Epoch 208/292\n",
            "71/71 [==============================] - 15s 205ms/step - loss: 0.3032 - accuracy: 0.9293 - val_loss: 5.1029 - val_accuracy: 0.2333\n",
            "Epoch 209/292\n",
            "71/71 [==============================] - 15s 205ms/step - loss: 0.2803 - accuracy: 0.9453 - val_loss: 5.1664 - val_accuracy: 0.2367\n",
            "Epoch 210/292\n",
            "71/71 [==============================] - 15s 204ms/step - loss: 0.3240 - accuracy: 0.9360 - val_loss: 5.2042 - val_accuracy: 0.2433\n",
            "Epoch 211/292\n",
            "71/71 [==============================] - 14s 204ms/step - loss: 0.3096 - accuracy: 0.9373 - val_loss: 5.1843 - val_accuracy: 0.2433\n",
            "Epoch 212/292\n",
            "71/71 [==============================] - 15s 205ms/step - loss: 0.2824 - accuracy: 0.9360 - val_loss: 5.1830 - val_accuracy: 0.2300\n",
            "Epoch 213/292\n",
            "71/71 [==============================] - 14s 204ms/step - loss: 0.3496 - accuracy: 0.9316 - val_loss: 5.0607 - val_accuracy: 0.2467\n",
            "Epoch 214/292\n",
            "71/71 [==============================] - 14s 204ms/step - loss: 0.2954 - accuracy: 0.9373 - val_loss: 5.0776 - val_accuracy: 0.2500\n",
            "Epoch 215/292\n",
            "71/71 [==============================] - 15s 205ms/step - loss: 0.3360 - accuracy: 0.9378 - val_loss: 4.9912 - val_accuracy: 0.2567\n",
            "Epoch 216/292\n",
            "71/71 [==============================] - 14s 204ms/step - loss: 0.3010 - accuracy: 0.9356 - val_loss: 5.2176 - val_accuracy: 0.2233\n",
            "Epoch 217/292\n",
            "71/71 [==============================] - 15s 205ms/step - loss: 0.3120 - accuracy: 0.9378 - val_loss: 5.3231 - val_accuracy: 0.2500\n",
            "Epoch 218/292\n",
            "71/71 [==============================] - 15s 205ms/step - loss: 0.3050 - accuracy: 0.9400 - val_loss: 5.1028 - val_accuracy: 0.2600\n",
            "Epoch 219/292\n",
            "71/71 [==============================] - 15s 207ms/step - loss: 0.2782 - accuracy: 0.9431 - val_loss: 4.9613 - val_accuracy: 0.2300\n",
            "Epoch 220/292\n",
            "71/71 [==============================] - 15s 205ms/step - loss: 0.3339 - accuracy: 0.9364 - val_loss: 5.0863 - val_accuracy: 0.2433\n",
            "Epoch 221/292\n",
            "71/71 [==============================] - 15s 205ms/step - loss: 0.2919 - accuracy: 0.9382 - val_loss: 5.1533 - val_accuracy: 0.2500\n",
            "Epoch 222/292\n",
            "71/71 [==============================] - 15s 205ms/step - loss: 0.2419 - accuracy: 0.9498 - val_loss: 5.5353 - val_accuracy: 0.2433\n",
            "Epoch 223/292\n",
            "71/71 [==============================] - 15s 204ms/step - loss: 0.3093 - accuracy: 0.9444 - val_loss: 5.7253 - val_accuracy: 0.2300\n",
            "Epoch 224/292\n",
            "71/71 [==============================] - 15s 205ms/step - loss: 0.2831 - accuracy: 0.9422 - val_loss: 5.6981 - val_accuracy: 0.2467\n",
            "Epoch 225/292\n",
            "71/71 [==============================] - 15s 205ms/step - loss: 0.2676 - accuracy: 0.9427 - val_loss: 5.7724 - val_accuracy: 0.2233\n",
            "Epoch 226/292\n",
            "71/71 [==============================] - 15s 205ms/step - loss: 0.4063 - accuracy: 0.9307 - val_loss: 5.3556 - val_accuracy: 0.2300\n",
            "Epoch 227/292\n",
            "71/71 [==============================] - 15s 205ms/step - loss: 0.2939 - accuracy: 0.9382 - val_loss: 5.1605 - val_accuracy: 0.2533\n",
            "Epoch 228/292\n",
            "71/71 [==============================] - 15s 205ms/step - loss: 0.2446 - accuracy: 0.9493 - val_loss: 5.0704 - val_accuracy: 0.2333\n",
            "Epoch 229/292\n",
            "71/71 [==============================] - 15s 205ms/step - loss: 0.2633 - accuracy: 0.9467 - val_loss: 5.2458 - val_accuracy: 0.2300\n",
            "Epoch 230/292\n",
            "71/71 [==============================] - 15s 208ms/step - loss: 0.2881 - accuracy: 0.9427 - val_loss: 5.2443 - val_accuracy: 0.2233\n",
            "Epoch 231/292\n",
            "71/71 [==============================] - 15s 204ms/step - loss: 0.3008 - accuracy: 0.9382 - val_loss: 5.5049 - val_accuracy: 0.2400\n",
            "Epoch 232/292\n",
            "71/71 [==============================] - 14s 204ms/step - loss: 0.2389 - accuracy: 0.9520 - val_loss: 5.3791 - val_accuracy: 0.2533\n",
            "Epoch 233/292\n",
            "71/71 [==============================] - 14s 204ms/step - loss: 0.3158 - accuracy: 0.9338 - val_loss: 5.2588 - val_accuracy: 0.2600\n",
            "Epoch 234/292\n",
            "71/71 [==============================] - 15s 205ms/step - loss: 0.2634 - accuracy: 0.9458 - val_loss: 5.2505 - val_accuracy: 0.2467\n",
            "Epoch 235/292\n",
            "71/71 [==============================] - 15s 205ms/step - loss: 0.2772 - accuracy: 0.9484 - val_loss: 5.1287 - val_accuracy: 0.2433\n",
            "Epoch 236/292\n",
            "71/71 [==============================] - 14s 204ms/step - loss: 0.2246 - accuracy: 0.9458 - val_loss: 5.0808 - val_accuracy: 0.2667\n",
            "Epoch 237/292\n",
            "71/71 [==============================] - 15s 206ms/step - loss: 0.2340 - accuracy: 0.9453 - val_loss: 5.1919 - val_accuracy: 0.2500\n",
            "Epoch 238/292\n",
            "71/71 [==============================] - 15s 205ms/step - loss: 0.2935 - accuracy: 0.9480 - val_loss: 5.2638 - val_accuracy: 0.2467\n",
            "Epoch 239/292\n",
            "71/71 [==============================] - 15s 205ms/step - loss: 0.2337 - accuracy: 0.9493 - val_loss: 5.6095 - val_accuracy: 0.2400\n",
            "Epoch 240/292\n",
            "71/71 [==============================] - 15s 205ms/step - loss: 0.3215 - accuracy: 0.9409 - val_loss: 5.4738 - val_accuracy: 0.2700\n",
            "Epoch 241/292\n",
            "71/71 [==============================] - 15s 205ms/step - loss: 0.2267 - accuracy: 0.9480 - val_loss: 5.4959 - val_accuracy: 0.2467\n",
            "Epoch 242/292\n",
            "71/71 [==============================] - 15s 205ms/step - loss: 0.2858 - accuracy: 0.9422 - val_loss: 5.2636 - val_accuracy: 0.2567\n",
            "Epoch 243/292\n",
            "71/71 [==============================] - 15s 205ms/step - loss: 0.2499 - accuracy: 0.9458 - val_loss: 5.3613 - val_accuracy: 0.2167\n",
            "Epoch 244/292\n",
            "71/71 [==============================] - 14s 204ms/step - loss: 0.2545 - accuracy: 0.9498 - val_loss: 5.3701 - val_accuracy: 0.2333\n",
            "Epoch 245/292\n",
            "71/71 [==============================] - 15s 205ms/step - loss: 0.3399 - accuracy: 0.9440 - val_loss: 5.1091 - val_accuracy: 0.2433\n",
            "Epoch 246/292\n",
            "71/71 [==============================] - 15s 205ms/step - loss: 0.2964 - accuracy: 0.9489 - val_loss: 5.1768 - val_accuracy: 0.2600\n",
            "Epoch 247/292\n",
            "71/71 [==============================] - 15s 206ms/step - loss: 0.2122 - accuracy: 0.9524 - val_loss: 5.2642 - val_accuracy: 0.2233\n",
            "Epoch 248/292\n",
            "71/71 [==============================] - 14s 203ms/step - loss: 0.1963 - accuracy: 0.9520 - val_loss: 5.5063 - val_accuracy: 0.2433\n",
            "Epoch 249/292\n",
            "71/71 [==============================] - 14s 204ms/step - loss: 0.2893 - accuracy: 0.9422 - val_loss: 5.3689 - val_accuracy: 0.2433\n",
            "Epoch 250/292\n",
            "71/71 [==============================] - 15s 205ms/step - loss: 0.2505 - accuracy: 0.9427 - val_loss: 5.1687 - val_accuracy: 0.2433\n",
            "Epoch 251/292\n",
            "71/71 [==============================] - 15s 206ms/step - loss: 0.2285 - accuracy: 0.9476 - val_loss: 5.3938 - val_accuracy: 0.2500\n",
            "Epoch 252/292\n",
            "71/71 [==============================] - 15s 206ms/step - loss: 0.2237 - accuracy: 0.9484 - val_loss: 5.2247 - val_accuracy: 0.2633\n",
            "Epoch 253/292\n",
            "71/71 [==============================] - 15s 205ms/step - loss: 0.2140 - accuracy: 0.9582 - val_loss: 5.1793 - val_accuracy: 0.2400\n",
            "Epoch 254/292\n",
            "71/71 [==============================] - 15s 206ms/step - loss: 0.2391 - accuracy: 0.9493 - val_loss: 5.3465 - val_accuracy: 0.2333\n",
            "Epoch 255/292\n",
            "71/71 [==============================] - 15s 206ms/step - loss: 0.2732 - accuracy: 0.9516 - val_loss: 5.3885 - val_accuracy: 0.2500\n",
            "Epoch 256/292\n",
            "71/71 [==============================] - 15s 205ms/step - loss: 0.2677 - accuracy: 0.9507 - val_loss: 5.5829 - val_accuracy: 0.2267\n",
            "Epoch 257/292\n",
            "71/71 [==============================] - 15s 206ms/step - loss: 0.2307 - accuracy: 0.9498 - val_loss: 5.4749 - val_accuracy: 0.2333\n",
            "Epoch 258/292\n",
            "71/71 [==============================] - 15s 206ms/step - loss: 0.3431 - accuracy: 0.9404 - val_loss: 5.3265 - val_accuracy: 0.2533\n",
            "Epoch 259/292\n",
            "71/71 [==============================] - 15s 205ms/step - loss: 0.2555 - accuracy: 0.9547 - val_loss: 5.3822 - val_accuracy: 0.2433\n",
            "Epoch 260/292\n",
            "71/71 [==============================] - 15s 206ms/step - loss: 0.2653 - accuracy: 0.9471 - val_loss: 5.3836 - val_accuracy: 0.2233\n",
            "Epoch 261/292\n",
            "71/71 [==============================] - 15s 207ms/step - loss: 0.3482 - accuracy: 0.9391 - val_loss: 5.5933 - val_accuracy: 0.2467\n",
            "Epoch 262/292\n",
            "71/71 [==============================] - 15s 206ms/step - loss: 0.2516 - accuracy: 0.9480 - val_loss: 5.4180 - val_accuracy: 0.2367\n",
            "Epoch 263/292\n",
            "71/71 [==============================] - 15s 207ms/step - loss: 0.3018 - accuracy: 0.9462 - val_loss: 5.3909 - val_accuracy: 0.2433\n",
            "Epoch 264/292\n",
            "71/71 [==============================] - 15s 207ms/step - loss: 0.2517 - accuracy: 0.9529 - val_loss: 5.5223 - val_accuracy: 0.2300\n",
            "Epoch 265/292\n",
            "71/71 [==============================] - 15s 206ms/step - loss: 0.2173 - accuracy: 0.9556 - val_loss: 5.3182 - val_accuracy: 0.2267\n",
            "Epoch 266/292\n",
            "71/71 [==============================] - 15s 206ms/step - loss: 0.2068 - accuracy: 0.9529 - val_loss: 5.3187 - val_accuracy: 0.2500\n",
            "Epoch 267/292\n",
            "71/71 [==============================] - 15s 206ms/step - loss: 0.1915 - accuracy: 0.9573 - val_loss: 5.3405 - val_accuracy: 0.2533\n",
            "Epoch 268/292\n",
            "71/71 [==============================] - 15s 206ms/step - loss: 0.2491 - accuracy: 0.9520 - val_loss: 5.4225 - val_accuracy: 0.2567\n",
            "Epoch 269/292\n",
            "71/71 [==============================] - 15s 206ms/step - loss: 0.2864 - accuracy: 0.9462 - val_loss: 5.4857 - val_accuracy: 0.2367\n",
            "Epoch 270/292\n",
            "71/71 [==============================] - 15s 206ms/step - loss: 0.2400 - accuracy: 0.9498 - val_loss: 5.4150 - val_accuracy: 0.2400\n",
            "Epoch 271/292\n",
            "71/71 [==============================] - 15s 207ms/step - loss: 0.2299 - accuracy: 0.9551 - val_loss: 5.2562 - val_accuracy: 0.2433\n",
            "Epoch 272/292\n",
            "71/71 [==============================] - 15s 206ms/step - loss: 0.3073 - accuracy: 0.9511 - val_loss: 5.1903 - val_accuracy: 0.2400\n",
            "Epoch 273/292\n",
            "71/71 [==============================] - 15s 207ms/step - loss: 0.2771 - accuracy: 0.9418 - val_loss: 5.3167 - val_accuracy: 0.2467\n",
            "Epoch 274/292\n",
            "71/71 [==============================] - 15s 206ms/step - loss: 0.2412 - accuracy: 0.9480 - val_loss: 5.3451 - val_accuracy: 0.2333\n",
            "Epoch 275/292\n",
            "71/71 [==============================] - 15s 205ms/step - loss: 0.2335 - accuracy: 0.9538 - val_loss: 5.4514 - val_accuracy: 0.2533\n",
            "Epoch 276/292\n",
            "71/71 [==============================] - 15s 206ms/step - loss: 0.2605 - accuracy: 0.9498 - val_loss: 5.2495 - val_accuracy: 0.2367\n",
            "Epoch 277/292\n",
            "71/71 [==============================] - 15s 206ms/step - loss: 0.2506 - accuracy: 0.9529 - val_loss: 5.3897 - val_accuracy: 0.2400\n",
            "Epoch 278/292\n",
            "71/71 [==============================] - 15s 206ms/step - loss: 0.2345 - accuracy: 0.9524 - val_loss: 5.3584 - val_accuracy: 0.2300\n",
            "Epoch 279/292\n",
            "71/71 [==============================] - 15s 206ms/step - loss: 0.2516 - accuracy: 0.9564 - val_loss: 5.3631 - val_accuracy: 0.2333\n",
            "Epoch 280/292\n",
            "71/71 [==============================] - 15s 206ms/step - loss: 0.2824 - accuracy: 0.9511 - val_loss: 5.3875 - val_accuracy: 0.2467\n",
            "Epoch 281/292\n",
            "71/71 [==============================] - 15s 206ms/step - loss: 0.2552 - accuracy: 0.9524 - val_loss: 5.2029 - val_accuracy: 0.2500\n",
            "Epoch 282/292\n",
            "71/71 [==============================] - 15s 206ms/step - loss: 0.2446 - accuracy: 0.9484 - val_loss: 5.6019 - val_accuracy: 0.2433\n",
            "Epoch 283/292\n",
            "71/71 [==============================] - 15s 206ms/step - loss: 0.2733 - accuracy: 0.9609 - val_loss: 5.3010 - val_accuracy: 0.2567\n",
            "Epoch 284/292\n",
            "71/71 [==============================] - 15s 206ms/step - loss: 0.2841 - accuracy: 0.9547 - val_loss: 5.5759 - val_accuracy: 0.2367\n",
            "Epoch 285/292\n",
            "71/71 [==============================] - 15s 206ms/step - loss: 0.2286 - accuracy: 0.9507 - val_loss: 5.4373 - val_accuracy: 0.2333\n",
            "Epoch 286/292\n",
            "71/71 [==============================] - 15s 206ms/step - loss: 0.2297 - accuracy: 0.9573 - val_loss: 5.3211 - val_accuracy: 0.2367\n",
            "Epoch 287/292\n",
            "71/71 [==============================] - 15s 206ms/step - loss: 0.2029 - accuracy: 0.9556 - val_loss: 5.3536 - val_accuracy: 0.2367\n",
            "Epoch 288/292\n",
            "71/71 [==============================] - 15s 207ms/step - loss: 0.1736 - accuracy: 0.9622 - val_loss: 5.4622 - val_accuracy: 0.2367\n",
            "Epoch 289/292\n",
            "71/71 [==============================] - 15s 207ms/step - loss: 0.2331 - accuracy: 0.9600 - val_loss: 5.5245 - val_accuracy: 0.2267\n",
            "Epoch 290/292\n",
            "71/71 [==============================] - 15s 207ms/step - loss: 0.1673 - accuracy: 0.9627 - val_loss: 5.3459 - val_accuracy: 0.2433\n",
            "Epoch 291/292\n",
            "71/71 [==============================] - 15s 207ms/step - loss: 0.1707 - accuracy: 0.9591 - val_loss: 5.1765 - val_accuracy: 0.2367\n",
            "Epoch 292/292\n",
            "71/71 [==============================] - 15s 207ms/step - loss: 0.2027 - accuracy: 0.9587 - val_loss: 5.2926 - val_accuracy: 0.2500\n"
          ]
        }
      ],
      "source": [
        "#Compile and fit the model\n",
        "history, model = compile_and_fit(model, x_train, y_train, x_test, y_test, iterations, l_rate)"
      ]
    },
    {
      "cell_type": "code",
      "execution_count": 23,
      "metadata": {
        "colab": {
          "base_uri": "https://localhost:8080/",
          "height": 435
        },
        "id": "pMBMXPgy--9S",
        "outputId": "7146a7d0-06ca-4799-c7ab-3689a3350562"
      },
      "outputs": [
        {
          "data": {
            "image/png": "[encoded data removed]",
            "text/plain": [
              "<Figure size 1080x1080 with 2 Axes>"
            ]
          },
          "metadata": {},
          "output_type": "display_data"
        }
      ],
      "source": [
        "#Plots\n",
        "acc_plots(history, iterations)"
      ]
    },
    {
      "cell_type": "code",
      "execution_count": 24,
      "metadata": {
        "colab": {
          "base_uri": "https://localhost:8080/"
        },
        "id": "A7sVGFjb_DdS",
        "outputId": "411216c5-b27b-4aea-83f3-9d69fed18924"
      },
      "outputs": [
        {
          "name": "stdout",
          "output_type": "stream",
          "text": [
            "                    precision    recall  f1-score   support\n",
            "\n",
            "            Buddha       0.23      0.30      0.26        20\n",
            "            Garuda       0.83      0.50      0.62        20\n",
            "     Goddess_Durga       0.18      0.10      0.13        20\n",
            "   Goddess_Lakshmi       0.13      0.20      0.16        20\n",
            "Goddess_Saraswathi       0.09      0.10      0.09        20\n",
            "       Lord_Ganesh       0.07      0.05      0.06        20\n",
            "      Lord_Hanuman       0.33      0.10      0.15        20\n",
            "    Lord_Hayagriva       0.05      0.05      0.05        20\n",
            "        Lord_Indra       0.62      1.00      0.77        20\n",
            "      Lord_Krishna       0.17      0.20      0.19        20\n",
            "       Lord_Muruga       0.17      0.20      0.18        20\n",
            "             Nandi       0.03      0.05      0.04        20\n",
            "           Nataraj       0.56      0.50      0.53        20\n",
            "   Shirdi_Sai_Baba       0.27      0.15      0.19        20\n",
            "          Shivling       0.29      0.25      0.27        20\n",
            "\n",
            "          accuracy                           0.25       300\n",
            "         macro avg       0.27      0.25      0.25       300\n",
            "      weighted avg       0.27      0.25      0.25       300\n",
            "\n",
            "\n",
            "Accuracy = 25.0%\n"
          ]
        }
      ],
      "source": [
        "#Results\n",
        "acc_results(model, labels, x_test, y_test)"
      ]
    },
    {
      "cell_type": "markdown",
      "metadata": {
        "id": "lYyGyFyM_FAo"
      },
      "source": [
        "#### **Result: For learning rate = 1*10^(-6) and 292 iterations, the accuracy obtained was 25.00% while using CLAHE before classification.**"
      ]
    }
  ],
  "metadata": {
    "accelerator": "GPU",
    "colab": {
      "collapsed_sections": [],
      "name": "CLAHE_SIFT_ANN_MAX_KEY_PADDING_Test_run_1_lr_1e(_6)_epochs_292_acc_25_00.ipynb",
      "provenance": []
    },
    "kernelspec": {
      "display_name": "Python 3",
      "name": "python3"
    },
    "language_info": {
      "name": "python"
    }
  },
  "nbformat": 4,
  "nbformat_minor": 0
}
