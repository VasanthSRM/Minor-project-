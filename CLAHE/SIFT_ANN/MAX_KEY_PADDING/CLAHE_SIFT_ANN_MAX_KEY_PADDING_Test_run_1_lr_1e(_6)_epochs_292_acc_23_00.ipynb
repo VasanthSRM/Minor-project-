{
  "cells": [
    {
      "cell_type": "markdown",
      "metadata": {
        "id": "xkfpI5lL8ofl"
      },
      "source": [
        "## **CLAHE + SIFT + ANN (Max_keypoints and padding approach)**\n",
        "#### **lr=1*10^(-6), epochs=292, Accuracy = 23.00%.**\n",
        "#### **Test run - 1**"
      ]
    },
    {
      "cell_type": "markdown",
      "metadata": {
        "id": "5AVHk6bP8110"
      },
      "source": [
        "#### **Aim: To find the accuracy of the model for the given learning rate and epoch value.**"
      ]
    },
    {
      "cell_type": "markdown",
      "metadata": {
        "id": "xaufx6N9PNMd"
      },
      "source": [
        "#### **For mounting drive**"
      ]
    },
    {
      "cell_type": "code",
      "execution_count": 1,
      "metadata": {
        "colab": {
          "base_uri": "https://localhost:8080/"
        },
        "id": "LoT75uFsDMt3",
        "outputId": "2f9661ca-bc09-4369-95c9-2574147926b7"
      },
      "outputs": [
        {
          "name": "stdout",
          "output_type": "stream",
          "text": [
            "Drive already mounted at /content/drive; to attempt to forcibly remount, call drive.mount(\"/content/drive\", force_remount=True).\n"
          ]
        }
      ],
      "source": [
        "#For mounting GDrive\n",
        "from google.colab import drive\n",
        "drive.mount('/content/drive')"
      ]
    },
    {
      "cell_type": "markdown",
      "metadata": {
        "id": "hsXW3CzQ9KWG"
      },
      "source": [
        "#### **Required modules**"
      ]
    },
    {
      "cell_type": "code",
      "execution_count": 2,
      "metadata": {
        "colab": {
          "base_uri": "https://localhost:8080/"
        },
        "id": "UmlhxprSjvwi",
        "outputId": "3c3188fa-b4e4-4aaa-ed80-62f7b6d73d60"
      },
      "outputs": [
        {
          "name": "stdout",
          "output_type": "stream",
          "text": [
            "Found existing installation: opencv-python 4.5.4.60\n",
            "Uninstalling opencv-python-4.5.4.60:\n",
            "  Would remove:\n",
            "    /usr/local/lib/python3.7/dist-packages/cv2/*\n",
            "    /usr/local/lib/python3.7/dist-packages/opencv_python-4.5.4.60.dist-info/*\n",
            "    /usr/local/lib/python3.7/dist-packages/opencv_python.libs/libQt5Core-39545cc7.so.5.15.0\n",
            "    /usr/local/lib/python3.7/dist-packages/opencv_python.libs/libQt5Gui-ba0a2070.so.5.15.0\n",
            "    /usr/local/lib/python3.7/dist-packages/opencv_python.libs/libQt5Test-c38a5234.so.5.15.0\n",
            "    /usr/local/lib/python3.7/dist-packages/opencv_python.libs/libQt5Widgets-e69d94fb.so.5.15.0\n",
            "    /usr/local/lib/python3.7/dist-packages/opencv_python.libs/libQt5XcbQpa-ca221f44.so.5.15.0\n",
            "    /usr/local/lib/python3.7/dist-packages/opencv_python.libs/libX11-xcb-69166bdf.so.1.0.0\n",
            "    /usr/local/lib/python3.7/dist-packages/opencv_python.libs/libXau-00ec42fe.so.6.0.0\n",
            "    /usr/local/lib/python3.7/dist-packages/opencv_python.libs/libavcodec-64ac49e1.so.58.91.100\n",
            "    /usr/local/lib/python3.7/dist-packages/opencv_python.libs/libavformat-4b79e479.so.58.45.100\n",
            "    /usr/local/lib/python3.7/dist-packages/opencv_python.libs/libavutil-805734e8.so.56.51.100\n",
            "    /usr/local/lib/python3.7/dist-packages/opencv_python.libs/libbz2-a273e504.so.1.0.6\n",
            "    /usr/local/lib/python3.7/dist-packages/opencv_python.libs/libcrypto-018b8c17.so.1.1\n",
            "    /usr/local/lib/python3.7/dist-packages/opencv_python.libs/libfreetype-c0e61f0c.so.6.14.0\n",
            "    /usr/local/lib/python3.7/dist-packages/opencv_python.libs/libgfortran-91cc3cb1.so.3.0.0\n",
            "    /usr/local/lib/python3.7/dist-packages/opencv_python.libs/libopenblas-r0-f650aae0.3.3.so\n",
            "    /usr/local/lib/python3.7/dist-packages/opencv_python.libs/libpng15-ce838cd1.so.15.13.0\n",
            "    /usr/local/lib/python3.7/dist-packages/opencv_python.libs/libquadmath-96973f99.so.0.0.0\n",
            "    /usr/local/lib/python3.7/dist-packages/opencv_python.libs/libssl-6082116c.so.1.1\n",
            "    /usr/local/lib/python3.7/dist-packages/opencv_python.libs/libswresample-83ce3247.so.3.7.100\n",
            "    /usr/local/lib/python3.7/dist-packages/opencv_python.libs/libswscale-7e960168.so.5.7.100\n",
            "    /usr/local/lib/python3.7/dist-packages/opencv_python.libs/libvpx-392cd848.so.6.4.0\n",
            "    /usr/local/lib/python3.7/dist-packages/opencv_python.libs/libxcb-icccm-413c9f41.so.4.0.0\n",
            "    /usr/local/lib/python3.7/dist-packages/opencv_python.libs/libxcb-image-e82a276d.so.0.0.0\n",
            "    /usr/local/lib/python3.7/dist-packages/opencv_python.libs/libxcb-keysyms-21015570.so.1.0.0\n",
            "    /usr/local/lib/python3.7/dist-packages/opencv_python.libs/libxcb-randr-a96a5a87.so.0.1.0\n",
            "    /usr/local/lib/python3.7/dist-packages/opencv_python.libs/libxcb-render-637b984a.so.0.0.0\n",
            "    /usr/local/lib/python3.7/dist-packages/opencv_python.libs/libxcb-render-util-43ce00f5.so.0.0.0\n",
            "    /usr/local/lib/python3.7/dist-packages/opencv_python.libs/libxcb-shape-25c2b258.so.0.0.0\n",
            "    /usr/local/lib/python3.7/dist-packages/opencv_python.libs/libxcb-shm-7a199f70.so.0.0.0\n",
            "    /usr/local/lib/python3.7/dist-packages/opencv_python.libs/libxcb-sync-89374f40.so.1.0.0\n",
            "    /usr/local/lib/python3.7/dist-packages/opencv_python.libs/libxcb-util-4d666913.so.1.0.0\n",
            "    /usr/local/lib/python3.7/dist-packages/opencv_python.libs/libxcb-xfixes-9be3ba6f.so.0.0.0\n",
            "    /usr/local/lib/python3.7/dist-packages/opencv_python.libs/libxcb-xinerama-ae147f87.so.0.0.0\n",
            "    /usr/local/lib/python3.7/dist-packages/opencv_python.libs/libxcb-xkb-9ba31ab3.so.1.0.0\n",
            "    /usr/local/lib/python3.7/dist-packages/opencv_python.libs/libxkbcommon-71ae2972.so.0.0.0\n",
            "    /usr/local/lib/python3.7/dist-packages/opencv_python.libs/libxkbcommon-x11-c65ed502.so.0.0.0\n",
            "Proceed (y/n)? y\n",
            "  Successfully uninstalled opencv-python-4.5.4.60\n",
            "Collecting opencv-python\n",
            "  Using cached opencv_python-4.5.4.60-cp37-cp37m-manylinux_2_17_x86_64.manylinux2014_x86_64.whl (60.3 MB)\n",
            "Requirement already satisfied: numpy>=1.14.5 in /usr/local/lib/python3.7/dist-packages (from opencv-python) (1.19.5)\n",
            "Installing collected packages: opencv-python\n",
            "\u001b[31mERROR: pip's dependency resolver does not currently take into account all the packages that are installed. This behaviour is the source of the following dependency conflicts.\n",
            "albumentations 0.1.12 requires imgaug<0.2.7,>=0.2.5, but you have imgaug 0.2.9 which is incompatible.\u001b[0m\n",
            "Successfully installed opencv-python-4.5.4.60\n"
          ]
        }
      ],
      "source": [
        "#Req. opencv 4.5+\n",
        "!pip uninstall opencv-python\n",
        "!pip install opencv-python"
      ]
    },
    {
      "cell_type": "code",
      "execution_count": 3,
      "metadata": {
        "id": "__cYeeQF8IEn"
      },
      "outputs": [],
      "source": [
        "#Importing necessary libraries\n",
        "from zipfile import ZipFile\n",
        "from tensorflow.python.client import device_lib\n",
        "import platform\n",
        "import matplotlib.pyplot as plt\n",
        "import seaborn as sns\n",
        "from tensorflow.keras.models import Sequential\n",
        "from tensorflow.keras.layers import Dense, Flatten, Dropout\n",
        "from tensorflow.keras.optimizers import Adam\n",
        "from sklearn.metrics import classification_report, accuracy_score\n",
        "import tensorflow as tf\n",
        "import cv2\n",
        "import os\n",
        "import sys\n",
        "import numpy as np\n",
        "import random"
      ]
    },
    {
      "cell_type": "markdown",
      "metadata": {
        "id": "lAtfR4ri9T-G"
      },
      "source": [
        "#### **Functions definition**"
      ]
    },
    {
      "cell_type": "code",
      "execution_count": 4,
      "metadata": {
        "id": "4TAGvB5o8ns-"
      },
      "outputs": [],
      "source": [
        "def extract_zip(file_name = \"drive/MyDrive/Dataset_test_1.zip\"):\n",
        "    with ZipFile(file_name, \"r\") as zip:\n",
        "        zip.extractall()\n",
        "        print(\"Dataset Extracted\")"
      ]
    },
    {
      "cell_type": "code",
      "execution_count": 5,
      "metadata": {
        "id": "JwTPw__89fBU"
      },
      "outputs": [],
      "source": [
        "def python_ver():\n",
        "    print(\"\\nPython version:\\n\")\n",
        "    print(sys.version)\n",
        "\n",
        "def device_info():\n",
        "    print(\"\\nDevice Info:\\n\")\n",
        "    print(device_lib.list_local_devices())\n",
        "\n",
        "def platform_info():\n",
        "    print(\"\\nPlatform Info:\\n\")\n",
        "    print(platform.platform())\n",
        "    print(platform.processor())"
      ]
    },
    {
      "cell_type": "code",
      "execution_count": 6,
      "metadata": {
        "id": "QtlFrxEVYIno"
      },
      "outputs": [],
      "source": [
        "def SIFT_test(dirs, labels, img_size):\n",
        "    \"\"\"Scale Invariant Feature Transform Test run for finding the maximum keypoints detected among all the images in the dataset\"\"\"\n",
        "    \n",
        "    max_key = 0\n",
        "    \n",
        "    for data_dir in dirs:\n",
        "        for label in labels:\n",
        "            path = os.path.join(data_dir, label)\n",
        "            for img in os.listdir(path):\n",
        "                #Reading the image in grayscale mode\n",
        "                img_arr = cv2.imread(os.path.join(path, img))\n",
        "                   \n",
        "                #Reshaping images to preferred size\n",
        "                resized_arr = cv2.resize(img_arr, (img_size, img_size)) \n",
        "\n",
        "                #CLAHE function call\n",
        "                CLAHE_img = CLAHE(resized_arr)\n",
        "\n",
        "                #Grayscale Conversion\n",
        "                gray_img = cv2.cvtColor(CLAHE_img, cv2.COLOR_BGR2GRAY)\n",
        "\n",
        "                #detecting keypoints\n",
        "                sift = cv2.SIFT_create()\n",
        "                keypoints = sift.detect(gray_img, None)\n",
        "\n",
        "                if (len(keypoints) > max_key):\n",
        "                    max_key = len(keypoints)\n",
        "                \n",
        "    return max_key\n"
      ]
    },
    {
      "cell_type": "code",
      "execution_count": 7,
      "metadata": {
        "id": "GEYZRobBfuNX"
      },
      "outputs": [],
      "source": [
        "def CLAHE(image):\n",
        "    \"\"\"Contrast limited AHE\"\"\"\n",
        "    #Convert BGR image to LAB\n",
        "    lab_img= cv2.cvtColor(image, cv2.COLOR_BGR2LAB)\n",
        "\n",
        "    #Splitting the LAB image to L, A and B channels, respectively\n",
        "    l, a, b = cv2.split(lab_img)\n",
        "\n",
        "    clahe = cv2.createCLAHE(clipLimit=3.0, tileGridSize=(8,8))\n",
        "    clahe_img = clahe.apply(l)\n",
        "\n",
        "    #Combine the CLAHE enhanced L-channel back with A and B channels\n",
        "    updated_lab_img2 = cv2.merge((clahe_img,a,b))\n",
        "\n",
        "    #Convert LAB image back to color (BGR)\n",
        "    CLAHE_img = cv2.cvtColor(updated_lab_img2, cv2.COLOR_LAB2BGR)\n",
        "\n",
        "    return CLAHE_img"
      ]
    },
    {
      "cell_type": "code",
      "execution_count": 8,
      "metadata": {
        "id": "j9IR6y7nYJ5a"
      },
      "outputs": [],
      "source": [
        "def SIFT(image, max_key):\n",
        "    \"\"\"Scale Invariant Feature Transform for finding keypoints and computing descriptors\"\"\"\n",
        "    \n",
        "    sift = cv2.SIFT_create()\n",
        "    keypoints, descriptors = sift.detectAndCompute(image, None)\n",
        "\n",
        "    cut_off = len(keypoints)\n",
        "    if (max_key<cut_off):\n",
        "        cut_off = max_key\n",
        "\n",
        "    return np.pad(np.array(descriptors, dtype=\"i\"), ((0, max_key-cut_off), (0, 0)))[:max_key]"
      ]
    },
    {
      "cell_type": "code",
      "execution_count": 9,
      "metadata": {
        "id": "GSQlfqEA9jN7"
      },
      "outputs": [],
      "source": [
        "def dataset_creation(data_dir, labels, img_size, max_key):\n",
        "    \"\"\"Loading data and shuffling\"\"\"\n",
        "    data = [] \n",
        "\n",
        "    for class_num, label in enumerate(labels): \n",
        "        path = os.path.join(data_dir, label)\n",
        "        for img in os.listdir(path):\n",
        "            try:\n",
        "                #Reading the image in grayscale mode\n",
        "                img_arr = cv2.imread(os.path.join(path, img))\n",
        "                \n",
        "                #Reshaping images to preferred size\n",
        "                resized_arr = cv2.resize(img_arr, (img_size, img_size)) \n",
        "\n",
        "                #CLAHE function call\n",
        "                CLAHE_img = CLAHE(resized_arr)\n",
        "\n",
        "                #Grayscale Conversion\n",
        "                gray_img = cv2.cvtColor(CLAHE_img, cv2.COLOR_BGR2GRAY)\n",
        "\n",
        "                #SIFT function call\n",
        "                SIFT_img_desc = SIFT(gray_img, max_key)\n",
        "                \n",
        "                data.append([SIFT_img_desc, class_num])\n",
        "            except Exception as err:\n",
        "                print(\"Error:\\n\",err)\n",
        "    \n",
        "    random.shuffle(data)\n",
        "    return np.array(data)"
      ]
    },
    {
      "cell_type": "code",
      "execution_count": 10,
      "metadata": {
        "id": "gr4RAyHY9oed"
      },
      "outputs": [],
      "source": [
        "def dataset_creation_train_stat(labels, train):\n",
        "    \"\"\"Plot initial data graph\"\"\"\n",
        "    list_graph = []\n",
        "    for i in train:\n",
        "        list_graph.append(labels[i[1]])\n",
        "    \n",
        "    sns.set_style('darkgrid')\n",
        "    plt.figure(figsize=(25, 25))    \n",
        "    sns.countplot(list_graph)\n",
        "    plt.title(\"Train set\")\n",
        "    plt.show()\n",
        "\n",
        "\n",
        "def dataset_creation_test_stat(labels, test):\n",
        "    \"\"\"Plot initial data graph\"\"\"\n",
        "    list_graph = []\n",
        "    for i in test:\n",
        "        list_graph.append(labels[i[1]])\n",
        "    \n",
        "    sns.set_style('darkgrid')\n",
        "    plt.figure(figsize=(25, 25))\n",
        "    sns.countplot(list_graph)\n",
        "    plt.title(\"Test set\")\n",
        "    plt.show()"
      ]
    },
    {
      "cell_type": "code",
      "execution_count": 11,
      "metadata": {
        "id": "mCiE7s_E9072"
      },
      "outputs": [],
      "source": [
        "def train_test_data_split(train, test):\n",
        "    \"\"\"train and test\"\"\"\n",
        "    x_train = []\n",
        "    y_train = []\n",
        "    x_test = []\n",
        "    y_test = []\n",
        "\n",
        "    for feature, label in train:\n",
        "        x_train.append(feature)\n",
        "        y_train.append(label)\n",
        "\n",
        "    for feature, label in test:\n",
        "        x_test.append(feature)\n",
        "        y_test.append(label)\n",
        "\n",
        "    return (np.array(x_train), np.array(y_train), np.array(x_test), np.array(y_test))"
      ]
    },
    {
      "cell_type": "code",
      "execution_count": 12,
      "metadata": {
        "id": "RgLvHqvB98Dd"
      },
      "outputs": [],
      "source": [
        "def build_model_ann(tot_classes, x_train):\n",
        "    \"\"\"Builds ANN model and prints model summary\"\"\"\n",
        "    model = Sequential()\n",
        "    \n",
        "    model.add(Flatten(input_shape=x_train.shape[1:]))\n",
        "    model.add(Dense(3000,activation=\"relu\"))\n",
        "    model.add(Dropout(0.5))\n",
        "    model.add(Dense(1000,activation=\"relu\"))\n",
        "    model.add(Dropout(0.5))\n",
        "    model.add(Dense(tot_classes, activation=\"softmax\"))\n",
        "\n",
        "    model.summary()\n",
        "    return model"
      ]
    },
    {
      "cell_type": "code",
      "execution_count": 13,
      "metadata": {
        "id": "9nEf4toB-BzT"
      },
      "outputs": [],
      "source": [
        "def compile_and_fit(model, x_train, y_train, x_test, y_test, iterations, l_rate):\n",
        "    \"\"\"Compiles and fits the model\"\"\"\n",
        "    opt = Adam(learning_rate=l_rate)\n",
        "    model.compile(optimizer = opt, loss = \"sparse_categorical_crossentropy\", metrics = ['accuracy'])\n",
        "    history = model.fit(x_train, y_train, epochs = iterations, validation_data = (x_test, y_test))\n",
        "\n",
        "    return (history, model)"
      ]
    },
    {
      "cell_type": "code",
      "execution_count": 14,
      "metadata": {
        "id": "BpybfYak-FKt"
      },
      "outputs": [],
      "source": [
        "def acc_plots(history, iterations):\n",
        "    \"\"\"Requires history and number of iterations\"\"\"\n",
        "    acc = history.history['accuracy']\n",
        "    val_acc = history.history['val_accuracy']\n",
        "    loss = history.history['loss']\n",
        "    val_loss = history.history['val_loss']\n",
        "\n",
        "    epochs_range = range(iterations)\n",
        "\n",
        "    plt.figure(figsize=(15, 15))\n",
        "    plt.subplot(2, 2, 1)\n",
        "    plt.plot(epochs_range, acc, label='Training Accuracy')\n",
        "    plt.plot(epochs_range, val_acc, label='Validation Accuracy')\n",
        "    plt.legend(loc='lower right')\n",
        "    plt.title('Training and Validation Accuracy')\n",
        "\n",
        "    plt.subplot(2, 2, 2)\n",
        "    plt.plot(epochs_range, loss, label='Training Loss')\n",
        "    plt.plot(epochs_range, val_loss, label='Validation Loss')\n",
        "    plt.legend(loc='upper right')\n",
        "    plt.title('Training and Validation Loss')\n",
        "    plt.show()"
      ]
    },
    {
      "cell_type": "code",
      "execution_count": 15,
      "metadata": {
        "id": "lTTbnTYd-Ipb"
      },
      "outputs": [],
      "source": [
        "def acc_results(model, labels, x_test, y_test):\n",
        "    \"\"\"Prediction and test accuracy\"\"\"\n",
        "    predictions = np.argmax(model.predict(x_test), axis=-1)\n",
        "    print(classification_report(y_test, predictions, target_names = labels))\n",
        "    print(\"\\nAccuracy = \"+str(accuracy_score(y_test, predictions)*100)+\"%\")"
      ]
    },
    {
      "cell_type": "markdown",
      "metadata": {
        "id": "M1PFZZFw-S_P"
      },
      "source": [
        "#### **Making Function calls and defining variables**"
      ]
    },
    {
      "cell_type": "code",
      "execution_count": 16,
      "metadata": {
        "colab": {
          "base_uri": "https://localhost:8080/"
        },
        "id": "OgZinHaw-Mq7",
        "outputId": "678d6c91-5361-42f2-b1e2-542d3414d22d"
      },
      "outputs": [
        {
          "name": "stdout",
          "output_type": "stream",
          "text": [
            "Dataset Extracted\n",
            "\n",
            "Python version:\n",
            "\n",
            "3.7.12 (default, Sep 10 2021, 00:21:48) \n",
            "[GCC 7.5.0]\n",
            "\n",
            "Device Info:\n",
            "\n",
            "[name: \"/device:CPU:0\"\n",
            "device_type: \"CPU\"\n",
            "memory_limit: 268435456\n",
            "locality {\n",
            "}\n",
            "incarnation: 6275715560809866513\n",
            "xla_global_id: -1\n",
            ", name: \"/device:GPU:0\"\n",
            "device_type: \"GPU\"\n",
            "memory_limit: 11320098816\n",
            "locality {\n",
            "  bus_id: 1\n",
            "  links {\n",
            "  }\n",
            "}\n",
            "incarnation: 15472086980388590209\n",
            "physical_device_desc: \"device: 0, name: Tesla K80, pci bus id: 0000:00:04.0, compute capability: 3.7\"\n",
            "xla_global_id: 416903419\n",
            "]\n",
            "\n",
            "Platform Info:\n",
            "\n",
            "Linux-5.4.104+-x86_64-with-Ubuntu-18.04-bionic\n",
            "x86_64\n"
          ]
        }
      ],
      "source": [
        "#Extracting Dataset\n",
        "extract_zip(\"drive/MyDrive/Dataset_test_1.zip\")\n",
        "\n",
        "#Device and environment Info\n",
        "python_ver()\n",
        "device_info()\n",
        "platform_info()"
      ]
    },
    {
      "cell_type": "code",
      "execution_count": 17,
      "metadata": {
        "id": "Bl01clC0-XOZ"
      },
      "outputs": [],
      "source": [
        "#Variables\n",
        "dirs = [\"Dataset_test_1/Train\", \"Dataset_test_1/Test\"]\n",
        "labels = ['Buddha', 'Garuda', 'Goddess_Durga', 'Goddess_Lakshmi', 'Goddess_Saraswathi', 'Lord_Ganesh', \n",
        "        'Lord_Hanuman', 'Lord_Hayagriva', 'Lord_Indra', 'Lord_Krishna', 'Lord_Muruga', 'Nandi', 'Nataraj', \n",
        "        'Shirdi_Sai_Baba', 'Shivling']\n",
        "img_size = 224\n",
        "tot_classes = len(labels)\n",
        "num_sample_img = 3\n",
        "iterations = 292\n",
        "l_rate = 0.000001"
      ]
    },
    {
      "cell_type": "code",
      "execution_count": 18,
      "metadata": {
        "colab": {
          "base_uri": "https://localhost:8080/"
        },
        "id": "ngdQO8_D-kzS",
        "outputId": "6c3eca95-9a8b-40bd-9bfe-bbd5aebd64e5"
      },
      "outputs": [
        {
          "name": "stderr",
          "output_type": "stream",
          "text": [
            "/usr/local/lib/python3.7/dist-packages/ipykernel_launcher.py:29: VisibleDeprecationWarning: Creating an ndarray from ragged nested sequences (which is a list-or-tuple of lists-or-tuples-or ndarrays with different lengths or shapes) is deprecated. If you meant to do this, you must specify 'dtype=object' when creating the ndarray\n"
          ]
        }
      ],
      "source": [
        "#Max keypoints detection\n",
        "max_key = SIFT_test(dirs, labels, img_size)\n",
        "\n",
        "#Computational limit\n",
        "if (max_key>1300):\n",
        "    max_key = 1300\n",
        "\n",
        "#Train and Test data loading\n",
        "train = dataset_creation(\"Dataset_test_1/Train\", labels, img_size, max_key)\n",
        "test = dataset_creation(\"Dataset_test_1/Test\", labels, img_size, max_key)"
      ]
    },
    {
      "cell_type": "code",
      "execution_count": 19,
      "metadata": {
        "colab": {
          "base_uri": "https://localhost:8080/",
          "height": 1000
        },
        "id": "ci_GDz0G-ngO",
        "outputId": "527f699b-739e-4e03-d2ad-8810faab8a90"
      },
      "outputs": [
        {
          "name": "stderr",
          "output_type": "stream",
          "text": [
            "/usr/local/lib/python3.7/dist-packages/seaborn/_decorators.py:43: FutureWarning: Pass the following variable as a keyword arg: x. From version 0.12, the only valid positional argument will be `data`, and passing other arguments without an explicit keyword will result in an error or misinterpretation.\n",
            "  FutureWarning\n"
          ]
        },
        {
          "data": {
            "image/png": "[encoded data removed]",
            "text/plain": [
              "<Figure size 1800x1800 with 1 Axes>"
            ]
          },
          "metadata": {},
          "output_type": "display_data"
        },
        {
          "name": "stderr",
          "output_type": "stream",
          "text": [
            "/usr/local/lib/python3.7/dist-packages/seaborn/_decorators.py:43: FutureWarning: Pass the following variable as a keyword arg: x. From version 0.12, the only valid positional argument will be `data`, and passing other arguments without an explicit keyword will result in an error or misinterpretation.\n",
            "  FutureWarning\n"
          ]
        },
        {
          "data": {
            "image/png": "[encoded data removed]",
            "text/plain": [
              "<Figure size 1800x1800 with 1 Axes>"
            ]
          },
          "metadata": {},
          "output_type": "display_data"
        }
      ],
      "source": [
        "#Stats\n",
        "dataset_creation_train_stat(labels, train)\n",
        "dataset_creation_test_stat(labels, test)"
      ]
    },
    {
      "cell_type": "code",
      "execution_count": 20,
      "metadata": {
        "id": "4JOI1Up6-tGQ"
      },
      "outputs": [],
      "source": [
        "#Training and testing data\n",
        "x_train, y_train, x_test, y_test = train_test_data_split(train, test)"
      ]
    },
    {
      "cell_type": "code",
      "execution_count": 21,
      "metadata": {
        "colab": {
          "base_uri": "https://localhost:8080/"
        },
        "id": "08fhlmqh-z4O",
        "outputId": "59392185-8daf-4f7d-ded7-563bf555ab6f"
      },
      "outputs": [
        {
          "name": "stdout",
          "output_type": "stream",
          "text": [
            "Model: \"sequential\"\n",
            "_________________________________________________________________\n",
            " Layer (type)                Output Shape              Param #   \n",
            "=================================================================\n",
            " flatten (Flatten)           (None, 166400)            0         \n",
            "                                                                 \n",
            " dense (Dense)               (None, 3000)              499203000 \n",
            "                                                                 \n",
            " dropout (Dropout)           (None, 3000)              0         \n",
            "                                                                 \n",
            " dense_1 (Dense)             (None, 1000)              3001000   \n",
            "                                                                 \n",
            " dropout_1 (Dropout)         (None, 1000)              0         \n",
            "                                                                 \n",
            " dense_2 (Dense)             (None, 15)                15015     \n",
            "                                                                 \n",
            "=================================================================\n",
            "Total params: 502,219,015\n",
            "Trainable params: 502,219,015\n",
            "Non-trainable params: 0\n",
            "_________________________________________________________________\n"
          ]
        }
      ],
      "source": [
        "#Building ANN Model\n",
        "model = build_model_ann(tot_classes, x_train)"
      ]
    },
    {
      "cell_type": "code",
      "execution_count": 22,
      "metadata": {
        "colab": {
          "base_uri": "https://localhost:8080/"
        },
        "id": "j5NP-yio-5Bl",
        "outputId": "08a66d9d-6b31-48b8-e99d-12a4a5c7f471"
      },
      "outputs": [
        {
          "name": "stdout",
          "output_type": "stream",
          "text": [
            "Epoch 1/292\n",
            "71/71 [==============================] - 16s 212ms/step - loss: 91.6920 - accuracy: 0.0556 - val_loss: 27.9901 - val_accuracy: 0.0833\n",
            "Epoch 2/292\n",
            "71/71 [==============================] - 15s 206ms/step - loss: 66.2638 - accuracy: 0.0889 - val_loss: 23.0824 - val_accuracy: 0.0933\n",
            "Epoch 3/292\n",
            "71/71 [==============================] - 15s 206ms/step - loss: 55.9566 - accuracy: 0.0831 - val_loss: 18.5340 - val_accuracy: 0.1133\n",
            "Epoch 4/292\n",
            "71/71 [==============================] - 15s 205ms/step - loss: 45.1613 - accuracy: 0.1098 - val_loss: 16.5157 - val_accuracy: 0.1067\n",
            "Epoch 5/292\n",
            "71/71 [==============================] - 15s 204ms/step - loss: 37.9654 - accuracy: 0.1311 - val_loss: 14.3666 - val_accuracy: 0.1333\n",
            "Epoch 6/292\n",
            "71/71 [==============================] - 15s 205ms/step - loss: 34.9983 - accuracy: 0.1267 - val_loss: 13.1226 - val_accuracy: 0.1433\n",
            "Epoch 7/292\n",
            "71/71 [==============================] - 15s 205ms/step - loss: 30.2979 - accuracy: 0.1511 - val_loss: 11.7744 - val_accuracy: 0.1733\n",
            "Epoch 8/292\n",
            "71/71 [==============================] - 15s 205ms/step - loss: 26.8767 - accuracy: 0.1640 - val_loss: 11.3517 - val_accuracy: 0.1700\n",
            "Epoch 9/292\n",
            "71/71 [==============================] - 15s 205ms/step - loss: 25.1125 - accuracy: 0.1507 - val_loss: 10.8676 - val_accuracy: 0.1733\n",
            "Epoch 10/292\n",
            "71/71 [==============================] - 15s 205ms/step - loss: 21.5839 - accuracy: 0.1862 - val_loss: 10.3002 - val_accuracy: 0.1733\n",
            "Epoch 11/292\n",
            "71/71 [==============================] - 15s 206ms/step - loss: 20.5007 - accuracy: 0.1867 - val_loss: 9.8320 - val_accuracy: 0.1700\n",
            "Epoch 12/292\n",
            "71/71 [==============================] - 15s 208ms/step - loss: 17.6524 - accuracy: 0.2151 - val_loss: 9.6206 - val_accuracy: 0.1900\n",
            "Epoch 13/292\n",
            "71/71 [==============================] - 15s 206ms/step - loss: 16.0491 - accuracy: 0.2391 - val_loss: 9.0703 - val_accuracy: 0.1900\n",
            "Epoch 14/292\n",
            "71/71 [==============================] - 15s 206ms/step - loss: 14.8034 - accuracy: 0.2453 - val_loss: 8.7981 - val_accuracy: 0.1867\n",
            "Epoch 15/292\n",
            "71/71 [==============================] - 15s 206ms/step - loss: 13.9135 - accuracy: 0.2449 - val_loss: 8.6414 - val_accuracy: 0.2167\n",
            "Epoch 16/292\n",
            "71/71 [==============================] - 15s 206ms/step - loss: 11.7920 - accuracy: 0.2938 - val_loss: 8.2804 - val_accuracy: 0.2000\n",
            "Epoch 17/292\n",
            "71/71 [==============================] - 15s 206ms/step - loss: 10.8206 - accuracy: 0.3018 - val_loss: 7.9764 - val_accuracy: 0.2067\n",
            "Epoch 18/292\n",
            "71/71 [==============================] - 15s 206ms/step - loss: 10.2725 - accuracy: 0.3071 - val_loss: 7.8962 - val_accuracy: 0.1933\n",
            "Epoch 19/292\n",
            "71/71 [==============================] - 15s 207ms/step - loss: 9.5095 - accuracy: 0.3080 - val_loss: 7.4803 - val_accuracy: 0.2100\n",
            "Epoch 20/292\n",
            "71/71 [==============================] - 15s 206ms/step - loss: 8.8507 - accuracy: 0.3302 - val_loss: 7.4433 - val_accuracy: 0.2133\n",
            "Epoch 21/292\n",
            "71/71 [==============================] - 15s 207ms/step - loss: 8.2587 - accuracy: 0.3356 - val_loss: 7.1854 - val_accuracy: 0.2300\n",
            "Epoch 22/292\n",
            "71/71 [==============================] - 15s 206ms/step - loss: 7.7188 - accuracy: 0.3462 - val_loss: 6.8725 - val_accuracy: 0.2133\n",
            "Epoch 23/292\n",
            "71/71 [==============================] - 15s 206ms/step - loss: 7.0817 - accuracy: 0.3707 - val_loss: 6.4820 - val_accuracy: 0.2433\n",
            "Epoch 24/292\n",
            "71/71 [==============================] - 15s 206ms/step - loss: 6.2612 - accuracy: 0.4018 - val_loss: 6.4667 - val_accuracy: 0.2467\n",
            "Epoch 25/292\n",
            "71/71 [==============================] - 15s 207ms/step - loss: 6.2819 - accuracy: 0.4120 - val_loss: 6.3273 - val_accuracy: 0.2367\n",
            "Epoch 26/292\n",
            "71/71 [==============================] - 15s 207ms/step - loss: 5.7262 - accuracy: 0.4120 - val_loss: 6.2699 - val_accuracy: 0.2367\n",
            "Epoch 27/292\n",
            "71/71 [==============================] - 15s 207ms/step - loss: 5.5976 - accuracy: 0.4067 - val_loss: 6.0993 - val_accuracy: 0.2433\n",
            "Epoch 28/292\n",
            "71/71 [==============================] - 15s 209ms/step - loss: 5.1019 - accuracy: 0.4538 - val_loss: 5.9834 - val_accuracy: 0.2433\n",
            "Epoch 29/292\n",
            "71/71 [==============================] - 15s 206ms/step - loss: 4.6438 - accuracy: 0.4627 - val_loss: 5.8338 - val_accuracy: 0.2500\n",
            "Epoch 30/292\n",
            "71/71 [==============================] - 15s 207ms/step - loss: 4.6243 - accuracy: 0.4693 - val_loss: 5.7051 - val_accuracy: 0.2367\n",
            "Epoch 31/292\n",
            "71/71 [==============================] - 15s 206ms/step - loss: 4.1866 - accuracy: 0.4880 - val_loss: 5.5402 - val_accuracy: 0.2367\n",
            "Epoch 32/292\n",
            "71/71 [==============================] - 15s 206ms/step - loss: 3.9775 - accuracy: 0.4867 - val_loss: 5.4374 - val_accuracy: 0.2567\n",
            "Epoch 33/292\n",
            "71/71 [==============================] - 15s 206ms/step - loss: 3.8788 - accuracy: 0.4982 - val_loss: 5.3093 - val_accuracy: 0.2567\n",
            "Epoch 34/292\n",
            "71/71 [==============================] - 15s 206ms/step - loss: 3.3674 - accuracy: 0.5316 - val_loss: 5.3026 - val_accuracy: 0.2500\n",
            "Epoch 35/292\n",
            "71/71 [==============================] - 15s 207ms/step - loss: 3.4248 - accuracy: 0.5191 - val_loss: 5.2268 - val_accuracy: 0.2600\n",
            "Epoch 36/292\n",
            "71/71 [==============================] - 15s 206ms/step - loss: 3.2522 - accuracy: 0.5387 - val_loss: 5.2308 - val_accuracy: 0.2433\n",
            "Epoch 37/292\n",
            "71/71 [==============================] - 15s 206ms/step - loss: 3.1760 - accuracy: 0.5298 - val_loss: 5.1862 - val_accuracy: 0.2433\n",
            "Epoch 38/292\n",
            "71/71 [==============================] - 15s 206ms/step - loss: 2.8336 - accuracy: 0.5751 - val_loss: 5.0848 - val_accuracy: 0.2467\n",
            "Epoch 39/292\n",
            "71/71 [==============================] - 15s 207ms/step - loss: 2.7468 - accuracy: 0.5796 - val_loss: 5.0319 - val_accuracy: 0.2567\n",
            "Epoch 40/292\n",
            "71/71 [==============================] - 15s 206ms/step - loss: 2.5246 - accuracy: 0.5876 - val_loss: 4.9378 - val_accuracy: 0.2633\n",
            "Epoch 41/292\n",
            "71/71 [==============================] - 15s 207ms/step - loss: 2.4242 - accuracy: 0.6004 - val_loss: 4.9660 - val_accuracy: 0.2433\n",
            "Epoch 42/292\n",
            "71/71 [==============================] - 15s 207ms/step - loss: 2.2963 - accuracy: 0.6116 - val_loss: 4.9425 - val_accuracy: 0.2400\n",
            "Epoch 43/292\n",
            "71/71 [==============================] - 15s 206ms/step - loss: 2.1665 - accuracy: 0.6249 - val_loss: 4.9639 - val_accuracy: 0.2567\n",
            "Epoch 44/292\n",
            "71/71 [==============================] - 15s 207ms/step - loss: 2.3003 - accuracy: 0.6089 - val_loss: 4.9110 - val_accuracy: 0.2633\n",
            "Epoch 45/292\n",
            "71/71 [==============================] - 15s 209ms/step - loss: 2.1958 - accuracy: 0.6364 - val_loss: 4.8491 - val_accuracy: 0.2733\n",
            "Epoch 46/292\n",
            "71/71 [==============================] - 15s 209ms/step - loss: 1.9836 - accuracy: 0.6382 - val_loss: 4.9014 - val_accuracy: 0.2500\n",
            "Epoch 47/292\n",
            "71/71 [==============================] - 15s 207ms/step - loss: 1.8798 - accuracy: 0.6538 - val_loss: 4.8462 - val_accuracy: 0.2533\n",
            "Epoch 48/292\n",
            "71/71 [==============================] - 15s 207ms/step - loss: 1.9624 - accuracy: 0.6498 - val_loss: 4.8194 - val_accuracy: 0.2467\n",
            "Epoch 49/292\n",
            "71/71 [==============================] - 15s 207ms/step - loss: 1.8187 - accuracy: 0.6573 - val_loss: 4.8756 - val_accuracy: 0.2633\n",
            "Epoch 50/292\n",
            "71/71 [==============================] - 15s 206ms/step - loss: 1.7492 - accuracy: 0.6876 - val_loss: 4.8570 - val_accuracy: 0.2433\n",
            "Epoch 51/292\n",
            "71/71 [==============================] - 15s 209ms/step - loss: 1.7335 - accuracy: 0.6702 - val_loss: 4.8282 - val_accuracy: 0.2533\n",
            "Epoch 52/292\n",
            "71/71 [==============================] - 15s 207ms/step - loss: 1.6801 - accuracy: 0.6778 - val_loss: 4.7922 - val_accuracy: 0.2500\n",
            "Epoch 53/292\n",
            "71/71 [==============================] - 15s 207ms/step - loss: 1.4747 - accuracy: 0.6938 - val_loss: 4.7449 - val_accuracy: 0.2333\n",
            "Epoch 54/292\n",
            "71/71 [==============================] - 15s 207ms/step - loss: 1.4365 - accuracy: 0.7156 - val_loss: 4.6710 - val_accuracy: 0.2433\n",
            "Epoch 55/292\n",
            "71/71 [==============================] - 15s 207ms/step - loss: 1.3932 - accuracy: 0.7151 - val_loss: 4.6094 - val_accuracy: 0.2533\n",
            "Epoch 56/292\n",
            "71/71 [==============================] - 15s 207ms/step - loss: 1.3238 - accuracy: 0.7307 - val_loss: 4.6176 - val_accuracy: 0.2400\n",
            "Epoch 57/292\n",
            "71/71 [==============================] - 15s 207ms/step - loss: 1.3307 - accuracy: 0.7316 - val_loss: 4.7097 - val_accuracy: 0.2400\n",
            "Epoch 58/292\n",
            "71/71 [==============================] - 15s 207ms/step - loss: 1.3667 - accuracy: 0.7364 - val_loss: 4.5573 - val_accuracy: 0.2567\n",
            "Epoch 59/292\n",
            "71/71 [==============================] - 15s 208ms/step - loss: 1.3619 - accuracy: 0.7289 - val_loss: 4.4471 - val_accuracy: 0.2567\n",
            "Epoch 60/292\n",
            "71/71 [==============================] - 15s 210ms/step - loss: 1.1690 - accuracy: 0.7591 - val_loss: 4.5241 - val_accuracy: 0.2633\n",
            "Epoch 61/292\n",
            "71/71 [==============================] - 15s 208ms/step - loss: 1.1468 - accuracy: 0.7564 - val_loss: 4.5365 - val_accuracy: 0.2467\n",
            "Epoch 62/292\n",
            "71/71 [==============================] - 15s 207ms/step - loss: 1.1671 - accuracy: 0.7489 - val_loss: 4.5549 - val_accuracy: 0.2400\n",
            "Epoch 63/292\n",
            "71/71 [==============================] - 15s 207ms/step - loss: 1.0672 - accuracy: 0.7729 - val_loss: 4.6095 - val_accuracy: 0.2367\n",
            "Epoch 64/292\n",
            "71/71 [==============================] - 15s 207ms/step - loss: 1.0573 - accuracy: 0.7760 - val_loss: 4.5590 - val_accuracy: 0.2467\n",
            "Epoch 65/292\n",
            "71/71 [==============================] - 15s 208ms/step - loss: 1.0171 - accuracy: 0.7698 - val_loss: 4.5679 - val_accuracy: 0.2600\n",
            "Epoch 66/292\n",
            "71/71 [==============================] - 15s 207ms/step - loss: 1.0195 - accuracy: 0.7751 - val_loss: 4.5628 - val_accuracy: 0.2633\n",
            "Epoch 67/292\n",
            "71/71 [==============================] - 15s 207ms/step - loss: 1.0315 - accuracy: 0.7889 - val_loss: 4.6443 - val_accuracy: 0.2533\n",
            "Epoch 68/292\n",
            "71/71 [==============================] - 15s 207ms/step - loss: 0.9128 - accuracy: 0.8000 - val_loss: 4.7339 - val_accuracy: 0.2333\n",
            "Epoch 69/292\n",
            "71/71 [==============================] - 15s 208ms/step - loss: 0.9830 - accuracy: 0.7880 - val_loss: 4.6868 - val_accuracy: 0.2367\n",
            "Epoch 70/292\n",
            "71/71 [==============================] - 15s 207ms/step - loss: 0.8989 - accuracy: 0.8009 - val_loss: 4.7052 - val_accuracy: 0.2333\n",
            "Epoch 71/292\n",
            "71/71 [==============================] - 15s 207ms/step - loss: 0.8610 - accuracy: 0.8102 - val_loss: 4.6526 - val_accuracy: 0.2167\n",
            "Epoch 72/292\n",
            "71/71 [==============================] - 15s 207ms/step - loss: 0.8584 - accuracy: 0.8080 - val_loss: 4.7197 - val_accuracy: 0.2333\n",
            "Epoch 73/292\n",
            "71/71 [==============================] - 15s 207ms/step - loss: 0.8544 - accuracy: 0.8102 - val_loss: 4.7835 - val_accuracy: 0.2333\n",
            "Epoch 74/292\n",
            "71/71 [==============================] - 15s 208ms/step - loss: 0.7966 - accuracy: 0.8187 - val_loss: 4.8391 - val_accuracy: 0.2333\n",
            "Epoch 75/292\n",
            "71/71 [==============================] - 15s 208ms/step - loss: 0.8225 - accuracy: 0.8044 - val_loss: 4.7490 - val_accuracy: 0.2333\n",
            "Epoch 76/292\n",
            "71/71 [==============================] - 15s 207ms/step - loss: 0.8750 - accuracy: 0.8080 - val_loss: 4.6704 - val_accuracy: 0.2400\n",
            "Epoch 77/292\n",
            "71/71 [==============================] - 15s 208ms/step - loss: 0.7785 - accuracy: 0.8213 - val_loss: 4.7033 - val_accuracy: 0.2300\n",
            "Epoch 78/292\n",
            "71/71 [==============================] - 15s 207ms/step - loss: 0.7405 - accuracy: 0.8307 - val_loss: 4.6568 - val_accuracy: 0.2233\n",
            "Epoch 79/292\n",
            "71/71 [==============================] - 15s 207ms/step - loss: 0.7852 - accuracy: 0.8218 - val_loss: 4.5651 - val_accuracy: 0.2267\n",
            "Epoch 80/292\n",
            "71/71 [==============================] - 15s 207ms/step - loss: 0.7618 - accuracy: 0.8360 - val_loss: 4.5187 - val_accuracy: 0.2467\n",
            "Epoch 81/292\n",
            "71/71 [==============================] - 15s 207ms/step - loss: 0.7442 - accuracy: 0.8373 - val_loss: 4.5448 - val_accuracy: 0.2567\n",
            "Epoch 82/292\n",
            "71/71 [==============================] - 15s 207ms/step - loss: 0.7014 - accuracy: 0.8387 - val_loss: 4.6626 - val_accuracy: 0.2467\n",
            "Epoch 83/292\n",
            "71/71 [==============================] - 15s 210ms/step - loss: 0.7420 - accuracy: 0.8311 - val_loss: 4.7140 - val_accuracy: 0.2467\n",
            "Epoch 84/292\n",
            "71/71 [==============================] - 15s 209ms/step - loss: 0.7040 - accuracy: 0.8462 - val_loss: 4.5866 - val_accuracy: 0.2467\n",
            "Epoch 85/292\n",
            "71/71 [==============================] - 15s 207ms/step - loss: 0.7648 - accuracy: 0.8324 - val_loss: 4.6429 - val_accuracy: 0.2567\n",
            "Epoch 86/292\n",
            "71/71 [==============================] - 15s 207ms/step - loss: 0.7380 - accuracy: 0.8360 - val_loss: 4.5699 - val_accuracy: 0.2367\n",
            "Epoch 87/292\n",
            "71/71 [==============================] - 15s 207ms/step - loss: 0.7460 - accuracy: 0.8391 - val_loss: 4.6781 - val_accuracy: 0.2533\n",
            "Epoch 88/292\n",
            "71/71 [==============================] - 15s 208ms/step - loss: 0.7040 - accuracy: 0.8404 - val_loss: 4.6655 - val_accuracy: 0.2500\n",
            "Epoch 89/292\n",
            "71/71 [==============================] - 15s 210ms/step - loss: 0.5822 - accuracy: 0.8564 - val_loss: 4.8117 - val_accuracy: 0.2567\n",
            "Epoch 90/292\n",
            "71/71 [==============================] - 15s 207ms/step - loss: 0.6658 - accuracy: 0.8400 - val_loss: 4.6375 - val_accuracy: 0.2367\n",
            "Epoch 91/292\n",
            "71/71 [==============================] - 15s 208ms/step - loss: 0.7074 - accuracy: 0.8427 - val_loss: 4.7503 - val_accuracy: 0.2500\n",
            "Epoch 92/292\n",
            "71/71 [==============================] - 15s 208ms/step - loss: 0.6440 - accuracy: 0.8507 - val_loss: 4.5972 - val_accuracy: 0.2467\n",
            "Epoch 93/292\n",
            "71/71 [==============================] - 15s 208ms/step - loss: 0.6920 - accuracy: 0.8529 - val_loss: 4.5522 - val_accuracy: 0.2500\n",
            "Epoch 94/292\n",
            "71/71 [==============================] - 15s 207ms/step - loss: 0.6469 - accuracy: 0.8538 - val_loss: 4.6348 - val_accuracy: 0.2433\n",
            "Epoch 95/292\n",
            "71/71 [==============================] - 15s 208ms/step - loss: 0.6520 - accuracy: 0.8596 - val_loss: 4.6325 - val_accuracy: 0.2433\n",
            "Epoch 96/292\n",
            "71/71 [==============================] - 15s 208ms/step - loss: 0.5965 - accuracy: 0.8618 - val_loss: 4.6349 - val_accuracy: 0.2367\n",
            "Epoch 97/292\n",
            "71/71 [==============================] - 15s 208ms/step - loss: 0.5970 - accuracy: 0.8556 - val_loss: 4.6744 - val_accuracy: 0.2500\n",
            "Epoch 98/292\n",
            "71/71 [==============================] - 15s 208ms/step - loss: 0.5808 - accuracy: 0.8680 - val_loss: 4.6515 - val_accuracy: 0.2533\n",
            "Epoch 99/292\n",
            "71/71 [==============================] - 15s 208ms/step - loss: 0.6639 - accuracy: 0.8596 - val_loss: 4.6933 - val_accuracy: 0.2500\n",
            "Epoch 100/292\n",
            "71/71 [==============================] - 15s 207ms/step - loss: 0.5987 - accuracy: 0.8564 - val_loss: 4.6468 - val_accuracy: 0.2533\n",
            "Epoch 101/292\n",
            "71/71 [==============================] - 15s 208ms/step - loss: 0.6064 - accuracy: 0.8662 - val_loss: 4.6345 - val_accuracy: 0.2633\n",
            "Epoch 102/292\n",
            "71/71 [==============================] - 15s 208ms/step - loss: 0.5609 - accuracy: 0.8698 - val_loss: 4.5581 - val_accuracy: 0.2567\n",
            "Epoch 103/292\n",
            "71/71 [==============================] - 15s 207ms/step - loss: 0.5576 - accuracy: 0.8738 - val_loss: 4.6783 - val_accuracy: 0.2467\n",
            "Epoch 104/292\n",
            "71/71 [==============================] - 15s 208ms/step - loss: 0.5710 - accuracy: 0.8716 - val_loss: 4.7657 - val_accuracy: 0.2500\n",
            "Epoch 105/292\n",
            "71/71 [==============================] - 15s 208ms/step - loss: 0.5411 - accuracy: 0.8751 - val_loss: 4.5960 - val_accuracy: 0.2533\n",
            "Epoch 106/292\n",
            "71/71 [==============================] - 15s 208ms/step - loss: 0.5178 - accuracy: 0.8782 - val_loss: 4.5231 - val_accuracy: 0.2567\n",
            "Epoch 107/292\n",
            "71/71 [==============================] - 15s 208ms/step - loss: 0.4640 - accuracy: 0.8844 - val_loss: 4.5436 - val_accuracy: 0.2567\n",
            "Epoch 108/292\n",
            "71/71 [==============================] - 15s 208ms/step - loss: 0.5406 - accuracy: 0.8702 - val_loss: 4.5575 - val_accuracy: 0.2633\n",
            "Epoch 109/292\n",
            "71/71 [==============================] - 15s 208ms/step - loss: 0.4855 - accuracy: 0.8938 - val_loss: 4.5012 - val_accuracy: 0.2533\n",
            "Epoch 110/292\n",
            "71/71 [==============================] - 15s 208ms/step - loss: 0.5193 - accuracy: 0.8729 - val_loss: 4.5914 - val_accuracy: 0.2567\n",
            "Epoch 111/292\n",
            "71/71 [==============================] - 15s 208ms/step - loss: 0.5276 - accuracy: 0.8818 - val_loss: 4.6423 - val_accuracy: 0.2533\n",
            "Epoch 112/292\n",
            "71/71 [==============================] - 15s 208ms/step - loss: 0.5258 - accuracy: 0.8867 - val_loss: 4.6572 - val_accuracy: 0.2500\n",
            "Epoch 113/292\n",
            "71/71 [==============================] - 15s 207ms/step - loss: 0.5860 - accuracy: 0.8716 - val_loss: 4.7978 - val_accuracy: 0.2467\n",
            "Epoch 114/292\n",
            "71/71 [==============================] - 15s 208ms/step - loss: 0.5195 - accuracy: 0.8773 - val_loss: 4.6840 - val_accuracy: 0.2433\n",
            "Epoch 115/292\n",
            "71/71 [==============================] - 15s 208ms/step - loss: 0.4901 - accuracy: 0.8800 - val_loss: 4.8312 - val_accuracy: 0.2300\n",
            "Epoch 116/292\n",
            "71/71 [==============================] - 15s 210ms/step - loss: 0.5136 - accuracy: 0.8920 - val_loss: 4.8972 - val_accuracy: 0.2500\n",
            "Epoch 117/292\n",
            "71/71 [==============================] - 15s 207ms/step - loss: 0.5446 - accuracy: 0.8871 - val_loss: 4.8953 - val_accuracy: 0.2400\n",
            "Epoch 118/292\n",
            "71/71 [==============================] - 15s 208ms/step - loss: 0.4983 - accuracy: 0.8884 - val_loss: 4.9981 - val_accuracy: 0.2367\n",
            "Epoch 119/292\n",
            "71/71 [==============================] - 15s 208ms/step - loss: 0.4199 - accuracy: 0.9018 - val_loss: 4.9451 - val_accuracy: 0.2333\n",
            "Epoch 120/292\n",
            "71/71 [==============================] - 15s 208ms/step - loss: 0.4289 - accuracy: 0.8951 - val_loss: 5.0032 - val_accuracy: 0.2433\n",
            "Epoch 121/292\n",
            "71/71 [==============================] - 15s 208ms/step - loss: 0.3979 - accuracy: 0.9044 - val_loss: 4.8439 - val_accuracy: 0.2433\n",
            "Epoch 122/292\n",
            "71/71 [==============================] - 15s 208ms/step - loss: 0.4728 - accuracy: 0.8991 - val_loss: 4.9026 - val_accuracy: 0.2333\n",
            "Epoch 123/292\n",
            "71/71 [==============================] - 15s 208ms/step - loss: 0.3777 - accuracy: 0.9080 - val_loss: 4.8558 - val_accuracy: 0.2533\n",
            "Epoch 124/292\n",
            "71/71 [==============================] - 15s 208ms/step - loss: 0.4397 - accuracy: 0.9071 - val_loss: 4.8729 - val_accuracy: 0.2333\n",
            "Epoch 125/292\n",
            "71/71 [==============================] - 15s 208ms/step - loss: 0.4617 - accuracy: 0.9036 - val_loss: 5.0008 - val_accuracy: 0.2333\n",
            "Epoch 126/292\n",
            "71/71 [==============================] - 15s 207ms/step - loss: 0.4417 - accuracy: 0.9053 - val_loss: 4.8760 - val_accuracy: 0.2300\n",
            "Epoch 127/292\n",
            "71/71 [==============================] - 15s 208ms/step - loss: 0.4966 - accuracy: 0.8960 - val_loss: 4.9180 - val_accuracy: 0.2300\n",
            "Epoch 128/292\n",
            "71/71 [==============================] - 15s 207ms/step - loss: 0.4645 - accuracy: 0.8996 - val_loss: 4.9786 - val_accuracy: 0.2333\n",
            "Epoch 129/292\n",
            "71/71 [==============================] - 15s 208ms/step - loss: 0.4958 - accuracy: 0.8920 - val_loss: 4.9034 - val_accuracy: 0.2400\n",
            "Epoch 130/292\n",
            "71/71 [==============================] - 15s 210ms/step - loss: 0.4526 - accuracy: 0.8987 - val_loss: 5.0658 - val_accuracy: 0.2433\n",
            "Epoch 131/292\n",
            "71/71 [==============================] - 15s 211ms/step - loss: 0.4232 - accuracy: 0.9031 - val_loss: 4.8027 - val_accuracy: 0.2500\n",
            "Epoch 132/292\n",
            "71/71 [==============================] - 15s 208ms/step - loss: 0.5073 - accuracy: 0.8889 - val_loss: 4.7301 - val_accuracy: 0.2433\n",
            "Epoch 133/292\n",
            "71/71 [==============================] - 15s 209ms/step - loss: 0.4779 - accuracy: 0.8916 - val_loss: 4.8991 - val_accuracy: 0.2400\n",
            "Epoch 134/292\n",
            "71/71 [==============================] - 15s 208ms/step - loss: 0.4854 - accuracy: 0.9058 - val_loss: 4.7868 - val_accuracy: 0.2267\n",
            "Epoch 135/292\n",
            "71/71 [==============================] - 15s 208ms/step - loss: 0.4258 - accuracy: 0.9093 - val_loss: 4.5014 - val_accuracy: 0.2433\n",
            "Epoch 136/292\n",
            "71/71 [==============================] - 15s 208ms/step - loss: 0.4846 - accuracy: 0.9031 - val_loss: 4.6511 - val_accuracy: 0.2400\n",
            "Epoch 137/292\n",
            "71/71 [==============================] - 15s 209ms/step - loss: 0.4849 - accuracy: 0.8987 - val_loss: 4.7149 - val_accuracy: 0.2200\n",
            "Epoch 138/292\n",
            "71/71 [==============================] - 15s 210ms/step - loss: 0.4634 - accuracy: 0.9022 - val_loss: 4.8012 - val_accuracy: 0.2567\n",
            "Epoch 139/292\n",
            "71/71 [==============================] - 15s 208ms/step - loss: 0.4746 - accuracy: 0.9036 - val_loss: 4.9606 - val_accuracy: 0.2567\n",
            "Epoch 140/292\n",
            "71/71 [==============================] - 15s 208ms/step - loss: 0.4682 - accuracy: 0.8960 - val_loss: 4.7128 - val_accuracy: 0.2533\n",
            "Epoch 141/292\n",
            "71/71 [==============================] - 15s 208ms/step - loss: 0.3742 - accuracy: 0.9084 - val_loss: 4.6811 - val_accuracy: 0.2300\n",
            "Epoch 142/292\n",
            "71/71 [==============================] - 15s 207ms/step - loss: 0.3795 - accuracy: 0.9116 - val_loss: 4.5765 - val_accuracy: 0.2567\n",
            "Epoch 143/292\n",
            "71/71 [==============================] - 15s 208ms/step - loss: 0.4124 - accuracy: 0.9027 - val_loss: 4.9463 - val_accuracy: 0.2367\n",
            "Epoch 144/292\n",
            "71/71 [==============================] - 15s 210ms/step - loss: 0.3921 - accuracy: 0.9178 - val_loss: 4.7996 - val_accuracy: 0.2333\n",
            "Epoch 145/292\n",
            "71/71 [==============================] - 15s 208ms/step - loss: 0.3589 - accuracy: 0.9076 - val_loss: 4.6641 - val_accuracy: 0.2433\n",
            "Epoch 146/292\n",
            "71/71 [==============================] - 15s 209ms/step - loss: 0.4202 - accuracy: 0.9022 - val_loss: 4.7916 - val_accuracy: 0.2300\n",
            "Epoch 147/292\n",
            "71/71 [==============================] - 15s 209ms/step - loss: 0.3505 - accuracy: 0.9151 - val_loss: 4.9173 - val_accuracy: 0.2400\n",
            "Epoch 148/292\n",
            "71/71 [==============================] - 15s 208ms/step - loss: 0.4037 - accuracy: 0.9040 - val_loss: 5.0383 - val_accuracy: 0.2267\n",
            "Epoch 149/292\n",
            "71/71 [==============================] - 15s 208ms/step - loss: 0.4384 - accuracy: 0.9053 - val_loss: 4.8272 - val_accuracy: 0.2267\n",
            "Epoch 150/292\n",
            "71/71 [==============================] - 15s 209ms/step - loss: 0.4116 - accuracy: 0.9124 - val_loss: 4.9034 - val_accuracy: 0.2433\n",
            "Epoch 151/292\n",
            "71/71 [==============================] - 15s 208ms/step - loss: 0.3677 - accuracy: 0.9191 - val_loss: 4.8388 - val_accuracy: 0.2233\n",
            "Epoch 152/292\n",
            "71/71 [==============================] - 15s 208ms/step - loss: 0.3403 - accuracy: 0.9173 - val_loss: 4.8344 - val_accuracy: 0.2400\n",
            "Epoch 153/292\n",
            "71/71 [==============================] - 15s 208ms/step - loss: 0.4551 - accuracy: 0.9111 - val_loss: 4.8483 - val_accuracy: 0.2533\n",
            "Epoch 154/292\n",
            "71/71 [==============================] - 15s 208ms/step - loss: 0.4592 - accuracy: 0.8973 - val_loss: 4.9042 - val_accuracy: 0.2533\n",
            "Epoch 155/292\n",
            "71/71 [==============================] - 15s 208ms/step - loss: 0.4217 - accuracy: 0.9076 - val_loss: 4.9308 - val_accuracy: 0.2433\n",
            "Epoch 156/292\n",
            "71/71 [==============================] - 15s 208ms/step - loss: 0.4248 - accuracy: 0.9129 - val_loss: 5.0095 - val_accuracy: 0.2367\n",
            "Epoch 157/292\n",
            "71/71 [==============================] - 15s 208ms/step - loss: 0.3416 - accuracy: 0.9222 - val_loss: 4.8166 - val_accuracy: 0.2467\n",
            "Epoch 158/292\n",
            "71/71 [==============================] - 15s 208ms/step - loss: 0.3305 - accuracy: 0.9222 - val_loss: 4.9202 - val_accuracy: 0.2500\n",
            "Epoch 159/292\n",
            "71/71 [==============================] - 15s 208ms/step - loss: 0.3748 - accuracy: 0.9138 - val_loss: 5.0612 - val_accuracy: 0.2333\n",
            "Epoch 160/292\n",
            "71/71 [==============================] - 15s 208ms/step - loss: 0.3429 - accuracy: 0.9324 - val_loss: 5.2104 - val_accuracy: 0.2333\n",
            "Epoch 161/292\n",
            "71/71 [==============================] - 15s 208ms/step - loss: 0.3615 - accuracy: 0.9262 - val_loss: 5.1222 - val_accuracy: 0.2533\n",
            "Epoch 162/292\n",
            "71/71 [==============================] - 15s 208ms/step - loss: 0.3132 - accuracy: 0.9267 - val_loss: 5.1394 - val_accuracy: 0.2400\n",
            "Epoch 163/292\n",
            "71/71 [==============================] - 15s 208ms/step - loss: 0.2936 - accuracy: 0.9342 - val_loss: 5.1418 - val_accuracy: 0.2467\n",
            "Epoch 164/292\n",
            "71/71 [==============================] - 15s 208ms/step - loss: 0.3330 - accuracy: 0.9204 - val_loss: 5.0697 - val_accuracy: 0.2467\n",
            "Epoch 165/292\n",
            "71/71 [==============================] - 15s 208ms/step - loss: 0.3569 - accuracy: 0.9222 - val_loss: 5.0525 - val_accuracy: 0.2533\n",
            "Epoch 166/292\n",
            "71/71 [==============================] - 15s 209ms/step - loss: 0.4108 - accuracy: 0.9187 - val_loss: 5.1353 - val_accuracy: 0.2633\n",
            "Epoch 167/292\n",
            "71/71 [==============================] - 15s 208ms/step - loss: 0.3570 - accuracy: 0.9182 - val_loss: 5.1570 - val_accuracy: 0.2467\n",
            "Epoch 168/292\n",
            "71/71 [==============================] - 15s 209ms/step - loss: 0.3683 - accuracy: 0.9200 - val_loss: 5.1274 - val_accuracy: 0.2467\n",
            "Epoch 169/292\n",
            "71/71 [==============================] - 15s 208ms/step - loss: 0.3382 - accuracy: 0.9280 - val_loss: 4.7000 - val_accuracy: 0.2600\n",
            "Epoch 170/292\n",
            "71/71 [==============================] - 15s 208ms/step - loss: 0.3355 - accuracy: 0.9298 - val_loss: 4.8706 - val_accuracy: 0.2533\n",
            "Epoch 171/292\n",
            "71/71 [==============================] - 15s 208ms/step - loss: 0.3915 - accuracy: 0.9196 - val_loss: 4.7237 - val_accuracy: 0.2400\n",
            "Epoch 172/292\n",
            "71/71 [==============================] - 15s 207ms/step - loss: 0.3267 - accuracy: 0.9289 - val_loss: 4.9425 - val_accuracy: 0.2433\n",
            "Epoch 173/292\n",
            "71/71 [==============================] - 15s 208ms/step - loss: 0.3950 - accuracy: 0.9231 - val_loss: 4.8932 - val_accuracy: 0.2467\n",
            "Epoch 174/292\n",
            "71/71 [==============================] - 15s 208ms/step - loss: 0.3748 - accuracy: 0.9222 - val_loss: 4.9077 - val_accuracy: 0.2467\n",
            "Epoch 175/292\n",
            "71/71 [==============================] - 15s 208ms/step - loss: 0.3577 - accuracy: 0.9280 - val_loss: 4.9454 - val_accuracy: 0.2367\n",
            "Epoch 176/292\n",
            "71/71 [==============================] - 15s 209ms/step - loss: 0.3705 - accuracy: 0.9289 - val_loss: 4.9588 - val_accuracy: 0.2367\n",
            "Epoch 177/292\n",
            "71/71 [==============================] - 15s 209ms/step - loss: 0.3503 - accuracy: 0.9293 - val_loss: 4.7903 - val_accuracy: 0.2533\n",
            "Epoch 178/292\n",
            "71/71 [==============================] - 15s 208ms/step - loss: 0.3766 - accuracy: 0.9302 - val_loss: 5.2466 - val_accuracy: 0.2400\n",
            "Epoch 179/292\n",
            "71/71 [==============================] - 15s 208ms/step - loss: 0.3976 - accuracy: 0.9244 - val_loss: 5.3030 - val_accuracy: 0.2567\n",
            "Epoch 180/292\n",
            "71/71 [==============================] - 15s 208ms/step - loss: 0.3130 - accuracy: 0.9311 - val_loss: 5.2404 - val_accuracy: 0.2300\n",
            "Epoch 181/292\n",
            "71/71 [==============================] - 15s 209ms/step - loss: 0.3258 - accuracy: 0.9298 - val_loss: 5.2337 - val_accuracy: 0.2233\n",
            "Epoch 182/292\n",
            "71/71 [==============================] - 15s 209ms/step - loss: 0.3178 - accuracy: 0.9347 - val_loss: 5.4440 - val_accuracy: 0.2500\n",
            "Epoch 183/292\n",
            "71/71 [==============================] - 15s 208ms/step - loss: 0.3446 - accuracy: 0.9240 - val_loss: 5.1942 - val_accuracy: 0.2533\n",
            "Epoch 184/292\n",
            "71/71 [==============================] - 15s 208ms/step - loss: 0.4193 - accuracy: 0.9293 - val_loss: 5.1117 - val_accuracy: 0.2433\n",
            "Epoch 185/292\n",
            "71/71 [==============================] - 15s 209ms/step - loss: 0.3636 - accuracy: 0.9240 - val_loss: 5.1949 - val_accuracy: 0.2467\n",
            "Epoch 186/292\n",
            "71/71 [==============================] - 15s 209ms/step - loss: 0.3496 - accuracy: 0.9280 - val_loss: 5.3294 - val_accuracy: 0.2467\n",
            "Epoch 187/292\n",
            "71/71 [==============================] - 15s 209ms/step - loss: 0.3448 - accuracy: 0.9364 - val_loss: 5.3523 - val_accuracy: 0.2600\n",
            "Epoch 188/292\n",
            "71/71 [==============================] - 15s 207ms/step - loss: 0.3630 - accuracy: 0.9276 - val_loss: 5.4775 - val_accuracy: 0.2533\n",
            "Epoch 189/292\n",
            "71/71 [==============================] - 15s 208ms/step - loss: 0.2915 - accuracy: 0.9378 - val_loss: 5.2073 - val_accuracy: 0.2400\n",
            "Epoch 190/292\n",
            "71/71 [==============================] - 15s 208ms/step - loss: 0.3019 - accuracy: 0.9356 - val_loss: 5.4588 - val_accuracy: 0.2500\n",
            "Epoch 191/292\n",
            "71/71 [==============================] - 15s 208ms/step - loss: 0.3260 - accuracy: 0.9276 - val_loss: 5.3852 - val_accuracy: 0.2367\n",
            "Epoch 192/292\n",
            "71/71 [==============================] - 15s 210ms/step - loss: 0.3643 - accuracy: 0.9209 - val_loss: 5.4794 - val_accuracy: 0.2467\n",
            "Epoch 193/292\n",
            "71/71 [==============================] - 15s 209ms/step - loss: 0.2748 - accuracy: 0.9382 - val_loss: 5.3289 - val_accuracy: 0.2467\n",
            "Epoch 194/292\n",
            "71/71 [==============================] - 15s 209ms/step - loss: 0.2740 - accuracy: 0.9369 - val_loss: 5.5133 - val_accuracy: 0.2433\n",
            "Epoch 195/292\n",
            "71/71 [==============================] - 15s 208ms/step - loss: 0.3583 - accuracy: 0.9267 - val_loss: 5.5091 - val_accuracy: 0.2400\n",
            "Epoch 196/292\n",
            "71/71 [==============================] - 15s 209ms/step - loss: 0.3430 - accuracy: 0.9280 - val_loss: 5.0980 - val_accuracy: 0.2267\n",
            "Epoch 197/292\n",
            "71/71 [==============================] - 15s 208ms/step - loss: 0.3342 - accuracy: 0.9338 - val_loss: 5.3932 - val_accuracy: 0.2333\n",
            "Epoch 198/292\n",
            "71/71 [==============================] - 15s 208ms/step - loss: 0.3553 - accuracy: 0.9351 - val_loss: 5.3580 - val_accuracy: 0.2400\n",
            "Epoch 199/292\n",
            "71/71 [==============================] - 15s 208ms/step - loss: 0.2758 - accuracy: 0.9422 - val_loss: 5.2889 - val_accuracy: 0.2433\n",
            "Epoch 200/292\n",
            "71/71 [==============================] - 15s 208ms/step - loss: 0.2971 - accuracy: 0.9360 - val_loss: 5.3280 - val_accuracy: 0.2433\n",
            "Epoch 201/292\n",
            "71/71 [==============================] - 15s 208ms/step - loss: 0.3022 - accuracy: 0.9382 - val_loss: 5.6506 - val_accuracy: 0.2367\n",
            "Epoch 202/292\n",
            "71/71 [==============================] - 15s 211ms/step - loss: 0.2961 - accuracy: 0.9351 - val_loss: 5.7507 - val_accuracy: 0.2467\n",
            "Epoch 203/292\n",
            "71/71 [==============================] - 15s 208ms/step - loss: 0.2541 - accuracy: 0.9360 - val_loss: 5.5629 - val_accuracy: 0.2467\n",
            "Epoch 204/292\n",
            "71/71 [==============================] - 15s 209ms/step - loss: 0.3046 - accuracy: 0.9436 - val_loss: 5.4249 - val_accuracy: 0.2300\n",
            "Epoch 205/292\n",
            "71/71 [==============================] - 15s 208ms/step - loss: 0.3915 - accuracy: 0.9360 - val_loss: 5.4241 - val_accuracy: 0.2233\n",
            "Epoch 206/292\n",
            "71/71 [==============================] - 15s 209ms/step - loss: 0.2879 - accuracy: 0.9391 - val_loss: 5.5021 - val_accuracy: 0.2333\n",
            "Epoch 207/292\n",
            "71/71 [==============================] - 15s 211ms/step - loss: 0.3314 - accuracy: 0.9271 - val_loss: 5.4965 - val_accuracy: 0.2200\n",
            "Epoch 208/292\n",
            "71/71 [==============================] - 15s 209ms/step - loss: 0.3250 - accuracy: 0.9293 - val_loss: 5.3000 - val_accuracy: 0.2300\n",
            "Epoch 209/292\n",
            "71/71 [==============================] - 15s 208ms/step - loss: 0.3549 - accuracy: 0.9262 - val_loss: 5.0905 - val_accuracy: 0.2333\n",
            "Epoch 210/292\n",
            "71/71 [==============================] - 15s 208ms/step - loss: 0.3519 - accuracy: 0.9382 - val_loss: 5.0384 - val_accuracy: 0.2367\n",
            "Epoch 211/292\n",
            "71/71 [==============================] - 15s 209ms/step - loss: 0.2939 - accuracy: 0.9320 - val_loss: 5.1218 - val_accuracy: 0.2367\n",
            "Epoch 212/292\n",
            "71/71 [==============================] - 15s 207ms/step - loss: 0.2951 - accuracy: 0.9351 - val_loss: 5.6392 - val_accuracy: 0.2367\n",
            "Epoch 213/292\n",
            "71/71 [==============================] - 15s 209ms/step - loss: 0.2463 - accuracy: 0.9462 - val_loss: 5.6501 - val_accuracy: 0.2367\n",
            "Epoch 214/292\n",
            "71/71 [==============================] - 15s 207ms/step - loss: 0.2688 - accuracy: 0.9484 - val_loss: 5.6260 - val_accuracy: 0.2333\n",
            "Epoch 215/292\n",
            "71/71 [==============================] - 15s 208ms/step - loss: 0.2422 - accuracy: 0.9462 - val_loss: 5.5352 - val_accuracy: 0.2367\n",
            "Epoch 216/292\n",
            "71/71 [==============================] - 15s 207ms/step - loss: 0.2390 - accuracy: 0.9476 - val_loss: 5.3506 - val_accuracy: 0.2367\n",
            "Epoch 217/292\n",
            "71/71 [==============================] - 15s 208ms/step - loss: 0.2984 - accuracy: 0.9413 - val_loss: 5.2916 - val_accuracy: 0.2500\n",
            "Epoch 218/292\n",
            "71/71 [==============================] - 15s 209ms/step - loss: 0.2998 - accuracy: 0.9413 - val_loss: 5.1888 - val_accuracy: 0.2567\n",
            "Epoch 219/292\n",
            "71/71 [==============================] - 15s 208ms/step - loss: 0.3599 - accuracy: 0.9378 - val_loss: 5.1222 - val_accuracy: 0.2367\n",
            "Epoch 220/292\n",
            "71/71 [==============================] - 15s 210ms/step - loss: 0.2814 - accuracy: 0.9391 - val_loss: 5.1186 - val_accuracy: 0.2467\n",
            "Epoch 221/292\n",
            "71/71 [==============================] - 15s 207ms/step - loss: 0.2886 - accuracy: 0.9396 - val_loss: 5.0409 - val_accuracy: 0.2467\n",
            "Epoch 222/292\n",
            "71/71 [==============================] - 15s 208ms/step - loss: 0.2485 - accuracy: 0.9507 - val_loss: 5.0683 - val_accuracy: 0.2533\n",
            "Epoch 223/292\n",
            "71/71 [==============================] - 15s 209ms/step - loss: 0.2628 - accuracy: 0.9476 - val_loss: 5.0470 - val_accuracy: 0.2633\n",
            "Epoch 224/292\n",
            "71/71 [==============================] - 15s 208ms/step - loss: 0.3082 - accuracy: 0.9396 - val_loss: 5.1449 - val_accuracy: 0.2567\n",
            "Epoch 225/292\n",
            "71/71 [==============================] - 15s 208ms/step - loss: 0.2566 - accuracy: 0.9413 - val_loss: 5.3626 - val_accuracy: 0.2467\n",
            "Epoch 226/292\n",
            "71/71 [==============================] - 15s 208ms/step - loss: 0.3391 - accuracy: 0.9440 - val_loss: 5.4614 - val_accuracy: 0.2400\n",
            "Epoch 227/292\n",
            "71/71 [==============================] - 15s 209ms/step - loss: 0.2901 - accuracy: 0.9493 - val_loss: 5.3394 - val_accuracy: 0.2567\n",
            "Epoch 228/292\n",
            "71/71 [==============================] - 15s 208ms/step - loss: 0.2613 - accuracy: 0.9462 - val_loss: 5.3719 - val_accuracy: 0.2500\n",
            "Epoch 229/292\n",
            "71/71 [==============================] - 15s 208ms/step - loss: 0.3397 - accuracy: 0.9351 - val_loss: 5.3851 - val_accuracy: 0.2533\n",
            "Epoch 230/292\n",
            "71/71 [==============================] - 15s 208ms/step - loss: 0.2781 - accuracy: 0.9409 - val_loss: 5.4554 - val_accuracy: 0.2567\n",
            "Epoch 231/292\n",
            "71/71 [==============================] - 15s 210ms/step - loss: 0.2860 - accuracy: 0.9453 - val_loss: 5.4938 - val_accuracy: 0.2567\n",
            "Epoch 232/292\n",
            "71/71 [==============================] - 15s 208ms/step - loss: 0.2781 - accuracy: 0.9400 - val_loss: 5.5520 - val_accuracy: 0.2733\n",
            "Epoch 233/292\n",
            "71/71 [==============================] - 15s 208ms/step - loss: 0.2759 - accuracy: 0.9444 - val_loss: 5.4668 - val_accuracy: 0.2467\n",
            "Epoch 234/292\n",
            "71/71 [==============================] - 15s 208ms/step - loss: 0.3055 - accuracy: 0.9387 - val_loss: 5.5517 - val_accuracy: 0.2433\n",
            "Epoch 235/292\n",
            "71/71 [==============================] - 15s 208ms/step - loss: 0.2536 - accuracy: 0.9551 - val_loss: 5.9248 - val_accuracy: 0.2367\n",
            "Epoch 236/292\n",
            "71/71 [==============================] - 15s 210ms/step - loss: 0.2981 - accuracy: 0.9391 - val_loss: 5.8610 - val_accuracy: 0.2467\n",
            "Epoch 237/292\n",
            "71/71 [==============================] - 15s 209ms/step - loss: 0.3217 - accuracy: 0.9440 - val_loss: 5.6532 - val_accuracy: 0.2433\n",
            "Epoch 238/292\n",
            "71/71 [==============================] - 15s 208ms/step - loss: 0.2478 - accuracy: 0.9520 - val_loss: 5.3883 - val_accuracy: 0.2300\n",
            "Epoch 239/292\n",
            "71/71 [==============================] - 15s 209ms/step - loss: 0.2683 - accuracy: 0.9440 - val_loss: 5.6465 - val_accuracy: 0.2367\n",
            "Epoch 240/292\n",
            "71/71 [==============================] - 15s 209ms/step - loss: 0.3514 - accuracy: 0.9351 - val_loss: 5.4425 - val_accuracy: 0.2533\n",
            "Epoch 241/292\n",
            "71/71 [==============================] - 15s 209ms/step - loss: 0.3146 - accuracy: 0.9493 - val_loss: 5.2083 - val_accuracy: 0.2500\n",
            "Epoch 242/292\n",
            "71/71 [==============================] - 15s 211ms/step - loss: 0.3239 - accuracy: 0.9418 - val_loss: 5.3217 - val_accuracy: 0.2467\n",
            "Epoch 243/292\n",
            "71/71 [==============================] - 15s 209ms/step - loss: 0.2827 - accuracy: 0.9471 - val_loss: 5.1799 - val_accuracy: 0.2600\n",
            "Epoch 244/292\n",
            "71/71 [==============================] - 15s 209ms/step - loss: 0.2172 - accuracy: 0.9542 - val_loss: 5.2482 - val_accuracy: 0.2533\n",
            "Epoch 245/292\n",
            "71/71 [==============================] - 15s 210ms/step - loss: 0.2637 - accuracy: 0.9467 - val_loss: 5.2198 - val_accuracy: 0.2567\n",
            "Epoch 246/292\n",
            "71/71 [==============================] - 15s 209ms/step - loss: 0.2428 - accuracy: 0.9547 - val_loss: 5.2046 - val_accuracy: 0.2367\n",
            "Epoch 247/292\n",
            "71/71 [==============================] - 15s 210ms/step - loss: 0.2123 - accuracy: 0.9564 - val_loss: 5.3133 - val_accuracy: 0.2267\n",
            "Epoch 248/292\n",
            "71/71 [==============================] - 15s 209ms/step - loss: 0.3036 - accuracy: 0.9418 - val_loss: 5.4858 - val_accuracy: 0.2567\n",
            "Epoch 249/292\n",
            "71/71 [==============================] - 15s 209ms/step - loss: 0.2928 - accuracy: 0.9462 - val_loss: 5.6153 - val_accuracy: 0.2600\n",
            "Epoch 250/292\n",
            "71/71 [==============================] - 15s 211ms/step - loss: 0.3100 - accuracy: 0.9498 - val_loss: 5.6840 - val_accuracy: 0.2500\n",
            "Epoch 251/292\n",
            "71/71 [==============================] - 15s 212ms/step - loss: 0.3445 - accuracy: 0.9338 - val_loss: 5.8570 - val_accuracy: 0.2433\n",
            "Epoch 252/292\n",
            "71/71 [==============================] - 15s 209ms/step - loss: 0.2517 - accuracy: 0.9564 - val_loss: 5.6143 - val_accuracy: 0.2500\n",
            "Epoch 253/292\n",
            "71/71 [==============================] - 15s 210ms/step - loss: 0.2897 - accuracy: 0.9480 - val_loss: 5.4850 - val_accuracy: 0.2467\n",
            "Epoch 254/292\n",
            "71/71 [==============================] - 15s 208ms/step - loss: 0.2537 - accuracy: 0.9551 - val_loss: 5.6315 - val_accuracy: 0.2467\n",
            "Epoch 255/292\n",
            "71/71 [==============================] - 15s 209ms/step - loss: 0.2920 - accuracy: 0.9524 - val_loss: 5.4985 - val_accuracy: 0.2467\n",
            "Epoch 256/292\n",
            "71/71 [==============================] - 15s 208ms/step - loss: 0.2150 - accuracy: 0.9547 - val_loss: 5.5009 - val_accuracy: 0.2567\n",
            "Epoch 257/292\n",
            "71/71 [==============================] - 15s 209ms/step - loss: 0.2552 - accuracy: 0.9462 - val_loss: 5.3662 - val_accuracy: 0.2533\n",
            "Epoch 258/292\n",
            "71/71 [==============================] - 15s 208ms/step - loss: 0.3021 - accuracy: 0.9431 - val_loss: 5.5917 - val_accuracy: 0.2333\n",
            "Epoch 259/292\n",
            "71/71 [==============================] - 15s 209ms/step - loss: 0.2391 - accuracy: 0.9538 - val_loss: 5.4631 - val_accuracy: 0.2433\n",
            "Epoch 260/292\n",
            "71/71 [==============================] - 15s 211ms/step - loss: 0.2390 - accuracy: 0.9529 - val_loss: 5.2963 - val_accuracy: 0.2167\n",
            "Epoch 261/292\n",
            "71/71 [==============================] - 15s 209ms/step - loss: 0.2443 - accuracy: 0.9507 - val_loss: 5.2481 - val_accuracy: 0.2167\n",
            "Epoch 262/292\n",
            "71/71 [==============================] - 15s 209ms/step - loss: 0.2910 - accuracy: 0.9444 - val_loss: 5.4089 - val_accuracy: 0.2333\n",
            "Epoch 263/292\n",
            "71/71 [==============================] - 15s 209ms/step - loss: 0.2501 - accuracy: 0.9542 - val_loss: 5.2381 - val_accuracy: 0.2467\n",
            "Epoch 264/292\n",
            "71/71 [==============================] - 15s 210ms/step - loss: 0.2163 - accuracy: 0.9551 - val_loss: 5.2956 - val_accuracy: 0.2500\n",
            "Epoch 265/292\n",
            "71/71 [==============================] - 15s 210ms/step - loss: 0.2315 - accuracy: 0.9533 - val_loss: 5.2946 - val_accuracy: 0.2467\n",
            "Epoch 266/292\n",
            "71/71 [==============================] - 15s 211ms/step - loss: 0.2558 - accuracy: 0.9453 - val_loss: 5.4221 - val_accuracy: 0.2533\n",
            "Epoch 267/292\n",
            "71/71 [==============================] - 15s 210ms/step - loss: 0.2599 - accuracy: 0.9529 - val_loss: 5.7822 - val_accuracy: 0.2533\n",
            "Epoch 268/292\n",
            "71/71 [==============================] - 15s 209ms/step - loss: 0.2099 - accuracy: 0.9498 - val_loss: 5.6458 - val_accuracy: 0.2567\n",
            "Epoch 269/292\n",
            "71/71 [==============================] - 15s 209ms/step - loss: 0.2189 - accuracy: 0.9582 - val_loss: 6.0039 - val_accuracy: 0.2567\n",
            "Epoch 270/292\n",
            "71/71 [==============================] - 15s 209ms/step - loss: 0.2469 - accuracy: 0.9520 - val_loss: 5.9624 - val_accuracy: 0.2633\n",
            "Epoch 271/292\n",
            "71/71 [==============================] - 15s 210ms/step - loss: 0.2081 - accuracy: 0.9560 - val_loss: 5.8436 - val_accuracy: 0.2400\n",
            "Epoch 272/292\n",
            "71/71 [==============================] - 15s 209ms/step - loss: 0.2000 - accuracy: 0.9569 - val_loss: 5.9326 - val_accuracy: 0.2433\n",
            "Epoch 273/292\n",
            "71/71 [==============================] - 15s 209ms/step - loss: 0.2280 - accuracy: 0.9578 - val_loss: 5.8440 - val_accuracy: 0.2567\n",
            "Epoch 274/292\n",
            "71/71 [==============================] - 15s 210ms/step - loss: 0.2260 - accuracy: 0.9564 - val_loss: 6.1042 - val_accuracy: 0.2433\n",
            "Epoch 275/292\n",
            "71/71 [==============================] - 15s 212ms/step - loss: 0.2482 - accuracy: 0.9538 - val_loss: 5.5946 - val_accuracy: 0.2433\n",
            "Epoch 276/292\n",
            "71/71 [==============================] - 15s 210ms/step - loss: 0.1683 - accuracy: 0.9622 - val_loss: 5.7554 - val_accuracy: 0.2433\n",
            "Epoch 277/292\n",
            "71/71 [==============================] - 15s 209ms/step - loss: 0.2011 - accuracy: 0.9547 - val_loss: 5.4879 - val_accuracy: 0.2367\n",
            "Epoch 278/292\n",
            "71/71 [==============================] - 15s 209ms/step - loss: 0.2590 - accuracy: 0.9538 - val_loss: 5.4419 - val_accuracy: 0.2233\n",
            "Epoch 279/292\n",
            "71/71 [==============================] - 15s 209ms/step - loss: 0.2499 - accuracy: 0.9511 - val_loss: 5.7055 - val_accuracy: 0.2333\n",
            "Epoch 280/292\n",
            "71/71 [==============================] - 15s 209ms/step - loss: 0.2529 - accuracy: 0.9538 - val_loss: 5.6245 - val_accuracy: 0.2400\n",
            "Epoch 281/292\n",
            "71/71 [==============================] - 15s 211ms/step - loss: 0.2445 - accuracy: 0.9564 - val_loss: 5.9538 - val_accuracy: 0.2200\n",
            "Epoch 282/292\n",
            "71/71 [==============================] - 15s 210ms/step - loss: 0.2483 - accuracy: 0.9547 - val_loss: 5.9506 - val_accuracy: 0.2267\n",
            "Epoch 283/292\n",
            "71/71 [==============================] - 15s 208ms/step - loss: 0.2148 - accuracy: 0.9596 - val_loss: 5.5796 - val_accuracy: 0.2367\n",
            "Epoch 284/292\n",
            "71/71 [==============================] - 15s 211ms/step - loss: 0.2068 - accuracy: 0.9591 - val_loss: 5.6106 - val_accuracy: 0.2333\n",
            "Epoch 285/292\n",
            "71/71 [==============================] - 15s 213ms/step - loss: 0.2868 - accuracy: 0.9458 - val_loss: 5.6526 - val_accuracy: 0.2200\n",
            "Epoch 286/292\n",
            "71/71 [==============================] - 15s 211ms/step - loss: 0.2681 - accuracy: 0.9529 - val_loss: 5.6914 - val_accuracy: 0.2167\n",
            "Epoch 287/292\n",
            "71/71 [==============================] - 15s 210ms/step - loss: 0.2926 - accuracy: 0.9520 - val_loss: 5.6716 - val_accuracy: 0.2467\n",
            "Epoch 288/292\n",
            "71/71 [==============================] - 15s 212ms/step - loss: 0.3062 - accuracy: 0.9533 - val_loss: 5.3603 - val_accuracy: 0.2367\n",
            "Epoch 289/292\n",
            "71/71 [==============================] - 15s 210ms/step - loss: 0.1887 - accuracy: 0.9511 - val_loss: 5.4027 - val_accuracy: 0.2367\n",
            "Epoch 290/292\n",
            "71/71 [==============================] - 15s 210ms/step - loss: 0.1850 - accuracy: 0.9573 - val_loss: 5.5751 - val_accuracy: 0.2300\n",
            "Epoch 291/292\n",
            "71/71 [==============================] - 15s 210ms/step - loss: 0.2287 - accuracy: 0.9609 - val_loss: 5.7441 - val_accuracy: 0.2333\n",
            "Epoch 292/292\n",
            "71/71 [==============================] - 15s 209ms/step - loss: 0.2077 - accuracy: 0.9502 - val_loss: 5.9604 - val_accuracy: 0.2300\n"
          ]
        }
      ],
      "source": [
        "#Compile and fit the model\n",
        "history, model = compile_and_fit(model, x_train, y_train, x_test, y_test, iterations, l_rate)"
      ]
    },
    {
      "cell_type": "code",
      "execution_count": 23,
      "metadata": {
        "colab": {
          "base_uri": "https://localhost:8080/",
          "height": 435
        },
        "id": "pMBMXPgy--9S",
        "outputId": "5613f4d7-4907-4ab3-ab2b-fdff6ed30d1e"
      },
      "outputs": [
        {
          "data": {
            "image/png": "[encoded data removed]",
            "text/plain": [
              "<Figure size 1080x1080 with 2 Axes>"
            ]
          },
          "metadata": {},
          "output_type": "display_data"
        }
      ],
      "source": [
        "#Plots\n",
        "acc_plots(history, iterations)"
      ]
    },
    {
      "cell_type": "code",
      "execution_count": 24,
      "metadata": {
        "colab": {
          "base_uri": "https://localhost:8080/"
        },
        "id": "A7sVGFjb_DdS",
        "outputId": "c4ca10a7-8e6c-4dcd-99a1-3359b3616273"
      },
      "outputs": [
        {
          "name": "stdout",
          "output_type": "stream",
          "text": [
            "                    precision    recall  f1-score   support\n",
            "\n",
            "            Buddha       0.17      0.15      0.16        20\n",
            "            Garuda       0.60      0.60      0.60        20\n",
            "     Goddess_Durga       0.11      0.05      0.07        20\n",
            "   Goddess_Lakshmi       0.17      0.15      0.16        20\n",
            "Goddess_Saraswathi       0.09      0.15      0.12        20\n",
            "       Lord_Ganesh       0.00      0.00      0.00        20\n",
            "      Lord_Hanuman       0.14      0.10      0.12        20\n",
            "    Lord_Hayagriva       0.00      0.00      0.00        20\n",
            "        Lord_Indra       0.62      1.00      0.77        20\n",
            "      Lord_Krishna       0.08      0.05      0.06        20\n",
            "       Lord_Muruga       0.17      0.15      0.16        20\n",
            "             Nandi       0.04      0.05      0.04        20\n",
            "           Nataraj       0.38      0.45      0.41        20\n",
            "   Shirdi_Sai_Baba       0.13      0.25      0.17        20\n",
            "          Shivling       0.33      0.30      0.32        20\n",
            "\n",
            "          accuracy                           0.23       300\n",
            "         macro avg       0.20      0.23      0.21       300\n",
            "      weighted avg       0.20      0.23      0.21       300\n",
            "\n",
            "\n",
            "Accuracy = 23.0%\n"
          ]
        }
      ],
      "source": [
        "#Results\n",
        "acc_results(model, labels, x_test, y_test)"
      ]
    },
    {
      "cell_type": "markdown",
      "metadata": {
        "id": "lYyGyFyM_FAo"
      },
      "source": [
        "#### **Result: For learning rate = 1*10^(-6) and 292 iterations, the accuracy obtained was 23.00% while using CLAHE before classification.**"
      ]
    }
  ],
  "metadata": {
    "accelerator": "GPU",
    "colab": {
      "collapsed_sections": [],
      "name": "CLAHE_SIFT_ANN_MAX_KEY_PADDING_Test_run_1_lr_1e(_6)_epochs_292_acc_23_48.ipynb",
      "provenance": []
    },
    "kernelspec": {
      "display_name": "Python 3",
      "name": "python3"
    },
    "language_info": {
      "name": "python"
    }
  },
  "nbformat": 4,
  "nbformat_minor": 0
}
